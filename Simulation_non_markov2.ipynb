{
  "nbformat": 4,
  "nbformat_minor": 0,
  "metadata": {
    "colab": {
      "name": "Simulation_non_markov2.ipynb",
      "provenance": [],
      "collapsed_sections": [
        "Nwe59TkxX4Ow",
        "x0XYCSnYzzZv",
        "58aLpAp-z4Zv",
        "VpUoW0bSRRhs",
        "yLyMttDBitPg",
        "69Ey17DYitP5",
        "R5YikcsfitQy",
        "D6zysagjitQ9",
        "VVvhUHrvqTfr",
        "ZGyMnwDErfVi",
        "DXQxBed-ri-F",
        "4F8n3z5lfCEv",
        "W7ezRwB_fIWX",
        "KWaMHoBDfLVG",
        "sFMMxyTQiWsF",
        "nOd1i95LoDGc",
        "PJqJZDn8mt2D",
        "CdwCUQB3RTuC",
        "SJw_Ui5NzPet",
        "cg2Ps-GqMBIA",
        "FwB-5y7tMmXO",
        "qmjUBH6gNnJ8",
        "jA-xHJhGNu_v",
        "9__y1iOK6STN",
        "9xSJY9_T6STp"
      ],
      "toc_visible": true,
      "include_colab_link": true
    },
    "kernelspec": {
      "display_name": "Python 2",
      "language": "python",
      "name": "python2"
    },
    "language_info": {
      "codemirror_mode": {
        "name": "ipython",
        "version": 2
      },
      "file_extension": ".py",
      "mimetype": "text/x-python",
      "name": "python",
      "nbconvert_exporter": "python",
      "pygments_lexer": "ipython2",
      "version": "2.7.16"
    }
  },
  "cells": [
    {
      "cell_type": "markdown",
      "metadata": {
        "id": "view-in-github",
        "colab_type": "text"
      },
      "source": [
        "<a href=\"https://colab.research.google.com/github/KBG1990/Estimating-quantum-non-Markovianity-using-machine-learning/blob/main/Simulation_non_markov2.ipynb\" target=\"_parent\"><img src=\"https://colab.research.google.com/assets/colab-badge.svg\" alt=\"Open In Colab\"/></a>"
      ]
    },
    {
      "cell_type": "markdown",
      "metadata": {
        "id": "e5CZWJlxitNv"
      },
      "source": [
        "# Simulating non-Markovian processes.\n"
      ]
    },
    {
      "cell_type": "markdown",
      "metadata": {
        "id": "q4Kgs41RNgrA"
      },
      "source": [
        "# Pauli Case."
      ]
    },
    {
      "cell_type": "markdown",
      "metadata": {
        "id": "nqV6R6rPitN9"
      },
      "source": [
        "## The joint Pij"
      ]
    },
    {
      "cell_type": "code",
      "metadata": {
        "id": "NOS_X8Nr3bIN",
        "colab": {
          "base_uri": "https://localhost:8080/",
          "height": 361
        },
        "outputId": "12c92d2e-f08c-4609-9c5d-680335dc1888"
      },
      "source": [
        "pip install numpy==1.15.4"
      ],
      "execution_count": null,
      "outputs": [
        {
          "output_type": "stream",
          "text": [
            "Collecting numpy==1.15.4\n",
            "\u001b[?25l  Downloading https://files.pythonhosted.org/packages/de/37/fe7db552f4507f379d81dcb78e58e05030a8941757b1f664517d581b5553/numpy-1.15.4-cp27-cp27mu-manylinux1_x86_64.whl (13.8MB)\n",
            "\u001b[K     |████████████████████████████████| 13.8MB 13.1MB/s \n",
            "\u001b[31mERROR: tensorflow 2.1.0 has requirement numpy<2.0,>=1.16.0, but you'll have numpy 1.15.4 which is incompatible.\u001b[0m\n",
            "\u001b[31mERROR: tensorflow 2.1.0 has requirement tensorflow-estimator<2.2.0,>=2.1.0rc0, but you'll have tensorflow-estimator 1.15.0 which is incompatible.\u001b[0m\n",
            "\u001b[31mERROR: fastai 0.7.0 has requirement torch<0.4, but you'll have torch 1.4.0 which is incompatible.\u001b[0m\n",
            "\u001b[31mERROR: albumentations 0.1.12 has requirement imgaug<0.2.7,>=0.2.5, but you'll have imgaug 0.2.9 which is incompatible.\u001b[0m\n",
            "\u001b[31mERROR: tensorboard 2.1.0 has requirement google-auth-oauthlib<0.5,>=0.4.1, but you'll have google-auth-oauthlib 0.4.0 which is incompatible.\u001b[0m\n",
            "\u001b[31mERROR: tensorboard 2.1.0 has requirement grpcio>=1.24.3, but you'll have grpcio 1.15.0 which is incompatible.\u001b[0m\n",
            "\u001b[?25hInstalling collected packages: numpy\n",
            "  Found existing installation: numpy 1.16.4\n",
            "    Uninstalling numpy-1.16.4:\n",
            "      Successfully uninstalled numpy-1.16.4\n",
            "Successfully installed numpy-1.15.4\n"
          ],
          "name": "stdout"
        },
        {
          "output_type": "display_data",
          "data": {
            "application/vnd.colab-display-data+json": {
              "pip_warning": {
                "packages": [
                  "numpy"
                ]
              }
            }
          },
          "metadata": {
            "tags": []
          }
        }
      ]
    },
    {
      "cell_type": "code",
      "metadata": {
        "id": "hMorSLXs3tuG",
        "colab": {
          "base_uri": "https://localhost:8080/",
          "height": 361
        },
        "outputId": "3055d022-8f61-4c63-fb2a-a7f81b89d2a1"
      },
      "source": [
        "pip install scipy==1.2.1"
      ],
      "execution_count": null,
      "outputs": [
        {
          "output_type": "stream",
          "text": [
            "Collecting scipy==1.2.1\n",
            "\u001b[?25l  Downloading https://files.pythonhosted.org/packages/81/39/f1457091d0a45a84a2bd7815e2cf6bd45d4fe240728e9ed567cbb17c8abe/scipy-1.2.1-cp27-cp27mu-manylinux1_x86_64.whl (24.8MB)\n",
            "\u001b[K     |████████████████████████████████| 24.8MB 1.2MB/s \n",
            "\u001b[?25hRequirement already satisfied: numpy>=1.8.2 in /usr/local/lib/python2.7/dist-packages (from scipy==1.2.1) (1.15.4)\n",
            "\u001b[31mERROR: tensorflow 2.1.0 has requirement numpy<2.0,>=1.16.0, but you'll have numpy 1.15.4 which is incompatible.\u001b[0m\n",
            "\u001b[31mERROR: tensorflow 2.1.0 has requirement scipy==1.2.2; python_version < \"3\", but you'll have scipy 1.2.1 which is incompatible.\u001b[0m\n",
            "\u001b[31mERROR: tensorflow 2.1.0 has requirement tensorflow-estimator<2.2.0,>=2.1.0rc0, but you'll have tensorflow-estimator 1.15.0 which is incompatible.\u001b[0m\n",
            "\u001b[31mERROR: fastai 0.7.0 has requirement torch<0.4, but you'll have torch 1.4.0 which is incompatible.\u001b[0m\n",
            "\u001b[31mERROR: albumentations 0.1.12 has requirement imgaug<0.2.7,>=0.2.5, but you'll have imgaug 0.2.9 which is incompatible.\u001b[0m\n",
            "Installing collected packages: scipy\n",
            "  Found existing installation: scipy 1.2.2\n",
            "    Uninstalling scipy-1.2.2:\n",
            "      Successfully uninstalled scipy-1.2.2\n",
            "Successfully installed scipy-1.2.1\n"
          ],
          "name": "stdout"
        },
        {
          "output_type": "display_data",
          "data": {
            "application/vnd.colab-display-data+json": {
              "pip_warning": {
                "packages": [
                  "scipy"
                ]
              }
            }
          },
          "metadata": {
            "tags": []
          }
        }
      ]
    },
    {
      "cell_type": "code",
      "metadata": {
        "id": "okVtrLQG3vvq",
        "colab": {
          "base_uri": "https://localhost:8080/",
          "height": 173
        },
        "outputId": "4d77cffb-aa80-42c8-9f76-c1c7c7d331b4"
      },
      "source": [
        "pip install cython==0.29.8"
      ],
      "execution_count": null,
      "outputs": [
        {
          "output_type": "stream",
          "text": [
            "Collecting cython==0.29.8\n",
            "\u001b[?25l  Downloading https://files.pythonhosted.org/packages/07/fb/d72cbb94e3320b44f9bf8703a8ad8e4d8c60adf639c2e1cac229f62d06d4/Cython-0.29.8-cp27-cp27mu-manylinux1_x86_64.whl (2.0MB)\n",
            "\u001b[K     |████████████████████████████████| 2.0MB 2.8MB/s \n",
            "\u001b[?25hInstalling collected packages: cython\n",
            "  Found existing installation: Cython 0.29.12\n",
            "    Uninstalling Cython-0.29.12:\n",
            "      Successfully uninstalled Cython-0.29.12\n",
            "Successfully installed cython-0.29.8\n"
          ],
          "name": "stdout"
        }
      ]
    },
    {
      "cell_type": "code",
      "metadata": {
        "id": "cB6_ox-P3_UI",
        "colab": {
          "base_uri": "https://localhost:8080/",
          "height": 224
        },
        "outputId": "7262d1d1-b40e-4d88-8286-a2b14f274289"
      },
      "source": [
        "pip install matplotlib"
      ],
      "execution_count": null,
      "outputs": [
        {
          "output_type": "stream",
          "text": [
            "Requirement already satisfied: matplotlib in /usr/local/lib/python2.7/dist-packages (2.2.4)\n",
            "Requirement already satisfied: cycler>=0.10 in /usr/local/lib/python2.7/dist-packages (from matplotlib) (0.10.0)\n",
            "Requirement already satisfied: numpy>=1.7.1 in /usr/local/lib/python2.7/dist-packages (from matplotlib) (1.16.4)\n",
            "Requirement already satisfied: backports.functools-lru-cache in /usr/local/lib/python2.7/dist-packages (from matplotlib) (1.5)\n",
            "Requirement already satisfied: subprocess32 in /usr/local/lib/python2.7/dist-packages (from matplotlib) (3.5.4)\n",
            "Requirement already satisfied: kiwisolver>=1.0.1 in /usr/local/lib/python2.7/dist-packages (from matplotlib) (1.1.0)\n",
            "Requirement already satisfied: pytz in /usr/local/lib/python2.7/dist-packages (from matplotlib) (2018.9)\n",
            "Requirement already satisfied: six>=1.10 in /usr/local/lib/python2.7/dist-packages (from matplotlib) (1.12.0)\n",
            "Requirement already satisfied: python-dateutil>=2.1 in /usr/local/lib/python2.7/dist-packages (from matplotlib) (2.5.3)\n",
            "Requirement already satisfied: pyparsing!=2.0.4,!=2.1.2,!=2.1.6,>=2.0.1 in /usr/local/lib/python2.7/dist-packages (from matplotlib) (2.4.0)\n",
            "Requirement already satisfied: setuptools in /usr/local/lib/python2.7/dist-packages (from kiwisolver>=1.0.1->matplotlib) (44.0.0)\n"
          ],
          "name": "stdout"
        }
      ]
    },
    {
      "cell_type": "code",
      "metadata": {
        "id": "q5UH5_L9itNx"
      },
      "source": [
        "import numpy as np\n",
        "import scipy as sp\n",
        "import seaborn as sns"
      ],
      "execution_count": null,
      "outputs": []
    },
    {
      "cell_type": "code",
      "metadata": {
        "id": "uNtwkkeL2G16",
        "colab": {
          "base_uri": "https://localhost:8080/"
        },
        "outputId": "466955aa-c078-43c1-90ed-48fbcb34f19a"
      },
      "source": [
        "print(np.version.version)\n",
        "print(sp.version.version)\n",
        "#print(cython.version.version)\n",
        "#print(matplotlib.version.version)"
      ],
      "execution_count": null,
      "outputs": [
        {
          "output_type": "stream",
          "text": [
            "1.16.4\n",
            "1.2.2\n"
          ],
          "name": "stdout"
        }
      ]
    },
    {
      "cell_type": "code",
      "metadata": {
        "id": "GZDY3CajitN1"
      },
      "source": [
        "U_d = np.array([[[1,0],[0,1]],[[0, 1],[1, 0]], [[0, -1j],[1j, 0]], [[1, 0],[0, -1]]]) # Pauli matrices\n",
        "# r[1] in [0,R], r[1:3] in [0,1] randomly chosen\n",
        "def rand_arr(R):\n",
        "    k = np.array([np.random.random(1)*R, np.random.random(1), np.random.random(1), np.random.random(1)])\n",
        "    return k\n",
        "  \n",
        "  \n",
        "def P_j(R):\n",
        "    p = rand_arr(R) # fix it once\n",
        "    return (p/sum(p)).flatten()\n",
        "  \n",
        "  \n",
        "def P_ij(q,R):# The joint probability for the two unitaries\n",
        "    res = np.zeros((4,4))\n",
        "    pj = P_j(R) # So that it's fixed.\n",
        "    pj1 = P_j(R)\n",
        "    for i in range(4):\n",
        "        for j in range(4):\n",
        "            if j==i:\n",
        "                res[i][j] = q*pj[j] + (1-q)*pj1[i]*pj[j] #(if q=1, P_x|x = 1 complete correlation, max non-Markovian)\n",
        "            else:\n",
        "                res[i][j] = (1-q)*pj1[i]*pj[j]\n",
        "    return res"
      ],
      "execution_count": null,
      "outputs": []
    },
    {
      "cell_type": "code",
      "metadata": {
        "id": "PWRy3YZQitOE",
        "colab": {
          "base_uri": "https://localhost:8080/"
        },
        "outputId": "4285bc49-82a9-4975-8562-c72029a613e3"
      },
      "source": [
        "print (sum(P_j(100)))\n",
        "print (sum(sum(P_ij(.3,100))))\n",
        "print ((P_ij(.3,100)))"
      ],
      "execution_count": null,
      "outputs": [
        {
          "output_type": "stream",
          "text": [
            "1.0\n",
            "1.0000000000000002\n",
            "[[9.80452871e-01 4.09669807e-03 5.34957841e-04 1.56708582e-03]\n",
            " [4.36559933e-04 1.78547243e-03 3.41859009e-07 1.00142920e-06]\n",
            " [3.04764863e-03 1.82760547e-05 2.35196465e-04 6.99103170e-06]\n",
            " [7.07075673e-03 4.24017177e-05 5.53693022e-06 6.98204519e-04]]\n"
          ],
          "name": "stdout"
        }
      ]
    },
    {
      "cell_type": "markdown",
      "metadata": {
        "id": "YHmbqeccitON"
      },
      "source": [
        "## The process matrix"
      ]
    },
    {
      "cell_type": "code",
      "metadata": {
        "id": "7hIvjJbritOO"
      },
      "source": [
        "np.set_printoptions(precision=3)\n",
        "np.set_printoptions(suppress=True)\n",
        "np.set_printoptions(formatter={'float': '{: 0.3f}'.format})"
      ],
      "execution_count": null,
      "outputs": []
    },
    {
      "cell_type": "code",
      "metadata": {
        "id": "oUSWdkUlitOQ"
      },
      "source": [
        "def choi(a):\n",
        "    #input a matrix as an array and output its choi matrix\n",
        "    a = a.reshape(1,a.shape[0]*a.shape[1])\n",
        "    b = np.kron(a,np.conj(np.transpose(a)))\n",
        "    return b"
      ],
      "execution_count": null,
      "outputs": []
    },
    {
      "cell_type": "code",
      "metadata": {
        "id": "Q3BBZOp8itOV"
      },
      "source": [
        "# A process matrix, for U_i and U_j as the unitaries \n",
        "def w_d(i,j): \n",
        "    pure = np.array([[1 ,5.5+1j*3]])\n",
        "    N = np.vdot(pure,pure)\n",
        "    rho = np.kron(pure,np.conj(np.transpose(pure)))/N\n",
        "    term1 = np.matmul(np.conj(np.transpose(U_d[i])), np.matmul(rho, U_d[i]))\n",
        "    w = np.kron(term1, choi(U_d[j])) #  Not normalised.\n",
        "    return w"
      ],
      "execution_count": null,
      "outputs": []
    },
    {
      "cell_type": "code",
      "metadata": {
        "id": "tLyvWZSUroWi",
        "colab": {
          "base_uri": "https://localhost:8080/"
        },
        "outputId": "7f8b74b8-528e-40a4-b357-8c7f2ba62c98"
      },
      "source": [
        "pure = np.array([[1 ,5.5+1j*3]])\n",
        "N = np.vdot(pure,pure)\n",
        "rho = np.matmul(np.conj(np.transpose(pure)),pure)/N\n",
        "print(rho)"
      ],
      "execution_count": null,
      "outputs": [
        {
          "output_type": "stream",
          "text": [
            "[[0.025+0.j    0.137+0.075j]\n",
            " [0.137-0.075j 0.975+0.j   ]]\n"
          ],
          "name": "stdout"
        }
      ]
    },
    {
      "cell_type": "code",
      "metadata": {
        "id": "opxEpZfk3gzc",
        "colab": {
          "base_uri": "https://localhost:8080/"
        },
        "outputId": "831c6171-964e-4305-dd9f-147ffc0f4e8d"
      },
      "source": [
        "np.trace(w_d(3,3))"
      ],
      "execution_count": null,
      "outputs": [
        {
          "output_type": "execute_result",
          "data": {
            "text/plain": [
              "(2+0j)"
            ]
          },
          "metadata": {
            "tags": []
          },
          "execution_count": 9
        }
      ]
    },
    {
      "cell_type": "code",
      "metadata": {
        "id": "vNhXiAwcitOZ"
      },
      "source": [
        "# The process matrix as a function of q and R\n",
        "def W_d(q, R): \n",
        "    w = np.zeros((8,8),dtype=complex)\n",
        "    p_ij = P_ij(q,R) # So that it's fixed.\n",
        "    for i in range(4):\n",
        "        for j in range(4):\n",
        "            w = w + p_ij[i][j]*w_d(i,j) # Still unnormalised.\n",
        "#     if (w.imag == np.zeros((8,8))).all(): # if there's no imaginary part, suppress it\n",
        "#         w = w.real\n",
        "    return w"
      ],
      "execution_count": null,
      "outputs": []
    },
    {
      "cell_type": "code",
      "metadata": {
        "id": "draDBgbhitOg"
      },
      "source": [
        "# W_d(0,10000)# for R>10^5, and q=1 W = W_d(0,0), both unitaries are identity"
      ],
      "execution_count": null,
      "outputs": []
    },
    {
      "cell_type": "markdown",
      "metadata": {
        "id": "M2WrOxNIitOh"
      },
      "source": [
        "## Measure of non-Markovianity \n",
        "### 1. Norm distance"
      ]
    },
    {
      "cell_type": "code",
      "metadata": {
        "id": "o6Tva4txTYwn",
        "colab": {
          "base_uri": "https://localhost:8080/"
        },
        "outputId": "c6a08f52-14ce-474b-8a14-0346b8583eaa"
      },
      "source": [
        "pip install qutip==4.3.1\n"
      ],
      "execution_count": null,
      "outputs": [
        {
          "output_type": "stream",
          "text": [
            "Collecting qutip==4.3.1\n",
            "\u001b[?25l  Downloading https://files.pythonhosted.org/packages/02/fa/c815ed3f060ed96a56843dfdd1b9b68dd4d9924f7e255845c71d9f62d7d1/qutip-4.3.1.tar.gz (5.5MB)\n",
            "\u001b[K     |████████████████████████████████| 5.5MB 11.3MB/s \n",
            "\u001b[?25hRequirement already satisfied: numpy>=1.8 in /usr/local/lib/python2.7/dist-packages (from qutip==4.3.1) (1.16.4)\n",
            "Requirement already satisfied: scipy>=0.15 in /usr/local/lib/python2.7/dist-packages (from qutip==4.3.1) (1.2.2)\n",
            "Requirement already satisfied: cython>=0.21 in /usr/local/lib/python2.7/dist-packages (from qutip==4.3.1) (0.29.12)\n",
            "Building wheels for collected packages: qutip\n",
            "  Building wheel for qutip (setup.py) ... \u001b[?25l\u001b[?25hdone\n",
            "  Created wheel for qutip: filename=qutip-4.3.1-cp27-cp27mu-linux_x86_64.whl size=8542622 sha256=bd9263607f0df1ac7c7558922d5c0f46e6232c2ff9514b0435a9150eaa95286d\n",
            "  Stored in directory: /root/.cache/pip/wheels/7d/f1/a4/f5687d0ab63c65cd818a29e7826f6ad677887730290476aabc\n",
            "Successfully built qutip\n",
            "Installing collected packages: qutip\n",
            "Successfully installed qutip-4.3.1\n"
          ],
          "name": "stdout"
        }
      ]
    },
    {
      "cell_type": "code",
      "metadata": {
        "id": "iryGOCekTxxH"
      },
      "source": [
        "import qutip as qt"
      ],
      "execution_count": null,
      "outputs": []
    },
    {
      "cell_type": "code",
      "metadata": {
        "id": "SK2m8wxhitOi"
      },
      "source": [
        "def norm_d(x):\n",
        "  \"\"\"Input: x, a non-normalized process matrix.\n",
        "  Calculates the norm distance between x and the Markovian one,\n",
        "  taken by the tensor product of the input state and channels.\n",
        "  Note: works only for a W with three qubits (8,8)\"\"\"\n",
        "  y = qt.Qobj(x,[[2,2,2],[2,2,2]])/2 # Normalize x.\n",
        "  r = (y - qt.tensor(y.ptrace([0]),y.ptrace([1,2]))).norm() # AI/2 tensor AOBI (factor 2 is because to get AI we trace out AOBI).\n",
        "  return r"
      ],
      "execution_count": null,
      "outputs": []
    },
    {
      "cell_type": "code",
      "metadata": {
        "id": "ofG7pNa7itOm",
        "colab": {
          "base_uri": "https://localhost:8080/"
        },
        "outputId": "6220fee6-cd07-4102-8794-391ed8816b0e"
      },
      "source": [
        "norm_d(W_d(1,1))"
      ],
      "execution_count": null,
      "outputs": [
        {
          "output_type": "execute_result",
          "data": {
            "text/plain": [
              "0.8735793880594991"
            ]
          },
          "metadata": {
            "tags": []
          },
          "execution_count": 17
        }
      ]
    },
    {
      "cell_type": "markdown",
      "metadata": {
        "id": "yzV42TAuitOo"
      },
      "source": [
        "### 2. Relative entropy"
      ]
    },
    {
      "cell_type": "code",
      "metadata": {
        "id": "fwkNbQ0ritOp"
      },
      "source": [
        "from numpy import e, real, sort, sqrt\n",
        "from scipy import log, log2\n",
        "from qutip.qobj import ptrace\n",
        "from qutip.states import ket2dm\n",
        "from qutip.tensor import tensor\n",
        "from qutip.operators import sigmay\n",
        "from qutip.sparse import sp_eigs\n",
        "from qutip.qip.gates import swap\n",
        "\n",
        "def entropy_vn(rho, base=e, sparse=False):\n",
        "    \"\"\"\n",
        "    Von-Neumann entropy of density matrix\n",
        "\n",
        "    Parameters\n",
        "    ----------\n",
        "    rho : qobj\n",
        "        Density matrix.\n",
        "    base : {e,2}\n",
        "        Base of logarithm.\n",
        "    sparse : {False,True}\n",
        "        Use sparse eigensolver.\n",
        "\n",
        "    Returns\n",
        "    -------\n",
        "    entropy : float\n",
        "        Von-Neumann entropy of `rho`.\n",
        "\n",
        "    Examples\n",
        "    --------\n",
        "    >>> rho=0.5*fock_dm(2,0)+0.5*fock_dm(2,1)\n",
        "    >>> entropy_vn(rho,2)\n",
        "    1.0\n",
        "\n",
        "    \"\"\"\n",
        "    if rho.type == 'ket' or rho.type == 'bra':\n",
        "        rho = ket2dm(rho)\n",
        "    vals = sp_eigs(rho.data, rho.isherm, vecs=False, sparse=sparse)\n",
        "    nzvals = vals[vals != 0]\n",
        "    if base == 2:\n",
        "        logvals = log2(nzvals)\n",
        "    elif base == e:\n",
        "        logvals = log(nzvals)\n",
        "    else:\n",
        "        raise ValueError(\"Base must be 2 or e.\")\n",
        "    return float(real(-sum(nzvals * logvals)))\n",
        "\n",
        "def _entropy_relative(rho, sigma, base=e, sparse=False):\n",
        "    \"\"\"\n",
        "    ****NEEDS TO BE WORKED ON**** (after 2.0 release)\n",
        "    C. G. : fixed the problem, some zeros were not removed because they were 0.0000.\n",
        "\n",
        "    Calculates the relative entropy S(rho||sigma) between two density\n",
        "    matrices..\n",
        "\n",
        "    Parameters\n",
        "    ----------\n",
        "    rho : qobj\n",
        "        First density matrix.\n",
        "    sigma : qobj\n",
        "        Second density matrix.\n",
        "    base : {e,2}\n",
        "        Base of logarithm.\n",
        "\n",
        "    Returns\n",
        "    -------\n",
        "    rel_ent : float\n",
        "        Value of relative entropy.\n",
        "\n",
        "    \"\"\"\n",
        "    if rho.type != 'oper' or sigma.type != 'oper':\n",
        "        raise TypeError(\"Inputs must be density matrices..\")\n",
        "    # sigma terms\n",
        "    svals = sp_eigs(sigma.data, sigma.isherm, vecs=False, sparse=sparse) # returns eigenvalues of sigma (C.G.).\n",
        "#     snzvals = svals[svals != 0] # EDIT: 0 is not enough to remove 0.000. C.G.\n",
        "    snzvals = svals[svals > 0.0001]\n",
        "    if base == 2:\n",
        "        slogvals = log2(snzvals)\n",
        "    elif base == e:\n",
        "        slogvals = log(snzvals)\n",
        "    else:\n",
        "        raise ValueError(\"Base must be 2 or e.\")\n",
        "    # rho terms\n",
        "    rvals = sp_eigs(rho.data, rho.isherm, vecs=False, sparse=sparse)\n",
        "#     rnzvals = rvals[rvals != 0] # Same edit as above. C.G.\n",
        "    rnzvals = svals[svals > 0.0001]\n",
        "    # calculate tr(rho*log sigma)\n",
        "    rel_trace = float(real(sum(rnzvals * slogvals)))\n",
        "    return -entropy_vn(rho, base, sparse) - rel_trace"
      ],
      "execution_count": null,
      "outputs": []
    },
    {
      "cell_type": "markdown",
      "metadata": {
        "id": "TU8ryu_H8f-L"
      },
      "source": [
        ""
      ]
    },
    {
      "cell_type": "code",
      "metadata": {
        "id": "FuyM5XTspEKc"
      },
      "source": [
        "# x = w_cliff(1,1)\n",
        "# y = qt.Qobj(x,[[2,2,2],[2,2,2]])/2.0\n",
        "# y_mark = qt.tensor(y.ptrace([0]),y.ptrace([1,2]))\n",
        "# rvals = sp_eigs(y.data, y.isherm, vecs=False, sparse=False)\n",
        "# rnzvals = rvals[rvals != 0] \n",
        "# svals = sp_eigs(y_mark.data, y_mark.isherm, vecs=False, sparse=False)\n",
        "# snzvals = svals[svals > 0.0001]\n",
        "# print x\n",
        "# print y"
      ],
      "execution_count": null,
      "outputs": []
    },
    {
      "cell_type": "code",
      "metadata": {
        "id": "oZHqBa3LitOq"
      },
      "source": [
        "def rel_entr(x):\n",
        "  \"\"\"\n",
        "  Input: x process matrix as an np.array.\n",
        "  Calculates Relative Entropy of a process matrix x.\n",
        "  \"\"\"\n",
        "  y = qt.Qobj(x,[[2,2,2],[2,2,2]])/2.0 # Turns into a q object, Normalised.\n",
        "  y_mark = qt.tensor(y.ptrace([0]),y.ptrace([1,2])) # Calculates the Markovian of y.\n",
        "  #res = _entropy_relative(y, y_mark, base=2, sparse=False)# calculate their relative entropy\n",
        "  res = qt.entropy_vn(y.ptrace([0]), base=2) +  entropy_vn(y.ptrace([1,2]), base=2) - entropy_vn(y, base=2)\n",
        "  return res"
      ],
      "execution_count": null,
      "outputs": []
    },
    {
      "cell_type": "code",
      "metadata": {
        "id": "0J8LYnHFitOr"
      },
      "source": [
        "def compare(q,R): # compare the norm distance vs the relative entropy of a process matrix with q and R\n",
        "    mat = W_d(q,R)\n",
        "    normd = norm_d(mat)\n",
        "    rel = rel_entr(mat)\n",
        "    return normd-rel"
      ],
      "execution_count": null,
      "outputs": []
    },
    {
      "cell_type": "code",
      "metadata": {
        "id": "P5Xpb4DOitOs"
      },
      "source": [
        "# x = w_cliff(23,23)\n",
        "# y = qt.Qobj(x,[[2,2,2],[2,2,2]])/2.0\n",
        "# y_mark = qt.tensor(y.ptrace([0]),y.ptrace([1,2]))\n",
        "# print sp_eigs(y.data, y.isherm, vecs=False, sparse=False)\n",
        "# print sp_eigs(y_mark.data, y_mark.isherm, vecs=False, sparse=False)"
      ],
      "execution_count": null,
      "outputs": []
    },
    {
      "cell_type": "markdown",
      "metadata": {
        "id": "Nwe59TkxX4Ow"
      },
      "source": [
        "## Rotated Paulis and Verification for obtaining the data"
      ]
    },
    {
      "cell_type": "code",
      "metadata": {
        "id": "4F36eKrZitO9",
        "colab": {
          "base_uri": "https://localhost:8080/"
        },
        "outputId": "f678bf3e-3d9f-4e59-bf0f-90c96c9062dc"
      },
      "source": [
        "pure = np.array([[1 ,5.5+1j*3]])\n",
        "N = np.vdot(pure,pure)\n",
        "rho = np.kron(pure,np.conj(np.transpose(pure)))/N\n",
        "rho_q = qt.Qobj(rho)\n",
        "\n",
        "print(rho_q)"
      ],
      "execution_count": null,
      "outputs": [
        {
          "output_type": "stream",
          "text": [
            "Quantum object: dims = [[2], [2]], shape = (2, 2), type = oper, isherm = True\n",
            "Qobj data =\n",
            "[[0.025+0.j    0.137+0.075j]\n",
            " [0.137-0.075j 0.975+0.j   ]]\n"
          ],
          "name": "stdout"
        }
      ]
    },
    {
      "cell_type": "code",
      "metadata": {
        "id": "74VA_PrQU36k"
      },
      "source": [
        "def sigma_i(i,x,y,z):\n",
        "    return np.matmul(rot3(x,y,z).conj().T ,np.matmul(U_d[i],rot3(x,y,z)))"
      ],
      "execution_count": null,
      "outputs": []
    },
    {
      "cell_type": "code",
      "metadata": {
        "id": "2vR5ozJCitPF"
      },
      "source": [
        "def rot(x):\n",
        "    return np.array([[np.cos(x), -np.sin(x)], [np.sin(x), np.cos(x)]])"
      ],
      "execution_count": null,
      "outputs": []
    },
    {
      "cell_type": "code",
      "metadata": {
        "id": "Am08p9WkitPG"
      },
      "source": [
        "def rot3(x,y,z):\n",
        "    r = np.cos(x/2)*U_d[0] - 1j*np.sin(x/2)*( np.sin(y)*np.sin(z)*U_d[1] + np.cos(y)*np.sin(z)*U_d[2] + np.cos(z)*U_d[3] )\n",
        "    return r"
      ],
      "execution_count": null,
      "outputs": []
    },
    {
      "cell_type": "code",
      "metadata": {
        "id": "nIStcNPfdKV3",
        "colab": {
          "base_uri": "https://localhost:8080/"
        },
        "outputId": "5de998a6-6fb2-44d2-99ea-1ad240b2e101"
      },
      "source": [
        "rot3(np.pi/8,np.pi/8,np.pi/8)"
      ],
      "execution_count": null,
      "outputs": [
        {
          "output_type": "execute_result",
          "data": {
            "text/plain": [
              "array([[ 0.981-0.18j , -0.069-0.029j],\n",
              "       [ 0.069-0.029j,  0.981+0.18j ]])"
            ]
          },
          "metadata": {
            "tags": []
          },
          "execution_count": 107
        }
      ]
    },
    {
      "cell_type": "code",
      "metadata": {
        "id": "tjV9V04ngSCc",
        "colab": {
          "base_uri": "https://localhost:8080/"
        },
        "outputId": "6ddc5027-adbb-421c-adc5-f4afb19d799c"
      },
      "source": [
        "print(sigma_i(1,np.pi/8,np.pi/8,np.pi/8))\n",
        "#print(sigma_i(2,np.pi/8,np.pi/8,np.pi/8))\n",
        "#print(sigma_i(3,np.pi/8,np.pi/8,np.pi/8))\n",
        "#print(sigma_i(0,np.pi/8,np.pi/8,np.pi/8))\n"
      ],
      "execution_count": null,
      "outputs": [
        {
          "output_type": "stream",
          "text": [
            "[[ 0.146+0.j    0.926+0.35j]\n",
            " [ 0.926-0.35j -0.146+0.j  ]]\n"
          ],
          "name": "stdout"
        }
      ]
    },
    {
      "cell_type": "code",
      "metadata": {
        "id": "7NZ57LMacvqQ",
        "colab": {
          "base_uri": "https://localhost:8080/"
        },
        "outputId": "0b8412d5-64fb-488e-a608-f141f5b42421"
      },
      "source": [
        "U_d[2]"
      ],
      "execution_count": null,
      "outputs": [
        {
          "output_type": "execute_result",
          "data": {
            "text/plain": [
              "array([[0.+0.j, 0.-1.j],\n",
              "       [0.+1.j, 0.+0.j]])"
            ]
          },
          "metadata": {
            "tags": []
          },
          "execution_count": 109
        }
      ]
    },
    {
      "cell_type": "code",
      "metadata": {
        "id": "iJ2hXAiRUcqo"
      },
      "source": [
        "U_dq = lambda i : qt.Qobj(U_d[i])\n",
        "sigma_iq = lambda i,x,y,z : qt.Qobj(sigma_i(i,x,y,z))"
      ],
      "execution_count": null,
      "outputs": []
    },
    {
      "cell_type": "code",
      "metadata": {
        "id": "PH1-wo6NitPA"
      },
      "source": [
        "#                           final measurement * U2 environment   * middle measurement(pi/8)  * U1 environment.\n",
        "def outcomes(x,y): # x and y are the Pauli environment. i and j are running the measurements over the Paulis, rho_q is some random input state.\n",
        "    out = np.zeros((4,4))\n",
        "    for i in range(4):\n",
        "        for j in range(4):\n",
        "            out[i][j] = np.real((sigma_iq(j,0,0,0)* (sigma_iq(x,0,0,0)* sigma_iq(i,np.pi/8,np.pi/8,np.pi/8)* sigma_iq(y,0,0,0)* \\\n",
        "                              rho_q * sigma_iq(y,0,0,0).dag() * sigma_iq(i,np.pi/8,np.pi/8,np.pi/8).dag() * sigma_iq(x,0,0,0).dag())).tr())\n",
        "    return out"
      ],
      "execution_count": null,
      "outputs": []
    },
    {
      "cell_type": "code",
      "metadata": {
        "id": "UQN4MjpnitPC"
      },
      "source": [
        "def the_data_ver(q,R):\n",
        "    p = np.zeros((4,4))\n",
        "    pij = P_ij(q,R)\n",
        "    for i in range(4):\n",
        "        for j in range(4):\n",
        "            p =  p + pij[i][j]* outcomes(i,j)\n",
        "    return p"
      ],
      "execution_count": null,
      "outputs": []
    },
    {
      "cell_type": "code",
      "metadata": {
        "id": "CfNjTkb6K68j",
        "colab": {
          "base_uri": "https://localhost:8080/"
        },
        "outputId": "9f110a72-f709-4297-bc73-9445254794fd"
      },
      "source": [
        "prob = P_ij(0.3,100)\n",
        "data = np.zeros((4,4))\n",
        "for i in range(4):\n",
        "        for j in range(4):\n",
        "            data =  data + prob[i][j]* outcomes(i,j)\n",
        "print(data)    \n",
        "print(prob)"
      ],
      "execution_count": null,
      "outputs": [
        {
          "output_type": "stream",
          "text": [
            "[[ 1.000  0.240 -0.125 -0.825]\n",
            " [ 1.000  0.031  0.028  0.866]\n",
            " [ 1.000 -0.247  0.105  0.825]\n",
            " [ 1.000 -0.024 -0.008 -0.866]]\n",
            "[[ 0.889  0.003  0.004  0.006]\n",
            " [ 0.039  0.002  0.000  0.000]\n",
            " [ 0.019  0.000  0.002  0.000]\n",
            " [ 0.032  0.000  0.000  0.003]]\n"
          ],
          "name": "stdout"
        }
      ]
    },
    {
      "cell_type": "code",
      "metadata": {
        "id": "wzW8Wj-FitPD",
        "colab": {
          "base_uri": "https://localhost:8080/"
        },
        "outputId": "daa197e7-f1e6-4b75-8f87-16ba1769c8ca"
      },
      "source": [
        "ver_test = the_data_ver(0.3,100) \n",
        "print(ver_test)\n",
        "print(sum(ver_test))\n"
      ],
      "execution_count": null,
      "outputs": [
        {
          "output_type": "stream",
          "text": [
            "[[ 1.000  0.245 -0.135 -0.851]\n",
            " [ 1.000  0.037  0.033  0.892]\n",
            " [ 1.000 -0.251  0.105  0.852]\n",
            " [ 1.000 -0.032 -0.003 -0.893]]\n",
            "[ 4.000 -0.000  0.000  0.000]\n"
          ],
          "name": "stdout"
        }
      ]
    },
    {
      "cell_type": "markdown",
      "metadata": {
        "id": "Q_ngcrtEitPL"
      },
      "source": [
        "## We obtain the data with Paulis"
      ]
    },
    {
      "cell_type": "markdown",
      "metadata": {
        "id": "x0XYCSnYzzZv"
      },
      "source": [
        "### Definitions."
      ]
    },
    {
      "cell_type": "code",
      "metadata": {
        "id": "EZGCsKEj0RpD"
      },
      "source": [
        "import seaborn as sns\n",
        "import matplotlib.pyplot as plt\n",
        "%matplotlib inline\n",
        "import pandas as pd"
      ],
      "execution_count": null,
      "outputs": []
    },
    {
      "cell_type": "code",
      "metadata": {
        "id": "HjFeus3TuuuH"
      },
      "source": [
        "def rot(x):\n",
        "    return np.array([[np.cos(x), -np.sin(x)], [np.sin(x), np.cos(x)]])\n",
        "  \n",
        "def rot3(x,y,z):\n",
        "    r = np.cos(x/2)*U_d[0] - 1j*np.sin(x/2)*( np.sin(y)*np.sin(z)*U_d[1] + np.cos(y)*np.sin(z)*U_d[2] + np.cos(z)*U_d[3] )\n",
        "    return r\n",
        "def sigma_i(i,x,y,z):\n",
        "    return np.matmul(rot3(x,y,z).conj().T ,np.matmul(U_d[i],rot3(x,y,z))) "
      ],
      "execution_count": null,
      "outputs": []
    },
    {
      "cell_type": "code",
      "metadata": {
        "id": "BBXpORVQitPL"
      },
      "source": [
        "# Simulating experimental data: for each unitary (I,x,y,z)/each row, we get 3 numbers (for x,y,z).\n",
        "# We drop the z for the first unitary as their sum=0 (sum_i p(i|j)=0 for every j.\n",
        "def the_data(q,R): \n",
        "    proc = W_d(q,R)\n",
        "    res = np.zeros((3,3),dtype=complex)\n",
        "    value = rel_entr(proc)\n",
        "    for i in range(3): # The first measurement. We drop z.\n",
        "        for j in range(1,4):# The final measurement. j runs for 1 to 3 for x y z, we drop I. \n",
        "                res[i][j-1] = np.trace(np.matmul(np.kron(choi(np.conj(sigma_i(i,np.pi/8,np.pi/8,np.pi/8))),sigma_i(j,0,0,0)),proc))\n",
        "    return res,value"
      ],
      "execution_count": null,
      "outputs": []
    },
    {
      "cell_type": "code",
      "metadata": {
        "id": "VVkHT9HgSHO6",
        "colab": {
          "base_uri": "https://localhost:8080/"
        },
        "outputId": "af3274ef-c670-43f0-d90f-2478fd142caf"
      },
      "source": [
        "from google.colab import drive\n",
        "drive.mount('/content/drive/', force_remount=True)"
      ],
      "execution_count": null,
      "outputs": [
        {
          "output_type": "stream",
          "text": [
            "Mounted at /content/drive/\n"
          ],
          "name": "stdout"
        }
      ]
    },
    {
      "cell_type": "code",
      "metadata": {
        "id": "cc3H5t--_gA0",
        "colab": {
          "base_uri": "https://localhost:8080/"
        },
        "outputId": "d3bf7400-13dd-447d-e229-1de99aa6da8a"
      },
      "source": [
        "cd /content/drive/My Drive/Colab Notebooks/NON_MARKOV_KBG"
      ],
      "execution_count": null,
      "outputs": [
        {
          "output_type": "stream",
          "text": [
            "/content/drive/My Drive/Colab Notebooks/NON_MARKOV_KBG\n"
          ],
          "name": "stdout"
        }
      ]
    },
    {
      "cell_type": "code",
      "metadata": {
        "id": "MOvaFlhf5iqU"
      },
      "source": [
        "import scipy.io as sio"
      ],
      "execution_count": null,
      "outputs": []
    },
    {
      "cell_type": "code",
      "metadata": {
        "id": "Pfq-3UCdukzT",
        "colab": {
          "base_uri": "https://localhost:8080/"
        },
        "outputId": "7ca6da37-f9a3-4871-ae2e-e5fddeb7088f"
      },
      "source": [
        "\n",
        "process = W_d(0.9,1)\n",
        "#sio.savemat('np_process.mat', {'process_python':process})\n",
        "rel_entr(process)"
      ],
      "execution_count": null,
      "outputs": [
        {
          "output_type": "execute_result",
          "data": {
            "text/plain": [
              "0.5774321306714525"
            ]
          },
          "metadata": {
            "tags": []
          },
          "execution_count": 119
        }
      ]
    },
    {
      "cell_type": "code",
      "metadata": {
        "id": "Ue73JyCx33vj",
        "colab": {
          "base_uri": "https://localhost:8080/"
        },
        "outputId": "562a35eb-4039-4b43-bcc1-996638c15f06"
      },
      "source": [
        "rel_entr((w_d(0,0) + w_d(1,1) + w_d(2,2) + w_d(3,3))/4)"
      ],
      "execution_count": null,
      "outputs": [
        {
          "output_type": "execute_result",
          "data": {
            "text/plain": [
              "1.0000000000000004"
            ]
          },
          "metadata": {
            "tags": []
          },
          "execution_count": 120
        }
      ]
    },
    {
      "cell_type": "code",
      "metadata": {
        "id": "WgwQ5mJEitPM",
        "colab": {
          "base_uri": "https://localhost:8080/"
        },
        "outputId": "0e5afd35-5f50-430b-c0a6-748c0bf35f05"
      },
      "source": [
        "[x, labels]  = the_data(1,1)\n",
        "[y, labels2]  = the_data(0.8,1)\n",
        "\n",
        "data = [x,y]\n",
        "#print data\n",
        "#print the_data(1,1)[0].sum(axis=0)\n",
        "print(y)\n",
        "print(np.reshape(data,(2,9)))\n"
      ],
      "execution_count": null,
      "outputs": [
        {
          "output_type": "stream",
          "text": [
            "[[ 0.214+0.j -0.118+0.j -0.762+0.j]\n",
            " [ 0.125-0.j  0.097+0.j  0.739+0.j]\n",
            " [-0.16 +0.j -0.079+0.j  0.761+0.j]]\n",
            "[[ 0.273+0.j -0.149+0.j -0.95 +0.j  0.049-0.j  0.174+0.j  0.94 +0.j\n",
            "  -0.156+0.j -0.184-0.j  0.945+0.j]\n",
            " [ 0.214+0.j -0.118+0.j -0.762+0.j  0.125-0.j  0.097+0.j  0.739+0.j\n",
            "  -0.16 +0.j -0.079+0.j  0.761+0.j]]\n"
          ],
          "name": "stdout"
        }
      ]
    },
    {
      "cell_type": "markdown",
      "metadata": {
        "id": "58aLpAp-z4Zv"
      },
      "source": [
        "### Testing."
      ]
    },
    {
      "cell_type": "code",
      "metadata": {
        "id": "yMrul90aitPP",
        "colab": {
          "base_uri": "https://localhost:8080/"
        },
        "outputId": "576dc134-b6e1-4310-cb32-010c45f31c8c"
      },
      "source": [
        "# Testing time of data taking.\n",
        "samples = 500\n",
        "import time\n",
        "start = time.time()\n",
        "labels_01_10 = np.zeros(samples)\n",
        "labels = labels_01_10\n",
        "for i in range(samples):\n",
        "    labels[i] = the_data(1,1)[1]\n",
        "end = time.time()\n",
        "print(end - start)"
      ],
      "execution_count": null,
      "outputs": [
        {
          "output_type": "stream",
          "text": [
            "2.97795605659\n"
          ],
          "name": "stdout"
        }
      ]
    },
    {
      "cell_type": "code",
      "metadata": {
        "id": "Z15e9NmBitPT",
        "colab": {
          "base_uri": "https://localhost:8080/",
          "height": 354
        },
        "outputId": "87146b2c-2cef-4456-cbec-3024efc8f47d"
      },
      "source": [
        "plt.hist(labels)"
      ],
      "execution_count": null,
      "outputs": [
        {
          "output_type": "execute_result",
          "data": {
            "text/plain": [
              "(array([ 2.000,  2.000,  3.000,  4.000,  7.000,  12.000,  20.000,  33.000,\n",
              "         81.000,  336.000]),\n",
              " array([ 0.310,  0.379,  0.448,  0.517,  0.586,  0.655,  0.724,  0.793,\n",
              "         0.862,  0.931,  1.000]),\n",
              " <a list of 10 Patch objects>)"
            ]
          },
          "metadata": {
            "tags": []
          },
          "execution_count": 123
        },
        {
          "output_type": "display_data",
          "data": {
            "image/png": "[encoded data removed]",
            "text/plain": [
              "<Figure size 432x288 with 1 Axes>"
            ]
          },
          "metadata": {
            "tags": [],
            "needs_background": "light"
          }
        }
      ]
    },
    {
      "cell_type": "markdown",
      "metadata": {
        "id": "Ma1aDlzEz88W"
      },
      "source": [
        "### Setting path."
      ]
    },
    {
      "cell_type": "code",
      "metadata": {
        "id": "mGUnZfSLprX9",
        "colab": {
          "base_uri": "https://localhost:8080/"
        },
        "outputId": "9dc10c61-8ae2-4e1e-a483-539901ae33ec"
      },
      "source": [
        "from google.colab import drive\n",
        "drive.mount('/content/drive/', force_remount=True)"
      ],
      "execution_count": null,
      "outputs": [
        {
          "output_type": "stream",
          "text": [
            "Mounted at /content/drive/\n"
          ],
          "name": "stdout"
        }
      ]
    },
    {
      "cell_type": "code",
      "metadata": {
        "id": "rEIZpTI6hETr",
        "colab": {
          "base_uri": "https://localhost:8080/",
          "height": 130
        },
        "outputId": "e64a8fd4-dbb1-452d-eb9a-6801e39f3491"
      },
      "source": [
        "# Change directory to save/read the data.\n",
        "cd /content/drive/My Drive/Colab Notebooks/NON_MARKOV_KBG/"
      ],
      "execution_count": null,
      "outputs": [
        {
          "output_type": "error",
          "ename": "SyntaxError",
          "evalue": "ignored",
          "traceback": [
            "\u001b[0;36m  File \u001b[0;32m\"<ipython-input-11-e58e839fb315>\"\u001b[0;36m, line \u001b[0;32m2\u001b[0m\n\u001b[0;31m    cd /content/drive/My Drive/Colab Notebooks/NON_MARKOV_KBG/\u001b[0m\n\u001b[0m                             ^\u001b[0m\n\u001b[0;31mSyntaxError\u001b[0m\u001b[0;31m:\u001b[0m invalid syntax\n"
          ]
        }
      ]
    },
    {
      "cell_type": "markdown",
      "metadata": {
        "id": "Z8iI_AwF0Vc_"
      },
      "source": [
        "### Data taking"
      ]
    },
    {
      "cell_type": "code",
      "metadata": {
        "id": "dLi0p3oRitPV",
        "colab": {
          "base_uri": "https://localhost:8080/"
        },
        "outputId": "ab014ac7-023c-4b52-893a-a7fbb636b371"
      },
      "source": [
        "import time\n",
        "start = time.time()\n",
        "df_all = pd.DataFrame(np.zeros((1,9)))\n",
        "for q in np.array([0, 2, 4, 5, 6, 8, 9, 9.5, 10]) :\n",
        "  for R in np.array([1,1.25,1.5,2,5,10]):\n",
        "    if q==10 and R==1:\n",
        "      samples=3*1024\n",
        "    else:\n",
        "      samples=1024\n",
        "    data = np.zeros((samples,3,3)) \n",
        "    labels = np.zeros(samples)\n",
        "    for i in range(samples): \n",
        "      data[[i]], labels[i] = the_data(q*0.1,R)\n",
        "\n",
        "    data_new = data.reshape(samples, 9) \n",
        "    df_data = pd.DataFrame(data_new) \n",
        "    df_labels = pd.DataFrame(labels, columns = ['Labels'])\n",
        "    df = df_data.join(df_labels, how='right')\n",
        "#          Need to append data in one big file df_all\n",
        "    df_all = df_all.append(df)\n",
        "#         df.to_csv('Sdata_0%d_%d' %(q,R), index=False) # No need to save each dataframe anymore.\n",
        "df_all = df_all.reset_index()\n",
        "df_all = df_all.drop(0) # Drop the zeros of first line.\n",
        "df_all = df_all.drop('index', axis=1)\n",
        "# df_all.to_csv('Sim_data')\n",
        "end = time.time()\n",
        "print(end - start)"
      ],
      "execution_count": null,
      "outputs": [
        {
          "output_type": "stream",
          "text": [
            "/usr/local/lib/python2.7/dist-packages/ipykernel_launcher.py:13: ComplexWarning: Casting complex values to real discards the imaginary part\n",
            "  del sys.path[0]\n"
          ],
          "name": "stderr"
        },
        {
          "output_type": "stream",
          "text": [
            "343.808849812\n"
          ],
          "name": "stdout"
        }
      ]
    },
    {
      "cell_type": "code",
      "metadata": {
        "id": "17GKHRSNitPY",
        "colab": {
          "base_uri": "https://localhost:8080/",
          "height": 317
        },
        "outputId": "e4322854-a9d8-4b47-c370-31145d09d7ad"
      },
      "source": [
        "#df_all = pd.read_csv('Sim_data_Pauli.csv')\n",
        "#print(np.shape(df_all))\n",
        "labels_P = df_all.iloc[:,-1]\n",
        "# print labels_P.shape\n",
        "sns.distplot(labels_P)\n",
        "print labels_P.max()\n",
        "print labels_P.min()\n",
        "\n",
        "#test_data = pd.read_csv('experimental_data.csv', header=None)\n",
        "#test_data = pd.read_csv('random_error.csv', header=None)\n",
        "\n",
        "#test_data.index\n",
        "\n",
        "#test_data.columns = ['1', '2', '3', '4', '5', '6', '7','8','9','Experimental label', 'Theoretical label']\n",
        "\n",
        "#print(test_data.iloc[0:5,:])"
      ],
      "execution_count": null,
      "outputs": [
        {
          "output_type": "stream",
          "text": [
            "0.9999909266303573\n",
            "-2.886579864025407e-15\n"
          ],
          "name": "stdout"
        },
        {
          "output_type": "display_data",
          "data": {
            "image/png": "[encoded data removed]",
            "text/plain": [
              "<Figure size 432x288 with 1 Axes>"
            ]
          },
          "metadata": {
            "tags": [],
            "needs_background": "light"
          }
        }
      ]
    },
    {
      "cell_type": "code",
      "metadata": {
        "id": "hJL0SzVuLucN"
      },
      "source": [
        "# plt.hist(labels_P, bins=30)"
      ],
      "execution_count": null,
      "outputs": []
    },
    {
      "cell_type": "code",
      "metadata": {
        "id": "qBMgvU3WV0-Q"
      },
      "source": [
        "df_all.to_csv('/content/drive/My Drive/Colab Notebooks/NON_MARKOV_KBG/Sim_data_Pauli_wide_range2.csv')\n"
      ],
      "execution_count": null,
      "outputs": []
    },
    {
      "cell_type": "code",
      "metadata": {
        "id": "LS74WXQ-itPZ"
      },
      "source": [
        "# df_all.to_csv('Sim_data_Pauli.csv')"
      ],
      "execution_count": null,
      "outputs": []
    },
    {
      "cell_type": "code",
      "metadata": {
        "id": "OR5ymZQtitPa"
      },
      "source": [
        "# # Read the saved files\n",
        "# df_Pauli = pd.read_csv('Sim_data_Pauli.csv')\n",
        "# df_Cliff = pd.read_csv('Sim_data_Cliff.csv')\n",
        "# # Reading the saved file created an extra column\n",
        "# df_Pauli = df_Pauli.drop('Unnamed: 0', axis=1) \n",
        "# df_Cliff = df_Cliff.drop('Unnamed: 0', axis=1)"
      ],
      "execution_count": null,
      "outputs": []
    },
    {
      "cell_type": "code",
      "metadata": {
        "id": "Y8LQyM4Drj2a"
      },
      "source": [
        "# df_all.to_csv('/Users/uqcgiarm/Dropbox/Sally/Sim_data.csv')"
      ],
      "execution_count": null,
      "outputs": []
    },
    {
      "cell_type": "code",
      "metadata": {
        "id": "PNv9N26-rRaE"
      },
      "source": [
        "# df_Cliff.head()"
      ],
      "execution_count": null,
      "outputs": []
    },
    {
      "cell_type": "markdown",
      "metadata": {
        "id": "VpUoW0bSRRhs"
      },
      "source": [
        "## Non-Markovian cases."
      ]
    },
    {
      "cell_type": "code",
      "metadata": {
        "id": "O_2hLwnb2e4t",
        "colab": {
          "base_uri": "https://localhost:8080/"
        },
        "outputId": "5db98b89-c775-4720-cbb8-6823fe6ded6e"
      },
      "source": [
        "rel_entr(1.0/2*(w_d(0,0) + w_d(1,1)))"
      ],
      "execution_count": null,
      "outputs": [
        {
          "output_type": "execute_result",
          "data": {
            "text/plain": [
              "0.945432118518732"
            ]
          },
          "metadata": {
            "tags": []
          },
          "execution_count": 131
        }
      ]
    },
    {
      "cell_type": "code",
      "metadata": {
        "id": "OjlZyZ5IQ_Sf",
        "colab": {
          "base_uri": "https://localhost:8080/"
        },
        "outputId": "596b5c34-0750-4463-8692-88d80537190e"
      },
      "source": [
        "rel_entr(1.0/4*(w_d(0,0) + w_d(1,1) + w_d(2,2) + w_d(3,3)))"
      ],
      "execution_count": null,
      "outputs": [
        {
          "output_type": "execute_result",
          "data": {
            "text/plain": [
              "1.0000000000000004"
            ]
          },
          "metadata": {
            "tags": []
          },
          "execution_count": 132
        }
      ]
    },
    {
      "cell_type": "markdown",
      "metadata": {
        "id": "yLyMttDBitPg"
      },
      "source": [
        "## Linear regression with Paulis"
      ]
    },
    {
      "cell_type": "code",
      "metadata": {
        "colab": {
          "base_uri": "https://localhost:8080/",
          "height": 443
        },
        "id": "h5Nd7KfXnHtK",
        "outputId": "5bb35565-2425-4b96-85d7-da057fd38e61"
      },
      "source": [
        "import pandas as pd\n",
        "\n",
        "Simulated_data = pd.read_csv('Sim_data_Pauli_wide_range2.csv')\n",
        "\n",
        "df1 = Simulated_data.iloc[:,:]\n",
        "df1.drop(\"Unnamed: 0\", axis=1, inplace=True)\n",
        "df1 = df1.rename(columns = {'0':0, '1':1, '2':2, '3':3, '4':4, '5':5, '6':6, '7':7, '8':8, 'Labels':9}) ## This step is needed to match the names of the columns with the experimental data\n",
        "\n",
        "\n",
        "Shuffled_simulated_data = sk.utils.shuffle(df1, random_state=10)             ## In last two lines, I shuffled the simulated and the experimental datasets, this steps are required to randomly select certain percentage of the rows from both of them. \n"
      ],
      "execution_count": null,
      "outputs": [
        {
          "output_type": "error",
          "ename": "IOError",
          "evalue": "ignored",
          "traceback": [
            "\u001b[0;31m\u001b[0m",
            "\u001b[0;31mIOError\u001b[0mTraceback (most recent call last)",
            "\u001b[0;32m<ipython-input-5-7822f3aa4a43>\u001b[0m in \u001b[0;36m<module>\u001b[0;34m()\u001b[0m\n\u001b[1;32m      1\u001b[0m \u001b[0;32mimport\u001b[0m \u001b[0mpandas\u001b[0m \u001b[0;32mas\u001b[0m \u001b[0mpd\u001b[0m\u001b[0;34m\u001b[0m\u001b[0m\n\u001b[1;32m      2\u001b[0m \u001b[0;34m\u001b[0m\u001b[0m\n\u001b[0;32m----> 3\u001b[0;31m \u001b[0mSimulated_data\u001b[0m \u001b[0;34m=\u001b[0m \u001b[0mpd\u001b[0m\u001b[0;34m.\u001b[0m\u001b[0mread_csv\u001b[0m\u001b[0;34m(\u001b[0m\u001b[0;34m'Sim_data_Pauli_wide_range2.csv'\u001b[0m\u001b[0;34m)\u001b[0m\u001b[0;34m\u001b[0m\u001b[0m\n\u001b[0m\u001b[1;32m      4\u001b[0m \u001b[0;34m\u001b[0m\u001b[0m\n\u001b[1;32m      5\u001b[0m \u001b[0mdf1\u001b[0m \u001b[0;34m=\u001b[0m \u001b[0mSimulated_data\u001b[0m\u001b[0;34m.\u001b[0m\u001b[0miloc\u001b[0m\u001b[0;34m[\u001b[0m\u001b[0;34m:\u001b[0m\u001b[0;34m,\u001b[0m\u001b[0;34m:\u001b[0m\u001b[0;34m]\u001b[0m\u001b[0;34m\u001b[0m\u001b[0m\n",
            "\u001b[0;32m/usr/local/lib/python2.7/dist-packages/pandas/io/parsers.pyc\u001b[0m in \u001b[0;36mparser_f\u001b[0;34m(filepath_or_buffer, sep, delimiter, header, names, index_col, usecols, squeeze, prefix, mangle_dupe_cols, dtype, engine, converters, true_values, false_values, skipinitialspace, skiprows, skipfooter, nrows, na_values, keep_default_na, na_filter, verbose, skip_blank_lines, parse_dates, infer_datetime_format, keep_date_col, date_parser, dayfirst, iterator, chunksize, compression, thousands, decimal, lineterminator, quotechar, quoting, doublequote, escapechar, comment, encoding, dialect, tupleize_cols, error_bad_lines, warn_bad_lines, delim_whitespace, low_memory, memory_map, float_precision)\u001b[0m\n\u001b[1;32m    700\u001b[0m                     skip_blank_lines=skip_blank_lines)\n\u001b[1;32m    701\u001b[0m \u001b[0;34m\u001b[0m\u001b[0m\n\u001b[0;32m--> 702\u001b[0;31m         \u001b[0;32mreturn\u001b[0m \u001b[0m_read\u001b[0m\u001b[0;34m(\u001b[0m\u001b[0mfilepath_or_buffer\u001b[0m\u001b[0;34m,\u001b[0m \u001b[0mkwds\u001b[0m\u001b[0;34m)\u001b[0m\u001b[0;34m\u001b[0m\u001b[0m\n\u001b[0m\u001b[1;32m    703\u001b[0m \u001b[0;34m\u001b[0m\u001b[0m\n\u001b[1;32m    704\u001b[0m     \u001b[0mparser_f\u001b[0m\u001b[0;34m.\u001b[0m\u001b[0m__name__\u001b[0m \u001b[0;34m=\u001b[0m \u001b[0mname\u001b[0m\u001b[0;34m\u001b[0m\u001b[0m\n",
            "\u001b[0;32m/usr/local/lib/python2.7/dist-packages/pandas/io/parsers.pyc\u001b[0m in \u001b[0;36m_read\u001b[0;34m(filepath_or_buffer, kwds)\u001b[0m\n\u001b[1;32m    427\u001b[0m \u001b[0;34m\u001b[0m\u001b[0m\n\u001b[1;32m    428\u001b[0m     \u001b[0;31m# Create the parser.\u001b[0m\u001b[0;34m\u001b[0m\u001b[0;34m\u001b[0m\u001b[0m\n\u001b[0;32m--> 429\u001b[0;31m     \u001b[0mparser\u001b[0m \u001b[0;34m=\u001b[0m \u001b[0mTextFileReader\u001b[0m\u001b[0;34m(\u001b[0m\u001b[0mfilepath_or_buffer\u001b[0m\u001b[0;34m,\u001b[0m \u001b[0;34m**\u001b[0m\u001b[0mkwds\u001b[0m\u001b[0;34m)\u001b[0m\u001b[0;34m\u001b[0m\u001b[0m\n\u001b[0m\u001b[1;32m    430\u001b[0m \u001b[0;34m\u001b[0m\u001b[0m\n\u001b[1;32m    431\u001b[0m     \u001b[0;32mif\u001b[0m \u001b[0mchunksize\u001b[0m \u001b[0;32mor\u001b[0m \u001b[0miterator\u001b[0m\u001b[0;34m:\u001b[0m\u001b[0;34m\u001b[0m\u001b[0m\n",
            "\u001b[0;32m/usr/local/lib/python2.7/dist-packages/pandas/io/parsers.pyc\u001b[0m in \u001b[0;36m__init__\u001b[0;34m(self, f, engine, **kwds)\u001b[0m\n\u001b[1;32m    893\u001b[0m             \u001b[0mself\u001b[0m\u001b[0;34m.\u001b[0m\u001b[0moptions\u001b[0m\u001b[0;34m[\u001b[0m\u001b[0;34m'has_index_names'\u001b[0m\u001b[0;34m]\u001b[0m \u001b[0;34m=\u001b[0m \u001b[0mkwds\u001b[0m\u001b[0;34m[\u001b[0m\u001b[0;34m'has_index_names'\u001b[0m\u001b[0;34m]\u001b[0m\u001b[0;34m\u001b[0m\u001b[0m\n\u001b[1;32m    894\u001b[0m \u001b[0;34m\u001b[0m\u001b[0m\n\u001b[0;32m--> 895\u001b[0;31m         \u001b[0mself\u001b[0m\u001b[0;34m.\u001b[0m\u001b[0m_make_engine\u001b[0m\u001b[0;34m(\u001b[0m\u001b[0mself\u001b[0m\u001b[0;34m.\u001b[0m\u001b[0mengine\u001b[0m\u001b[0;34m)\u001b[0m\u001b[0;34m\u001b[0m\u001b[0m\n\u001b[0m\u001b[1;32m    896\u001b[0m \u001b[0;34m\u001b[0m\u001b[0m\n\u001b[1;32m    897\u001b[0m     \u001b[0;32mdef\u001b[0m \u001b[0mclose\u001b[0m\u001b[0;34m(\u001b[0m\u001b[0mself\u001b[0m\u001b[0;34m)\u001b[0m\u001b[0;34m:\u001b[0m\u001b[0;34m\u001b[0m\u001b[0m\n",
            "\u001b[0;32m/usr/local/lib/python2.7/dist-packages/pandas/io/parsers.pyc\u001b[0m in \u001b[0;36m_make_engine\u001b[0;34m(self, engine)\u001b[0m\n\u001b[1;32m   1120\u001b[0m     \u001b[0;32mdef\u001b[0m \u001b[0m_make_engine\u001b[0m\u001b[0;34m(\u001b[0m\u001b[0mself\u001b[0m\u001b[0;34m,\u001b[0m \u001b[0mengine\u001b[0m\u001b[0;34m=\u001b[0m\u001b[0;34m'c'\u001b[0m\u001b[0;34m)\u001b[0m\u001b[0;34m:\u001b[0m\u001b[0;34m\u001b[0m\u001b[0m\n\u001b[1;32m   1121\u001b[0m         \u001b[0;32mif\u001b[0m \u001b[0mengine\u001b[0m \u001b[0;34m==\u001b[0m \u001b[0;34m'c'\u001b[0m\u001b[0;34m:\u001b[0m\u001b[0;34m\u001b[0m\u001b[0m\n\u001b[0;32m-> 1122\u001b[0;31m             \u001b[0mself\u001b[0m\u001b[0;34m.\u001b[0m\u001b[0m_engine\u001b[0m \u001b[0;34m=\u001b[0m \u001b[0mCParserWrapper\u001b[0m\u001b[0;34m(\u001b[0m\u001b[0mself\u001b[0m\u001b[0;34m.\u001b[0m\u001b[0mf\u001b[0m\u001b[0;34m,\u001b[0m \u001b[0;34m**\u001b[0m\u001b[0mself\u001b[0m\u001b[0;34m.\u001b[0m\u001b[0moptions\u001b[0m\u001b[0;34m)\u001b[0m\u001b[0;34m\u001b[0m\u001b[0m\n\u001b[0m\u001b[1;32m   1123\u001b[0m         \u001b[0;32melse\u001b[0m\u001b[0;34m:\u001b[0m\u001b[0;34m\u001b[0m\u001b[0m\n\u001b[1;32m   1124\u001b[0m             \u001b[0;32mif\u001b[0m \u001b[0mengine\u001b[0m \u001b[0;34m==\u001b[0m \u001b[0;34m'python'\u001b[0m\u001b[0;34m:\u001b[0m\u001b[0;34m\u001b[0m\u001b[0m\n",
            "\u001b[0;32m/usr/local/lib/python2.7/dist-packages/pandas/io/parsers.pyc\u001b[0m in \u001b[0;36m__init__\u001b[0;34m(self, src, **kwds)\u001b[0m\n\u001b[1;32m   1851\u001b[0m         \u001b[0mkwds\u001b[0m\u001b[0;34m[\u001b[0m\u001b[0;34m'usecols'\u001b[0m\u001b[0;34m]\u001b[0m \u001b[0;34m=\u001b[0m \u001b[0mself\u001b[0m\u001b[0;34m.\u001b[0m\u001b[0musecols\u001b[0m\u001b[0;34m\u001b[0m\u001b[0m\n\u001b[1;32m   1852\u001b[0m \u001b[0;34m\u001b[0m\u001b[0m\n\u001b[0;32m-> 1853\u001b[0;31m         \u001b[0mself\u001b[0m\u001b[0;34m.\u001b[0m\u001b[0m_reader\u001b[0m \u001b[0;34m=\u001b[0m \u001b[0mparsers\u001b[0m\u001b[0;34m.\u001b[0m\u001b[0mTextReader\u001b[0m\u001b[0;34m(\u001b[0m\u001b[0msrc\u001b[0m\u001b[0;34m,\u001b[0m \u001b[0;34m**\u001b[0m\u001b[0mkwds\u001b[0m\u001b[0;34m)\u001b[0m\u001b[0;34m\u001b[0m\u001b[0m\n\u001b[0m\u001b[1;32m   1854\u001b[0m         \u001b[0mself\u001b[0m\u001b[0;34m.\u001b[0m\u001b[0munnamed_cols\u001b[0m \u001b[0;34m=\u001b[0m \u001b[0mself\u001b[0m\u001b[0;34m.\u001b[0m\u001b[0m_reader\u001b[0m\u001b[0;34m.\u001b[0m\u001b[0munnamed_cols\u001b[0m\u001b[0;34m\u001b[0m\u001b[0m\n\u001b[1;32m   1855\u001b[0m \u001b[0;34m\u001b[0m\u001b[0m\n",
            "\u001b[0;32mpandas/_libs/parsers.pyx\u001b[0m in \u001b[0;36mpandas._libs.parsers.TextReader.__cinit__\u001b[0;34m()\u001b[0m\n",
            "\u001b[0;32mpandas/_libs/parsers.pyx\u001b[0m in \u001b[0;36mpandas._libs.parsers.TextReader._setup_parser_source\u001b[0;34m()\u001b[0m\n",
            "\u001b[0;31mIOError\u001b[0m: [Errno 2] File Sim_data_Pauli_wide_range2.csv does not exist: 'Sim_data_Pauli_wide_range2.csv'"
          ]
        }
      ]
    },
    {
      "cell_type": "code",
      "metadata": {
        "id": "rjoVouoZK4Ht",
        "colab": {
          "base_uri": "https://localhost:8080/"
        },
        "outputId": "0ef83523-9c66-40f3-fcb3-82ecc2ee8e1a"
      },
      "source": [
        "print(df_all.iloc[0:2,8])\n",
        "print(df_all.iloc[50000:10005,-1])\n",
        "#print(test_data.iloc[0:2,0:9])\n",
        "#print(test_data.iloc[0:5,-1])\n",
        "\n"
      ],
      "execution_count": null,
      "outputs": [
        {
          "output_type": "stream",
          "text": [
            "1    0.172862\n",
            "2    0.016144\n",
            "Name: 8, dtype: float64\n",
            "Series([], Name: Labels, dtype: float64)\n"
          ],
          "name": "stdout"
        }
      ]
    },
    {
      "cell_type": "markdown",
      "metadata": {
        "id": "R3N6zDBwujYM"
      },
      "source": [
        "Training and testing on the simulated data"
      ]
    },
    {
      "cell_type": "code",
      "metadata": {
        "id": "HuBRDuh3CvZi",
        "colab": {
          "base_uri": "https://localhost:8080/"
        },
        "outputId": "e92bac02-adb1-485b-dff1-0a8a519f789e"
      },
      "source": [
        "X = df_all.iloc[:, [2,5,8]].values\n",
        "y = df_all.iloc[:, -1].values\n",
        "\n",
        "X.shape"
      ],
      "execution_count": null,
      "outputs": [
        {
          "output_type": "execute_result",
          "data": {
            "text/plain": [
              "(57344, 3)"
            ]
          },
          "metadata": {
            "tags": []
          },
          "execution_count": 183
        }
      ]
    },
    {
      "cell_type": "code",
      "metadata": {
        "id": "_an1vOypu7Dv"
      },
      "source": [
        "from sklearn.model_selection import train_test_split\n",
        "X_train, X_test, y_train, y_test = train_test_split(X, y, test_size=0.4, random_state=101 )"
      ],
      "execution_count": null,
      "outputs": []
    },
    {
      "cell_type": "code",
      "metadata": {
        "id": "tlFQh62uu74g"
      },
      "source": [
        "from sklearn.linear_model import LinearRegression\n",
        "lm = LinearRegression()"
      ],
      "execution_count": null,
      "outputs": []
    },
    {
      "cell_type": "code",
      "metadata": {
        "id": "vpUYvHzmvGAY",
        "colab": {
          "base_uri": "https://localhost:8080/"
        },
        "outputId": "b2735873-5451-49c8-e62a-02d411ee3e79"
      },
      "source": [
        "lm.fit(X_train, y_train)\n",
        "print(lm.intercept_)\n",
        "lm.coef_\n",
        "predictions = lm.predict(X_test)"
      ],
      "execution_count": null,
      "outputs": [
        {
          "output_type": "stream",
          "text": [
            "-0.1650732749958751\n"
          ],
          "name": "stdout"
        }
      ]
    },
    {
      "cell_type": "code",
      "metadata": {
        "id": "w5j4L30JvOIW",
        "colab": {
          "base_uri": "https://localhost:8080/",
          "height": 286
        },
        "outputId": "30a53b11-5032-4d30-8ecf-479a8d089483"
      },
      "source": [
        "plt.scatter(y_test,predictions)\n",
        "# plt.plot(y_test,predictions, color='r')"
      ],
      "execution_count": null,
      "outputs": [
        {
          "output_type": "execute_result",
          "data": {
            "text/plain": [
              "<matplotlib.collections.PathCollection at 0x7f6e1a369510>"
            ]
          },
          "metadata": {
            "tags": []
          },
          "execution_count": 187
        },
        {
          "output_type": "display_data",
          "data": {
            "image/png": "[encoded data removed]",
            "text/plain": [
              "<Figure size 432x288 with 1 Axes>"
            ]
          },
          "metadata": {
            "tags": [],
            "needs_background": "light"
          }
        }
      ]
    },
    {
      "cell_type": "code",
      "metadata": {
        "id": "2qATqmP-vn84",
        "colab": {
          "base_uri": "https://localhost:8080/",
          "height": 286
        },
        "outputId": "aaf8bf5d-4b94-4545-fd16-788c08594fa6"
      },
      "source": [
        "sns.distplot((y_test-predictions))"
      ],
      "execution_count": null,
      "outputs": [
        {
          "output_type": "execute_result",
          "data": {
            "text/plain": [
              "<matplotlib.axes._subplots.AxesSubplot at 0x7f6e1a3a4990>"
            ]
          },
          "metadata": {
            "tags": []
          },
          "execution_count": 188
        },
        {
          "output_type": "display_data",
          "data": {
            "image/png": "[encoded data removed]",
            "text/plain": [
              "<Figure size 432x288 with 1 Axes>"
            ]
          },
          "metadata": {
            "tags": [],
            "needs_background": "light"
          }
        }
      ]
    },
    {
      "cell_type": "code",
      "metadata": {
        "id": "5iqI1mrqvYf3",
        "colab": {
          "base_uri": "https://localhost:8080/"
        },
        "outputId": "4e8648f8-3010-4976-e7ca-4f5f81be56d4"
      },
      "source": [
        "from sklearn import metrics\n",
        "mae_1 = metrics.mean_absolute_error(y_test,predictions)\n",
        "mse_1 = metrics.mean_squared_error(y_test,predictions)\n",
        "rmse_1 = np.sqrt(metrics.mean_squared_error(y_test,predictions))\n",
        "r2_1 = metrics.r2_score(y_test,predictions) # best is 1 \n",
        "r2_1"
      ],
      "execution_count": null,
      "outputs": [
        {
          "output_type": "execute_result",
          "data": {
            "text/plain": [
              "0.7823257551911539"
            ]
          },
          "metadata": {
            "tags": []
          },
          "execution_count": 189
        }
      ]
    },
    {
      "cell_type": "markdown",
      "metadata": {
        "id": "gG3kncMlub4U"
      },
      "source": [
        "Training and testing on the experimental data"
      ]
    },
    {
      "cell_type": "code",
      "metadata": {
        "id": "kU4YuBDqIRMC"
      },
      "source": [
        "X = test_data.iloc[:, 0:9].values\n",
        "y = test_data.iloc[:, -2].values\n",
        "\n"
      ],
      "execution_count": null,
      "outputs": []
    },
    {
      "cell_type": "code",
      "metadata": {
        "id": "3pkt0de_itPj"
      },
      "source": [
        "from sklearn.model_selection import train_test_split"
      ],
      "execution_count": null,
      "outputs": []
    },
    {
      "cell_type": "code",
      "metadata": {
        "id": "8s2G0SMwitPk"
      },
      "source": [
        "X_train, X_test, y_train, y_test = train_test_split(X, y, test_size=0.4, random_state=101 )"
      ],
      "execution_count": null,
      "outputs": []
    },
    {
      "cell_type": "code",
      "metadata": {
        "id": "UpDW0CZFitPl"
      },
      "source": [
        "from sklearn.linear_model import LinearRegression"
      ],
      "execution_count": null,
      "outputs": []
    },
    {
      "cell_type": "code",
      "metadata": {
        "id": "PBg9ozPfitPm"
      },
      "source": [
        "lm = LinearRegression()"
      ],
      "execution_count": null,
      "outputs": []
    },
    {
      "cell_type": "code",
      "metadata": {
        "id": "-mgjjg70itPn",
        "colab": {
          "base_uri": "https://localhost:8080/",
          "height": 51
        },
        "outputId": "a428e884-3af4-4aa0-97f7-3bb68a94a513"
      },
      "source": [
        "lm.fit(X_train, y_train)"
      ],
      "execution_count": null,
      "outputs": [
        {
          "output_type": "execute_result",
          "data": {
            "text/plain": [
              "LinearRegression(copy_X=True, fit_intercept=True, n_jobs=None,\n",
              "         normalize=False)"
            ]
          },
          "metadata": {
            "tags": []
          },
          "execution_count": 292
        }
      ]
    },
    {
      "cell_type": "code",
      "metadata": {
        "id": "AYdfmbpjitPp",
        "colab": {
          "base_uri": "https://localhost:8080/",
          "height": 34
        },
        "outputId": "c11d3d18-4115-443f-90c0-cf75be07fa1c"
      },
      "source": [
        "print(lm.intercept_)"
      ],
      "execution_count": null,
      "outputs": [
        {
          "output_type": "stream",
          "text": [
            "-0.8772463596145947\n"
          ],
          "name": "stdout"
        }
      ]
    },
    {
      "cell_type": "code",
      "metadata": {
        "id": "ArV-3JlwitPr",
        "colab": {
          "base_uri": "https://localhost:8080/",
          "height": 51
        },
        "outputId": "7695b63d-3595-40c6-a2b6-cf962470f0fc"
      },
      "source": [
        "lm.coef_"
      ],
      "execution_count": null,
      "outputs": [
        {
          "output_type": "execute_result",
          "data": {
            "text/plain": [
              "array([ 1.303, -1.226, -0.351,  0.014, -0.236, -0.041, -0.672, -0.493,\n",
              "        0.796])"
            ]
          },
          "metadata": {
            "tags": []
          },
          "execution_count": 294
        }
      ]
    },
    {
      "cell_type": "code",
      "metadata": {
        "id": "aiudbd6SitPt"
      },
      "source": [
        "predictions = lm.predict(X_test)"
      ],
      "execution_count": null,
      "outputs": []
    },
    {
      "cell_type": "code",
      "metadata": {
        "id": "BjjXO9VpitPx",
        "colab": {
          "base_uri": "https://localhost:8080/",
          "height": 286
        },
        "outputId": "eb7c2fc2-fb07-43f7-fbf8-368e7f47e329"
      },
      "source": [
        "plt.scatter(y_test,predictions)\n",
        "# plt.plot(y_test,predictions, color='r')"
      ],
      "execution_count": null,
      "outputs": [
        {
          "output_type": "execute_result",
          "data": {
            "text/plain": [
              "<matplotlib.collections.PathCollection at 0x7fdaf1715f10>"
            ]
          },
          "metadata": {
            "tags": []
          },
          "execution_count": 296
        },
        {
          "output_type": "display_data",
          "data": {
            "image/png": "[encoded data removed]",
            "text/plain": [
              "<Figure size 432x288 with 1 Axes>"
            ]
          },
          "metadata": {
            "tags": []
          }
        }
      ]
    },
    {
      "cell_type": "code",
      "metadata": {
        "id": "D5EbInQPitPz",
        "colab": {
          "base_uri": "https://localhost:8080/",
          "height": 286
        },
        "outputId": "6b0d0030-0de7-48ba-88b1-2925754c3f51"
      },
      "source": [
        "sns.distplot((y_test-predictions))"
      ],
      "execution_count": null,
      "outputs": [
        {
          "output_type": "execute_result",
          "data": {
            "text/plain": [
              "<matplotlib.axes._subplots.AxesSubplot at 0x7fdaf17d0f90>"
            ]
          },
          "metadata": {
            "tags": []
          },
          "execution_count": 297
        },
        {
          "output_type": "display_data",
          "data": {
            "image/png": "[encoded data removed]",
            "text/plain": [
              "<Figure size 432x288 with 1 Axes>"
            ]
          },
          "metadata": {
            "tags": []
          }
        }
      ]
    },
    {
      "cell_type": "code",
      "metadata": {
        "id": "dSrh-_y3itP0"
      },
      "source": [
        "from sklearn import metrics"
      ],
      "execution_count": null,
      "outputs": []
    },
    {
      "cell_type": "code",
      "metadata": {
        "id": "0wlbvMVXitP1",
        "colab": {
          "base_uri": "https://localhost:8080/",
          "height": 34
        },
        "outputId": "5cd1bb96-7a27-4940-f188-78df2cec37c4"
      },
      "source": [
        "mae_1 = metrics.mean_absolute_error(y_test,predictions)\n",
        "mse_1 = metrics.mean_squared_error(y_test,predictions)\n",
        "rmse_1 = np.sqrt(metrics.mean_squared_error(y_test,predictions))\n",
        "r2_1 = metrics.r2_score(y_test,predictions) # best is 1 \n",
        "r2_1"
      ],
      "execution_count": null,
      "outputs": [
        {
          "output_type": "execute_result",
          "data": {
            "text/plain": [
              "0.7257395491400269"
            ]
          },
          "metadata": {
            "tags": []
          },
          "execution_count": 299
        }
      ]
    },
    {
      "cell_type": "markdown",
      "metadata": {
        "id": "JudjTc-MundM"
      },
      "source": [
        "Training on the simulated data and testing on the experimental data"
      ]
    },
    {
      "cell_type": "code",
      "metadata": {
        "id": "rYdHQ9SwUYd7"
      },
      "source": [
        "X_train = df_all.iloc[:, 0:9].values\n",
        "y_train = df_all.iloc[:, -1].values\n",
        "\n",
        "X_test = test_data.iloc[:,0:9].values\n",
        "y_test = test_data.iloc[:,-1].values"
      ],
      "execution_count": null,
      "outputs": []
    },
    {
      "cell_type": "code",
      "metadata": {
        "id": "OB1oAF8jwfMQ"
      },
      "source": [
        "from sklearn.linear_model import LinearRegression\n",
        "lm = LinearRegression()"
      ],
      "execution_count": null,
      "outputs": []
    },
    {
      "cell_type": "code",
      "metadata": {
        "id": "0O5JGUQOwivu",
        "colab": {
          "base_uri": "https://localhost:8080/",
          "height": 34
        },
        "outputId": "3d5599a1-599e-40b3-c578-ee21dd72b7cb"
      },
      "source": [
        "lm.fit(X_train, y_train)\n",
        "print(lm.intercept_)\n",
        "lm.coef_\n",
        "predictions = lm.predict(X_test)"
      ],
      "execution_count": null,
      "outputs": [
        {
          "output_type": "stream",
          "text": [
            "-1.268873819500254\n"
          ],
          "name": "stdout"
        }
      ]
    },
    {
      "cell_type": "code",
      "metadata": {
        "id": "ChIomvDVwmkt",
        "colab": {
          "base_uri": "https://localhost:8080/",
          "height": 286
        },
        "outputId": "7fa3bd5f-8cab-41a3-a4bf-2001f81ef8b7"
      },
      "source": [
        "plt.scatter(y_test,predictions)\n",
        "# plt.plot(y_test,predictions, color='r')"
      ],
      "execution_count": null,
      "outputs": [
        {
          "output_type": "execute_result",
          "data": {
            "text/plain": [
              "<matplotlib.collections.PathCollection at 0x7fdaf15a9350>"
            ]
          },
          "metadata": {
            "tags": []
          },
          "execution_count": 303
        },
        {
          "output_type": "display_data",
          "data": {
            "image/png": "[encoded data removed]",
            "text/plain": [
              "<Figure size 432x288 with 1 Axes>"
            ]
          },
          "metadata": {
            "tags": []
          }
        }
      ]
    },
    {
      "cell_type": "code",
      "metadata": {
        "id": "WdM00USKwqAO",
        "colab": {
          "base_uri": "https://localhost:8080/",
          "height": 286
        },
        "outputId": "00c5e39d-907d-4752-e088-2ecaf6e7b693"
      },
      "source": [
        "sns.distplot((y_test-predictions))"
      ],
      "execution_count": null,
      "outputs": [
        {
          "output_type": "execute_result",
          "data": {
            "text/plain": [
              "<matplotlib.axes._subplots.AxesSubplot at 0x7fdaf15a9210>"
            ]
          },
          "metadata": {
            "tags": []
          },
          "execution_count": 304
        },
        {
          "output_type": "display_data",
          "data": {
            "image/png": "[encoded data removed]",
            "text/plain": [
              "<Figure size 432x288 with 1 Axes>"
            ]
          },
          "metadata": {
            "tags": []
          }
        }
      ]
    },
    {
      "cell_type": "code",
      "metadata": {
        "id": "2LOsdftOwtDf",
        "colab": {
          "base_uri": "https://localhost:8080/",
          "height": 34
        },
        "outputId": "d0ac60a7-d0cc-4104-aedd-13a1d10dd166"
      },
      "source": [
        "from sklearn import metrics\n",
        "mae_1 = metrics.mean_absolute_error(y_test,predictions)\n",
        "mse_1 = metrics.mean_squared_error(y_test,predictions)\n",
        "rmse_1 = np.sqrt(metrics.mean_squared_error(y_test,predictions))\n",
        "r2_1 = metrics.r2_score(y_test,predictions) # best is 1 \n",
        "r2_1"
      ],
      "execution_count": null,
      "outputs": [
        {
          "output_type": "execute_result",
          "data": {
            "text/plain": [
              "-29.36622957664495"
            ]
          },
          "metadata": {
            "tags": []
          },
          "execution_count": 305
        }
      ]
    },
    {
      "cell_type": "markdown",
      "metadata": {
        "id": "ooO9w5XqH082"
      },
      "source": [
        "Concatenating and Shuffling the simulated data and the experimental data. \n",
        "Saw it [here](https://www.freecodecamp.org/news/what-to-do-when-your-training-and-testing-data-come-from-different-distributions-d89674c6ecd8/) and [here](https://www.youtube.com/watch?v=sfk5h0yC67o).\n",
        "\n",
        "As two datasets are coming from different distribution, the idea is to take a part of the experimental data (60%) and train them along with the simulated data. Then test the remaining 40% data."
      ]
    },
    {
      "cell_type": "code",
      "metadata": {
        "id": "7WFrbiAqlcZ8"
      },
      "source": [
        "Simulated_data = pd.read_csv('Sim_data_Pauli_concentrated.csv')\n",
        "test_data = pd.read_csv('experimental_data.csv', header=None)\n",
        "import sklearn as sk\n",
        "Shuffled_test_data = sk.utils.shuffle(test_data) # Shuffle the experimental data before partitioning. A good shuffling is necessary for a better result. Maybe shuffle a few times to maximise the entropy.\n",
        "\n"
      ],
      "execution_count": null,
      "outputs": []
    },
    {
      "cell_type": "code",
      "metadata": {
        "id": "N1UhSKynpXBM"
      },
      "source": [
        "df1 = Simulated_data.iloc[:,:]\n",
        "df1.drop(\"Unnamed: 0\", axis=1, inplace=True)\n",
        "df1 = df1.rename(columns = {'0':0, '1':1, '2':2, '3':3, '4':4, '5':5, '6':6, '7':7, '8':8, 'Labels':9}) ## This step is needed to make the index of two columns uniform\n",
        "\n",
        "df2 = Shuffled_test_data.iloc[0:60,0:10] # Taking 60 datapoints for training\n"
      ],
      "execution_count": null,
      "outputs": []
    },
    {
      "cell_type": "code",
      "metadata": {
        "id": "d30WWODppagx",
        "colab": {
          "base_uri": "https://localhost:8080/",
          "height": 306
        },
        "outputId": "2af70549-64c5-4000-8f99-403d902edc95"
      },
      "source": [
        "frame = [df1, df2]\n",
        "Concatenated_data = pd.concat(frame,ignore_index=True,axis = 0)\n",
        "\n",
        "Tst_set = Shuffled_test_data.iloc[60:100,0:10]\n",
        "Test_set = Tst_set.reset_index(drop=True)\n",
        "\n",
        "\n",
        "print(df1.iloc[0:2,:])\n",
        "print(df2.iloc[0:2,:])\n",
        "print(df2.shape)\n",
        "print(Test_set.iloc[0:2,:])\n",
        "print(Test_set.shape)"
      ],
      "execution_count": null,
      "outputs": [
        {
          "output_type": "stream",
          "text": [
            "          0         1         2  ...         7         8         9\n",
            "0  0.218618 -0.112468 -0.762967  ... -0.094856  0.760232  0.529036\n",
            "1  0.217124 -0.117067 -0.764751  ... -0.068510  0.765381  0.501993\n",
            "\n",
            "[2 rows x 10 columns]\n",
            "          0         1        2         3  ...        6         7        8        9\n",
            "27  0.23562 -0.035152 -0.81840  0.163740  ... -0.13568  0.083368  0.86055  0.42212\n",
            "44  0.33759 -0.089197 -0.80756  0.024776  ... -0.16744 -0.056968  0.87675  0.71903\n",
            "\n",
            "[2 rows x 10 columns]\n",
            "(60, 10)\n",
            "         0         1        2        3  ...        6         7        8        9\n",
            "0  0.25356 -0.093096 -0.61976  0.31602  ... -0.15309  0.022745  0.71347  0.38274\n",
            "1  0.30581 -0.113100 -0.88809  0.13159  ... -0.20794  0.094652  0.96733  0.62941\n",
            "\n",
            "[2 rows x 10 columns]\n",
            "(40, 10)\n"
          ],
          "name": "stdout"
        }
      ]
    },
    {
      "cell_type": "code",
      "metadata": {
        "id": "Qsry3_lrltNO"
      },
      "source": [
        "X_train = Concatenated_data.iloc[:,0:9].values\n",
        "y_train = Concatenated_data.iloc[:,-1].values\n",
        "\n",
        "X_test = Test_set.iloc[:,0:9].values\n",
        "y_test = Test_set.iloc[:,-1].values\n"
      ],
      "execution_count": null,
      "outputs": []
    },
    {
      "cell_type": "code",
      "metadata": {
        "id": "f7k0RX_3sIQU"
      },
      "source": [
        "from sklearn.linear_model import LinearRegression\n",
        "lm = LinearRegression()"
      ],
      "execution_count": null,
      "outputs": []
    },
    {
      "cell_type": "code",
      "metadata": {
        "id": "dR87VKSssI_Y",
        "colab": {
          "base_uri": "https://localhost:8080/",
          "height": 34
        },
        "outputId": "547c41ca-0e99-48cb-aab0-4efa3092bdbf"
      },
      "source": [
        "lm.fit(X_train, y_train)\n",
        "print(lm.intercept_)\n",
        "lm.coef_\n",
        "predictions = lm.predict(X_test)"
      ],
      "execution_count": null,
      "outputs": [
        {
          "output_type": "stream",
          "text": [
            "-1.26557341799249\n"
          ],
          "name": "stdout"
        }
      ]
    },
    {
      "cell_type": "code",
      "metadata": {
        "id": "PA-j232asPF1",
        "colab": {
          "base_uri": "https://localhost:8080/",
          "height": 286
        },
        "outputId": "95797d67-cfe3-447e-c2d5-98de7183a73f"
      },
      "source": [
        "plt.scatter(y_test,predictions)\n",
        "# plt.plot(y_test,predictions, color='r')"
      ],
      "execution_count": null,
      "outputs": [
        {
          "output_type": "execute_result",
          "data": {
            "text/plain": [
              "<matplotlib.collections.PathCollection at 0x7f2773acc090>"
            ]
          },
          "metadata": {
            "tags": []
          },
          "execution_count": 136
        },
        {
          "output_type": "display_data",
          "data": {
            "image/png": "[encoded data removed]",
            "text/plain": [
              "<Figure size 432x288 with 1 Axes>"
            ]
          },
          "metadata": {
            "tags": []
          }
        }
      ]
    },
    {
      "cell_type": "code",
      "metadata": {
        "id": "inuBMDICs1nn",
        "colab": {
          "base_uri": "https://localhost:8080/",
          "height": 286
        },
        "outputId": "8f63de50-12b8-4144-d8f3-6c0f929e91de"
      },
      "source": [
        "sns.distplot((y_test-predictions))"
      ],
      "execution_count": null,
      "outputs": [
        {
          "output_type": "execute_result",
          "data": {
            "text/plain": [
              "<matplotlib.axes._subplots.AxesSubplot at 0x7f2773ad2910>"
            ]
          },
          "metadata": {
            "tags": []
          },
          "execution_count": 137
        },
        {
          "output_type": "display_data",
          "data": {
            "image/png": "[encoded data removed]",
            "text/plain": [
              "<Figure size 432x288 with 1 Axes>"
            ]
          },
          "metadata": {
            "tags": []
          }
        }
      ]
    },
    {
      "cell_type": "code",
      "metadata": {
        "id": "qtVptdH2s9D3",
        "colab": {
          "base_uri": "https://localhost:8080/",
          "height": 34
        },
        "outputId": "ff30fe4b-5ec4-4290-a284-f447b10bcfd9"
      },
      "source": [
        "from sklearn import metrics\n",
        "mae_1 = metrics.mean_absolute_error(y_test,predictions)\n",
        "mse_1 = metrics.mean_squared_error(y_test,predictions)\n",
        "rmse_1 = np.sqrt(metrics.mean_squared_error(y_test,predictions))\n",
        "r2_1 = metrics.r2_score(y_test,predictions) # best is 1 \n",
        "r2_1\n"
      ],
      "execution_count": null,
      "outputs": [
        {
          "output_type": "execute_result",
          "data": {
            "text/plain": [
              "0.5816550611377753"
            ]
          },
          "metadata": {
            "tags": []
          },
          "execution_count": 138
        }
      ]
    },
    {
      "cell_type": "markdown",
      "metadata": {
        "id": "69Ey17DYitP5"
      },
      "source": [
        "## Polynomial regression with Paulis"
      ]
    },
    {
      "cell_type": "code",
      "metadata": {
        "id": "5jL1tNB-itP6"
      },
      "source": [
        "from sklearn.metrics import mean_squared_error, r2_score\n",
        "from sklearn.preprocessing import PolynomialFeatures"
      ],
      "execution_count": null,
      "outputs": []
    },
    {
      "cell_type": "markdown",
      "metadata": {
        "id": "oSVL6qNXsTLU"
      },
      "source": [
        "### Degree 2"
      ]
    },
    {
      "cell_type": "code",
      "metadata": {
        "id": "hOdMRSrgitP9"
      },
      "source": [
        "polynomial_features= PolynomialFeatures(degree=2)"
      ],
      "execution_count": null,
      "outputs": []
    },
    {
      "cell_type": "code",
      "metadata": {
        "id": "P-jRcUX8itP-"
      },
      "source": [
        "x_poly = polynomial_features.fit_transform(X)"
      ],
      "execution_count": null,
      "outputs": []
    },
    {
      "cell_type": "code",
      "metadata": {
        "id": "OmL04i8KitQA",
        "colab": {
          "base_uri": "https://localhost:8080/"
        },
        "outputId": "e32d81e6-9d5b-4649-d977-2ffc38f05286"
      },
      "source": [
        "X.shape"
      ],
      "execution_count": null,
      "outputs": [
        {
          "output_type": "execute_result",
          "data": {
            "text/plain": [
              "(57344, 3)"
            ]
          },
          "metadata": {
            "tags": []
          },
          "execution_count": 205
        }
      ]
    },
    {
      "cell_type": "code",
      "metadata": {
        "id": "aOqYnnmNitQR",
        "colab": {
          "base_uri": "https://localhost:8080/"
        },
        "outputId": "71365431-714f-456d-9f15-8724c9847e2a"
      },
      "source": [
        "x_poly.shape"
      ],
      "execution_count": null,
      "outputs": [
        {
          "output_type": "execute_result",
          "data": {
            "text/plain": [
              "(57344, 10)"
            ]
          },
          "metadata": {
            "tags": []
          },
          "execution_count": 206
        }
      ]
    },
    {
      "cell_type": "code",
      "metadata": {
        "id": "ca78WR8VitQS"
      },
      "source": [
        "X_train, X_test, y_train, y_test = train_test_split(x_poly, y, test_size=0.4, random_state=101 )"
      ],
      "execution_count": null,
      "outputs": []
    },
    {
      "cell_type": "code",
      "metadata": {
        "id": "VpJGDjkoitQS"
      },
      "source": [
        "model = LinearRegression()"
      ],
      "execution_count": null,
      "outputs": []
    },
    {
      "cell_type": "code",
      "metadata": {
        "id": "3beHwavUitQT",
        "colab": {
          "base_uri": "https://localhost:8080/"
        },
        "outputId": "0a862750-1e8b-4369-a187-700b3e4e2514"
      },
      "source": [
        "model.fit(X_train, y_train)"
      ],
      "execution_count": null,
      "outputs": [
        {
          "output_type": "execute_result",
          "data": {
            "text/plain": [
              "LinearRegression(copy_X=True, fit_intercept=True, n_jobs=None,\n",
              "         normalize=False)"
            ]
          },
          "metadata": {
            "tags": []
          },
          "execution_count": 209
        }
      ]
    },
    {
      "cell_type": "code",
      "metadata": {
        "id": "cE7luLopitQU"
      },
      "source": [
        "y_poly_pred = model.predict(X_test)"
      ],
      "execution_count": null,
      "outputs": []
    },
    {
      "cell_type": "code",
      "metadata": {
        "id": "sprVo-jEitQV"
      },
      "source": [
        "predictions2 = y_poly_pred"
      ],
      "execution_count": null,
      "outputs": []
    },
    {
      "cell_type": "code",
      "metadata": {
        "id": "4tUP-IqcitQV",
        "colab": {
          "base_uri": "https://localhost:8080/",
          "height": 286
        },
        "outputId": "c34c0d47-c6e7-4286-93ca-d159bbdd10b4"
      },
      "source": [
        "plt.scatter(y_test,predictions2)"
      ],
      "execution_count": null,
      "outputs": [
        {
          "output_type": "execute_result",
          "data": {
            "text/plain": [
              "<matplotlib.collections.PathCollection at 0x7f6e1a18ca10>"
            ]
          },
          "metadata": {
            "tags": []
          },
          "execution_count": 212
        },
        {
          "output_type": "display_data",
          "data": {
            "image/png": "[encoded data removed]",
            "text/plain": [
              "<Figure size 432x288 with 1 Axes>"
            ]
          },
          "metadata": {
            "tags": [],
            "needs_background": "light"
          }
        }
      ]
    },
    {
      "cell_type": "code",
      "metadata": {
        "id": "DdKIFpKGitQW",
        "colab": {
          "base_uri": "https://localhost:8080/"
        },
        "outputId": "2a3f9bc7-6a24-4481-e7fb-b9ade3545eda"
      },
      "source": [
        "print(model.intercept_)"
      ],
      "execution_count": null,
      "outputs": [
        {
          "output_type": "stream",
          "text": [
            "0.009391059648796385\n"
          ],
          "name": "stdout"
        }
      ]
    },
    {
      "cell_type": "code",
      "metadata": {
        "id": "-yCfJwqGitQZ",
        "colab": {
          "base_uri": "https://localhost:8080/"
        },
        "outputId": "ce2f8e92-1982-4668-e37f-96329a6ce0de"
      },
      "source": [
        "mae_2 = metrics.mean_absolute_error(y_test,predictions2)\n",
        "mse_2 = metrics.mean_squared_error(y_test,predictions2)\n",
        "rmse_2 = np.sqrt(metrics.mean_squared_error(y_test,predictions2))\n",
        "r2_2 = r2_score(y_test,predictions2) # best is 1 \n",
        "r2_2"
      ],
      "execution_count": null,
      "outputs": [
        {
          "output_type": "execute_result",
          "data": {
            "text/plain": [
              "0.9207858506646618"
            ]
          },
          "metadata": {
            "tags": []
          },
          "execution_count": 214
        }
      ]
    },
    {
      "cell_type": "code",
      "metadata": {
        "id": "kjKQZ24FitQa",
        "colab": {
          "base_uri": "https://localhost:8080/",
          "height": 286
        },
        "outputId": "73a52757-a006-47de-d8f5-8a2e950129ed"
      },
      "source": [
        "sns.distplot((y_test-predictions2))"
      ],
      "execution_count": null,
      "outputs": [
        {
          "output_type": "execute_result",
          "data": {
            "text/plain": [
              "<matplotlib.axes._subplots.AxesSubplot at 0x7f6e21fc9090>"
            ]
          },
          "metadata": {
            "tags": []
          },
          "execution_count": 78
        },
        {
          "output_type": "display_data",
          "data": {
            "image/png": "[encoded data removed]",
            "text/plain": [
              "<Figure size 432x288 with 1 Axes>"
            ]
          },
          "metadata": {
            "tags": [],
            "needs_background": "light"
          }
        }
      ]
    },
    {
      "cell_type": "markdown",
      "metadata": {
        "id": "v2WbDfJGzkbr"
      },
      "source": [
        "Testing on Experimental data"
      ]
    },
    {
      "cell_type": "code",
      "metadata": {
        "id": "AJdOu_mUziFv",
        "colab": {
          "base_uri": "https://localhost:8080/",
          "height": 286
        },
        "outputId": "c2605783-b2aa-4cb5-e50f-6d9627d53734"
      },
      "source": [
        "## Here based on the shuffled and trained dataset I am trying to test the experimenta dataset\n",
        "\n",
        "experimental_stokes = test_data.iloc[:,0:9]\n",
        "experiment_poly = polynomial_features.fit_transform(experimental_stokes)\n",
        "experimenta_label = test_data.iloc[:,-2]\n",
        "predictions2 = model.predict(experiment_poly)\n",
        "plt.scatter(experimenta_label,predictions2)"
      ],
      "execution_count": null,
      "outputs": [
        {
          "output_type": "execute_result",
          "data": {
            "text/plain": [
              "<matplotlib.collections.PathCollection at 0x7fdaf0934090>"
            ]
          },
          "metadata": {
            "tags": []
          },
          "execution_count": 415
        },
        {
          "output_type": "display_data",
          "data": {
            "image/png": "[encoded data removed]",
            "text/plain": [
              "<Figure size 432x288 with 1 Axes>"
            ]
          },
          "metadata": {
            "tags": []
          }
        }
      ]
    },
    {
      "cell_type": "code",
      "metadata": {
        "id": "fCtN6g4Xzvo4",
        "colab": {
          "base_uri": "https://localhost:8080/",
          "height": 34
        },
        "outputId": "39a7c5ac-cec3-4d62-a975-cd3e770a08e7"
      },
      "source": [
        "## Gives 65% indicating rooms for improvement \n",
        "from sklearn import metrics\n",
        "mae_1 = metrics.mean_absolute_error(experimenta_label,predictions2)\n",
        "mse_1 = metrics.mean_squared_error(experimenta_label,predictions2)\n",
        "rmse_1 = np.sqrt(metrics.mean_squared_error(experimenta_label,predictions2))\n",
        "r2_1 = metrics.r2_score(experimenta_label,predictions2) # best is 1 \n",
        "r2_1"
      ],
      "execution_count": null,
      "outputs": [
        {
          "output_type": "execute_result",
          "data": {
            "text/plain": [
              "0.8612054635257809"
            ]
          },
          "metadata": {
            "tags": []
          },
          "execution_count": 417
        }
      ]
    },
    {
      "cell_type": "code",
      "metadata": {
        "id": "RasD_lhZitQb"
      },
      "source": [
        "# sns.pairplot(df_all, x_vars = np.array([0,1,2,3,4,5,6,7,8,9,10,11]), y_vars='Labels', size=7, aspect=0.7, kind='reg')"
      ],
      "execution_count": null,
      "outputs": []
    },
    {
      "cell_type": "markdown",
      "metadata": {
        "id": "MKm5EjJqitQd"
      },
      "source": [
        "### Polynomial degree 4"
      ]
    },
    {
      "cell_type": "code",
      "metadata": {
        "id": "WUjDp5ruitQd"
      },
      "source": [
        "polynomial_features4= PolynomialFeatures(degree=4)"
      ],
      "execution_count": null,
      "outputs": []
    },
    {
      "cell_type": "code",
      "metadata": {
        "id": "pBfYZlHBitQe"
      },
      "source": [
        "x_poly4 = polynomial_features4.fit_transform(X)"
      ],
      "execution_count": null,
      "outputs": []
    },
    {
      "cell_type": "code",
      "metadata": {
        "id": "WmqqLhcditQe",
        "colab": {
          "base_uri": "https://localhost:8080/",
          "height": 34
        },
        "outputId": "c29337cd-d630-46c2-9ba6-cb82e7612bb7"
      },
      "source": [
        "x_poly4.shape"
      ],
      "execution_count": null,
      "outputs": [
        {
          "output_type": "execute_result",
          "data": {
            "text/plain": [
              "(14436, 715)"
            ]
          },
          "metadata": {
            "tags": []
          },
          "execution_count": 419
        }
      ]
    },
    {
      "cell_type": "code",
      "metadata": {
        "id": "P1EWsTEpitQf"
      },
      "source": [
        "X_train, X_test, y_train, y_test = train_test_split(x_poly4, y, test_size=0.4, random_state=101 )"
      ],
      "execution_count": null,
      "outputs": []
    },
    {
      "cell_type": "code",
      "metadata": {
        "id": "NXlAJ2WlitQg"
      },
      "source": [
        "model4 = LinearRegression()"
      ],
      "execution_count": null,
      "outputs": []
    },
    {
      "cell_type": "code",
      "metadata": {
        "id": "gn6-SisBitQg",
        "colab": {
          "base_uri": "https://localhost:8080/",
          "height": 51
        },
        "outputId": "bf447a4e-3c3f-464b-d2fb-05851995eb25"
      },
      "source": [
        "model4.fit(X_train, y_train)"
      ],
      "execution_count": null,
      "outputs": [
        {
          "output_type": "execute_result",
          "data": {
            "text/plain": [
              "LinearRegression(copy_X=True, fit_intercept=True, n_jobs=None,\n",
              "         normalize=False)"
            ]
          },
          "metadata": {
            "tags": []
          },
          "execution_count": 422
        }
      ]
    },
    {
      "cell_type": "code",
      "metadata": {
        "id": "86nzZ5K9itQh"
      },
      "source": [
        "predictions4 = model4.predict(X_test)"
      ],
      "execution_count": null,
      "outputs": []
    },
    {
      "cell_type": "code",
      "metadata": {
        "id": "FE8CeHofitQi"
      },
      "source": [
        "# model4.coef_"
      ],
      "execution_count": null,
      "outputs": []
    },
    {
      "cell_type": "code",
      "metadata": {
        "id": "vtqQ527OitQj"
      },
      "source": [
        "# print(model4.intercept_)"
      ],
      "execution_count": null,
      "outputs": []
    },
    {
      "cell_type": "code",
      "metadata": {
        "id": "GkKsCoRjitQk",
        "colab": {
          "base_uri": "https://localhost:8080/",
          "height": 34
        },
        "outputId": "a5f060ee-a3d0-4157-e190-f68591155651"
      },
      "source": [
        "mae_4 = metrics.mean_absolute_error(y_test,predictions4)\n",
        "mse_4 = metrics.mean_squared_error(y_test,predictions4)\n",
        "rmse_4 = np.sqrt(metrics.mean_squared_error(y_test,predictions4))\n",
        "r2_4 = r2_score(y_test,predictions4) # best is 1 \n",
        "r2_4"
      ],
      "execution_count": null,
      "outputs": [
        {
          "output_type": "execute_result",
          "data": {
            "text/plain": [
              "-3107047.6988879917"
            ]
          },
          "metadata": {
            "tags": []
          },
          "execution_count": 426
        }
      ]
    },
    {
      "cell_type": "code",
      "metadata": {
        "id": "toExp0qgitQm",
        "colab": {
          "base_uri": "https://localhost:8080/",
          "height": 286
        },
        "outputId": "e4b05390-aa69-4a4f-cbe6-a8222b6a0475"
      },
      "source": [
        "sns.distplot((y_test-predictions4))"
      ],
      "execution_count": null,
      "outputs": [
        {
          "output_type": "execute_result",
          "data": {
            "text/plain": [
              "<matplotlib.axes._subplots.AxesSubplot at 0x7fdaf0934690>"
            ]
          },
          "metadata": {
            "tags": []
          },
          "execution_count": 427
        },
        {
          "output_type": "display_data",
          "data": {
            "image/png": "[encoded data removed]",
            "text/plain": [
              "<Figure size 432x288 with 1 Axes>"
            ]
          },
          "metadata": {
            "tags": []
          }
        }
      ]
    },
    {
      "cell_type": "markdown",
      "metadata": {
        "id": "3XL2PS3HitQn"
      },
      "source": [
        "### Degree 5"
      ]
    },
    {
      "cell_type": "code",
      "metadata": {
        "id": "s_QeF9stitQo"
      },
      "source": [
        "polynomial_features5= PolynomialFeatures(degree=5)"
      ],
      "execution_count": null,
      "outputs": []
    },
    {
      "cell_type": "code",
      "metadata": {
        "id": "oi0WnkdZitQo"
      },
      "source": [
        "x_poly5 = polynomial_features5.fit_transform(X)"
      ],
      "execution_count": null,
      "outputs": []
    },
    {
      "cell_type": "code",
      "metadata": {
        "id": "amZKaqwpitQp"
      },
      "source": [
        "# x_poly5.shape"
      ],
      "execution_count": null,
      "outputs": []
    },
    {
      "cell_type": "code",
      "metadata": {
        "id": "Ruy_gz2aitQr"
      },
      "source": [
        "X_train, X_test, y_train, y_test = train_test_split(x_poly5, y, test_size=0.4, random_state=101 )"
      ],
      "execution_count": null,
      "outputs": []
    },
    {
      "cell_type": "code",
      "metadata": {
        "id": "Uly-5I6pitQr"
      },
      "source": [
        "model5 = LinearRegression()"
      ],
      "execution_count": null,
      "outputs": []
    },
    {
      "cell_type": "code",
      "metadata": {
        "id": "FYGeJtQ7itQs",
        "colab": {
          "base_uri": "https://localhost:8080/",
          "height": 51
        },
        "outputId": "4ecc1773-eefc-4060-afab-bad14cfcc9f4"
      },
      "source": [
        "model5.fit(X_train, y_train)"
      ],
      "execution_count": null,
      "outputs": [
        {
          "output_type": "execute_result",
          "data": {
            "text/plain": [
              "LinearRegression(copy_X=True, fit_intercept=True, n_jobs=None,\n",
              "         normalize=False)"
            ]
          },
          "metadata": {
            "tags": []
          },
          "execution_count": 337
        }
      ]
    },
    {
      "cell_type": "code",
      "metadata": {
        "id": "F5uk-nh1itQu"
      },
      "source": [
        "predictions5 = model5.predict(X_test)"
      ],
      "execution_count": null,
      "outputs": []
    },
    {
      "cell_type": "code",
      "metadata": {
        "id": "lpNT28IvitQv"
      },
      "source": [
        "# print(model5.intercept_)"
      ],
      "execution_count": null,
      "outputs": []
    },
    {
      "cell_type": "code",
      "metadata": {
        "id": "s9YClVGbitQx",
        "colab": {
          "base_uri": "https://localhost:8080/",
          "height": 34
        },
        "outputId": "2f023ef5-5441-494d-85de-3e8e676c7fd4"
      },
      "source": [
        "mae_5 = metrics.mean_absolute_error(y_test,predictions4)\n",
        "mse_5 = metrics.mean_squared_error(y_test,predictions4)\n",
        "rmse_5 = np.sqrt(metrics.mean_squared_error(y_test,predictions4))\n",
        "r2_5 = r2_score(y_test,predictions5) # best is 1 \n",
        "r2_5"
      ],
      "execution_count": null,
      "outputs": [
        {
          "output_type": "execute_result",
          "data": {
            "text/plain": [
              "-0.06627136863064553"
            ]
          },
          "metadata": {
            "tags": []
          },
          "execution_count": 340
        }
      ]
    },
    {
      "cell_type": "markdown",
      "metadata": {
        "id": "R5YikcsfitQy"
      },
      "source": [
        "## Conclusion for Paulis"
      ]
    },
    {
      "cell_type": "code",
      "metadata": {
        "id": "iZslef-iitQy",
        "colab": {
          "base_uri": "https://localhost:8080/",
          "height": 353
        },
        "outputId": "0d206eae-42a3-40d7-eed1-f095f546d954"
      },
      "source": [
        "fig, axes = plt.subplots(1,4, figsize=(12,5))\n",
        "\n",
        "axes[0].scatter(y_test, predictions) # lm model\n",
        "axes[0].set_title(\"Degree 1\")\n",
        "\n",
        "axes[1].scatter(y_test, predictions2) # model\n",
        "axes[1].set_title(\"Degree 2\")\n",
        "\n",
        "axes[2].scatter(y_test, predictions4) # model4\n",
        "axes[2].set_title(\"Degree 4\")\n",
        "\n",
        "axes[3].scatter(y_test, predictions5) # model5\n",
        "axes[3].set_title(\"Degree 5\")"
      ],
      "execution_count": null,
      "outputs": [
        {
          "output_type": "execute_result",
          "data": {
            "text/plain": [
              "Text(0.5,1,'Degree 5')"
            ]
          },
          "metadata": {
            "tags": []
          },
          "execution_count": 110
        },
        {
          "output_type": "display_data",
          "data": {
            "image/png": "[encoded data removed]",
            "text/plain": [
              "<Figure size 864x360 with 4 Axes>"
            ]
          },
          "metadata": {
            "tags": []
          }
        }
      ]
    },
    {
      "cell_type": "code",
      "metadata": {
        "id": "WzPRSFXOitQ0",
        "colab": {
          "base_uri": "https://localhost:8080/",
          "height": 173
        },
        "outputId": "ffd886e7-8daf-4691-8106-a4b5887ecd61"
      },
      "source": [
        "lst = ['model', 'mean absolute error','mean squared error', 'sqrt(mean squared error)', 'score']\n",
        "data_res = [['degree 1', mae_1, mse_1, rmse_1,r2_1], \\\n",
        "           ['degree 2', mae_2, mse_2, rmse_2,r2_2],\\\n",
        "           ['degree 4', mae_4, mse_4, rmse_4,r2_4],\n",
        "            ['degree 5', mae_5, mse_5, rmse_5,r2_5]]\n",
        "results = pd.DataFrame(data_res, columns = lst)\n",
        "results"
      ],
      "execution_count": null,
      "outputs": [
        {
          "output_type": "execute_result",
          "data": {
            "text/html": [
              "<div>\n",
              "<style scoped>\n",
              "    .dataframe tbody tr th:only-of-type {\n",
              "        vertical-align: middle;\n",
              "    }\n",
              "\n",
              "    .dataframe tbody tr th {\n",
              "        vertical-align: top;\n",
              "    }\n",
              "\n",
              "    .dataframe thead th {\n",
              "        text-align: right;\n",
              "    }\n",
              "</style>\n",
              "<table border=\"1\" class=\"dataframe\">\n",
              "  <thead>\n",
              "    <tr style=\"text-align: right;\">\n",
              "      <th></th>\n",
              "      <th>model</th>\n",
              "      <th>mean absolute error</th>\n",
              "      <th>mean squared error</th>\n",
              "      <th>sqrt(mean squared error)</th>\n",
              "      <th>score</th>\n",
              "    </tr>\n",
              "  </thead>\n",
              "  <tbody>\n",
              "    <tr>\n",
              "      <th>0</th>\n",
              "      <td>degree 1</td>\n",
              "      <td>0.766938</td>\n",
              "      <td>0.615496</td>\n",
              "      <td>0.784536</td>\n",
              "      <td>-24.752284</td>\n",
              "    </tr>\n",
              "    <tr>\n",
              "      <th>1</th>\n",
              "      <td>degree 2</td>\n",
              "      <td>0.766938</td>\n",
              "      <td>0.615496</td>\n",
              "      <td>0.784536</td>\n",
              "      <td>-24.752284</td>\n",
              "    </tr>\n",
              "    <tr>\n",
              "      <th>2</th>\n",
              "      <td>degree 4</td>\n",
              "      <td>0.766938</td>\n",
              "      <td>0.615496</td>\n",
              "      <td>0.784536</td>\n",
              "      <td>-24.752284</td>\n",
              "    </tr>\n",
              "    <tr>\n",
              "      <th>3</th>\n",
              "      <td>degree 5</td>\n",
              "      <td>0.766938</td>\n",
              "      <td>0.615496</td>\n",
              "      <td>0.784536</td>\n",
              "      <td>-24.752284</td>\n",
              "    </tr>\n",
              "  </tbody>\n",
              "</table>\n",
              "</div>"
            ],
            "text/plain": [
              "      model  mean absolute error  ...  sqrt(mean squared error)      score\n",
              "0  degree 1             0.766938  ...                  0.784536 -24.752284\n",
              "1  degree 2             0.766938  ...                  0.784536 -24.752284\n",
              "2  degree 4             0.766938  ...                  0.784536 -24.752284\n",
              "3  degree 5             0.766938  ...                  0.784536 -24.752284\n",
              "\n",
              "[4 rows x 5 columns]"
            ]
          },
          "metadata": {
            "tags": []
          },
          "execution_count": 118
        }
      ]
    },
    {
      "cell_type": "code",
      "metadata": {
        "id": "SkBbBF-sitQ1",
        "colab": {
          "base_uri": "https://localhost:8080/",
          "height": 173
        },
        "outputId": "a899a003-4041-4ae3-ecf0-2370d096d6bc"
      },
      "source": [
        ""
      ],
      "execution_count": null,
      "outputs": [
        {
          "output_type": "execute_result",
          "data": {
            "text/html": [
              "<div>\n",
              "<style scoped>\n",
              "    .dataframe tbody tr th:only-of-type {\n",
              "        vertical-align: middle;\n",
              "    }\n",
              "\n",
              "    .dataframe tbody tr th {\n",
              "        vertical-align: top;\n",
              "    }\n",
              "\n",
              "    .dataframe thead th {\n",
              "        text-align: right;\n",
              "    }\n",
              "</style>\n",
              "<table border=\"1\" class=\"dataframe\">\n",
              "  <thead>\n",
              "    <tr style=\"text-align: right;\">\n",
              "      <th></th>\n",
              "      <th>model</th>\n",
              "      <th>mean absolute error</th>\n",
              "      <th>mean squared error</th>\n",
              "      <th>sqrt(mean squared error)</th>\n",
              "      <th>score</th>\n",
              "    </tr>\n",
              "  </thead>\n",
              "  <tbody>\n",
              "    <tr>\n",
              "      <th>0</th>\n",
              "      <td>degree 1</td>\n",
              "      <td>0.095031</td>\n",
              "      <td>0.015741</td>\n",
              "      <td>0.125463</td>\n",
              "      <td>0.612899</td>\n",
              "    </tr>\n",
              "    <tr>\n",
              "      <th>1</th>\n",
              "      <td>degree 2</td>\n",
              "      <td>0.049027</td>\n",
              "      <td>0.004093</td>\n",
              "      <td>0.063977</td>\n",
              "      <td>0.899343</td>\n",
              "    </tr>\n",
              "    <tr>\n",
              "      <th>2</th>\n",
              "      <td>degree 4</td>\n",
              "      <td>0.034410</td>\n",
              "      <td>0.006591</td>\n",
              "      <td>0.081186</td>\n",
              "      <td>0.837908</td>\n",
              "    </tr>\n",
              "    <tr>\n",
              "      <th>3</th>\n",
              "      <td>degree 5</td>\n",
              "      <td>0.034410</td>\n",
              "      <td>0.006591</td>\n",
              "      <td>0.081186</td>\n",
              "      <td>-12.260133</td>\n",
              "    </tr>\n",
              "  </tbody>\n",
              "</table>\n",
              "</div>"
            ],
            "text/plain": [
              "      model  mean absolute error  ...  sqrt(mean squared error)      score\n",
              "0  degree 1             0.095031  ...                  0.125463   0.612899\n",
              "1  degree 2             0.049027  ...                  0.063977   0.899343\n",
              "2  degree 4             0.034410  ...                  0.081186   0.837908\n",
              "3  degree 5             0.034410  ...                  0.081186 -12.260133\n",
              "\n",
              "[4 rows x 5 columns]"
            ]
          },
          "metadata": {
            "tags": []
          },
          "execution_count": 272
        }
      ]
    },
    {
      "cell_type": "code",
      "metadata": {
        "id": "KiFv6nUWitQ2"
      },
      "source": [
        ""
      ],
      "execution_count": null,
      "outputs": []
    },
    {
      "cell_type": "markdown",
      "metadata": {
        "id": "15Obp8unitQ3"
      },
      "source": [
        "# Cifford Case."
      ]
    },
    {
      "cell_type": "markdown",
      "metadata": {
        "id": "oo-H924TitQ3"
      },
      "source": [
        " U = V.W with V in {I, P, P^2, P^3} (with P the phase gate, P = diag(1,i)) and W in {I, H, H.P, H.P^2, H.P^3, H.P^2.H} (with H the Hadamard gate)"
      ]
    },
    {
      "cell_type": "code",
      "metadata": {
        "id": "S3kXafEPTCBh"
      },
      "source": [
        "import seaborn as sns\n",
        "import matplotlib.pyplot as plt\n",
        "%matplotlib inline\n",
        "import pandas as pd"
      ],
      "execution_count": null,
      "outputs": []
    },
    {
      "cell_type": "code",
      "metadata": {
        "id": "WPzG7go3TCBk"
      },
      "source": [
        "def rot(x):\n",
        "    return np.array([[np.cos(x), -np.sin(x)], [np.sin(x), np.cos(x)]])\n",
        "  \n",
        "def rot3(x,y,z):\n",
        "    r = np.cos(x/2)*U_d[0] - 1j*np.sin(x/2)*( np.sin(y)*np.sin(z)*U_d[1] + np.cos(y)*np.sin(z)*U_d[2] + np.cos(z)*U_d[3] )\n",
        "    return r\n",
        "def sigma_i(i,x,y,z):\n",
        "    return np.matmul(rot3(x,y,z).conj().T ,np.matmul(U_d[i],rot3(x,y,z))) "
      ],
      "execution_count": null,
      "outputs": []
    },
    {
      "cell_type": "code",
      "metadata": {
        "id": "sJXxtMnxitQ3"
      },
      "source": [
        "P = np.array([[1, 0],[0, 1j]])\n",
        "H = (1.0/np.sqrt(2))*np.array([[1, 1],[1, -1]])\n",
        "P_2 = np.linalg.matrix_power(P,2)\n",
        "P_3 = np.linalg.matrix_power(P,3)\n",
        "V = np.array([np.eye(2), P, P_2, P_3])\n",
        "W = np.array([np.eye(2), H, H.dot(P), H.dot(P_2), H.dot(P_3), reduce(np.dot, [H,P_2,H])])"
      ],
      "execution_count": null,
      "outputs": []
    },
    {
      "cell_type": "code",
      "metadata": {
        "id": "ajOoOiHRitQ4"
      },
      "source": [
        "# Generates the Clifford group\n",
        "cliff = np.zeros((24,2,2), dtype=complex)\n",
        "for i in range(4):\n",
        "    for j in range(6):\n",
        "           cliff[(i+1)*(j+1)+ i*(5-j)-1] = np.matmul(V[i],W[j]) # index goes 0-23"
      ],
      "execution_count": null,
      "outputs": []
    },
    {
      "cell_type": "code",
      "metadata": {
        "id": "3G66v9ZPXNNT"
      },
      "source": [
        "# Verify trace(choi(cliff))==2 and that they are unitary. Also, check their rel_entr\n",
        "for i in range(24):\n",
        "  if np.trace(choi(cliff[i])) - 2 > 0.000001:\n",
        "    print('Something is wrong with.', i)\n",
        "  elif (cliff[i].dot(np.transpose(np.conj(cliff[i]))) - np.eye(2) > 0.001).all():\n",
        "    print('Something is wrong with.', i)"
      ],
      "execution_count": null,
      "outputs": []
    },
    {
      "cell_type": "code",
      "metadata": {
        "id": "Mhx1ukNmitQ5"
      },
      "source": [
        "# r[0] in [0,R], r[1:23] in [0,1] randomly chosen\n",
        "def rand_arr_cliff(R):\n",
        "    k = np.array([np.random.random(1)*R, np.random.random(1), np.random.random(1), np.random.random(1)\\\n",
        "                 , np.random.random(1), np.random.random(1), np.random.random(1), np.random.random(1)\\\n",
        "                 , np.random.random(1), np.random.random(1), np.random.random(1), np.random.random(1)\\\n",
        "                 , np.random.random(1), np.random.random(1), np.random.random(1), np.random.random(1)\\\n",
        "                 , np.random.random(1), np.random.random(1), np.random.random(1), np.random.random(1)\\\n",
        "                 , np.random.random(1), np.random.random(1), np.random.random(1), np.random.random(1)])\n",
        "    return k"
      ],
      "execution_count": null,
      "outputs": []
    },
    {
      "cell_type": "code",
      "metadata": {
        "id": "ahjtu6vzXuyW"
      },
      "source": [
        "# To be worked on: this is to weight the rest of the joint probabilities such that they are more related.\n",
        "def rand_cliff(R,r):\n",
        "    k = np.array([np.random.random(1)*R, np.random.random(1)*r, np.random.random(1), np.random.random(1)\\\n",
        "                 , np.random.random(1), np.random.random(1), np.random.random(1), np.random.random(1)\\\n",
        "                 , np.random.random(1), np.random.random(1), np.random.random(1), np.random.random(1)\\\n",
        "                 , np.random.random(1), np.random.random(1), np.random.random(1), np.random.random(1)\\\n",
        "                 , np.random.random(1), np.random.random(1), np.random.random(1), np.random.random(1)\\\n",
        "                 , np.random.random(1), np.random.random(1), np.random.random(1), np.random.random(1)])\n",
        "    return k"
      ],
      "execution_count": null,
      "outputs": []
    },
    {
      "cell_type": "code",
      "metadata": {
        "id": "akmZN2utitQ6"
      },
      "source": [
        "def P_j_cliff(R):\n",
        "    p = rand_arr_cliff(R) # fix it once\n",
        "    return (p/sum(p)).flatten()"
      ],
      "execution_count": null,
      "outputs": []
    },
    {
      "cell_type": "code",
      "metadata": {
        "id": "7FRTZk7hitQ8"
      },
      "source": [
        "def P_ij_cliff(q,R):# The joint probability for the two unitaries\n",
        "    res = np.zeros((24,24))\n",
        "    pj = P_j_cliff(R) # So that it's fixed.\n",
        "    pj1 = P_j_cliff(R)\n",
        "    for i in range(24):\n",
        "        for j in range(24):\n",
        "            if j==i:\n",
        "                res[i][j] = q*pj[j] + (1-q)*pj1[i]*pj[j] #(if q=1, P_x|x = 1 complete correlation, max non-Markovian)\n",
        "            else:\n",
        "                res[i][j] = (1-q)*pj1[i]*pj[j]\n",
        "    return res"
      ],
      "execution_count": null,
      "outputs": []
    },
    {
      "cell_type": "code",
      "metadata": {
        "id": "bYT_6nhcQ7Io",
        "colab": {
          "base_uri": "https://localhost:8080/",
          "height": 34
        },
        "outputId": "207b0956-6fca-44ec-9e3f-59dbdb6be414"
      },
      "source": [
        "sum(sum(P_ij_cliff(1,1)))"
      ],
      "execution_count": null,
      "outputs": [
        {
          "output_type": "execute_result",
          "data": {
            "text/plain": [
              "1.0"
            ]
          },
          "metadata": {
            "tags": []
          },
          "execution_count": 316
        }
      ]
    },
    {
      "cell_type": "markdown",
      "metadata": {
        "id": "D6zysagjitQ9"
      },
      "source": [
        "#### New process matrix for U clifford"
      ]
    },
    {
      "cell_type": "code",
      "metadata": {
        "id": "mA-h3-7uitQ9"
      },
      "source": [
        "# A process matrix, for cliff[i] and cliff[j] as the unitaries from the clifford group\n",
        "def w_cliff(i,k): \n",
        "#     pure = np.array([[1+np.sqrt(2) ,(1+1j)/sqrt(2)]])\n",
        "    pure = np.array([[1.0 ,5.5+1j*3.0]])\n",
        "    N = np.vdot(pure,pure)\n",
        "    rho = np.kron(pure,np.conj(np.transpose(pure)))/N\n",
        "    term1 = np.matmul(np.conj(np.transpose(cliff[i])), np.matmul(rho, cliff[i])) # np.matrix.getH gets the conjugate transpose\n",
        "    w = np.kron(term1, choi(cliff[k])) #  Not normalised.\n",
        "    return w"
      ],
      "execution_count": null,
      "outputs": []
    },
    {
      "cell_type": "code",
      "metadata": {
        "id": "04JI3TzfkKi5",
        "colab": {
          "base_uri": "https://localhost:8080/",
          "height": 34
        },
        "outputId": "d24b0fa4-3395-4f0f-dabd-dba42205081d"
      },
      "source": [
        "np.trace(w_cliff(23,23))"
      ],
      "execution_count": null,
      "outputs": [
        {
          "output_type": "execute_result",
          "data": {
            "text/plain": [
              "(1.999999999999998+0j)"
            ]
          },
          "metadata": {
            "tags": []
          },
          "execution_count": 318
        }
      ]
    },
    {
      "cell_type": "code",
      "metadata": {
        "id": "ski9kwLDitQ9"
      },
      "source": [
        "# The process matrix as a function of q and R\n",
        "def W_cliff(q, R): \n",
        "    w = np.zeros((8,8),dtype=complex)\n",
        "    p_ = P_ij_cliff(q,R) # So that it's fixed.\n",
        "    for i in range(24):\n",
        "        for j in range(24):\n",
        "            w = w + p_[i][j]*w_cliff(i,j) # Still unnormalised.\n",
        "#     if (w.imag == np.zeros((8,8))).all(): # if there's no imaginary part, suppress it\n",
        "#         w = w.real\n",
        "    return w"
      ],
      "execution_count": null,
      "outputs": []
    },
    {
      "cell_type": "code",
      "metadata": {
        "id": "qe_2nEpEitQ-",
        "colab": {
          "base_uri": "https://localhost:8080/",
          "height": 34
        },
        "outputId": "686b5310-ac0e-421f-d277-5c5a3a67906d"
      },
      "source": [
        "# Check the most non-Markovian case.\n",
        "w = np.zeros((8,8),dtype=complex)\n",
        "for i in range(24):\n",
        "    w = w + (1.0/24)*w_cliff(i,i)\n",
        "rel_entr(w)  "
      ],
      "execution_count": null,
      "outputs": [
        {
          "output_type": "execute_result",
          "data": {
            "text/plain": [
              "0.31127812445913694"
            ]
          },
          "metadata": {
            "tags": []
          },
          "execution_count": 320
        }
      ]
    },
    {
      "cell_type": "code",
      "metadata": {
        "id": "23Ncv0339UC0"
      },
      "source": [
        "def permutations(iterable, r=None):\n",
        "    # permutations('ABCD', 2) --> AB AC AD BA BC BD CA CB CD DA DB DC\n",
        "    # permutations(range(3)) --> 012 021 102 120 201 210\n",
        "    pool = tuple(iterable)\n",
        "    n = len(pool)\n",
        "    r = n if r is None else r\n",
        "    if r > n:\n",
        "        return\n",
        "    indices = range(n)\n",
        "    cycles = range(n, n-r, -1)\n",
        "    yield tuple(pool[i] for i in indices[:r])\n",
        "    while n:\n",
        "        for i in reversed(range(r)):\n",
        "            cycles[i] -= 1\n",
        "            if cycles[i] == 0:\n",
        "                indices[i:] = indices[i+1:] + indices[i:i+1]\n",
        "                cycles[i] = n - i\n",
        "            else:\n",
        "                j = cycles[i]\n",
        "                indices[i], indices[-j] = indices[-j], indices[i]\n",
        "                yield tuple(pool[i] for i in indices[:r])\n",
        "                break\n",
        "        else:\n",
        "            return"
      ],
      "execution_count": null,
      "outputs": []
    },
    {
      "cell_type": "code",
      "metadata": {
        "id": "NLyaftID8Q80",
        "colab": {
          "base_uri": "https://localhost:8080/",
          "height": 34
        },
        "outputId": "7f460ba2-1edf-49bf-adc6-8c54f5a11cd0"
      },
      "source": [
        "np.trace(w)"
      ],
      "execution_count": null,
      "outputs": [
        {
          "output_type": "execute_result",
          "data": {
            "text/plain": [
              "(1.9999999999999987+3.7457502366448694e-36j)"
            ]
          },
          "metadata": {
            "tags": []
          },
          "execution_count": 322
        }
      ]
    },
    {
      "cell_type": "code",
      "metadata": {
        "id": "fL-jWNBkMi2Q",
        "colab": {
          "base_uri": "https://localhost:8080/",
          "height": 51
        },
        "outputId": "9c3c9208-3740-4446-ad42-7fd99416a28c"
      },
      "source": [
        "cliff[23].dot(np.transpose(np.conj(cliff[23])))"
      ],
      "execution_count": null,
      "outputs": [
        {
          "output_type": "execute_result",
          "data": {
            "text/plain": [
              "array([[1.+0.j, 0.-0.j],\n",
              "       [0.+0.j, 1.+0.j]])"
            ]
          },
          "metadata": {
            "tags": []
          },
          "execution_count": 323
        }
      ]
    },
    {
      "cell_type": "code",
      "metadata": {
        "id": "nMsc-xB2Kv5D",
        "colab": {
          "base_uri": "https://localhost:8080/",
          "height": 34
        },
        "outputId": "3845f44a-9456-4bd4-8fdf-90058bda60fc"
      },
      "source": [
        "rel_entr(W_cliff(1,1))"
      ],
      "execution_count": null,
      "outputs": [
        {
          "output_type": "execute_result",
          "data": {
            "text/plain": [
              "0.34058454810743877"
            ]
          },
          "metadata": {
            "tags": []
          },
          "execution_count": 324
        }
      ]
    },
    {
      "cell_type": "markdown",
      "metadata": {
        "id": "KDnDt48RitQ_"
      },
      "source": [
        "#### Generate the data"
      ]
    },
    {
      "cell_type": "code",
      "metadata": {
        "id": "V5spF1UAitQ_"
      },
      "source": [
        "def the_data_cliff(q,R): # Simulating experimental data: for each unitary (I,x,y,z)/each row, we get 3 numbers, for x,y,z .\n",
        "    proc = W_cliff(q,R)\n",
        "    res = np.zeros((3,3), dtype=complex)\n",
        "    value = rel_entr(proc)\n",
        "    for i in range(3): # The first measurement .\n",
        "        for j in range(1,4):# The final measurement. j runs for 1 to 3 for x y z \n",
        "                res[i][j-1] = np.trace(np.matmul(np.kron(choi(np.conj(sigma_i(i,np.pi/8,np.pi/8,np.pi/8))),sigma_i(j,0,0,0)),proc))\n",
        "    return res,value"
      ],
      "execution_count": null,
      "outputs": []
    },
    {
      "cell_type": "code",
      "metadata": {
        "id": "eQHSbzcKitRA",
        "colab": {
          "base_uri": "https://localhost:8080/",
          "height": 51
        },
        "outputId": "5b6b6d0a-a9ec-43fe-9c50-b6e4a74e5061"
      },
      "source": [
        "# Comparing Pauli and Clifford data.\n",
        "samples = 300\n",
        "test = np.zeros(samples)\n",
        "test2 = np.zeros(samples)\n",
        "for i in range(samples):\n",
        "  test[i] = rel_entr(W_cliff(1,1))\n",
        "  test2[i] = rel_entr(W_d(1,1))\n",
        "print test.max()\n",
        "print test2.max()"
      ],
      "execution_count": null,
      "outputs": [
        {
          "output_type": "stream",
          "text": [
            "0.4041068971610171\n",
            "0.9997921937101266\n"
          ],
          "name": "stdout"
        }
      ]
    },
    {
      "cell_type": "code",
      "metadata": {
        "id": "2QirEyT-Qj3J",
        "colab": {
          "base_uri": "https://localhost:8080/",
          "height": 354
        },
        "outputId": "f198dbd4-7c0d-415f-93f6-9519bbaa92af"
      },
      "source": [
        "plt.hist(test)\n",
        "plt.hist(test2)"
      ],
      "execution_count": null,
      "outputs": [
        {
          "output_type": "execute_result",
          "data": {
            "text/plain": [
              "(array([ 3.000,  6.000,  2.000,  7.000,  3.000,  7.000,  13.000,  28.000,\n",
              "         52.000,  179.000]),\n",
              " array([ 0.429,  0.486,  0.543,  0.601,  0.658,  0.715,  0.772,  0.829,\n",
              "         0.886,  0.943,  1.000]),\n",
              " <a list of 10 Patch objects>)"
            ]
          },
          "metadata": {
            "tags": []
          },
          "execution_count": 327
        },
        {
          "output_type": "display_data",
          "data": {
            "image/png": "[encoded data removed]",
            "text/plain": [
              "<Figure size 432x288 with 1 Axes>"
            ]
          },
          "metadata": {
            "tags": []
          }
        }
      ]
    },
    {
      "cell_type": "markdown",
      "metadata": {
        "id": "jD40ZiTYopI-"
      },
      "source": [
        "## Data taking with the Clifford"
      ]
    },
    {
      "cell_type": "code",
      "metadata": {
        "id": "fFRaOxV_itRB"
      },
      "source": [
        "import time"
      ],
      "execution_count": null,
      "outputs": []
    },
    {
      "cell_type": "code",
      "metadata": {
        "id": "vjOPpbOBQtUB",
        "colab": {
          "base_uri": "https://localhost:8080/",
          "height": 34
        },
        "outputId": "5abc660e-469a-4e7f-b375-240903535c9a"
      },
      "source": [
        "#Clifford larger dataset is read-only. I uploaded it separately\n",
        "cd /content/drive/My\\ Drive/Colab\\ Notebooks/NON_MARKOV_KBG"
      ],
      "execution_count": null,
      "outputs": [
        {
          "output_type": "stream",
          "text": [
            "/content/drive/My Drive/Colab Notebooks/NON_MARKOV_KBG\n"
          ],
          "name": "stdout"
        }
      ]
    },
    {
      "cell_type": "code",
      "metadata": {
        "id": "PFISy8wUitRC",
        "colab": {
          "base_uri": "https://localhost:8080/",
          "height": 68
        },
        "outputId": "36de5c7b-88c7-4a9d-dd31-e9a152e9e6c9"
      },
      "source": [
        "initial_samples = 1024\n",
        "bias_sampling = 1\n",
        "start = time.time()\n",
        "df_all = pd.DataFrame(np.zeros((1,9)))\n",
        "for q in np.array([7,8,9,9.5,10]) :\n",
        "  for R in np.array([1,5,10,15]):\n",
        "    if q > 9:\n",
        "      samples=bias_sampling*initial_samples\n",
        "    else:\n",
        "      samples=initial_samples\n",
        "    data = np.zeros((samples,3,3)) \n",
        "    labels = np.zeros(samples)\n",
        "    for i in range(samples): \n",
        "      data[[i]], labels[i] = the_data_cliff(q*0.1,R)\n",
        "\n",
        "    data_new = data.reshape(samples, 9) \n",
        "    df_data = pd.DataFrame(data_new) \n",
        "    df_labels = pd.DataFrame(labels, columns = ['Labels'])\n",
        "    df = df_data.join(df_labels, how='right')\n",
        "#          Need to append data in one big file df_all\n",
        "    df_all = df_all.append(df)\n",
        "#         df.to_csv('Sdata_0%d_%d' %(q,R), index=False) # No need to save each dataframe anymore.\n",
        "df_all = df_all.reset_index()\n",
        "df_all = df_all.drop(0) # Drop the zeros of first line.\n",
        "df_all = df_all.drop('index', axis=1)\n",
        "df_all.to_csv('Sim_data_Cliff_larger.csv')\n",
        "end = time.time()\n",
        "print((end - start)/60)"
      ],
      "execution_count": null,
      "outputs": [
        {
          "output_type": "stream",
          "text": [
            "/usr/local/lib/python2.7/dist-packages/ipykernel_launcher.py:14: ComplexWarning: Casting complex values to real discards the imaginary part\n",
            "  \n"
          ],
          "name": "stderr"
        },
        {
          "output_type": "stream",
          "text": [
            "16.1153758009\n"
          ],
          "name": "stdout"
        }
      ]
    },
    {
      "cell_type": "code",
      "metadata": {
        "id": "yaMAhcXmWIsQ",
        "colab": {
          "base_uri": "https://localhost:8080/",
          "height": 34
        },
        "outputId": "787aa444-2cd7-4052-c6b0-9a818012f01e"
      },
      "source": [
        "df_all.shape\n",
        "# plt.hist(df_all['Labels'], bins=50)"
      ],
      "execution_count": null,
      "outputs": [
        {
          "output_type": "execute_result",
          "data": {
            "text/plain": [
              "(20480, 10)"
            ]
          },
          "metadata": {
            "tags": []
          },
          "execution_count": 335
        }
      ]
    },
    {
      "cell_type": "code",
      "metadata": {
        "id": "ljvA6z0FitRE"
      },
      "source": [
        "# df_all.to_csv('/Users/uqcgiarm/Dropbox/Sally/Sim_data_Cliff.csv')"
      ],
      "execution_count": null,
      "outputs": []
    },
    {
      "cell_type": "code",
      "metadata": {
        "id": "6M9-HJ4VitRH",
        "colab": {
          "base_uri": "https://localhost:8080/",
          "height": 286
        },
        "outputId": "e08cd218-f230-4b3b-eddb-ec47a6810ccc"
      },
      "source": [
        "data_corr = df_data.corr()\n",
        "sns.heatmap(data_corr)"
      ],
      "execution_count": null,
      "outputs": [
        {
          "output_type": "execute_result",
          "data": {
            "text/plain": [
              "<matplotlib.axes._subplots.AxesSubplot at 0x7f6d8f73a310>"
            ]
          },
          "metadata": {
            "tags": []
          },
          "execution_count": 336
        },
        {
          "output_type": "display_data",
          "data": {
            "image/png": "[encoded data removed]",
            "text/plain": [
              "<Figure size 432x288 with 2 Axes>"
            ]
          },
          "metadata": {
            "tags": []
          }
        }
      ]
    },
    {
      "cell_type": "code",
      "metadata": {
        "id": "SNSC4OrritRI",
        "colab": {
          "base_uri": "https://localhost:8080/",
          "height": 85
        },
        "outputId": "3ec5931b-47ec-4225-c3a0-41a1011acf51"
      },
      "source": [
        "test = the_data_cliff(1,1)\n",
        "print test\n",
        "print sum(test[0])"
      ],
      "execution_count": null,
      "outputs": [
        {
          "output_type": "stream",
          "text": [
            "(array([[ 0.066+0.j, -0.081-0.j, -0.381+0.j],\n",
            "       [-0.015+0.j,  0.021-0.j,  0.281+0.j],\n",
            "       [-0.089-0.j,  0.117+0.j,  0.35 +0.j]]), 0.336463144172896)\n",
            "[-0.038-0.j  0.057-0.j  0.251+0.j]\n"
          ],
          "name": "stdout"
        }
      ]
    },
    {
      "cell_type": "markdown",
      "metadata": {
        "id": "VVvhUHrvqTfr"
      },
      "source": [
        "## Linear Regression with Clifford"
      ]
    },
    {
      "cell_type": "code",
      "metadata": {
        "id": "SxmwmormqRWJ"
      },
      "source": [
        "from sklearn.model_selection import train_test_split\n",
        "from sklearn.linear_model import LinearRegression\n",
        "from sklearn.metrics import mean_squared_error, r2_score"
      ],
      "execution_count": null,
      "outputs": []
    },
    {
      "cell_type": "code",
      "metadata": {
        "id": "PO0uFN3UqjT7"
      },
      "source": [
        "X = df_all[[0, 1, 2, 3, 4, 5, 6, 7, 8]]\n",
        "y = df_all['Labels']"
      ],
      "execution_count": null,
      "outputs": []
    },
    {
      "cell_type": "code",
      "metadata": {
        "id": "AHXEXEhBV08B",
        "colab": {
          "base_uri": "https://localhost:8080/",
          "height": 153
        },
        "outputId": "6788018f-4ea5-4897-b84b-793e4061e53e"
      },
      "source": [
        "print(df_all.iloc[0:5,0:8])"
      ],
      "execution_count": null,
      "outputs": [
        {
          "output_type": "stream",
          "text": [
            "          0         1         2  ...         5         6         7\n",
            "1  0.140627 -0.086528 -0.305599  ...  0.213240 -0.072588  0.079466\n",
            "2  0.091850 -0.045220 -0.227201  ...  0.170997 -0.077002  0.050979\n",
            "3  0.067430  0.058546 -0.255228  ...  0.249805 -0.017782 -0.032975\n",
            "4  0.154379 -0.024140 -0.171007  ...  0.170585 -0.057951  0.016125\n",
            "5  0.062926 -0.041319 -0.168117  ...  0.163702 -0.115235  0.080894\n",
            "\n",
            "[5 rows x 8 columns]\n"
          ],
          "name": "stdout"
        }
      ]
    },
    {
      "cell_type": "code",
      "metadata": {
        "id": "kv9LNnQXVviT"
      },
      "source": [
        "X = df_all.iloc[:, 0:9].values\n",
        "y = df_all.iloc[:, 9].values"
      ],
      "execution_count": null,
      "outputs": []
    },
    {
      "cell_type": "code",
      "metadata": {
        "id": "UpSb3zYNqRWL"
      },
      "source": [
        "X_train, X_test, y_train, y_test = train_test_split(X, y, test_size=0.4, random_state=101 )"
      ],
      "execution_count": null,
      "outputs": []
    },
    {
      "cell_type": "code",
      "metadata": {
        "id": "7mFUFwl1qRWQ"
      },
      "source": [
        "lm = LinearRegression()"
      ],
      "execution_count": null,
      "outputs": []
    },
    {
      "cell_type": "code",
      "metadata": {
        "id": "6n1kfVbYqRWT",
        "colab": {
          "base_uri": "https://localhost:8080/",
          "height": 51
        },
        "outputId": "e596d0c3-fc60-4250-ef63-6fb6077d52f4"
      },
      "source": [
        "lm.fit(X_train, y_train)"
      ],
      "execution_count": null,
      "outputs": [
        {
          "output_type": "execute_result",
          "data": {
            "text/plain": [
              "LinearRegression(copy_X=True, fit_intercept=True, n_jobs=None,\n",
              "         normalize=False)"
            ]
          },
          "metadata": {
            "tags": []
          },
          "execution_count": 375
        }
      ]
    },
    {
      "cell_type": "code",
      "metadata": {
        "id": "A_2TJV2bqRWZ",
        "colab": {
          "base_uri": "https://localhost:8080/",
          "height": 68
        },
        "outputId": "2bf61abc-3795-4c74-d8d2-04990920da26"
      },
      "source": [
        "print(lm.intercept_)\n",
        "lm.coef_"
      ],
      "execution_count": null,
      "outputs": [
        {
          "output_type": "stream",
          "text": [
            "0.1232055327357307\n"
          ],
          "name": "stdout"
        },
        {
          "output_type": "execute_result",
          "data": {
            "text/plain": [
              "array([ 0.035, -0.007,  0.044, -0.243,  0.104,  0.168, -0.283,  0.106,\n",
              "        0.084])"
            ]
          },
          "metadata": {
            "tags": []
          },
          "execution_count": 376
        }
      ]
    },
    {
      "cell_type": "code",
      "metadata": {
        "id": "GNd8BkK5qRWg"
      },
      "source": [
        "predictions = lm.predict(X_test)"
      ],
      "execution_count": null,
      "outputs": []
    },
    {
      "cell_type": "markdown",
      "metadata": {
        "id": "MPzh5lnsqyrv"
      },
      "source": [
        "### Plotting"
      ]
    },
    {
      "cell_type": "code",
      "metadata": {
        "id": "vILqfMGJqRWj"
      },
      "source": [
        "import seaborn as sns"
      ],
      "execution_count": null,
      "outputs": []
    },
    {
      "cell_type": "code",
      "metadata": {
        "id": "mG_yimbCqRWl"
      },
      "source": [
        "import matplotlib.pyplot as plt"
      ],
      "execution_count": null,
      "outputs": []
    },
    {
      "cell_type": "code",
      "metadata": {
        "id": "8fOhE89dqRWm"
      },
      "source": [
        "%matplotlib inline"
      ],
      "execution_count": null,
      "outputs": []
    },
    {
      "cell_type": "code",
      "metadata": {
        "id": "2ouoKP2XqRWo",
        "colab": {
          "base_uri": "https://localhost:8080/",
          "height": 286
        },
        "outputId": "62a3e9c2-0c07-43a7-f919-9e88398fe905"
      },
      "source": [
        "plt.scatter(y_test,predictions)\n",
        "# plt.plot(y_test,predictions, color='r')"
      ],
      "execution_count": null,
      "outputs": [
        {
          "output_type": "execute_result",
          "data": {
            "text/plain": [
              "<matplotlib.collections.PathCollection at 0x7f6d8f3e2990>"
            ]
          },
          "metadata": {
            "tags": []
          },
          "execution_count": 381
        },
        {
          "output_type": "display_data",
          "data": {
            "image/png": "[encoded data removed]",
            "text/plain": [
              "<Figure size 432x288 with 1 Axes>"
            ]
          },
          "metadata": {
            "tags": []
          }
        }
      ]
    },
    {
      "cell_type": "code",
      "metadata": {
        "id": "Ct1tWyjOqRWr",
        "colab": {
          "base_uri": "https://localhost:8080/",
          "height": 286
        },
        "outputId": "7743c2be-42c2-4bc9-9b74-3defd06d3ebe"
      },
      "source": [
        "sns.distplot((y_test-predictions))"
      ],
      "execution_count": null,
      "outputs": [
        {
          "output_type": "execute_result",
          "data": {
            "text/plain": [
              "<matplotlib.axes._subplots.AxesSubplot at 0x7f6d8f3bd190>"
            ]
          },
          "metadata": {
            "tags": []
          },
          "execution_count": 382
        },
        {
          "output_type": "display_data",
          "data": {
            "image/png": "[encoded data removed]",
            "text/plain": [
              "<Figure size 432x288 with 1 Axes>"
            ]
          },
          "metadata": {
            "tags": []
          }
        }
      ]
    },
    {
      "cell_type": "code",
      "metadata": {
        "id": "FwaP-nquqRWt"
      },
      "source": [
        "from sklearn import metrics"
      ],
      "execution_count": null,
      "outputs": []
    },
    {
      "cell_type": "code",
      "metadata": {
        "id": "D6jlN1iCqRWv",
        "colab": {
          "base_uri": "https://localhost:8080/",
          "height": 34
        },
        "outputId": "d74b1538-ad1f-42ce-ed99-028f8ee9a47f"
      },
      "source": [
        "mae_1 = metrics.mean_absolute_error(y_test,predictions)\n",
        "mse_1 = metrics.mean_squared_error(y_test,predictions)\n",
        "rmse_1 = np.sqrt(metrics.mean_squared_error(y_test,predictions))\n",
        "r2_1 = metrics.r2_score(y_test,predictions) # best is 1 \n",
        "r2_1 #  was for the Pauli data 0.7281965333082403"
      ],
      "execution_count": null,
      "outputs": [
        {
          "output_type": "execute_result",
          "data": {
            "text/plain": [
              "0.24823498600249594"
            ]
          },
          "metadata": {
            "tags": []
          },
          "execution_count": 384
        }
      ]
    },
    {
      "cell_type": "code",
      "metadata": {
        "id": "GXggmsz9rReC"
      },
      "source": [
        ""
      ],
      "execution_count": null,
      "outputs": []
    },
    {
      "cell_type": "markdown",
      "metadata": {
        "id": "ZGyMnwDErfVi"
      },
      "source": [
        "## Polynomial Regression with Clifford"
      ]
    },
    {
      "cell_type": "code",
      "metadata": {
        "id": "az5wAS2vri9Q"
      },
      "source": [
        "from sklearn.preprocessing import PolynomialFeatures"
      ],
      "execution_count": null,
      "outputs": []
    },
    {
      "cell_type": "markdown",
      "metadata": {
        "id": "_-2PNk-_r0oU"
      },
      "source": [
        "### Degree 2"
      ]
    },
    {
      "cell_type": "code",
      "metadata": {
        "id": "VzKU0SiGri9S"
      },
      "source": [
        "polynomial_features= PolynomialFeatures(degree=2)"
      ],
      "execution_count": null,
      "outputs": []
    },
    {
      "cell_type": "code",
      "metadata": {
        "id": "KRd_JhWmri9T"
      },
      "source": [
        "x_poly = polynomial_features.fit_transform(X)"
      ],
      "execution_count": null,
      "outputs": []
    },
    {
      "cell_type": "code",
      "metadata": {
        "id": "enWXhP3Hri9U",
        "colab": {
          "base_uri": "https://localhost:8080/",
          "height": 34
        },
        "outputId": "a6ae10df-70fa-4a97-a76a-ef80336a9ee1"
      },
      "source": [
        "X.shape"
      ],
      "execution_count": null,
      "outputs": [
        {
          "output_type": "execute_result",
          "data": {
            "text/plain": [
              "(20480, 9)"
            ]
          },
          "metadata": {
            "tags": []
          },
          "execution_count": 388
        }
      ]
    },
    {
      "cell_type": "code",
      "metadata": {
        "id": "klxoHsW7ri9Z"
      },
      "source": [
        "X_train, X_test, y_train, y_test = train_test_split(x_poly, y, test_size=0.4, random_state=101 )"
      ],
      "execution_count": null,
      "outputs": []
    },
    {
      "cell_type": "code",
      "metadata": {
        "id": "499Y7zOzri9b"
      },
      "source": [
        "model = LinearRegression()"
      ],
      "execution_count": null,
      "outputs": []
    },
    {
      "cell_type": "code",
      "metadata": {
        "id": "VLEdff_Ari9c",
        "colab": {
          "base_uri": "https://localhost:8080/",
          "height": 51
        },
        "outputId": "ee2ff881-e39a-4f68-e120-f5a9ab8746d0"
      },
      "source": [
        "model.fit(X_train, y_train)"
      ],
      "execution_count": null,
      "outputs": [
        {
          "output_type": "execute_result",
          "data": {
            "text/plain": [
              "LinearRegression(copy_X=True, fit_intercept=True, n_jobs=None,\n",
              "         normalize=False)"
            ]
          },
          "metadata": {
            "tags": []
          },
          "execution_count": 391
        }
      ]
    },
    {
      "cell_type": "code",
      "metadata": {
        "id": "Oesex-Fyri9e"
      },
      "source": [
        "y_poly_pred = model.predict(X_test)"
      ],
      "execution_count": null,
      "outputs": []
    },
    {
      "cell_type": "code",
      "metadata": {
        "id": "3OCPTlG_ri9f"
      },
      "source": [
        "predictions2 = y_poly_pred"
      ],
      "execution_count": null,
      "outputs": []
    },
    {
      "cell_type": "code",
      "metadata": {
        "id": "Q3ZUpZ1uri9h",
        "colab": {
          "base_uri": "https://localhost:8080/",
          "height": 286
        },
        "outputId": "134ba1a9-eeb3-4159-abe4-4861cb8284d6"
      },
      "source": [
        "plt.scatter(y_test,predictions2)"
      ],
      "execution_count": null,
      "outputs": [
        {
          "output_type": "execute_result",
          "data": {
            "text/plain": [
              "<matplotlib.collections.PathCollection at 0x7f6d8f304fd0>"
            ]
          },
          "metadata": {
            "tags": []
          },
          "execution_count": 394
        },
        {
          "output_type": "display_data",
          "data": {
            "image/png": "[encoded data removed]",
            "text/plain": [
              "<Figure size 432x288 with 1 Axes>"
            ]
          },
          "metadata": {
            "tags": []
          }
        }
      ]
    },
    {
      "cell_type": "code",
      "metadata": {
        "id": "GddoJBSSri9i",
        "colab": {
          "base_uri": "https://localhost:8080/",
          "height": 34
        },
        "outputId": "e9ff0f93-908f-4dd3-8b7a-4d8d4a339c9b"
      },
      "source": [
        "print(model.intercept_)"
      ],
      "execution_count": null,
      "outputs": [
        {
          "output_type": "stream",
          "text": [
            "-0.016196775657357276\n"
          ],
          "name": "stdout"
        }
      ]
    },
    {
      "cell_type": "code",
      "metadata": {
        "id": "b5wczOa4ri9k",
        "colab": {
          "base_uri": "https://localhost:8080/",
          "height": 34
        },
        "outputId": "d7b700c9-60cf-47a2-fef5-6bdfec45693a"
      },
      "source": [
        "mae_2 = metrics.mean_absolute_error(y_test,predictions2)\n",
        "mse_2 = metrics.mean_squared_error(y_test,predictions2)\n",
        "rmse_2 = np.sqrt(metrics.mean_squared_error(y_test,predictions2))\n",
        "r2_2 = r2_score(y_test,predictions2) # best is 1 \n",
        "r2_2 # for paulis was 0.90"
      ],
      "execution_count": null,
      "outputs": [
        {
          "output_type": "execute_result",
          "data": {
            "text/plain": [
              "0.48906207595088036"
            ]
          },
          "metadata": {
            "tags": []
          },
          "execution_count": 396
        }
      ]
    },
    {
      "cell_type": "code",
      "metadata": {
        "id": "5S6Sc8ZWri9o",
        "colab": {
          "base_uri": "https://localhost:8080/",
          "height": 286
        },
        "outputId": "68350216-568e-47b5-d245-8c193a13cfa9"
      },
      "source": [
        "sns.distplot((y_test-predictions2))"
      ],
      "execution_count": null,
      "outputs": [
        {
          "output_type": "execute_result",
          "data": {
            "text/plain": [
              "<matplotlib.axes._subplots.AxesSubplot at 0x7f6d8f312490>"
            ]
          },
          "metadata": {
            "tags": []
          },
          "execution_count": 397
        },
        {
          "output_type": "display_data",
          "data": {
            "image/png": "[encoded data removed]",
            "text/plain": [
              "<Figure size 432x288 with 1 Axes>"
            ]
          },
          "metadata": {
            "tags": []
          }
        }
      ]
    },
    {
      "cell_type": "code",
      "metadata": {
        "id": "WlOTjk0Zri9q"
      },
      "source": [
        "# sns.pairplot(df_all, x_vars = np.array([0,1,2,3,4,5,6,7,8,9,10,11]), y_vars='Labels', size=7, aspect=0.7, kind='reg')"
      ],
      "execution_count": null,
      "outputs": []
    },
    {
      "cell_type": "markdown",
      "metadata": {
        "id": "86DVoyXGri9s"
      },
      "source": [
        "### Polynomial degree 4"
      ]
    },
    {
      "cell_type": "code",
      "metadata": {
        "id": "MvYvQccOri9t"
      },
      "source": [
        "polynomial_features4= PolynomialFeatures(degree=4)"
      ],
      "execution_count": null,
      "outputs": []
    },
    {
      "cell_type": "code",
      "metadata": {
        "id": "4REx9whEri9u"
      },
      "source": [
        "x_poly4 = polynomial_features4.fit_transform(X)"
      ],
      "execution_count": null,
      "outputs": []
    },
    {
      "cell_type": "code",
      "metadata": {
        "id": "wissHpAqri9u",
        "colab": {
          "base_uri": "https://localhost:8080/",
          "height": 34
        },
        "outputId": "4b9b24db-229e-4041-8d50-2e1e251c3d68"
      },
      "source": [
        "x_poly4.shape"
      ],
      "execution_count": null,
      "outputs": [
        {
          "output_type": "execute_result",
          "data": {
            "text/plain": [
              "(20480, 715)"
            ]
          },
          "metadata": {
            "tags": []
          },
          "execution_count": 401
        }
      ]
    },
    {
      "cell_type": "code",
      "metadata": {
        "id": "OvLB3WWgri9w"
      },
      "source": [
        "X_train, X_test, y_train, y_test = train_test_split(x_poly4, y, test_size=0.4, random_state=101 )"
      ],
      "execution_count": null,
      "outputs": []
    },
    {
      "cell_type": "code",
      "metadata": {
        "id": "6LQ7ITBkri9x"
      },
      "source": [
        "model4 = LinearRegression()"
      ],
      "execution_count": null,
      "outputs": []
    },
    {
      "cell_type": "code",
      "metadata": {
        "id": "TfPi_hevri9y",
        "colab": {
          "base_uri": "https://localhost:8080/",
          "height": 51
        },
        "outputId": "3686156d-d00f-4617-a23b-c858b39b2474"
      },
      "source": [
        "model4.fit(X_train, y_train)"
      ],
      "execution_count": null,
      "outputs": [
        {
          "output_type": "execute_result",
          "data": {
            "text/plain": [
              "LinearRegression(copy_X=True, fit_intercept=True, n_jobs=None,\n",
              "         normalize=False)"
            ]
          },
          "metadata": {
            "tags": []
          },
          "execution_count": 404
        }
      ]
    },
    {
      "cell_type": "code",
      "metadata": {
        "id": "iDRq5v5cri9z"
      },
      "source": [
        "predictions4 = model4.predict(X_test)"
      ],
      "execution_count": null,
      "outputs": []
    },
    {
      "cell_type": "code",
      "metadata": {
        "id": "qVjZF6LTri91",
        "colab": {
          "base_uri": "https://localhost:8080/",
          "height": 34
        },
        "outputId": "dffe7f75-1faf-44a9-cd39-ead1510ded9e"
      },
      "source": [
        "print(model4.intercept_)"
      ],
      "execution_count": null,
      "outputs": [
        {
          "output_type": "stream",
          "text": [
            "-0.42290279177716383\n"
          ],
          "name": "stdout"
        }
      ]
    },
    {
      "cell_type": "code",
      "metadata": {
        "id": "7vjnSsYMri92",
        "colab": {
          "base_uri": "https://localhost:8080/",
          "height": 34
        },
        "outputId": "5afaf3cd-fe5d-4cdc-99a9-4d5767101e96"
      },
      "source": [
        "mae_4 = metrics.mean_absolute_error(y_test,predictions4)\n",
        "mse_4 = metrics.mean_squared_error(y_test,predictions4)\n",
        "rmse_4 = np.sqrt(metrics.mean_squared_error(y_test,predictions4))\n",
        "r2_4 = r2_score(y_test,predictions4) # best is 1 \n",
        "r2_4 # 0.722 for Paulis"
      ],
      "execution_count": null,
      "outputs": [
        {
          "output_type": "execute_result",
          "data": {
            "text/plain": [
              "0.496201332104543"
            ]
          },
          "metadata": {
            "tags": []
          },
          "execution_count": 407
        }
      ]
    },
    {
      "cell_type": "code",
      "metadata": {
        "id": "FZXF70HWWuiY",
        "colab": {
          "base_uri": "https://localhost:8080/",
          "height": 286
        },
        "outputId": "02c0b879-2af1-4797-b6e7-e504b0186add"
      },
      "source": [
        "plt.scatter(y_test,predictions4)"
      ],
      "execution_count": null,
      "outputs": [
        {
          "output_type": "execute_result",
          "data": {
            "text/plain": [
              "<matplotlib.collections.PathCollection at 0x7f6d8f1816d0>"
            ]
          },
          "metadata": {
            "tags": []
          },
          "execution_count": 408
        },
        {
          "output_type": "display_data",
          "data": {
            "image/png": "[encoded data removed]",
            "text/plain": [
              "<Figure size 432x288 with 1 Axes>"
            ]
          },
          "metadata": {
            "tags": []
          }
        }
      ]
    },
    {
      "cell_type": "code",
      "metadata": {
        "id": "e0cmIsNZri96",
        "colab": {
          "base_uri": "https://localhost:8080/",
          "height": 286
        },
        "outputId": "f8d2053f-4658-451f-b334-d051268ac7ef"
      },
      "source": [
        "sns.distplot((y_test-predictions4), bins=50)"
      ],
      "execution_count": null,
      "outputs": [
        {
          "output_type": "execute_result",
          "data": {
            "text/plain": [
              "<matplotlib.axes._subplots.AxesSubplot at 0x7f6d8f13c290>"
            ]
          },
          "metadata": {
            "tags": []
          },
          "execution_count": 409
        },
        {
          "output_type": "display_data",
          "data": {
            "image/png": "[encoded data removed]",
            "text/plain": [
              "<Figure size 432x288 with 1 Axes>"
            ]
          },
          "metadata": {
            "tags": []
          }
        }
      ]
    },
    {
      "cell_type": "markdown",
      "metadata": {
        "id": "JV9d2MXQri98"
      },
      "source": [
        "### Degree 5"
      ]
    },
    {
      "cell_type": "code",
      "metadata": {
        "id": "LKPeeHtBri98"
      },
      "source": [
        "polynomial_features5= PolynomialFeatures(degree=5)"
      ],
      "execution_count": null,
      "outputs": []
    },
    {
      "cell_type": "code",
      "metadata": {
        "id": "CigbBQinri99"
      },
      "source": [
        "x_poly5 = polynomial_features5.fit_transform(X)"
      ],
      "execution_count": null,
      "outputs": []
    },
    {
      "cell_type": "code",
      "metadata": {
        "id": "mbHk-NDpri9-",
        "colab": {
          "base_uri": "https://localhost:8080/",
          "height": 34
        },
        "outputId": "01d03ca7-c396-4387-e549-2b79b914f328"
      },
      "source": [
        "x_poly5.shape"
      ],
      "execution_count": null,
      "outputs": [
        {
          "output_type": "execute_result",
          "data": {
            "text/plain": [
              "(20480, 2002)"
            ]
          },
          "metadata": {
            "tags": []
          },
          "execution_count": 412
        }
      ]
    },
    {
      "cell_type": "code",
      "metadata": {
        "id": "Wg3N9Xm1ri9_"
      },
      "source": [
        "X_train, X_test, y_train, y_test = train_test_split(x_poly5, y, test_size=0.4, random_state=101 )"
      ],
      "execution_count": null,
      "outputs": []
    },
    {
      "cell_type": "code",
      "metadata": {
        "id": "07y4XxY_ri-A"
      },
      "source": [
        "model5 = LinearRegression()"
      ],
      "execution_count": null,
      "outputs": []
    },
    {
      "cell_type": "code",
      "metadata": {
        "id": "tHqES2eZri-B",
        "colab": {
          "base_uri": "https://localhost:8080/",
          "height": 51
        },
        "outputId": "6080acbe-8187-4478-9ac7-87e9f43d69a4"
      },
      "source": [
        "model5.fit(X_train, y_train)"
      ],
      "execution_count": null,
      "outputs": [
        {
          "output_type": "execute_result",
          "data": {
            "text/plain": [
              "LinearRegression(copy_X=True, fit_intercept=True, n_jobs=None,\n",
              "         normalize=False)"
            ]
          },
          "metadata": {
            "tags": []
          },
          "execution_count": 415
        }
      ]
    },
    {
      "cell_type": "code",
      "metadata": {
        "id": "JwwS_Vtwri-C"
      },
      "source": [
        "predictions5 = model5.predict(X_test)"
      ],
      "execution_count": null,
      "outputs": []
    },
    {
      "cell_type": "code",
      "metadata": {
        "id": "PbASsGddri-D",
        "colab": {
          "base_uri": "https://localhost:8080/",
          "height": 34
        },
        "outputId": "9bbbfa3a-37ad-4c86-cb86-426d3024ab3b"
      },
      "source": [
        "print(model5.intercept_)"
      ],
      "execution_count": null,
      "outputs": [
        {
          "output_type": "stream",
          "text": [
            "0.05912249764898325\n"
          ],
          "name": "stdout"
        }
      ]
    },
    {
      "cell_type": "code",
      "metadata": {
        "id": "mmqXrSiuri-E",
        "colab": {
          "base_uri": "https://localhost:8080/",
          "height": 34
        },
        "outputId": "279f0d23-7f24-419c-c7b3-01762403cbe7"
      },
      "source": [
        "mae_5 = metrics.mean_absolute_error(y_test,predictions4)\n",
        "mse_5 = metrics.mean_squared_error(y_test,predictions4)\n",
        "rmse_5 = np.sqrt(metrics.mean_squared_error(y_test,predictions4))\n",
        "r2_5 = r2_score(y_test,predictions5) # best is 1 \n",
        "r2_5"
      ],
      "execution_count": null,
      "outputs": [
        {
          "output_type": "execute_result",
          "data": {
            "text/plain": [
              "0.20969807017996678"
            ]
          },
          "metadata": {
            "tags": []
          },
          "execution_count": 418
        }
      ]
    },
    {
      "cell_type": "markdown",
      "metadata": {
        "id": "DXQxBed-ri-F"
      },
      "source": [
        "## Conclusion for Clifford"
      ]
    },
    {
      "cell_type": "code",
      "metadata": {
        "id": "zneKWi16ri-F",
        "colab": {
          "base_uri": "https://localhost:8080/",
          "height": 353
        },
        "outputId": "d574add3-e0da-4928-a385-814ed6a70e41"
      },
      "source": [
        "fig, axes = plt.subplots(1,4, figsize=(12,5))\n",
        "\n",
        "axes[0].scatter(y_test, predictions) # lm model\n",
        "axes[0].set_title(\"Degree 1\")\n",
        "\n",
        "axes[1].scatter(y_test, predictions2) # model\n",
        "axes[1].set_title(\"Degree 2\")\n",
        "\n",
        "axes[2].scatter(y_test, predictions4) # model4\n",
        "axes[2].set_title(\"Degree 4\")\n",
        "\n",
        "axes[3].scatter(y_test, predictions5) # model5\n",
        "axes[3].set_title(\"Degree 5\")"
      ],
      "execution_count": null,
      "outputs": [
        {
          "output_type": "execute_result",
          "data": {
            "text/plain": [
              "Text(0.5,1,'Degree 5')"
            ]
          },
          "metadata": {
            "tags": []
          },
          "execution_count": 419
        },
        {
          "output_type": "display_data",
          "data": {
            "image/png": "[encoded data removed]",
            "text/plain": [
              "<Figure size 864x360 with 4 Axes>"
            ]
          },
          "metadata": {
            "tags": []
          }
        }
      ]
    },
    {
      "cell_type": "code",
      "metadata": {
        "id": "jNqZ7U7fri-H"
      },
      "source": [
        "lst = ['Degree', 'mean absolute error','mean squared error', 'sqrt(mean squared error)', 'score']\n",
        "data_res = [[' 1', mae_1, mse_1, rmse_1,r2_1], \\\n",
        "           [' 2', mae_2, mse_2, rmse_2,r2_2],\\\n",
        "           [' 4', mae_4, mse_4, rmse_4,r2_4],\n",
        "            [' 5', mae_5, mse_5, rmse_5,r2_5]]\n",
        "results = pd.DataFrame(data_res, columns = lst)"
      ],
      "execution_count": null,
      "outputs": []
    },
    {
      "cell_type": "code",
      "metadata": {
        "id": "_Kl1AAScWuTH",
        "colab": {
          "base_uri": "https://localhost:8080/",
          "height": 173
        },
        "outputId": "fee0c4bb-7152-43d4-feb5-cdd4eb60ef54"
      },
      "source": [
        "results"
      ],
      "execution_count": null,
      "outputs": [
        {
          "output_type": "execute_result",
          "data": {
            "text/html": [
              "<div>\n",
              "<style scoped>\n",
              "    .dataframe tbody tr th:only-of-type {\n",
              "        vertical-align: middle;\n",
              "    }\n",
              "\n",
              "    .dataframe tbody tr th {\n",
              "        vertical-align: top;\n",
              "    }\n",
              "\n",
              "    .dataframe thead th {\n",
              "        text-align: right;\n",
              "    }\n",
              "</style>\n",
              "<table border=\"1\" class=\"dataframe\">\n",
              "  <thead>\n",
              "    <tr style=\"text-align: right;\">\n",
              "      <th></th>\n",
              "      <th>Degree</th>\n",
              "      <th>mean absolute error</th>\n",
              "      <th>mean squared error</th>\n",
              "      <th>sqrt(mean squared error)</th>\n",
              "      <th>score</th>\n",
              "    </tr>\n",
              "  </thead>\n",
              "  <tbody>\n",
              "    <tr>\n",
              "      <th>0</th>\n",
              "      <td>1</td>\n",
              "      <td>0.054488</td>\n",
              "      <td>0.004090</td>\n",
              "      <td>0.063955</td>\n",
              "      <td>0.248235</td>\n",
              "    </tr>\n",
              "    <tr>\n",
              "      <th>1</th>\n",
              "      <td>2</td>\n",
              "      <td>0.043049</td>\n",
              "      <td>0.002780</td>\n",
              "      <td>0.052725</td>\n",
              "      <td>0.489062</td>\n",
              "    </tr>\n",
              "    <tr>\n",
              "      <th>2</th>\n",
              "      <td>4</td>\n",
              "      <td>0.042235</td>\n",
              "      <td>0.002741</td>\n",
              "      <td>0.052355</td>\n",
              "      <td>0.496201</td>\n",
              "    </tr>\n",
              "    <tr>\n",
              "      <th>3</th>\n",
              "      <td>5</td>\n",
              "      <td>0.042235</td>\n",
              "      <td>0.002741</td>\n",
              "      <td>0.052355</td>\n",
              "      <td>0.209698</td>\n",
              "    </tr>\n",
              "  </tbody>\n",
              "</table>\n",
              "</div>"
            ],
            "text/plain": [
              "  Degree  mean absolute error  ...  sqrt(mean squared error)     score\n",
              "0      1             0.054488  ...                  0.063955  0.248235\n",
              "1      2             0.043049  ...                  0.052725  0.489062\n",
              "2      4             0.042235  ...                  0.052355  0.496201\n",
              "3      5             0.042235  ...                  0.052355  0.209698\n",
              "\n",
              "[4 rows x 5 columns]"
            ]
          },
          "metadata": {
            "tags": []
          },
          "execution_count": 421
        }
      ]
    },
    {
      "cell_type": "markdown",
      "metadata": {
        "id": "-5PcLZNuNKpx"
      },
      "source": [
        "# 6 Clifford Case."
      ]
    },
    {
      "cell_type": "markdown",
      "metadata": {
        "id": "4F8n3z5lfCEv"
      },
      "source": [
        "## Definitions."
      ]
    },
    {
      "cell_type": "code",
      "metadata": {
        "id": "HcRPBa14_IEc"
      },
      "source": [
        "# 6 Unitaries from the witness project. I X Y Z (Y+Z) (X+Z) /sqrt2.\n",
        "U6 = np.array([U_d[0], U_d[1], U_d[2], U_d[3], 1.0/sqrt(2)*(U_d[2]+U_d[3]), 1.0/sqrt(2)*(U_d[1]+U_d[3])])"
      ],
      "execution_count": null,
      "outputs": []
    },
    {
      "cell_type": "code",
      "metadata": {
        "id": "1YjkInOnOnw-"
      },
      "source": [
        "# Verify trace(choi(cliff))==2 and that they are unitary. Also, check their rel_entr\n",
        "for i in range(6):\n",
        "  if np.trace(choi(U6[i])) - 2 > 0.000001:\n",
        "    print('Something is wrong with.', i)\n",
        "  elif (U6[i].dot(np.transpose(np.conj(U6[i]))) - np.eye(2) > 0.001).all():\n",
        "    print('Something is wrong with.', i)"
      ],
      "execution_count": null,
      "outputs": []
    },
    {
      "cell_type": "code",
      "metadata": {
        "id": "mHyoFDcfOnxA"
      },
      "source": [
        "# r[1] in [0,R], r[1:3] in [0,1] randomly chosen\n",
        "def rand_arr_cliff6(R):\n",
        "    k = np.array([np.random.random(1)*R, np.random.random(1), np.random.random(1), np.random.random(1)\\\n",
        "                 , np.random.random(1), np.random.random(1)])\n",
        "    return k"
      ],
      "execution_count": null,
      "outputs": []
    },
    {
      "cell_type": "code",
      "metadata": {
        "id": "2_MSs-EoPpyb"
      },
      "source": [
        "def P_j_cliff6(R):\n",
        "    p = rand_arr_cliff6(R) # fix it once\n",
        "    return (p/sum(p)).flatten()"
      ],
      "execution_count": null,
      "outputs": []
    },
    {
      "cell_type": "code",
      "metadata": {
        "id": "iPABPpgWPpyg"
      },
      "source": [
        "def P_ij_cliff6(q,R):# The joint probability for the two unitaries\n",
        "    res = np.zeros((6,6))\n",
        "    pj = P_j_cliff6(R) # So that it's fixed.\n",
        "    pj1 = P_j_cliff6(R)\n",
        "    for i in range(6):\n",
        "        for j in range(6):\n",
        "            if j==i:\n",
        "                res[i][j] = q*pj[j] + (1-q)*pj1[i]*pj[j] #(if q=1, P_x|x = 1 complete correlation, max non-Markovian)\n",
        "            else:\n",
        "                res[i][j] = (1-q)*pj1[i]*pj[j]\n",
        "    return res"
      ],
      "execution_count": null,
      "outputs": []
    },
    {
      "cell_type": "code",
      "metadata": {
        "id": "jSK2TYxMQRix"
      },
      "source": [
        "# sum(sum(P_ij_cliff6(1,1)))\n",
        "# sum(P_j_cliff6(8))"
      ],
      "execution_count": null,
      "outputs": []
    },
    {
      "cell_type": "code",
      "metadata": {
        "id": "JdSng7DIAgiz"
      },
      "source": [
        "def w_cliff6(i,k): \n",
        "#     pure = np.array([[1+np.sqrt(2) ,(1+1j)/sqrt(2)]])\n",
        "    pure = np.array([[1.0 ,5.5+1j*3.0]])\n",
        "    N = np.vdot(pure,pure)\n",
        "    rho = np.kron(pure,np.conj(np.transpose(pure)))/N\n",
        "    term1 = np.matmul(np.conj(np.transpose(U6[i])), np.matmul(rho, U6[i])) # np.matrix.getH gets the conjugate transpose\n",
        "    w = np.kron(term1, choi(U6[k])) #  Not normalised.\n",
        "    return w"
      ],
      "execution_count": null,
      "outputs": []
    },
    {
      "cell_type": "code",
      "metadata": {
        "id": "y0TQgUKbbx5D",
        "colab": {
          "base_uri": "https://localhost:8080/",
          "height": 34
        },
        "outputId": "46a8c858-aadd-4a99-a420-2c8e8ddf6474"
      },
      "source": [
        "np.trace(w_cliff6(5,1))"
      ],
      "execution_count": null,
      "outputs": [
        {
          "output_type": "execute_result",
          "data": {
            "text/plain": [
              "(1.9999999999999996+0j)"
            ]
          },
          "metadata": {
            "tags": []
          },
          "execution_count": 139
        }
      ]
    },
    {
      "cell_type": "code",
      "metadata": {
        "id": "wJCmivQXN_kJ",
        "colab": {
          "base_uri": "https://localhost:8080/",
          "height": 34
        },
        "outputId": "60d6c8a6-f641-4899-8517-43b70a6f1821"
      },
      "source": [
        "# Check the most non-Markovian case.\n",
        "w = np.zeros((8,8),dtype=complex)\n",
        "for i in range(6):\n",
        "    w = w + (1.0/6)*w_cliff6(i,i)    \n",
        "rel_entr(w)  "
      ],
      "execution_count": null,
      "outputs": [
        {
          "output_type": "execute_result",
          "data": {
            "text/plain": [
              "0.571759356124601"
            ]
          },
          "metadata": {
            "tags": []
          },
          "execution_count": 142
        }
      ]
    },
    {
      "cell_type": "code",
      "metadata": {
        "id": "fv2cbqyGOcYf"
      },
      "source": [
        "# The process matrix as a function of q and R\n",
        "def W_cliff6(q, R): \n",
        "    w = np.zeros((8,8),dtype=complex)\n",
        "    p_ = P_ij_cliff6(q,R) # So that it's fixed.\n",
        "    for i in range(6):\n",
        "        for j in range(6):\n",
        "            w = w + p_[i][j]*w_cliff6(i,j) # Still unnormalised.\n",
        "#     if (w.imag == np.zeros((8,8))).all(): # if there's no imaginary part, suppress it\n",
        "#         w = w.real\n",
        "    return w"
      ],
      "execution_count": null,
      "outputs": []
    },
    {
      "cell_type": "code",
      "metadata": {
        "id": "GxAOHQ27P9Oa"
      },
      "source": [
        "def the_data_cliff6(q,R): # Simulating experimental data: for each unitary (I,x,y,z)/each row, we get 3 numbers, for x,y,z .\n",
        "    proc = W_cliff6(q,R)\n",
        "    res = np.zeros((3,3), dtype=complex)\n",
        "    value = rel_entr(proc)\n",
        "    for i in range(3): # The first measurement .\n",
        "        for j in range(1,4):# The final measurement. j runs for 1 to 3 for x y z \n",
        "                res[i][j-1] = np.trace(np.matmul(np.kron(choi(np.conj(sigma_i(i,np.pi/8,np.pi/8,np.pi/8))),sigma_i(j,0,0,0)),proc))\n",
        "    return res,value"
      ],
      "execution_count": null,
      "outputs": []
    },
    {
      "cell_type": "code",
      "metadata": {
        "id": "GUANnxHxRZ5B",
        "colab": {
          "base_uri": "https://localhost:8080/",
          "height": 34
        },
        "outputId": "fe677f4e-23b9-4172-cdbd-b2bef4ee3cbb"
      },
      "source": [
        "sum(the_data_cliff6(1,1)[0])"
      ],
      "execution_count": null,
      "outputs": [
        {
          "output_type": "execute_result",
          "data": {
            "text/plain": [
              "array([ 0.205-0.j, -0.011-0.j,  0.237+0.j])"
            ]
          },
          "metadata": {
            "tags": []
          },
          "execution_count": 160
        }
      ]
    },
    {
      "cell_type": "code",
      "metadata": {
        "id": "EuWioDSlbwqd",
        "colab": {
          "base_uri": "https://localhost:8080/",
          "height": 34
        },
        "outputId": "d3e7a881-774a-4dab-ac35-2cae6b827a51"
      },
      "source": [
        "test = the_data_cliff(1,1)\n",
        "sumt = sum(test[0])\n",
        "print sumt"
      ],
      "execution_count": null,
      "outputs": [
        {
          "output_type": "stream",
          "text": [
            "[0.073+0.j 0.049-0.j 0.374-0.j]\n"
          ],
          "name": "stdout"
        }
      ]
    },
    {
      "cell_type": "markdown",
      "metadata": {
        "id": "W7ezRwB_fIWX"
      },
      "source": [
        "## Testing."
      ]
    },
    {
      "cell_type": "code",
      "metadata": {
        "id": "sJZMebvLP9Od",
        "colab": {
          "base_uri": "https://localhost:8080/",
          "height": 68
        },
        "outputId": "c22fd505-3604-42f6-ac36-b5877846bbb2"
      },
      "source": [
        "# Comparing Cliff24 and Cliff6 data.\n",
        "samples = 400\n",
        "test = np.zeros(samples)\n",
        "test1 = np.zeros(samples)\n",
        "test2 = np.zeros(samples)\n",
        "for i in range(samples):\n",
        "  test[i] = rel_entr(W_cliff(1,1))\n",
        "  test1[i] = rel_entr(W_d(1,1))\n",
        "  test2[i] = rel_entr(W_cliff6(1,1))\n",
        "print test.max()\n",
        "print test1.max()\n",
        "print test2.max()"
      ],
      "execution_count": null,
      "outputs": [
        {
          "output_type": "stream",
          "text": [
            "0.38653743462135504\n",
            "0.999842206403109\n",
            "0.9023841588187009\n"
          ],
          "name": "stdout"
        }
      ]
    },
    {
      "cell_type": "code",
      "metadata": {
        "id": "HxHfhOEzewlh",
        "colab": {
          "base_uri": "https://localhost:8080/",
          "height": 354
        },
        "outputId": "04728eac-6482-482a-b137-b3bb63cc31da"
      },
      "source": [
        "plt.hist(test)\n",
        "plt.hist(test1)\n",
        "plt.hist(test2)"
      ],
      "execution_count": null,
      "outputs": [
        {
          "output_type": "execute_result",
          "data": {
            "text/plain": [
              "(array([ 15.000,  29.000,  39.000,  91.000,  79.000,  71.000,  43.000,\n",
              "         17.000,  13.000,  3.000]),\n",
              " array([ 0.366,  0.419,  0.473,  0.527,  0.580,  0.634,  0.688,  0.741,\n",
              "         0.795,  0.849,  0.902]),\n",
              " <a list of 10 Patch objects>)"
            ]
          },
          "metadata": {
            "tags": []
          },
          "execution_count": 190
        },
        {
          "output_type": "display_data",
          "data": {
            "image/png": "[encoded data removed]",
            "text/plain": [
              "<Figure size 432x288 with 1 Axes>"
            ]
          },
          "metadata": {
            "tags": []
          }
        }
      ]
    },
    {
      "cell_type": "markdown",
      "metadata": {
        "id": "KWaMHoBDfLVG"
      },
      "source": [
        "## Data taking."
      ]
    },
    {
      "cell_type": "code",
      "metadata": {
        "id": "K4lBjV1hfKXi",
        "colab": {
          "base_uri": "https://localhost:8080/",
          "height": 68
        },
        "outputId": "c95ea79e-76fa-49d5-e5b3-dee2bb3f4c40"
      },
      "source": [
        "start = time.time()\n",
        "samples = 1024\n",
        "df_all = pd.DataFrame(np.zeros((1,9)))\n",
        "data = np.zeros((samples,3,3))\n",
        "labels = np.zeros(samples)\n",
        "for q in np.array([8, 9, 10]) :\n",
        "    for R in np.array([1, 2, 5]):\n",
        "        for i in range(samples):\n",
        "            data[[i]], labels[i] = the_data_cliff6(q*0.1,R)\n",
        "\n",
        "        data_new = data.reshape(samples, 9) # Make the data vectors.\n",
        "        df_data = pd.DataFrame(data_new) \n",
        "        df_labels = pd.DataFrame(labels, columns = ['Labels'])\n",
        "        df = df_data.join(df_labels, how='right')\n",
        "#          Need to append data in one big file df_all.\n",
        "        df_all = df_all.append(df)\n",
        "#         df.to_csv('Sdata_0%d_%d' %(q,R), index=False) # No need to save each dataframe anymore.\n",
        "df_all = df_all.reset_index()\n",
        "df_all = df_all.drop(0) # Drop the zeros of first line.\n",
        "df_all = df_all.drop('index', axis=1)\n",
        "df_all.to_csv('Sim_data_Cliff6.csv')\n",
        "end = time.time()\n",
        "print(end - start)"
      ],
      "execution_count": null,
      "outputs": [
        {
          "output_type": "stream",
          "text": [
            "/usr/local/lib/python2.7/dist-packages/ipykernel_launcher.py:9: ComplexWarning: Casting complex values to real discards the imaginary part\n",
            "  if __name__ == '__main__':\n"
          ],
          "name": "stderr"
        },
        {
          "output_type": "stream",
          "text": [
            "63.3694989681\n"
          ],
          "name": "stdout"
        }
      ]
    },
    {
      "cell_type": "markdown",
      "metadata": {
        "id": "sFMMxyTQiWsF"
      },
      "source": [
        "## Linear regression for Clifford 6."
      ]
    },
    {
      "cell_type": "code",
      "metadata": {
        "id": "3qYNS80mipBC"
      },
      "source": [
        "X = df_all[[0, 1, 2, 3, 4, 5, 6, 7, 8]]\n",
        "y = df_all['Labels']"
      ],
      "execution_count": null,
      "outputs": []
    },
    {
      "cell_type": "code",
      "metadata": {
        "id": "_pdXMA16ipBF"
      },
      "source": [
        "from sklearn.model_selection import train_test_split"
      ],
      "execution_count": null,
      "outputs": []
    },
    {
      "cell_type": "code",
      "metadata": {
        "id": "EndccRBripBG"
      },
      "source": [
        "X_train, X_test, y_train, y_test = train_test_split(X, y, test_size=0.4, random_state=101 )"
      ],
      "execution_count": null,
      "outputs": []
    },
    {
      "cell_type": "code",
      "metadata": {
        "id": "RFjSrHX7ipBI"
      },
      "source": [
        "from sklearn.linear_model import LinearRegression"
      ],
      "execution_count": null,
      "outputs": []
    },
    {
      "cell_type": "code",
      "metadata": {
        "id": "ue15A6QlipBK"
      },
      "source": [
        "lm = LinearRegression()"
      ],
      "execution_count": null,
      "outputs": []
    },
    {
      "cell_type": "code",
      "metadata": {
        "id": "2wtLvaU4ipBM",
        "colab": {
          "base_uri": "https://localhost:8080/",
          "height": 51
        },
        "outputId": "05a55047-29d9-4324-cb89-f0d834d096a0"
      },
      "source": [
        "lm.fit(X_train, y_train)"
      ],
      "execution_count": null,
      "outputs": [
        {
          "output_type": "execute_result",
          "data": {
            "text/plain": [
              "LinearRegression(copy_X=True, fit_intercept=True, n_jobs=None,\n",
              "         normalize=False)"
            ]
          },
          "metadata": {
            "tags": []
          },
          "execution_count": 204
        }
      ]
    },
    {
      "cell_type": "code",
      "metadata": {
        "id": "yfVP51HQipBP",
        "colab": {
          "base_uri": "https://localhost:8080/",
          "height": 34
        },
        "outputId": "dda2f19a-c991-4d75-bf7e-edca8d141a37"
      },
      "source": [
        "print(lm.intercept_)"
      ],
      "execution_count": null,
      "outputs": [
        {
          "output_type": "stream",
          "text": [
            "-0.8282773424179699\n"
          ],
          "name": "stdout"
        }
      ]
    },
    {
      "cell_type": "code",
      "metadata": {
        "id": "DQpnukPDipBR",
        "colab": {
          "base_uri": "https://localhost:8080/",
          "height": 51
        },
        "outputId": "735dc730-50c0-4d2a-f95c-6e05d56644ed"
      },
      "source": [
        "lm.coef_"
      ],
      "execution_count": null,
      "outputs": [
        {
          "output_type": "execute_result",
          "data": {
            "text/plain": [
              "array([ 1.618,  0.527, -0.804,  0.030,  0.833, -0.003,  0.469,  0.358,\n",
              "        0.490])"
            ]
          },
          "metadata": {
            "tags": []
          },
          "execution_count": 206
        }
      ]
    },
    {
      "cell_type": "code",
      "metadata": {
        "id": "ziAf7AK3ipBU"
      },
      "source": [
        "predictions = lm.predict(X_test)"
      ],
      "execution_count": null,
      "outputs": []
    },
    {
      "cell_type": "code",
      "metadata": {
        "id": "z-FJmG_iipBV",
        "colab": {
          "base_uri": "https://localhost:8080/",
          "height": 286
        },
        "outputId": "27b745b4-409b-4241-86e9-83b62d8608b1"
      },
      "source": [
        "plt.scatter(y_test,predictions)\n",
        "# plt.plot(y_test,predictions, color='r')"
      ],
      "execution_count": null,
      "outputs": [
        {
          "output_type": "execute_result",
          "data": {
            "text/plain": [
              "<matplotlib.collections.PathCollection at 0x7f75b2978810>"
            ]
          },
          "metadata": {
            "tags": []
          },
          "execution_count": 208
        },
        {
          "output_type": "display_data",
          "data": {
            "image/png": "[encoded data removed]",
            "text/plain": [
              "<Figure size 432x288 with 1 Axes>"
            ]
          },
          "metadata": {
            "tags": []
          }
        }
      ]
    },
    {
      "cell_type": "code",
      "metadata": {
        "id": "kFs5EoMYipBX",
        "colab": {
          "base_uri": "https://localhost:8080/",
          "height": 300
        },
        "outputId": "1edf8fc4-69a1-4b14-d016-cd543c9b7d87"
      },
      "source": [
        "sns.distplot((y_test-predictions))"
      ],
      "execution_count": null,
      "outputs": [
        {
          "output_type": "execute_result",
          "data": {
            "text/plain": [
              "<matplotlib.axes._subplots.AxesSubplot at 0x7f75b292f490>"
            ]
          },
          "metadata": {
            "tags": []
          },
          "execution_count": 209
        },
        {
          "output_type": "display_data",
          "data": {
            "image/png": "[encoded data removed]",
            "text/plain": [
              "<Figure size 432x288 with 1 Axes>"
            ]
          },
          "metadata": {
            "tags": []
          }
        }
      ]
    },
    {
      "cell_type": "code",
      "metadata": {
        "id": "9HNxk_KpipBa"
      },
      "source": [
        "from sklearn import metrics"
      ],
      "execution_count": null,
      "outputs": []
    },
    {
      "cell_type": "code",
      "metadata": {
        "id": "2gtj-sGMipBc",
        "colab": {
          "base_uri": "https://localhost:8080/",
          "height": 34
        },
        "outputId": "1e2cb1af-153a-4495-d342-932df4e9c632"
      },
      "source": [
        "mae_1 = metrics.mean_absolute_error(y_test,predictions)\n",
        "mse_1 = metrics.mean_squared_error(y_test,predictions)\n",
        "rmse_1 = np.sqrt(metrics.mean_squared_error(y_test,predictions))\n",
        "r2_1 = metrics.r2_score(y_test,predictions) # best is 1 \n",
        "r2_1"
      ],
      "execution_count": null,
      "outputs": [
        {
          "output_type": "execute_result",
          "data": {
            "text/plain": [
              "0.7903243700833589"
            ]
          },
          "metadata": {
            "tags": []
          },
          "execution_count": 211
        }
      ]
    },
    {
      "cell_type": "markdown",
      "metadata": {
        "id": "whqqtfS2SabW"
      },
      "source": [
        "# IX Case."
      ]
    },
    {
      "cell_type": "markdown",
      "metadata": {
        "id": "nOd1i95LoDGc"
      },
      "source": [
        "## Definitions and testing."
      ]
    },
    {
      "cell_type": "code",
      "metadata": {
        "id": "K9L48puHj1TB"
      },
      "source": [
        "U_ix = np.array([[[1,0],[0,1]] , [[0, 1],[1, 0]]]) # Pauli matrices I X\n",
        "def rand_arr_ix(R):\n",
        "    k = np.array([np.random.random(1)*R, np.random.random(1)])\n",
        "    return k\n",
        "  \n",
        "  \n",
        "def P_j_ix(R):\n",
        "    p = rand_arr_ix(R) # fix it once\n",
        "    return (p/sum(p)).flatten()\n",
        "  \n",
        "  \n",
        "def P_ij_ix(q,R):# The joint probability for the two unitaries\n",
        "    res = np.zeros((2,2))\n",
        "    pj = P_j_ix(R) # So that it's fixed.\n",
        "    pj1 = P_j_ix(R)\n",
        "    for i in range(2):\n",
        "        for j in range(2):\n",
        "            if j==i:\n",
        "                res[i][j] = q*pj[j] + (1-q)*pj1[i]*pj[j] #(if q=1, P_x|x = 1 complete correlation, max non-Markovian)\n",
        "            else:\n",
        "                res[i][j] = (1-q)*pj1[i]*pj[j]\n",
        "    return res"
      ],
      "execution_count": null,
      "outputs": []
    },
    {
      "cell_type": "code",
      "metadata": {
        "id": "Un5fR6-hmNq2",
        "colab": {
          "base_uri": "https://localhost:8080/",
          "height": 51
        },
        "outputId": "aa6b407b-4ba0-4e15-fe58-8ff409a16b66"
      },
      "source": [
        "P_ij_ix(1,1)"
      ],
      "execution_count": null,
      "outputs": [
        {
          "output_type": "execute_result",
          "data": {
            "text/plain": [
              "array([[ 0.122,  0.000],\n",
              "       [ 0.000,  0.878]])"
            ]
          },
          "metadata": {
            "tags": []
          },
          "execution_count": 253
        }
      ]
    },
    {
      "cell_type": "code",
      "metadata": {
        "id": "UQ9gjftdj1TD"
      },
      "source": [
        "# A process matrix, for IX\n",
        "def w_ix(i,j): \n",
        "    pure = np.array([[1 ,5.5+1j*3]])\n",
        "    N = np.vdot(pure,pure)\n",
        "    rho = np.kron(pure,np.conj(np.transpose(pure)))/N\n",
        "    term1 = np.matmul(np.conj(np.transpose(U_ix[i])), np.matmul(rho, U_ix[i]))\n",
        "    w = np.kron(term1, choi(U_ix[j])) #  Not normalised.\n",
        "    return w"
      ],
      "execution_count": null,
      "outputs": []
    },
    {
      "cell_type": "code",
      "metadata": {
        "id": "R98cjOICj1TE"
      },
      "source": [
        "# The process matrix as a function of q and R\n",
        "def W_ix(q, R): \n",
        "    w = np.zeros((8,8),dtype=complex)\n",
        "    p_ij = P_ij_ix(q,R) # So that it's fixed.\n",
        "    for i in range(2):\n",
        "        for j in range(2):\n",
        "            w = w + p_ij[i][j]*w_ix(i,j) # Still unnormalised.\n",
        "#     if (w.imag == np.zeros((8,8))).all(): # if there's no imaginary part, suppress it\n",
        "#         w = w.real\n",
        "    return w"
      ],
      "execution_count": null,
      "outputs": []
    },
    {
      "cell_type": "code",
      "metadata": {
        "id": "tV9GMoKOm-5p"
      },
      "source": [
        "def the_data_ix(q,R): \n",
        "    proc = W_ix(q,R)\n",
        "    res = np.zeros((3,3),dtype=complex)\n",
        "    value = rel_entr(proc)\n",
        "    for i in range(3): # The first measurement. We drop z.\n",
        "        for j in range(1,4):# The final measurement. j runs for 1 to 3 for x y z, we drop I. \n",
        "                res[i][j-1] = np.trace(np.matmul(np.kron(choi(np.conj(sigma_i(i,np.pi/8,np.pi/8,np.pi/8))),sigma_i(j,0,0,0)),proc))\n",
        "    return res,value"
      ],
      "execution_count": null,
      "outputs": []
    },
    {
      "cell_type": "code",
      "metadata": {
        "id": "2uqvi-AQnJ8G",
        "colab": {
          "base_uri": "https://localhost:8080/",
          "height": 354
        },
        "outputId": "5dda4cae-f81a-437c-e2a3-8e4c23a43afc"
      },
      "source": [
        "samples=100\n",
        "test4 = np.zeros(samples)\n",
        "for i in range(samples):\n",
        "  test4[i] = the_data_ix(1,1)[1]\n",
        "plt.hist(test4)"
      ],
      "execution_count": null,
      "outputs": [
        {
          "output_type": "execute_result",
          "data": {
            "text/plain": [
              "(array([ 3.000,  5.000,  1.000,  1.000,  3.000,  0.000,  3.000,  9.000,\n",
              "         15.000,  60.000]),\n",
              " array([ 0.056,  0.145,  0.234,  0.323,  0.412,  0.501,  0.590,  0.679,\n",
              "         0.768,  0.856,  0.945]),\n",
              " <a list of 10 Patch objects>)"
            ]
          },
          "metadata": {
            "tags": []
          },
          "execution_count": 268
        },
        {
          "output_type": "display_data",
          "data": {
            "image/png": "[encoded data removed]",
            "text/plain": [
              "<Figure size 432x288 with 1 Axes>"
            ]
          },
          "metadata": {
            "tags": []
          }
        }
      ]
    },
    {
      "cell_type": "markdown",
      "metadata": {
        "id": "PJqJZDn8mt2D"
      },
      "source": [
        "## Data taking."
      ]
    },
    {
      "cell_type": "code",
      "metadata": {
        "id": "TegNsXV2mtPC",
        "colab": {
          "base_uri": "https://localhost:8080/",
          "height": 68
        },
        "outputId": "933892b5-7eeb-4b57-98bf-e988e2fa7a4b"
      },
      "source": [
        "start = time.time()\n",
        "samples = 2048\n",
        "df_all = pd.DataFrame(np.zeros((1,9)))\n",
        "data = np.zeros((samples,3,3))\n",
        "labels = np.zeros(samples)\n",
        "for q in np.array([8, 9, 10]) :\n",
        "    for R in np.array([1, 2, 5]):\n",
        "        for i in range(samples):\n",
        "            data[[i]], labels[i] = the_data_ix(q*0.1,R)\n",
        "\n",
        "        data_new = data.reshape(samples, 9) # Make the data vectors.\n",
        "        df_data = pd.DataFrame(data_new) \n",
        "        df_labels = pd.DataFrame(labels, columns = ['Labels'])\n",
        "        df = df_data.join(df_labels, how='right')\n",
        "#          Need to append data in one big file df_all.\n",
        "        df_all = df_all.append(df)\n",
        "#         df.to_csv('Sdata_0%d_%d' %(q,R), index=False) # No need to save each dataframe anymore.\n",
        "df_all = df_all.reset_index()\n",
        "df_all = df_all.drop(0) # Drop the zeros of first line.\n",
        "df_all = df_all.drop('index', axis=1)\n",
        "df_all.to_csv('Sim_data_IX.csv')\n",
        "end = time.time()\n",
        "print(end - start)"
      ],
      "execution_count": null,
      "outputs": [
        {
          "output_type": "stream",
          "text": [
            "/usr/local/lib/python2.7/dist-packages/ipykernel_launcher.py:9: ComplexWarning: Casting complex values to real discards the imaginary part\n",
            "  if __name__ == '__main__':\n"
          ],
          "name": "stderr"
        },
        {
          "output_type": "stream",
          "text": [
            "37.6612021923\n"
          ],
          "name": "stdout"
        }
      ]
    },
    {
      "cell_type": "code",
      "metadata": {
        "id": "iwcbv15JoQEe",
        "colab": {
          "base_uri": "https://localhost:8080/",
          "height": 170
        },
        "outputId": "14e8d7d6-3ced-41b1-ba10-948509782711"
      },
      "source": [
        "df_all['Labels'].describe()"
      ],
      "execution_count": null,
      "outputs": [
        {
          "output_type": "execute_result",
          "data": {
            "text/plain": [
              "count    1200.000000\n",
              "mean        0.486922\n",
              "std         0.235461\n",
              "min        -0.000018\n",
              "25%         0.326010\n",
              "50%         0.490126\n",
              "75%         0.654705\n",
              "max         0.945432\n",
              "Name: Labels, dtype: float64"
            ]
          },
          "metadata": {
            "tags": []
          },
          "execution_count": 273
        }
      ]
    },
    {
      "cell_type": "code",
      "metadata": {
        "id": "5LVKJkRroQEj",
        "colab": {
          "base_uri": "https://localhost:8080/",
          "height": 354
        },
        "outputId": "4b3f3d43-5975-44d0-e167-7170e0673959"
      },
      "source": [
        "plt.hist(df_all['Labels'])"
      ],
      "execution_count": null,
      "outputs": [
        {
          "output_type": "execute_result",
          "data": {
            "text/plain": [
              "(array([ 354.000,  544.000,  682.000,  945.000,  1258.000,  1683.000,\n",
              "         1162.000,  951.000,  480.000,  1157.000]),\n",
              " array([-0.001,  0.094,  0.189,  0.283,  0.378,  0.472,  0.567,  0.662,\n",
              "         0.756,  0.851,  0.945]),\n",
              " <a list of 10 Patch objects>)"
            ]
          },
          "metadata": {
            "tags": []
          },
          "execution_count": 280
        },
        {
          "output_type": "display_data",
          "data": {
            "image/png": "[encoded data removed]",
            "text/plain": [
              "<Figure size 432x288 with 1 Axes>"
            ]
          },
          "metadata": {
            "tags": []
          }
        }
      ]
    },
    {
      "cell_type": "markdown",
      "metadata": {
        "id": "CdwCUQB3RTuC"
      },
      "source": [
        "# Adding more testing unitaries for the case where the model cannot predict the labels well. "
      ]
    },
    {
      "cell_type": "markdown",
      "metadata": {
        "id": "cV1vsESgRatu"
      },
      "source": [
        "### From the Clifford group"
      ]
    },
    {
      "cell_type": "code",
      "metadata": {
        "id": "vrrmshJhYpGD"
      },
      "source": [
        "def sigma_rot(x,y):\n",
        "  return sigma_i(x,y,y,y)"
      ],
      "execution_count": null,
      "outputs": []
    },
    {
      "cell_type": "code",
      "metadata": {
        "id": "rZtzqy4oXaVp"
      },
      "source": [
        "# First, we want add four more measurements for each test unitary.\n",
        "y = np.pi/8\n",
        "z = 0\n",
        "U1_add = np.array([sigma_rot(0,y), sigma_rot(1,y), sigma_rot(2,y), sigma_rot(3,y), cliff[10], cliff[20] ])\n",
        "U2_add = np.array([sigma_rot(0,z), sigma_rot(1,z), sigma_rot(2,z), sigma_rot(3,z), cliff[10], cliff[20] ])"
      ],
      "execution_count": null,
      "outputs": []
    },
    {
      "cell_type": "code",
      "metadata": {
        "id": "gOVC5s1cRYJK",
        "colab": {
          "base_uri": "https://localhost:8080/",
          "height": 51
        },
        "outputId": "63849b47-fd0d-453d-c690-e97b1e09bc17"
      },
      "source": [
        "cliff[3]"
      ],
      "execution_count": null,
      "outputs": [
        {
          "output_type": "execute_result",
          "data": {
            "text/plain": [
              "array([[ 0.707, -0.707],\n",
              "       [ 0.707,  0.707]])"
            ]
          },
          "metadata": {
            "tags": []
          },
          "execution_count": 75
        }
      ]
    },
    {
      "cell_type": "markdown",
      "metadata": {
        "id": "Hp2KjfXpSUW-"
      },
      "source": [
        "#### Generate the data"
      ]
    },
    {
      "cell_type": "code",
      "metadata": {
        "id": "bn4Z10-MSUW-"
      },
      "source": [
        "def the_data_cliff_add(q,R): # Simulating experimental data: for each unitary (I,x,y,z)/each row, we get 3 numbers, for x,y,z .\n",
        "    proc = W_cliff(q,R)\n",
        "    res = np.zeros((6,6))\n",
        "    value = rel_entr(proc)\n",
        "    for i in range(6): # The first measurement.\n",
        "        for j in range(6):# The final measurement. j runs for 1 to 3 for x y z \n",
        "                res[i][j] = np.trace(np.matmul(np.kron(choi(np.conj(U1_add[i])),U2_add[j]),proc))\n",
        "    return res,value"
      ],
      "execution_count": null,
      "outputs": []
    },
    {
      "cell_type": "code",
      "metadata": {
        "id": "4jYZjMv1SUW_",
        "colab": {
          "base_uri": "https://localhost:8080/",
          "height": 170
        },
        "outputId": "eea1b683-404c-496d-bb9f-6a95ab56420c"
      },
      "source": [
        "test = the_data_cliff_add(1,1)\n",
        "print(test)\n",
        "sum(test[0])"
      ],
      "execution_count": null,
      "outputs": [
        {
          "output_type": "stream",
          "text": [
            "(array([[ 0.396,  0.045, -0.052, -0.113, -0.080, -0.080],\n",
            "       [ 0.398,  0.004,  0.081,  0.195,  0.138,  0.138],\n",
            "       [ 0.394, -0.038, -0.082,  0.200,  0.141,  0.141],\n",
            "       [ 0.393, -0.014,  0.053, -0.106, -0.075, -0.075],\n",
            "       [ 0.198, -0.021,  0.026, -0.050, -0.036, -0.036],\n",
            "       [ 0.198, -0.021,  0.026, -0.050, -0.036, -0.036]]), 0.4193383669981521)\n"
          ],
          "name": "stdout"
        },
        {
          "output_type": "stream",
          "text": [
            "/usr/local/lib/python2.7/dist-packages/ipykernel_launcher.py:7: ComplexWarning: Casting complex values to real discards the imaginary part\n",
            "  import sys\n"
          ],
          "name": "stderr"
        },
        {
          "output_type": "execute_result",
          "data": {
            "text/plain": [
              "array([ 1.977, -0.046,  0.052,  0.076,  0.054,  0.054])"
            ]
          },
          "metadata": {
            "tags": []
          },
          "execution_count": 80
        }
      ]
    },
    {
      "cell_type": "markdown",
      "metadata": {
        "id": "itUKsYYGSUXB"
      },
      "source": [
        "## New Data taking with the adding testing Unitaries from Clifford"
      ]
    },
    {
      "cell_type": "code",
      "metadata": {
        "id": "zg9SlpdbSUXB"
      },
      "source": [
        "import time"
      ],
      "execution_count": null,
      "outputs": []
    },
    {
      "cell_type": "code",
      "metadata": {
        "id": "4T8q1DxRSUXE",
        "colab": {
          "base_uri": "https://localhost:8080/",
          "height": 68
        },
        "outputId": "51fa6414-9e43-4b3e-f592-998da1e37a67"
      },
      "source": [
        "# Testing the max non-Markovianity for a small sample and for q = 1, R = 1.\n",
        "sample = 100\n",
        "testing = np.zeros(sample)\n",
        "for i in range(sample):\n",
        "    testing[i] = the_data_cliff_add(1,1)[1]\n",
        "print(testing.max())"
      ],
      "execution_count": null,
      "outputs": [
        {
          "output_type": "stream",
          "text": [
            "/usr/local/lib/python2.7/dist-packages/ipykernel_launcher.py:7: ComplexWarning: Casting complex values to real discards the imaginary part\n",
            "  import sys\n"
          ],
          "name": "stderr"
        },
        {
          "output_type": "stream",
          "text": [
            "0.45840488575176086\n"
          ],
          "name": "stdout"
        }
      ]
    },
    {
      "cell_type": "code",
      "metadata": {
        "id": "aJ8G8dFnSUXI",
        "colab": {
          "base_uri": "https://localhost:8080/",
          "height": 152
        },
        "outputId": "58c27396-e296-4a0f-dcbc-380db4e5d3b8"
      },
      "source": [
        "# This has NOT BEEN EDITED for this section\n",
        "start = time.time()\n",
        "samples = 2048\n",
        "df_all = pd.DataFrame(np.zeros((1,12)))\n",
        "data = np.zeros((samples,4,3))\n",
        "labels = np.zeros(samples)\n",
        "for q in np.array([0, 3, 6, 8, 9, 10]) :\n",
        "    for R in np.array([1, 10, 100, 1000]):\n",
        "        for i in range(samples):\n",
        "            data[[i]], labels[i] = the_data_cliff_add(q*0.1,R)\n",
        "\n",
        "        data_new = data.reshape(samples, 12) # Make the data vectors.\n",
        "        df_data = pd.DataFrame(data_new) \n",
        "        df_labels = pd.DataFrame(labels, columns = ['Labels'])\n",
        "        df = df_data.join(df_labels, how='right')\n",
        "#          Need to append data in one big file df_all.\n",
        "        df_all = df_all.append(df)\n",
        "#         df.to_csv('Sdata_0%d_%d' %(q,R), index=False) # No need to save each dataframe anymore.\n",
        "df_all = df_all.reset_index()\n",
        "df_all = df_all.drop(0) # Drop the zeros of first line.\n",
        "df_all = df_all.drop('index', axis=1)\n",
        "df_all.to_csv('Sim_data_Cliff_add.csv')\n",
        "end = time.time()\n",
        "print(end - start)"
      ],
      "execution_count": null,
      "outputs": [
        {
          "output_type": "stream",
          "text": [
            "/usr/local/lib/python2.7/dist-packages/ipykernel_launcher.py:7: ComplexWarning: Casting complex values to real discards the imaginary part\n",
            "  import sys\n"
          ],
          "name": "stderr"
        },
        {
          "output_type": "stream",
          "text": [
            "2549.5753541\n"
          ],
          "name": "stdout"
        }
      ]
    },
    {
      "cell_type": "code",
      "metadata": {
        "id": "mq_WzV3VSUXL"
      },
      "source": [
        "df_all.to_csv('/content/drive/My Drive/Colab Notebooks/Sim_data_Cliff_add.csv')"
      ],
      "execution_count": null,
      "outputs": []
    },
    {
      "cell_type": "code",
      "metadata": {
        "id": "jMdqTKe2SUXN"
      },
      "source": [
        "# Read the saved data\n",
        "df_Cliff = pd.read_csv('Sim_data_Cliff.csv')"
      ],
      "execution_count": null,
      "outputs": []
    },
    {
      "cell_type": "code",
      "metadata": {
        "id": "ZxMY_DrASUXQ"
      },
      "source": [
        "df_Cliff['Labels'].max()"
      ],
      "execution_count": null,
      "outputs": []
    },
    {
      "cell_type": "code",
      "metadata": {
        "id": "lBl_8Z57SUXT",
        "colab": {
          "base_uri": "https://localhost:8080/",
          "height": 216
        },
        "outputId": "b0d7be39-2c30-4806-bf52-09aa4cad035b"
      },
      "source": [
        "df_all['Labels'].describe()"
      ],
      "execution_count": null,
      "outputs": [
        {
          "output_type": "execute_result",
          "data": {
            "text/plain": [
              "count    49152.000000\n",
              "mean         0.236315\n",
              "std          0.148656\n",
              "min          0.005646\n",
              "25%          0.089888\n",
              "50%          0.302747\n",
              "75%          0.368357\n",
              "max          0.496510\n",
              "Name: Labels, dtype: float64"
            ]
          },
          "metadata": {
            "tags": []
          },
          "execution_count": 153
        }
      ]
    },
    {
      "cell_type": "code",
      "metadata": {
        "id": "4MAsMhebSUXW",
        "colab": {
          "base_uri": "https://localhost:8080/",
          "height": 307
        },
        "outputId": "3c0e8230-ee8f-4844-b37f-6a88d032e5b8"
      },
      "source": [
        "data_corr = df_data.corr()\n",
        "sns.heatmap(data_corr)"
      ],
      "execution_count": null,
      "outputs": [
        {
          "output_type": "execute_result",
          "data": {
            "text/plain": [
              "<matplotlib.axes._subplots.AxesSubplot at 0x7fcc01328510>"
            ]
          },
          "metadata": {
            "tags": []
          },
          "execution_count": 156
        },
        {
          "output_type": "display_data",
          "data": {
            "image/png": "[encoded data removed]",
            "text/plain": [
              "<Figure size 432x288 with 2 Axes>"
            ]
          },
          "metadata": {
            "tags": []
          }
        }
      ]
    },
    {
      "cell_type": "markdown",
      "metadata": {
        "id": "SJw_Ui5NzPet"
      },
      "source": [
        "# Testing regressor for transferable learning (Pauli, Cliff)"
      ]
    },
    {
      "cell_type": "code",
      "metadata": {
        "id": "L9FSm-kpzhfv"
      },
      "source": [
        "# Read the saved files\n",
        "df_Pauli = pd.read_csv('Sim_data_Pauli_12.csv')\n",
        "df_Cliff = pd.read_csv('Sim_data_Cliff.csv')\n",
        "# Reading the saved file created an extra column\n",
        "df_Pauli = df_Pauli.drop('Unnamed: 0', axis=1) \n",
        "df_Cliff = df_Cliff.drop('Unnamed: 0', axis=1)"
      ],
      "execution_count": null,
      "outputs": []
    },
    {
      "cell_type": "code",
      "metadata": {
        "id": "3UIfokKczWw7"
      },
      "source": [
        "# _P is for Pauli data, _C is for Clifford data.\n",
        "X_P = df_Pauli.drop('Labels', axis=1)\n",
        "y_P = df_Pauli['Labels']\n",
        "X_C = df_Cliff.drop('Labels', axis=1)\n",
        "y_C = df_Cliff['Labels']"
      ],
      "execution_count": null,
      "outputs": []
    },
    {
      "cell_type": "code",
      "metadata": {
        "id": "U2KzdPRYObkO",
        "colab": {
          "base_uri": "https://localhost:8080/",
          "height": 170
        },
        "outputId": "bc88bbd2-1cd9-4db6-e014-f0e0b4fb0ee5"
      },
      "source": [
        "y_P.describe()"
      ],
      "execution_count": null,
      "outputs": [
        {
          "output_type": "execute_result",
          "data": {
            "text/plain": [
              "count    6.144000e+04\n",
              "mean     3.308033e-02\n",
              "std      8.064260e-02\n",
              "min     -1.165734e-15\n",
              "25%      2.138724e-04\n",
              "50%      3.741097e-03\n",
              "75%      2.187719e-02\n",
              "max      6.750083e-01\n",
              "Name: Labels, dtype: float64"
            ]
          },
          "metadata": {
            "tags": []
          },
          "execution_count": 198
        }
      ]
    },
    {
      "cell_type": "code",
      "metadata": {
        "id": "HVIScH1wOw5Y",
        "colab": {
          "base_uri": "https://localhost:8080/",
          "height": 170
        },
        "outputId": "cf5493d6-3d97-4f02-f733-6f437eb4eab1"
      },
      "source": [
        "y_C.describe()"
      ],
      "execution_count": null,
      "outputs": [
        {
          "output_type": "execute_result",
          "data": {
            "text/plain": [
              "count    49152.000000\n",
              "mean         0.236315\n",
              "std          0.148656\n",
              "min          0.005646\n",
              "25%          0.089888\n",
              "50%          0.302747\n",
              "75%          0.368357\n",
              "max          0.496510\n",
              "Name: Labels, dtype: float64"
            ]
          },
          "metadata": {
            "tags": []
          },
          "execution_count": 199
        }
      ]
    },
    {
      "cell_type": "code",
      "metadata": {
        "id": "TJ-iSJof6SSi"
      },
      "source": [
        "from sklearn.model_selection import train_test_split\n",
        "from sklearn.linear_model import LinearRegression\n",
        "from sklearn.metrics import mean_squared_error, r2_score"
      ],
      "execution_count": null,
      "outputs": []
    },
    {
      "cell_type": "code",
      "metadata": {
        "id": "v5vWkU2j6SSo"
      },
      "source": [
        "X_P_train, X_P_test, y_P_train, y_P_test = train_test_split(X_P, y_P, test_size=0.4, random_state=101 )\n",
        "X_C_train, X_C_test, y_C_train, y_C_test = train_test_split(X_C, y_C, test_size=0.4, random_state=101 )"
      ],
      "execution_count": null,
      "outputs": []
    },
    {
      "cell_type": "code",
      "metadata": {
        "id": "KnQrUTU_6eaG"
      },
      "source": [
        ""
      ],
      "execution_count": null,
      "outputs": []
    },
    {
      "cell_type": "markdown",
      "metadata": {
        "id": "cg2Ps-GqMBIA"
      },
      "source": [
        "### We train with Pauli data, we test Clifford ones."
      ]
    },
    {
      "cell_type": "code",
      "metadata": {
        "id": "IJAW5lHc6SSs"
      },
      "source": [
        "lm = LinearRegression()"
      ],
      "execution_count": null,
      "outputs": []
    },
    {
      "cell_type": "code",
      "metadata": {
        "id": "VRMKvD376SSu",
        "colab": {
          "base_uri": "https://localhost:8080/",
          "height": 51
        },
        "outputId": "97b90ff1-0f87-4319-978c-235d2967b964"
      },
      "source": [
        "lm.fit(X_P_train, y_P_train) # Train on Pauli data."
      ],
      "execution_count": null,
      "outputs": [
        {
          "output_type": "execute_result",
          "data": {
            "text/plain": [
              "LinearRegression(copy_X=True, fit_intercept=True, n_jobs=None,\n",
              "         normalize=False)"
            ]
          },
          "metadata": {
            "tags": []
          },
          "execution_count": 202
        }
      ]
    },
    {
      "cell_type": "code",
      "metadata": {
        "id": "1aLXZJCg6SS0"
      },
      "source": [
        "# print(lm.intercept_)\n",
        "# lm.coef_"
      ],
      "execution_count": null,
      "outputs": []
    },
    {
      "cell_type": "code",
      "metadata": {
        "id": "8uZKbH7c6SS2"
      },
      "source": [
        "predictions_P = lm.predict(X_P_test)\n",
        "predictions_PC = lm.predict(X_C_test)"
      ],
      "execution_count": null,
      "outputs": []
    },
    {
      "cell_type": "markdown",
      "metadata": {
        "id": "FwB-5y7tMmXO"
      },
      "source": [
        "### We train with Clifford data, we test Pauli."
      ]
    },
    {
      "cell_type": "code",
      "metadata": {
        "id": "Atyl4CnkNJ2b"
      },
      "source": [
        "lm_CP = LinearRegression()"
      ],
      "execution_count": null,
      "outputs": []
    },
    {
      "cell_type": "code",
      "metadata": {
        "id": "rxBfe2syNRaU",
        "colab": {
          "base_uri": "https://localhost:8080/",
          "height": 51
        },
        "outputId": "416dd1e8-10df-4d06-9e55-bc5fb5afe71d"
      },
      "source": [
        "lm_CP.fit(X_C_train, y_C_train)"
      ],
      "execution_count": null,
      "outputs": [
        {
          "output_type": "execute_result",
          "data": {
            "text/plain": [
              "LinearRegression(copy_X=True, fit_intercept=True, n_jobs=None,\n",
              "         normalize=False)"
            ]
          },
          "metadata": {
            "tags": []
          },
          "execution_count": 206
        }
      ]
    },
    {
      "cell_type": "code",
      "metadata": {
        "id": "idaf7TGENRhX"
      },
      "source": [
        "predictions_C = lm_CP.predict(X_C_test)\n",
        "predictions_CP = lm_CP.predict(X_P_test)"
      ],
      "execution_count": null,
      "outputs": []
    },
    {
      "cell_type": "code",
      "metadata": {
        "id": "klnKl7RZNRyz"
      },
      "source": [
        ""
      ],
      "execution_count": null,
      "outputs": []
    },
    {
      "cell_type": "code",
      "metadata": {
        "id": "TBqqjEXjNRee"
      },
      "source": [
        ""
      ],
      "execution_count": null,
      "outputs": []
    },
    {
      "cell_type": "markdown",
      "metadata": {
        "id": "qmjUBH6gNnJ8"
      },
      "source": [
        "### Trained on Pauli data"
      ]
    },
    {
      "cell_type": "code",
      "metadata": {
        "id": "5CGzAgxY6SS4"
      },
      "source": [
        "import seaborn as sns\n",
        "import matplotlib.pyplot as plt\n",
        "%matplotlib inline"
      ],
      "execution_count": null,
      "outputs": []
    },
    {
      "cell_type": "code",
      "metadata": {
        "id": "sKIocIv86SS-",
        "colab": {
          "base_uri": "https://localhost:8080/",
          "height": 286
        },
        "outputId": "9dec6626-8617-4380-c099-3418b3bcff86"
      },
      "source": [
        "plt.scatter(y_P_test,predictions_P)\n",
        "\n",
        "# plt.plot(y_test,predictions, color='r')"
      ],
      "execution_count": null,
      "outputs": [
        {
          "output_type": "execute_result",
          "data": {
            "text/plain": [
              "<matplotlib.collections.PathCollection at 0x7f19725bd650>"
            ]
          },
          "metadata": {
            "tags": []
          },
          "execution_count": 208
        },
        {
          "output_type": "display_data",
          "data": {
            "image/png": "[encoded data removed]",
            "text/plain": [
              "<Figure size 432x288 with 1 Axes>"
            ]
          },
          "metadata": {
            "tags": []
          }
        }
      ]
    },
    {
      "cell_type": "code",
      "metadata": {
        "id": "zrgdNX8FKGwW",
        "colab": {
          "base_uri": "https://localhost:8080/",
          "height": 293
        },
        "outputId": "71851dec-5f9d-4882-ec7d-67bd0ca14145"
      },
      "source": [
        "plt.scatter(y_C_test,predictions_PC) # Good news everyone, the regressor trained on Pauli data is doing badly on the Clifford ones."
      ],
      "execution_count": null,
      "outputs": [
        {
          "output_type": "execute_result",
          "data": {
            "text/plain": [
              "<matplotlib.collections.PathCollection at 0x7f1972522f90>"
            ]
          },
          "metadata": {
            "tags": []
          },
          "execution_count": 209
        },
        {
          "output_type": "display_data",
          "data": {
            "image/png": "[encoded data removed]",
            "text/plain": [
              "<Figure size 432x288 with 1 Axes>"
            ]
          },
          "metadata": {
            "tags": []
          }
        }
      ]
    },
    {
      "cell_type": "code",
      "metadata": {
        "id": "YaTipenq6STA",
        "colab": {
          "base_uri": "https://localhost:8080/",
          "height": 307
        },
        "outputId": "75bda0d1-4161-49f8-f6b5-66ca17386450"
      },
      "source": [
        "sns.distplot((y_C_test-predictions_PC))"
      ],
      "execution_count": null,
      "outputs": [
        {
          "output_type": "execute_result",
          "data": {
            "text/plain": [
              "<matplotlib.axes._subplots.AxesSubplot at 0x7f19726026d0>"
            ]
          },
          "metadata": {
            "tags": []
          },
          "execution_count": 210
        },
        {
          "output_type": "display_data",
          "data": {
            "image/png": "[encoded data removed]",
            "text/plain": [
              "<Figure size 432x288 with 1 Axes>"
            ]
          },
          "metadata": {
            "tags": []
          }
        }
      ]
    },
    {
      "cell_type": "markdown",
      "metadata": {
        "id": "jA-xHJhGNu_v"
      },
      "source": [
        "### Trained on Clifford data"
      ]
    },
    {
      "cell_type": "code",
      "metadata": {
        "id": "3eM0P3wqNu_w",
        "colab": {
          "base_uri": "https://localhost:8080/",
          "height": 286
        },
        "outputId": "3e89af11-25b8-4b87-899f-82d6f95d5adb"
      },
      "source": [
        "plt.scatter(y_C_test,predictions_C)\n",
        "\n",
        "# plt.plot(y_test,predictions, color='r')"
      ],
      "execution_count": null,
      "outputs": [
        {
          "output_type": "execute_result",
          "data": {
            "text/plain": [
              "<matplotlib.collections.PathCollection at 0x7f1972398590>"
            ]
          },
          "metadata": {
            "tags": []
          },
          "execution_count": 211
        },
        {
          "output_type": "display_data",
          "data": {
            "image/png": "[encoded data removed]",
            "text/plain": [
              "<Figure size 432x288 with 1 Axes>"
            ]
          },
          "metadata": {
            "tags": []
          }
        }
      ]
    },
    {
      "cell_type": "code",
      "metadata": {
        "id": "MVE23rrtNu_z",
        "colab": {
          "base_uri": "https://localhost:8080/",
          "height": 286
        },
        "outputId": "68736386-1291-4b46-e632-c80f54152c8c"
      },
      "source": [
        "plt.scatter(y_P_test,predictions_CP) # Good news again, the regressor trained on Clifford data is doing badly on the Pauli ones."
      ],
      "execution_count": null,
      "outputs": [
        {
          "output_type": "execute_result",
          "data": {
            "text/plain": [
              "<matplotlib.collections.PathCollection at 0x7f19723862d0>"
            ]
          },
          "metadata": {
            "tags": []
          },
          "execution_count": 212
        },
        {
          "output_type": "display_data",
          "data": {
            "image/png": "[encoded data removed]",
            "text/plain": [
              "<Figure size 432x288 with 1 Axes>"
            ]
          },
          "metadata": {
            "tags": []
          }
        }
      ]
    },
    {
      "cell_type": "code",
      "metadata": {
        "id": "scGAtrwLNu_1",
        "colab": {
          "base_uri": "https://localhost:8080/",
          "height": 300
        },
        "outputId": "377b1c12-90a0-41d2-8002-512995d27e42"
      },
      "source": [
        "sns.distplot((y_P_test-predictions_CP))"
      ],
      "execution_count": null,
      "outputs": [
        {
          "output_type": "execute_result",
          "data": {
            "text/plain": [
              "<matplotlib.axes._subplots.AxesSubplot at 0x7f1972345e50>"
            ]
          },
          "metadata": {
            "tags": []
          },
          "execution_count": 213
        },
        {
          "output_type": "display_data",
          "data": {
            "image/png": "[encoded data removed]",
            "text/plain": [
              "<Figure size 432x288 with 1 Axes>"
            ]
          },
          "metadata": {
            "tags": []
          }
        }
      ]
    },
    {
      "cell_type": "code",
      "metadata": {
        "id": "2ImNRLqg6STD"
      },
      "source": [
        "from sklearn import metrics"
      ],
      "execution_count": null,
      "outputs": []
    },
    {
      "cell_type": "code",
      "metadata": {
        "id": "RRpKW1eU6STF",
        "colab": {
          "base_uri": "https://localhost:8080/",
          "height": 51
        },
        "outputId": "5a03262b-0a36-4c0c-fbea-2b41a7c8e095"
      },
      "source": [
        "mae_1 = metrics.mean_absolute_error(y_P_test,predictions_P)\n",
        "mse_1 = metrics.mean_squared_error(y_P_test,predictions_P)\n",
        "rmse_1 = np.sqrt(metrics.mean_squared_error(y_P_test,predictions_P))\n",
        "r2_1 = metrics.r2_score(y_P_test,predictions_P) # best is 1 \n",
        "print(r2_1)\n",
        "print(metrics.r2_score(y_C_test,predictions_PC)) # Great, score 0 for the Clifford data."
      ],
      "execution_count": null,
      "outputs": [
        {
          "output_type": "stream",
          "text": [
            "0.7194280663545434\n",
            "-8.928840643690744e+23\n"
          ],
          "name": "stdout"
        }
      ]
    },
    {
      "cell_type": "code",
      "metadata": {
        "id": "kdY5HMAr6STH"
      },
      "source": [
        ""
      ],
      "execution_count": null,
      "outputs": []
    },
    {
      "cell_type": "markdown",
      "metadata": {
        "id": "VgSL89qP6STK"
      },
      "source": [
        "## Polynomial Regression"
      ]
    },
    {
      "cell_type": "code",
      "metadata": {
        "id": "zm8Ueuhv6STK"
      },
      "source": [
        "from sklearn.preprocessing import PolynomialFeatures"
      ],
      "execution_count": null,
      "outputs": []
    },
    {
      "cell_type": "markdown",
      "metadata": {
        "id": "9__y1iOK6STN"
      },
      "source": [
        "### Degree 2 - Will test only Clifford trained, tested to Pauli."
      ]
    },
    {
      "cell_type": "code",
      "metadata": {
        "id": "kvb0c-Kv6STN"
      },
      "source": [
        "polynomial_features= PolynomialFeatures(degree=2)"
      ],
      "execution_count": null,
      "outputs": []
    },
    {
      "cell_type": "code",
      "metadata": {
        "id": "hkrme8K96STQ"
      },
      "source": [
        "x_poly_C = polynomial_features.fit_transform(X_C)\n",
        "x_poly_P = polynomial_features.fit_transform(X_P)"
      ],
      "execution_count": null,
      "outputs": []
    },
    {
      "cell_type": "code",
      "metadata": {
        "id": "Y85kZYmF6STT"
      },
      "source": [
        "X_C_train, X_C_test, y_C_train, y_C_test = train_test_split(x_poly_C, y_C, test_size=0.4, random_state=101 )\n",
        "X_P_train, X_P_test, y_P_train, y_P_test = train_test_split(x_poly_P, y_P, test_size=0.4, random_state=101 )"
      ],
      "execution_count": null,
      "outputs": []
    },
    {
      "cell_type": "code",
      "metadata": {
        "id": "DUrFk7Mx6STZ"
      },
      "source": [
        "model = LinearRegression()"
      ],
      "execution_count": null,
      "outputs": []
    },
    {
      "cell_type": "code",
      "metadata": {
        "id": "jJF06IHh6STa",
        "colab": {
          "base_uri": "https://localhost:8080/",
          "height": 51
        },
        "outputId": "5bd5684b-db0f-4d71-85ba-ac75a098751d"
      },
      "source": [
        "model.fit(X_C_train, y_C_train)"
      ],
      "execution_count": null,
      "outputs": [
        {
          "output_type": "execute_result",
          "data": {
            "text/plain": [
              "LinearRegression(copy_X=True, fit_intercept=True, n_jobs=None,\n",
              "         normalize=False)"
            ]
          },
          "metadata": {
            "tags": []
          },
          "execution_count": 237
        }
      ]
    },
    {
      "cell_type": "code",
      "metadata": {
        "id": "gQWTyD2C6STc"
      },
      "source": [
        "predictions2_C = model.predict(X_C_test)\n",
        "predictions2_P = model.predict(X_P_test)"
      ],
      "execution_count": null,
      "outputs": []
    },
    {
      "cell_type": "code",
      "metadata": {
        "id": "IGNXUvhF6STg",
        "colab": {
          "base_uri": "https://localhost:8080/",
          "height": 286
        },
        "outputId": "6ff3476d-d299-4ae2-b4f1-ca210a95a75e"
      },
      "source": [
        "plt.scatter(y_C_test,predictions2_C)"
      ],
      "execution_count": null,
      "outputs": [
        {
          "output_type": "execute_result",
          "data": {
            "text/plain": [
              "<matplotlib.collections.PathCollection at 0x7f1972182750>"
            ]
          },
          "metadata": {
            "tags": []
          },
          "execution_count": 239
        },
        {
          "output_type": "display_data",
          "data": {
            "image/png": "[encoded data removed]",
            "text/plain": [
              "<Figure size 432x288 with 1 Axes>"
            ]
          },
          "metadata": {
            "tags": []
          }
        }
      ]
    },
    {
      "cell_type": "code",
      "metadata": {
        "id": "XKXRe3YxUmJq",
        "colab": {
          "base_uri": "https://localhost:8080/",
          "height": 286
        },
        "outputId": "c81e6253-dc8f-4c2a-ba1f-e284a931b91e"
      },
      "source": [
        "plt.scatter(y_P_test,predictions2_P)"
      ],
      "execution_count": null,
      "outputs": [
        {
          "output_type": "execute_result",
          "data": {
            "text/plain": [
              "<matplotlib.collections.PathCollection at 0x7f19721304d0>"
            ]
          },
          "metadata": {
            "tags": []
          },
          "execution_count": 240
        },
        {
          "output_type": "display_data",
          "data": {
            "image/png": "[encoded data removed]",
            "text/plain": [
              "<Figure size 432x288 with 1 Axes>"
            ]
          },
          "metadata": {
            "tags": []
          }
        }
      ]
    },
    {
      "cell_type": "code",
      "metadata": {
        "id": "qLCZGTSs6STi",
        "colab": {
          "base_uri": "https://localhost:8080/",
          "height": 34
        },
        "outputId": "350f4183-0417-471b-e7cc-27c9b29ff95d"
      },
      "source": [
        "print(model.intercept_)"
      ],
      "execution_count": null,
      "outputs": [
        {
          "output_type": "stream",
          "text": [
            "0.3614477661453245\n"
          ],
          "name": "stdout"
        }
      ]
    },
    {
      "cell_type": "code",
      "metadata": {
        "id": "iV2wKFgx6STj",
        "colab": {
          "base_uri": "https://localhost:8080/",
          "height": 51
        },
        "outputId": "63173a72-311d-47fa-8ed2-566ea7b6a74c"
      },
      "source": [
        "# Great, Clifford trained regressor is doing badly at Pauli data.\n",
        "print(r2_score(y_C_test,predictions2_C))\n",
        "print(r2_score(y_P_test,predictions2_P))\n"
      ],
      "execution_count": null,
      "outputs": [
        {
          "output_type": "stream",
          "text": [
            "0.9913552021826095\n",
            "-10.746655822367321\n"
          ],
          "name": "stdout"
        }
      ]
    },
    {
      "cell_type": "markdown",
      "metadata": {
        "id": "9xSJY9_T6STp"
      },
      "source": [
        "### Polynomial degree 4 - HAVE NOT EDITED THIS"
      ]
    },
    {
      "cell_type": "code",
      "metadata": {
        "id": "vyNJsTiZ6STq"
      },
      "source": [
        "polynomial_features4= PolynomialFeatures(degree=4)"
      ],
      "execution_count": null,
      "outputs": []
    },
    {
      "cell_type": "code",
      "metadata": {
        "id": "6Ufokj3z6STr"
      },
      "source": [
        "x_poly4 = polynomial_features4.fit_transform(X)"
      ],
      "execution_count": null,
      "outputs": []
    },
    {
      "cell_type": "code",
      "metadata": {
        "id": "0PAephnT6STt",
        "colab": {
          "base_uri": "https://localhost:8080/",
          "height": 76
        },
        "outputId": "5967b6e2-5bda-431a-a6c4-d78216714d9a"
      },
      "source": [
        "x_poly4.shape"
      ],
      "execution_count": null,
      "outputs": [
        {
          "output_type": "execute_result",
          "data": {
            "text/plain": [
              "(49152, 1820)"
            ]
          },
          "metadata": {
            "tags": []
          },
          "execution_count": 199
        }
      ]
    },
    {
      "cell_type": "code",
      "metadata": {
        "id": "dTe5gNpw6STu"
      },
      "source": [
        "X_train, X_test, y_train, y_test = train_test_split(x_poly4, y, test_size=0.4, random_state=101 )"
      ],
      "execution_count": null,
      "outputs": []
    },
    {
      "cell_type": "code",
      "metadata": {
        "id": "h2gXrPkN6STv"
      },
      "source": [
        "model4 = LinearRegression()"
      ],
      "execution_count": null,
      "outputs": []
    },
    {
      "cell_type": "code",
      "metadata": {
        "id": "6b0LpqyJ6STw",
        "colab": {
          "base_uri": "https://localhost:8080/",
          "height": 112
        },
        "outputId": "b4a273f4-8151-4221-ae77-22c8b806a595"
      },
      "source": [
        "model4.fit(X_train, y_train)"
      ],
      "execution_count": null,
      "outputs": [
        {
          "output_type": "execute_result",
          "data": {
            "text/plain": [
              "LinearRegression(copy_X=True, fit_intercept=True, n_jobs=None,\n",
              "         normalize=False)"
            ]
          },
          "metadata": {
            "tags": []
          },
          "execution_count": 202
        }
      ]
    },
    {
      "cell_type": "code",
      "metadata": {
        "id": "WOvotp8X6STx"
      },
      "source": [
        "predictions4 = model4.predict(X_test)"
      ],
      "execution_count": null,
      "outputs": []
    },
    {
      "cell_type": "code",
      "metadata": {
        "id": "P_Nbe5NG6STz",
        "colab": {
          "base_uri": "https://localhost:8080/",
          "height": 76
        },
        "outputId": "32f2f23b-c445-41ff-e401-3288f2e406b7"
      },
      "source": [
        "print(model4.intercept_)"
      ],
      "execution_count": null,
      "outputs": [
        {
          "output_type": "stream",
          "text": [
            "0.29871546298481\n"
          ],
          "name": "stdout"
        }
      ]
    },
    {
      "cell_type": "code",
      "metadata": {
        "id": "0_JGCKx86ST0",
        "colab": {
          "base_uri": "https://localhost:8080/",
          "height": 76
        },
        "outputId": "3bf2eb65-0209-4a06-b1e8-1c368f016783"
      },
      "source": [
        "mae_4 = metrics.mean_absolute_error(y_test,predictions4)\n",
        "mse_4 = metrics.mean_squared_error(y_test,predictions4)\n",
        "rmse_4 = np.sqrt(metrics.mean_squared_error(y_test,predictions4))\n",
        "r2_4 = r2_score(y_test,predictions4) # best is 1 \n",
        "r2_4 # 0.722 for Paulis"
      ],
      "execution_count": null,
      "outputs": [
        {
          "output_type": "execute_result",
          "data": {
            "text/plain": [
              "0.9935581350922564"
            ]
          },
          "metadata": {
            "tags": []
          },
          "execution_count": 206
        }
      ]
    },
    {
      "cell_type": "code",
      "metadata": {
        "id": "rEAhPuvB6ST3"
      },
      "source": [
        "sns.distplot((y_test-predictions4), bins=50)"
      ],
      "execution_count": null,
      "outputs": []
    }
  ]
}