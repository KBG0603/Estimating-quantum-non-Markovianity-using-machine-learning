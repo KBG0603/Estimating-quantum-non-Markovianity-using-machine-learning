{
  "nbformat": 4,
  "nbformat_minor": 0,
  "metadata": {
    "colab": {
      "name": "Machine learning algorithms.ipynb",
      "provenance": [],
      "collapsed_sections": [],
      "authorship_tag": "ABX9TyOkhaC2obDiDjEhyfzHBHDQ",
      "include_colab_link": true
    },
    "kernelspec": {
      "name": "python3",
      "display_name": "Python 3"
    }
  },
  "cells": [
    {
      "cell_type": "markdown",
      "metadata": {
        "id": "view-in-github",
        "colab_type": "text"
      },
      "source": [
        "<a href=\"https://colab.research.google.com/github/KBG1990/Estimating-quantum-non-Markovianity-using-machine-learning/blob/main/Machine_learning_algorithms.ipynb\" target=\"_parent\"><img src=\"https://colab.research.google.com/assets/colab-badge.svg\" alt=\"Open In Colab\"/></a>"
      ]
    },
    {
      "cell_type": "markdown",
      "metadata": {
        "id": "WV5Vpk9x4VlY"
      },
      "source": [
        "# Import the libraries"
      ]
    },
    {
      "cell_type": "code",
      "metadata": {
        "id": "2TXbOVgl2twQ",
        "colab": {
          "base_uri": "https://localhost:8080/",
          "height": 158
        },
        "outputId": "ba5fbdae-825d-4961-93cf-4c8bbfbbcc2f"
      },
      "source": [
        "pip install -U keras # I had to update my keras"
      ],
      "execution_count": null,
      "outputs": [
        {
          "output_type": "stream",
          "text": [
            "Requirement already up-to-date: keras in /usr/local/lib/python3.6/dist-packages (2.3.1)\n",
            "Requirement already satisfied, skipping upgrade: six>=1.9.0 in /usr/local/lib/python3.6/dist-packages (from keras) (1.12.0)\n",
            "Requirement already satisfied, skipping upgrade: h5py in /usr/local/lib/python3.6/dist-packages (from keras) (2.10.0)\n",
            "Requirement already satisfied, skipping upgrade: numpy>=1.9.1 in /usr/local/lib/python3.6/dist-packages (from keras) (1.18.3)\n",
            "Requirement already satisfied, skipping upgrade: keras-preprocessing>=1.0.5 in /usr/local/lib/python3.6/dist-packages (from keras) (1.1.0)\n",
            "Requirement already satisfied, skipping upgrade: pyyaml in /usr/local/lib/python3.6/dist-packages (from keras) (3.13)\n",
            "Requirement already satisfied, skipping upgrade: scipy>=0.14 in /usr/local/lib/python3.6/dist-packages (from keras) (1.4.1)\n",
            "Requirement already satisfied, skipping upgrade: keras-applications>=1.0.6 in /usr/local/lib/python3.6/dist-packages (from keras) (1.0.8)\n"
          ],
          "name": "stdout"
        }
      ]
    },
    {
      "cell_type": "code",
      "metadata": {
        "id": "D7_xCIxE21Qe"
      },
      "source": [
        "import pandas as pd\n",
        "import numpy as np\n",
        "\n",
        "import os\n",
        "import sys\n",
        "\n",
        "from keras.callbacks import ModelCheckpoint\n",
        "from keras.models import Sequential\n",
        "from keras.layers import Dense, Activation, Flatten, LSTM\n",
        "from sklearn.model_selection import train_test_split\n",
        "from sklearn.ensemble import RandomForestRegressor\n",
        "from sklearn.metrics import mean_absolute_error \n",
        "from matplotlib import pyplot as plt\n",
        "import seaborn as sb\n",
        "import matplotlib.pyplot as plt\n",
        "import warnings \n",
        "warnings.filterwarnings('ignore')\n",
        "warnings.filterwarnings('ignore', category=DeprecationWarning)\n",
        "import xgboost as xgb\n",
        "from xgboost import XGBRegressor\n",
        "\n",
        "from sklearn.metrics import confusion_matrix\n",
        "from sklearn.utils import class_weight\n",
        "from keras.layers import Dense, BatchNormalization, GlobalAveragePooling2D, Dropout\n",
        "from keras.models import Model, load_model\n",
        "from keras.optimizers import Adam\n",
        "from keras.preprocessing.image import ImageDataGenerator\n",
        "from keras.utils import generic_utils # For progress bar\n",
        "\n",
        "import keras.backend as K\n",
        "\n",
        "# General support\n",
        "import math\n",
        "import tensorflow as tf\n",
        "\n",
        "\n",
        "# Dimensionality reduction\n",
        "import umap\n",
        "from sklearn.manifold import TSNE\n"
      ],
      "execution_count": null,
      "outputs": []
    },
    {
      "cell_type": "markdown",
      "metadata": {
        "id": "IC1bESSK4h-N"
      },
      "source": [
        "# Change the directory"
      ]
    },
    {
      "cell_type": "code",
      "metadata": {
        "id": "GdWK4rCC2-hN",
        "colab": {
          "base_uri": "https://localhost:8080/",
          "height": 34
        },
        "outputId": "1d392f1e-a1e1-4f28-cb8d-0d01c2be343f"
      },
      "source": [
        "from google.colab import drive\n",
        "drive.mount('/content/drive/', force_remount=True)"
      ],
      "execution_count": null,
      "outputs": [
        {
          "output_type": "stream",
          "text": [
            "Mounted at /content/drive/\n"
          ],
          "name": "stdout"
        }
      ]
    },
    {
      "cell_type": "code",
      "metadata": {
        "id": "WvSVBDH62_B4",
        "colab": {
          "base_uri": "https://localhost:8080/",
          "height": 130
        },
        "outputId": "653e7d2e-2246-42ea-b29a-25023c5d8dfa"
      },
      "source": [
        "# change the drive according to your preference \n",
        "cd \"/content/drive/My Drive/Colab Notebooks/NON_MARKOV_KBG/\""
      ],
      "execution_count": null,
      "outputs": [
        {
          "output_type": "error",
          "ename": "SyntaxError",
          "evalue": "ignored",
          "traceback": [
            "\u001b[0;36m  File \u001b[0;32m\"<ipython-input-1-c553c0ebe9ab>\"\u001b[0;36m, line \u001b[0;32m2\u001b[0m\n\u001b[0;31m    cd \"/content/drive/My Drive/Colab Notebooks/NON_MARKOV_KBG/\"\u001b[0m\n\u001b[0m                                                               ^\u001b[0m\n\u001b[0;31mSyntaxError\u001b[0m\u001b[0;31m:\u001b[0m invalid syntax\n"
          ]
        }
      ]
    },
    {
      "cell_type": "markdown",
      "metadata": {
        "id": "mpZzXGtE4odo"
      },
      "source": [
        "#Upload the datasets"
      ]
    },
    {
      "cell_type": "code",
      "metadata": {
        "id": "Eap7TIGW3Blq",
        "colab": {
          "base_uri": "https://localhost:8080/",
          "height": 985
        },
        "outputId": "5a1280fb-6aec-4a64-b61e-aa571561e6a6"
      },
      "source": [
        "Simulated_data = pd.read_csv('Sim_data_Pauli_concentrated.csv')\n",
        "test_data = pd.read_csv('experimental_data_200.csv', header=None)"
      ],
      "execution_count": null,
      "outputs": [
        {
          "output_type": "stream",
          "text": [
            "ERROR:root:Internal Python error in the inspect module.\n",
            "Below is the traceback from this internal error.\n",
            "\n"
          ],
          "name": "stderr"
        },
        {
          "output_type": "stream",
          "text": [
            "Traceback (most recent call last):\n",
            "  File \"/usr/local/lib/python3.6/dist-packages/IPython/core/interactiveshell.py\", line 2882, in run_code\n",
            "    exec(code_obj, self.user_global_ns, self.user_ns)\n",
            "  File \"<ipython-input-36-eb41ccd18c0a>\", line 1, in <module>\n",
            "    Simulated_data = pd.read_csv('Sim_data_Pauli_concentrated.csv')\n",
            "  File \"/usr/local/lib/python3.6/dist-packages/pandas/io/parsers.py\", line 676, in parser_f\n",
            "    return _read(filepath_or_buffer, kwds)\n",
            "  File \"/usr/local/lib/python3.6/dist-packages/pandas/io/parsers.py\", line 448, in _read\n",
            "    parser = TextFileReader(fp_or_buf, **kwds)\n",
            "  File \"/usr/local/lib/python3.6/dist-packages/pandas/io/parsers.py\", line 880, in __init__\n",
            "    self._make_engine(self.engine)\n",
            "  File \"/usr/local/lib/python3.6/dist-packages/pandas/io/parsers.py\", line 1114, in _make_engine\n",
            "    self._engine = CParserWrapper(self.f, **self.options)\n",
            "  File \"/usr/local/lib/python3.6/dist-packages/pandas/io/parsers.py\", line 1891, in __init__\n",
            "    self._reader = parsers.TextReader(src, **kwds)\n",
            "  File \"pandas/_libs/parsers.pyx\", line 374, in pandas._libs.parsers.TextReader.__cinit__\n",
            "  File \"pandas/_libs/parsers.pyx\", line 674, in pandas._libs.parsers.TextReader._setup_parser_source\n",
            "FileNotFoundError: [Errno 2] File Sim_data_Pauli_concentrated.csv does not exist: 'Sim_data_Pauli_concentrated.csv'\n",
            "\n",
            "During handling of the above exception, another exception occurred:\n",
            "\n",
            "Traceback (most recent call last):\n",
            "  File \"/usr/local/lib/python3.6/dist-packages/IPython/core/interactiveshell.py\", line 1823, in showtraceback\n",
            "    stb = value._render_traceback_()\n",
            "AttributeError: 'FileNotFoundError' object has no attribute '_render_traceback_'\n",
            "\n",
            "During handling of the above exception, another exception occurred:\n",
            "\n",
            "Traceback (most recent call last):\n",
            "  File \"/usr/local/lib/python3.6/dist-packages/IPython/core/ultratb.py\", line 1132, in get_records\n",
            "    return _fixed_getinnerframes(etb, number_of_lines_of_context, tb_offset)\n",
            "  File \"/usr/local/lib/python3.6/dist-packages/IPython/core/ultratb.py\", line 313, in wrapped\n",
            "    return f(*args, **kwargs)\n",
            "  File \"/usr/local/lib/python3.6/dist-packages/IPython/core/ultratb.py\", line 358, in _fixed_getinnerframes\n",
            "    records = fix_frame_records_filenames(inspect.getinnerframes(etb, context))\n",
            "  File \"/usr/lib/python3.6/inspect.py\", line 1490, in getinnerframes\n",
            "    frameinfo = (tb.tb_frame,) + getframeinfo(tb, context)\n",
            "  File \"/usr/lib/python3.6/inspect.py\", line 1448, in getframeinfo\n",
            "    filename = getsourcefile(frame) or getfile(frame)\n",
            "  File \"/usr/lib/python3.6/inspect.py\", line 696, in getsourcefile\n",
            "    if getattr(getmodule(object, filename), '__loader__', None) is not None:\n",
            "  File \"/usr/lib/python3.6/inspect.py\", line 725, in getmodule\n",
            "    file = getabsfile(object, _filename)\n",
            "  File \"/usr/lib/python3.6/inspect.py\", line 709, in getabsfile\n",
            "    return os.path.normcase(os.path.abspath(_filename))\n",
            "  File \"/usr/lib/python3.6/posixpath.py\", line 383, in abspath\n",
            "    cwd = os.getcwd()\n",
            "OSError: [Errno 107] Transport endpoint is not connected\n"
          ],
          "name": "stdout"
        },
        {
          "output_type": "error",
          "ename": "FileNotFoundError",
          "evalue": "ignored",
          "traceback": [
            "\u001b[0;31m---------------------------------------------------------------------------\u001b[0m"
          ]
        }
      ]
    },
    {
      "cell_type": "code",
      "metadata": {
        "id": "Jkr0B3sj3edM"
      },
      "source": [
        "df1 = Simulated_data.iloc[:,:]\n",
        "df1.drop(\"Unnamed: 0\", axis=1, inplace=True)\n",
        "df1 = df1.rename(columns = {'0':0, '1':1, '2':2, '3':3, '4':4, '5':5, '6':6, '7':7, '8':8, 'Labels':9}) ## This step is needed to match the names of the columns with the experimental data\n"
      ],
      "execution_count": null,
      "outputs": []
    },
    {
      "cell_type": "markdown",
      "metadata": {
        "id": "Yg_q6lxb4tQD"
      },
      "source": [
        "## First I tried to train on the simulated data and test on the experimental data"
      ]
    },
    {
      "cell_type": "markdown",
      "metadata": {
        "id": "fTpqxRR9482i"
      },
      "source": [
        "Linear regression"
      ]
    },
    {
      "cell_type": "code",
      "metadata": {
        "id": "zc2ZtRPI36Cb"
      },
      "source": [
        "X_train = df1.iloc[:, 0:9].values\n",
        "y_train = df1.iloc[:, -1].values\n",
        "\n",
        "X_test = test_data.iloc[:,0:9].values\n",
        "y_test = test_data.iloc[:,-1].values"
      ],
      "execution_count": null,
      "outputs": []
    },
    {
      "cell_type": "code",
      "metadata": {
        "id": "gKUp1qBN3ljG"
      },
      "source": [
        "from sklearn.linear_model import LinearRegression\n",
        "lm = LinearRegression()"
      ],
      "execution_count": null,
      "outputs": []
    },
    {
      "cell_type": "code",
      "metadata": {
        "id": "RZ5fo87S4EBM",
        "colab": {
          "base_uri": "https://localhost:8080/",
          "height": 34
        },
        "outputId": "0edbf0bd-fbc9-4984-f6a4-b4494159e726"
      },
      "source": [
        "lm.fit(X_train, y_train)\n",
        "print(lm.intercept_)\n",
        "lm.coef_\n",
        "predictions = lm.predict(X_test)"
      ],
      "execution_count": null,
      "outputs": [
        {
          "output_type": "stream",
          "text": [
            "-1.268873819500263\n"
          ],
          "name": "stdout"
        }
      ]
    },
    {
      "cell_type": "code",
      "metadata": {
        "id": "BiRY3qx44EmO",
        "colab": {
          "base_uri": "https://localhost:8080/",
          "height": 282
        },
        "outputId": "15ede5bf-d1ed-4980-af56-840cbbf33ee7"
      },
      "source": [
        "plt.scatter(y_test,predictions)\n",
        "# plt.plot(y_test,predictions, color=\n"
      ],
      "execution_count": null,
      "outputs": [
        {
          "output_type": "execute_result",
          "data": {
            "text/plain": [
              "<matplotlib.collections.PathCollection at 0x7fa5064ce6a0>"
            ]
          },
          "metadata": {
            "tags": []
          },
          "execution_count": 10
        },
        {
          "output_type": "display_data",
          "data": {
            "image/png": "[encoded data removed]",
            "text/plain": [
              "<Figure size 432x288 with 1 Axes>"
            ]
          },
          "metadata": {
            "tags": []
          }
        }
      ]
    },
    {
      "cell_type": "markdown",
      "metadata": {
        "id": "85HFa9hY5lMO"
      },
      "source": [
        "A pretty bad result"
      ]
    },
    {
      "cell_type": "code",
      "metadata": {
        "id": "t0wpJzN14L-r",
        "colab": {
          "base_uri": "https://localhost:8080/",
          "height": 34
        },
        "outputId": "d9b698b9-8672-457a-93da-c4162cb3646e"
      },
      "source": [
        "from sklearn import metrics\n",
        "mae_1 = metrics.mean_absolute_error(y_test,predictions)\n",
        "mse_1 = metrics.mean_squared_error(y_test,predictions)\n",
        "rmse_1 = np.sqrt(metrics.mean_squared_error(y_test,predictions))\n",
        "r2_1 = metrics.r2_score(y_test,predictions) # best is 1 \n",
        "r2_1"
      ],
      "execution_count": null,
      "outputs": [
        {
          "output_type": "execute_result",
          "data": {
            "text/plain": [
              "-29.366229576499954"
            ]
          },
          "metadata": {
            "tags": []
          },
          "execution_count": 11
        }
      ]
    },
    {
      "cell_type": "markdown",
      "metadata": {
        "id": "QtKiFjs35r55"
      },
      "source": [
        "## Next I used a part of the experimental data to train along with the simulated data"
      ]
    },
    {
      "cell_type": "markdown",
      "metadata": {
        "id": "hgYVYjCv58zI"
      },
      "source": [
        "### This time I randomly selected some part (60%) of the experimental data and train it with all the simulated data. Then test on the remaining 40% experimental data.\n"
      ]
    },
    {
      "cell_type": "markdown",
      "metadata": {
        "id": "W-agaNqA7SJV"
      },
      "source": [
        "To randomly select 60% of the datasets, I first shuffle the rows and then select the first 60 rows. With different random selections the model is behaving differently. Maybe we can optimise this by shuffling a sufficient number of times first to maximise the entropy of the dataset."
      ]
    },
    {
      "cell_type": "code",
      "metadata": {
        "id": "ascxDDUu6UhM"
      },
      "source": [
        "import sklearn as sk\n",
        "Shuffled_test_data = sk.utils.shuffle(test_data) # Shuffle the experimental data before partitioning. A good shuffling is necessary for a better result. Maybe shuffle a few times to maximise the entropy.\n",
        "df2 = Shuffled_test_data.iloc[0:120,0:10] # Taking 60 datapoints for training"
      ],
      "execution_count": null,
      "outputs": []
    },
    {
      "cell_type": "markdown",
      "metadata": {
        "id": "G8JaFmQW755H"
      },
      "source": [
        "Concatenating the simulated and 60% of the experimental data"
      ]
    },
    {
      "cell_type": "code",
      "metadata": {
        "id": "eN4X8AjR7vqt",
        "colab": {
          "base_uri": "https://localhost:8080/",
          "height": 318
        },
        "outputId": "e55eed27-e308-4503-abcd-064b7c9bf2b1"
      },
      "source": [
        "frame = [df1, df2]\n",
        "Concatenated_data = pd.concat(frame,ignore_index=True,axis = 0)\n",
        "\n",
        "Tst_set = Shuffled_test_data.iloc[120:200,0:10]\n",
        "Test_set = Tst_set.reset_index(drop=True)\n",
        "\n",
        "\n",
        "print(df1.iloc[0:2,:])\n",
        "print(df2.iloc[0:2,:])\n",
        "print(df2.shape)\n",
        "print(Test_set.iloc[0:2,:])\n",
        "print(Test_set.shape)"
      ],
      "execution_count": null,
      "outputs": [
        {
          "output_type": "stream",
          "text": [
            "          0         1         2  ...         7         8         9\n",
            "0  0.218618 -0.112468 -0.762967  ... -0.094856  0.760232  0.529036\n",
            "1  0.217124 -0.117067 -0.764751  ... -0.068510  0.765381  0.501993\n",
            "\n",
            "[2 rows x 10 columns]\n",
            "           0         1        2        3  ...        6         7        8        9\n",
            "197  0.32820 -0.141410 -0.91152  0.28259  ... -0.13044 -0.051381  0.95905  0.98893\n",
            "5    0.27988 -0.083039 -0.73631  0.18542  ... -0.16469 -0.004461  0.84037  0.52676\n",
            "\n",
            "[2 rows x 10 columns]\n",
            "(120, 10)\n",
            "         0         1        2         3  ...        6         7        8        9\n",
            "0  0.27228 -0.050440 -0.81881  0.223870  ... -0.22821  0.029663  0.84492  0.53164\n",
            "1  0.22029 -0.052535 -0.69923  0.057041  ... -0.17865  0.041375  0.77551  0.42012\n",
            "\n",
            "[2 rows x 10 columns]\n",
            "(80, 10)\n"
          ],
          "name": "stdout"
        }
      ]
    },
    {
      "cell_type": "code",
      "metadata": {
        "id": "Neegqsb17x6Z"
      },
      "source": [
        "X_train = Concatenated_data.iloc[:,0:9].values\n",
        "y_train = Concatenated_data.iloc[:,-1].values\n",
        "\n",
        "X_test = Test_set.iloc[:,0:9].values\n",
        "y_test = Test_set.iloc[:,-1].values\n"
      ],
      "execution_count": null,
      "outputs": []
    },
    {
      "cell_type": "markdown",
      "metadata": {
        "id": "pv3oIXoq81wF"
      },
      "source": [
        "## Linear regression"
      ]
    },
    {
      "cell_type": "code",
      "metadata": {
        "id": "88udAyIA8I6Z"
      },
      "source": [
        "from sklearn.linear_model import LinearRegression\n",
        "lm = LinearRegression()"
      ],
      "execution_count": null,
      "outputs": []
    },
    {
      "cell_type": "code",
      "metadata": {
        "id": "k54GNqaV8MQz",
        "colab": {
          "base_uri": "https://localhost:8080/",
          "height": 34
        },
        "outputId": "41072247-8fbe-4026-8f2f-67d9f5ed2f55"
      },
      "source": [
        "lm.fit(X_train, y_train)\n",
        "print(lm.intercept_)\n",
        "lm.coef_\n",
        "predictions = lm.predict(X_test)"
      ],
      "execution_count": null,
      "outputs": [
        {
          "output_type": "stream",
          "text": [
            "-1.2639772386617598\n"
          ],
          "name": "stdout"
        }
      ]
    },
    {
      "cell_type": "code",
      "metadata": {
        "id": "PlBEcnpd8Ovf",
        "colab": {
          "base_uri": "https://localhost:8080/",
          "height": 282
        },
        "outputId": "5d6d9191-19da-47a3-e5e5-c816272c3018"
      },
      "source": [
        "plt.scatter(y_test,predictions)\n",
        "# plt.plot(y_test,predictions, color='r')"
      ],
      "execution_count": null,
      "outputs": [
        {
          "output_type": "execute_result",
          "data": {
            "text/plain": [
              "<matplotlib.collections.PathCollection at 0x7f702f8ddd30>"
            ]
          },
          "metadata": {
            "tags": []
          },
          "execution_count": 16
        },
        {
          "output_type": "display_data",
          "data": {
            "image/png": "[encoded data removed]",
            "text/plain": [
              "<Figure size 432x288 with 1 Axes>"
            ]
          },
          "metadata": {
            "tags": [],
            "needs_background": "light"
          }
        }
      ]
    },
    {
      "cell_type": "markdown",
      "metadata": {
        "id": "mmwPFEa58ZE5"
      },
      "source": [
        "A good result, motivation to try other algorithms"
      ]
    },
    {
      "cell_type": "code",
      "metadata": {
        "id": "UEOXrkXL8RrB",
        "colab": {
          "base_uri": "https://localhost:8080/",
          "height": 34
        },
        "outputId": "417d57f7-b469-48fe-f11c-887be22fdfce"
      },
      "source": [
        "# Maximum R2 score I got was 0.7136\n",
        "from sklearn import metrics\n",
        "mae_1 = metrics.mean_absolute_error(y_test,predictions)\n",
        "mse_1 = metrics.mean_squared_error(y_test,predictions)\n",
        "rmse_1 = np.sqrt(metrics.mean_squared_error(y_test,predictions))\n",
        "r2_1 = metrics.r2_score(y_test,predictions) # best is 1 \n",
        "r2_1"
      ],
      "execution_count": null,
      "outputs": [
        {
          "output_type": "execute_result",
          "data": {
            "text/plain": [
              "0.6483728781941436"
            ]
          },
          "metadata": {
            "tags": []
          },
          "execution_count": 17
        }
      ]
    },
    {
      "cell_type": "markdown",
      "metadata": {
        "id": "i952NIM98-YH"
      },
      "source": [
        "## Polynomial regression"
      ]
    },
    {
      "cell_type": "code",
      "metadata": {
        "id": "imD3mqTbBGFv"
      },
      "source": [
        "from sklearn.metrics import mean_squared_error, r2_score\n",
        "from sklearn.preprocessing import PolynomialFeatures"
      ],
      "execution_count": null,
      "outputs": []
    },
    {
      "cell_type": "code",
      "metadata": {
        "id": "xTGOQhUk8XwJ"
      },
      "source": [
        "polynomial_features= PolynomialFeatures(degree=2)"
      ],
      "execution_count": null,
      "outputs": []
    },
    {
      "cell_type": "code",
      "metadata": {
        "id": "HrPRHT6H__Y2"
      },
      "source": [
        "x_poly_train = polynomial_features.fit_transform(X_train)\n",
        "x_poly_test = polynomial_features.fit_transform(X_test)"
      ],
      "execution_count": null,
      "outputs": []
    },
    {
      "cell_type": "code",
      "metadata": {
        "id": "RjsY6YoVAqB-",
        "colab": {
          "base_uri": "https://localhost:8080/",
          "height": 282
        },
        "outputId": "2278bf36-2972-4543-ce89-ef5f53528d37"
      },
      "source": [
        "model_poly = LinearRegression()\n",
        "model_poly.fit(x_poly_train, y_train)\n",
        "predictions2 = model_poly.predict(x_poly_test)\n",
        "plt.scatter(y_test,predictions2)"
      ],
      "execution_count": null,
      "outputs": [
        {
          "output_type": "execute_result",
          "data": {
            "text/plain": [
              "<matplotlib.collections.PathCollection at 0x7f702fbd82b0>"
            ]
          },
          "metadata": {
            "tags": []
          },
          "execution_count": 21
        },
        {
          "output_type": "display_data",
          "data": {
            "image/png": "[encoded data removed]",
            "text/plain": [
              "<Figure size 432x288 with 1 Axes>"
            ]
          },
          "metadata": {
            "tags": [],
            "needs_background": "light"
          }
        }
      ]
    },
    {
      "cell_type": "code",
      "metadata": {
        "id": "D2DycpTqBHue",
        "colab": {
          "base_uri": "https://localhost:8080/",
          "height": 34
        },
        "outputId": "c34e116f-b05b-44e9-8e85-3d3d8222f123"
      },
      "source": [
        "mae_2 = metrics.mean_absolute_error(y_test,predictions2)\n",
        "mse_2 = metrics.mean_squared_error(y_test,predictions2)\n",
        "rmse_2 = np.sqrt(metrics.mean_squared_error(y_test,predictions2))\n",
        "r2_2 = r2_score(y_test,predictions2) # best is 1 \n",
        "r2_2"
      ],
      "execution_count": null,
      "outputs": [
        {
          "output_type": "execute_result",
          "data": {
            "text/plain": [
              "0.8479867447140177"
            ]
          },
          "metadata": {
            "tags": []
          },
          "execution_count": 22
        }
      ]
    },
    {
      "cell_type": "markdown",
      "metadata": {
        "id": "DBdfl8_SB_Yj"
      },
      "source": [
        "# Random Forest"
      ]
    },
    {
      "cell_type": "code",
      "metadata": {
        "id": "pxu8jU2_BRnX",
        "colab": {
          "base_uri": "https://localhost:8080/",
          "height": 34
        },
        "outputId": "90794c32-201c-44b8-9456-2bb85951ef54"
      },
      "source": [
        "# Make a random forest model\n",
        "\n",
        "\n",
        "# Defining the model\n",
        "\n",
        "Random_Forest_model = RandomForestRegressor(max_depth=25, random_state=0, n_estimators=250)\n",
        "\n",
        "\n",
        "# Compiling the model\n",
        "\n",
        "Random_Forest_model.fit(X_train, y_train)\n",
        "\n",
        "# Prediction and error\n",
        "\n",
        "predictions_random_forest = Random_Forest_model.predict(X_test)\n",
        "\n",
        "R2_score = r2_score(y_test , predictions_random_forest)\n",
        "print('R2 score = ',R2_score)"
      ],
      "execution_count": null,
      "outputs": [
        {
          "output_type": "stream",
          "text": [
            "R2 score =  0.559997793356145\n"
          ],
          "name": "stdout"
        }
      ]
    },
    {
      "cell_type": "markdown",
      "metadata": {
        "id": "bigt0YhPDHB8"
      },
      "source": [
        "# XGB boost"
      ]
    },
    {
      "cell_type": "code",
      "metadata": {
        "id": "vlWNN0QLCPC0",
        "colab": {
          "base_uri": "https://localhost:8080/",
          "height": 70
        },
        "outputId": "c0d9618c-c4ca-4b5b-f2a6-9ef03f8de3fa"
      },
      "source": [
        "from sklearn import metrics\n",
        "#data_dmatrix = xgb.DMatrix(data=X,label=y)\n",
        "xg_reg = xgb.XGBRegressor(objective ='reg:linear', colsample_bytree = 0.3, learning_rate = 0.1,\n",
        "                max_depth = 100, alpha = 8, n_estimators = 250)\n",
        "xg_reg.fit(X_train,y_train)\n",
        "\n",
        "preds = xg_reg.predict(X_test)\n",
        "\n",
        "\n",
        "rmse = np.sqrt(metrics.mean_squared_error(y_test, preds))\n",
        "print(\"RMSE: %f\" % (rmse))\n",
        "\n",
        "R2_score = metrics.r2_score(y_test, preds)\n",
        "print('R2 score =',R2_score)"
      ],
      "execution_count": null,
      "outputs": [
        {
          "output_type": "stream",
          "text": [
            "[22:52:21] WARNING: /workspace/src/objective/regression_obj.cu:152: reg:linear is now deprecated in favor of reg:squarederror.\n",
            "RMSE: 0.151853\n",
            "R2 score = 0.36131888402047296\n"
          ],
          "name": "stdout"
        }
      ]
    },
    {
      "cell_type": "markdown",
      "metadata": {
        "id": "SNN1qLtkD1cP"
      },
      "source": [
        "# Neural Network"
      ]
    },
    {
      "cell_type": "code",
      "metadata": {
        "id": "PeU_mwJbD3Fe"
      },
      "source": [
        "checkpoint_name = 'Weights-{epoch:03d}--{val_loss:.5f}.hdf5' \n",
        "checkpoint = ModelCheckpoint(checkpoint_name, monitor='val_loss', verbose = 1, save_best_only = True, mode ='auto')\n",
        "callbacks_list = [checkpoint]"
      ],
      "execution_count": null,
      "outputs": []
    },
    {
      "cell_type": "code",
      "metadata": {
        "id": "X2SIbsYtDf-3"
      },
      "source": [
        "# Make a model\n",
        "\n",
        "\n",
        "NN_model = Sequential()\n",
        "\n",
        "# The Input Layer :\n",
        "NN_model.add(Dense(128, kernel_initializer='normal',input_dim = X_train.shape[1], activation='relu'))\n",
        "\n",
        "# The Hidden Layers :\n",
        "NN_model.add(Dense(256, kernel_initializer='normal',activation='relu'))\n",
        "NN_model.add(Dense(256, kernel_initializer='normal',activation='relu'))\n",
        "NN_model.add(Dense(256, kernel_initializer='normal',activation='relu'))\n",
        "NN_model.add(Dense(256, kernel_initializer='normal',activation='relu'))\n",
        "# The Output Layer :\n",
        "NN_model.add(Dense(1, kernel_initializer='normal',activation='linear'))\n",
        "\n",
        "# Compile the network :\n",
        "NN_model.compile(loss='mean_absolute_error', optimizer='adam', metrics=['mean_absolute_error'])\n",
        "#NN_model.summary()"
      ],
      "execution_count": null,
      "outputs": []
    },
    {
      "cell_type": "code",
      "metadata": {
        "id": "OlFqu_imEAmT",
        "colab": {
          "base_uri": "https://localhost:8080/",
          "height": 1000
        },
        "outputId": "e40ac3e7-4892-4b0f-e692-828626f4c7ce"
      },
      "source": [
        "#train the model, evaluate using 0.2 of data for validation comparison, run for 20 epochs, batch size of 32\n",
        "NN_model.fit(X_train, y_train, epochs=20, batch_size=32, validation_split = 0.2, callbacks=callbacks_list)"
      ],
      "execution_count": null,
      "outputs": [
        {
          "output_type": "stream",
          "text": [
            "Train on 11564 samples, validate on 2892 samples\n",
            "Epoch 1/20\n",
            "11564/11564 [==============================] - 2s 160us/step - loss: 0.0960 - mean_absolute_error: 0.0960 - val_loss: 0.0508 - val_mean_absolute_error: 0.0508\n",
            "\n",
            "Epoch 00001: val_loss improved from inf to 0.05083, saving model to Weights-001--0.05083.hdf5\n",
            "Epoch 2/20\n",
            "11564/11564 [==============================] - 1s 128us/step - loss: 0.0428 - mean_absolute_error: 0.0428 - val_loss: 0.0682 - val_mean_absolute_error: 0.0682\n",
            "\n",
            "Epoch 00002: val_loss did not improve from 0.05083\n",
            "Epoch 3/20\n",
            "11564/11564 [==============================] - 2s 133us/step - loss: 0.0342 - mean_absolute_error: 0.0342 - val_loss: 0.0582 - val_mean_absolute_error: 0.0582\n",
            "\n",
            "Epoch 00003: val_loss did not improve from 0.05083\n",
            "Epoch 4/20\n",
            "11564/11564 [==============================] - 1s 129us/step - loss: 0.0294 - mean_absolute_error: 0.0294 - val_loss: 0.0647 - val_mean_absolute_error: 0.0647\n",
            "\n",
            "Epoch 00004: val_loss did not improve from 0.05083\n",
            "Epoch 5/20\n",
            "11564/11564 [==============================] - 1s 129us/step - loss: 0.0244 - mean_absolute_error: 0.0244 - val_loss: 0.0399 - val_mean_absolute_error: 0.0399\n",
            "\n",
            "Epoch 00005: val_loss improved from 0.05083 to 0.03994, saving model to Weights-005--0.03994.hdf5\n",
            "Epoch 6/20\n",
            "11564/11564 [==============================] - 1s 128us/step - loss: 0.0260 - mean_absolute_error: 0.0260 - val_loss: 0.0138 - val_mean_absolute_error: 0.0138\n",
            "\n",
            "Epoch 00006: val_loss improved from 0.03994 to 0.01383, saving model to Weights-006--0.01383.hdf5\n",
            "Epoch 7/20\n",
            "11564/11564 [==============================] - 2s 130us/step - loss: 0.0199 - mean_absolute_error: 0.0199 - val_loss: 0.0454 - val_mean_absolute_error: 0.0454\n",
            "\n",
            "Epoch 00007: val_loss did not improve from 0.01383\n",
            "Epoch 8/20\n",
            "11564/11564 [==============================] - 2s 132us/step - loss: 0.0236 - mean_absolute_error: 0.0236 - val_loss: 0.0142 - val_mean_absolute_error: 0.0142\n",
            "\n",
            "Epoch 00008: val_loss did not improve from 0.01383\n",
            "Epoch 9/20\n",
            "11564/11564 [==============================] - 2s 132us/step - loss: 0.0191 - mean_absolute_error: 0.0191 - val_loss: 0.0286 - val_mean_absolute_error: 0.0286\n",
            "\n",
            "Epoch 00009: val_loss did not improve from 0.01383\n",
            "Epoch 10/20\n",
            "11564/11564 [==============================] - 2s 131us/step - loss: 0.0210 - mean_absolute_error: 0.0210 - val_loss: 0.0264 - val_mean_absolute_error: 0.0264\n",
            "\n",
            "Epoch 00010: val_loss did not improve from 0.01383\n",
            "Epoch 11/20\n",
            "11564/11564 [==============================] - 2s 131us/step - loss: 0.0205 - mean_absolute_error: 0.0205 - val_loss: 0.0219 - val_mean_absolute_error: 0.0219\n",
            "\n",
            "Epoch 00011: val_loss did not improve from 0.01383\n",
            "Epoch 12/20\n",
            "11564/11564 [==============================] - 2s 130us/step - loss: 0.0156 - mean_absolute_error: 0.0156 - val_loss: 0.0282 - val_mean_absolute_error: 0.0282\n",
            "\n",
            "Epoch 00012: val_loss did not improve from 0.01383\n",
            "Epoch 13/20\n",
            "11564/11564 [==============================] - 2s 132us/step - loss: 0.0165 - mean_absolute_error: 0.0165 - val_loss: 0.0131 - val_mean_absolute_error: 0.0131\n",
            "\n",
            "Epoch 00013: val_loss improved from 0.01383 to 0.01310, saving model to Weights-013--0.01310.hdf5\n",
            "Epoch 14/20\n",
            "11564/11564 [==============================] - 1s 130us/step - loss: 0.0159 - mean_absolute_error: 0.0159 - val_loss: 0.0338 - val_mean_absolute_error: 0.0338\n",
            "\n",
            "Epoch 00014: val_loss did not improve from 0.01310\n",
            "Epoch 15/20\n",
            "11564/11564 [==============================] - 1s 129us/step - loss: 0.0151 - mean_absolute_error: 0.0151 - val_loss: 0.0143 - val_mean_absolute_error: 0.0143\n",
            "\n",
            "Epoch 00015: val_loss did not improve from 0.01310\n",
            "Epoch 16/20\n",
            "11564/11564 [==============================] - 1s 130us/step - loss: 0.0157 - mean_absolute_error: 0.0157 - val_loss: 0.0131 - val_mean_absolute_error: 0.0131\n",
            "\n",
            "Epoch 00016: val_loss improved from 0.01310 to 0.01309, saving model to Weights-016--0.01309.hdf5\n",
            "Epoch 17/20\n",
            "11564/11564 [==============================] - 2s 131us/step - loss: 0.0176 - mean_absolute_error: 0.0176 - val_loss: 0.0200 - val_mean_absolute_error: 0.0200\n",
            "\n",
            "Epoch 00017: val_loss did not improve from 0.01309\n",
            "Epoch 18/20\n",
            "11564/11564 [==============================] - 1s 129us/step - loss: 0.0172 - mean_absolute_error: 0.0172 - val_loss: 0.0190 - val_mean_absolute_error: 0.0190\n",
            "\n",
            "Epoch 00018: val_loss did not improve from 0.01309\n",
            "Epoch 19/20\n",
            "11564/11564 [==============================] - 2s 130us/step - loss: 0.0156 - mean_absolute_error: 0.0156 - val_loss: 0.0277 - val_mean_absolute_error: 0.0277\n",
            "\n",
            "Epoch 00019: val_loss did not improve from 0.01309\n",
            "Epoch 20/20\n",
            "11564/11564 [==============================] - 2s 134us/step - loss: 0.0148 - mean_absolute_error: 0.0148 - val_loss: 0.0206 - val_mean_absolute_error: 0.0206\n",
            "\n",
            "Epoch 00020: val_loss did not improve from 0.01309\n"
          ],
          "name": "stdout"
        },
        {
          "output_type": "execute_result",
          "data": {
            "text/plain": [
              "<keras.callbacks.callbacks.History at 0x7f702fdc0550>"
            ]
          },
          "metadata": {
            "tags": []
          },
          "execution_count": 27
        }
      ]
    },
    {
      "cell_type": "markdown",
      "metadata": {
        "id": "q3TXGI2UEZm5"
      },
      "source": [
        "Got 90% R2  score"
      ]
    },
    {
      "cell_type": "code",
      "metadata": {
        "id": "Ez2poLzHEEZO",
        "colab": {
          "base_uri": "https://localhost:8080/",
          "height": 34
        },
        "outputId": "d4118a11-0d43-461b-d3bb-c325715e638f"
      },
      "source": [
        "predictions_NN_model = NN_model.predict(X_test)\n",
        "\n",
        "\n",
        "R2_score = r2_score(y_test , predictions_NN_model)\n",
        "print('R2_score = ',R2_score)"
      ],
      "execution_count": null,
      "outputs": [
        {
          "output_type": "stream",
          "text": [
            "R2_score =  0.8916762860870466\n"
          ],
          "name": "stdout"
        }
      ]
    },
    {
      "cell_type": "code",
      "metadata": {
        "id": "QJ7cNXOcV7PA"
      },
      "source": [
        ""
      ],
      "execution_count": null,
      "outputs": []
    }
  ]
}