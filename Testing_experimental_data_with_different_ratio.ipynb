{
  "nbformat": 4,
  "nbformat_minor": 0,
  "metadata": {
    "colab": {
      "name": "Testing_experimental_data_with_different_ratio.ipynb",
      "provenance": [],
      "collapsed_sections": [],
      "toc_visible": true,
      "authorship_tag": "ABX9TyOKLR0Cot+B5cSvkDZRE6TW",
      "include_colab_link": true
    },
    "kernelspec": {
      "name": "python3",
      "display_name": "Python 3"
    }
  },
  "cells": [
    {
      "cell_type": "markdown",
      "metadata": {
        "id": "view-in-github",
        "colab_type": "text"
      },
      "source": [
        "<a href=\"https://colab.research.google.com/github/KBG1990/Estimating-quantum-non-Markovianity-using-machine-learning/blob/main/Testing_experimental_data_with_different_ratio.ipynb\" target=\"_parent\"><img src=\"https://colab.research.google.com/assets/colab-badge.svg\" alt=\"Open In Colab\"/></a>"
      ]
    },
    {
      "cell_type": "markdown",
      "metadata": {
        "id": "WV5Vpk9x4VlY"
      },
      "source": [
        "# Import the libraries"
      ]
    },
    {
      "cell_type": "code",
      "metadata": {
        "id": "2TXbOVgl2twQ",
        "colab": {
          "base_uri": "https://localhost:8080/",
          "height": 158
        },
        "outputId": "03693d0e-2310-44a8-c8ce-ba5952b16ae6"
      },
      "source": [
        "pip install -U keras "
      ],
      "execution_count": null,
      "outputs": [
        {
          "output_type": "stream",
          "text": [
            "Requirement already up-to-date: keras in /usr/local/lib/python3.6/dist-packages (2.3.1)\n",
            "Requirement already satisfied, skipping upgrade: numpy>=1.9.1 in /usr/local/lib/python3.6/dist-packages (from keras) (1.18.3)\n",
            "Requirement already satisfied, skipping upgrade: six>=1.9.0 in /usr/local/lib/python3.6/dist-packages (from keras) (1.12.0)\n",
            "Requirement already satisfied, skipping upgrade: pyyaml in /usr/local/lib/python3.6/dist-packages (from keras) (3.13)\n",
            "Requirement already satisfied, skipping upgrade: keras-applications>=1.0.6 in /usr/local/lib/python3.6/dist-packages (from keras) (1.0.8)\n",
            "Requirement already satisfied, skipping upgrade: scipy>=0.14 in /usr/local/lib/python3.6/dist-packages (from keras) (1.4.1)\n",
            "Requirement already satisfied, skipping upgrade: keras-preprocessing>=1.0.5 in /usr/local/lib/python3.6/dist-packages (from keras) (1.1.0)\n",
            "Requirement already satisfied, skipping upgrade: h5py in /usr/local/lib/python3.6/dist-packages (from keras) (2.10.0)\n"
          ],
          "name": "stdout"
        }
      ]
    },
    {
      "cell_type": "code",
      "metadata": {
        "id": "D7_xCIxE21Qe"
      },
      "source": [
        "import pandas as pd\n",
        "import numpy as np\n",
        "\n",
        "\n",
        "import os\n",
        "import sys\n",
        "\n",
        "from keras.callbacks import ModelCheckpoint\n",
        "from keras.models import Sequential\n",
        "from keras.layers import Dense, Activation, Flatten, LSTM\n",
        "from sklearn.model_selection import train_test_split\n",
        "from sklearn.ensemble import RandomForestRegressor\n",
        "from sklearn.metrics import mean_absolute_error \n",
        "import seaborn as sb\n",
        "import matplotlib.pyplot as plt\n",
        "import warnings \n",
        "warnings.filterwarnings('ignore')\n",
        "warnings.filterwarnings('ignore', category=DeprecationWarning)\n",
        "import xgboost as xgb\n",
        "from xgboost import XGBRegressor\n",
        "\n",
        "from sklearn.metrics import confusion_matrix\n",
        "from sklearn.utils import class_weight\n",
        "from keras.layers import Dense, BatchNormalization, GlobalAveragePooling2D, Dropout\n",
        "from keras.models import Model, load_model\n",
        "from keras.optimizers import Adam\n",
        "from keras.preprocessing.image import ImageDataGenerator\n",
        "from keras.utils import generic_utils # For progress bar\n",
        "\n",
        "import keras.backend as K\n",
        "\n",
        "# General support\n",
        "import math\n",
        "import tensorflow as tf\n",
        "\n",
        "from sklearn.linear_model import LinearRegression\n",
        "lm = LinearRegression()\n",
        "from sklearn import metrics\n",
        "from sklearn.metrics import mean_squared_error, r2_score\n",
        "\n",
        "\n",
        "# Dimensionality reduction\n",
        "import umap\n",
        "#from sklearn.manifold import TSNE\n"
      ],
      "execution_count": null,
      "outputs": []
    },
    {
      "cell_type": "code",
      "metadata": {
        "colab": {
          "base_uri": "https://localhost:8080/"
        },
        "id": "bTRYHOuopz0j",
        "outputId": "bf0d3853-24d8-495a-be27-14eef1c55e3e"
      },
      "source": [
        "from scipy.linalg import sqrtm\n",
        "A = np.array([[0.36934579,0.34126931,0.34126931],[0.34126931, 0.3153271, 0.3153271],[0.34126931, 0.3153271, 0.3153271]])\n",
        "sqrtm(A)"
      ],
      "execution_count": null,
      "outputs": [
        {
          "output_type": "execute_result",
          "data": {
            "text/plain": [
              "array([[0.3693458 +6.36302722e-05j, 0.34126931-3.44325920e-05j,\n",
              "        0.34126931-3.44325919e-05j],\n",
              "       [0.34126931-3.44325920e-05j, 0.3153271 +1.86326940e-05j,\n",
              "        0.3153271 +1.86326940e-05j],\n",
              "       [0.34126931-3.44325920e-05j, 0.3153271 +1.86326940e-05j,\n",
              "        0.3153271 +1.86326940e-05j]])"
            ]
          },
          "metadata": {
            "tags": []
          },
          "execution_count": 5
        }
      ]
    },
    {
      "cell_type": "code",
      "metadata": {
        "id": "2aPi7SOue4yi"
      },
      "source": [
        "def Fidelity(a,b):\n",
        "  from scipy.linalg import sqrtm\n",
        "  import numpy as np\n",
        "  sqrt_a = sqrtm(a)\n",
        "  x = np.linalg.multi_dot([sqrt_a,b,sqrt_a])\n",
        "  return  np.trace(sqrtm(x))\n"
      ],
      "execution_count": null,
      "outputs": []
    },
    {
      "cell_type": "code",
      "metadata": {
        "colab": {
          "base_uri": "https://localhost:8080/"
        },
        "id": "uCecHRvthnLB",
        "outputId": "aa46e861-0a75-4733-fbc8-9c8c3dff88dd"
      },
      "source": [
        "\n",
        "a = np.array([[1,0],[0,0]])\n",
        "b = np.array([[0,0],[0,1]])\n",
        "p = 0.7\n",
        "q = 0.2\n",
        "c = p* a + (1-p)*b\n",
        "d = q*a + (1-q) *b\n",
        "\n",
        "check = np.sqrt(p*q)+np.sqrt((1-p)*(1-q)) # Should be equal to fidelity between c and d, ref Mike and Ike\n",
        "\n",
        "print('Does it work if one of them is a pure state?\\n', Fidelity(a,c)**2) # You should get p here\n",
        "print('Does it work if one of them is a pure state?\\n', Fidelity(a,d)**2) # You should get q here\n",
        "print('Fidelity =',Fidelity(c,d))\n",
        "print(check)"
      ],
      "execution_count": null,
      "outputs": [
        {
          "output_type": "stream",
          "text": [
            "Does it work if one of them is a pure state?\n",
            " 0.7000000000000001\n",
            "Does it work if one of them is a pure state?\n",
            " 0.19999999999999998\n",
            "Fidelity = 0.8640636872340299\n",
            "0.8640636872340297\n"
          ],
          "name": "stdout"
        }
      ]
    },
    {
      "cell_type": "markdown",
      "metadata": {
        "id": "IC1bESSK4h-N"
      },
      "source": [
        "# Change the directory"
      ]
    },
    {
      "cell_type": "code",
      "metadata": {
        "id": "GdWK4rCC2-hN",
        "colab": {
          "base_uri": "https://localhost:8080/"
        },
        "outputId": "e9400a76-0d85-4f97-8a1a-6df6ba33c88e"
      },
      "source": [
        "from google.colab import drive\n",
        "drive.mount('/content/drive/', force_remount=True)"
      ],
      "execution_count": null,
      "outputs": [
        {
          "output_type": "stream",
          "text": [
            "Mounted at /content/drive/\n"
          ],
          "name": "stdout"
        }
      ]
    },
    {
      "cell_type": "code",
      "metadata": {
        "colab": {
          "base_uri": "https://localhost:8080/"
        },
        "id": "PwLGGrbIdWDT",
        "outputId": "1f49a568-ab0f-4e2f-c54d-b530fb49aa27"
      },
      "source": [
        "cd /content/drive/My Drive/Colab Notebooks/NON_MARKOV_KBG/"
      ],
      "execution_count": null,
      "outputs": [
        {
          "output_type": "stream",
          "text": [
            "/content/drive/My Drive/Colab Notebooks/NON_MARKOV_KBG\n"
          ],
          "name": "stdout"
        }
      ]
    },
    {
      "cell_type": "markdown",
      "metadata": {
        "id": "HLneydkyY9zg"
      },
      "source": [
        "# Uploading and Shuffling the simulated dataset and the experimental dataset"
      ]
    },
    {
      "cell_type": "code",
      "metadata": {
        "id": "08fyxlVZsPxO"
      },
      "source": [
        "Simulated_data = pd.read_csv('Sim_data_Pauli_wide_range.csv')\n",
        "#Simulated_data = pd.read_csv('Sim_data_Pauli_concentrated.csv')\n",
        "#Simulated_data = pd.read_csv('Sim_data_Pauli_wide_range2.csv')\n",
        "experimental_data = pd.read_csv('experimental_data_new_set_1000.csv', header=None)\n",
        "#sim_50_sample_data = pd.read_csv('50_sample_data_another_new_set_1000.csv', header=None)\n",
        "#sim_200_sample_data = pd.read_csv('200_sample_data_another_new_set_1000.csv', header=None)"
      ],
      "execution_count": null,
      "outputs": []
    },
    {
      "cell_type": "code",
      "metadata": {
        "id": "Jkr0B3sj3edM"
      },
      "source": [
        "df1 = Simulated_data.iloc[:,:]\n",
        "df1.drop(\"Unnamed: 0\", axis=1, inplace=True)\n",
        "df1 = df1.rename(columns = {'0':0, '1':1, '2':2, '3':3, '4':4, '5':5, '6':6, '7':7, '8':8, 'Labels':9}) ## This step is needed to match the names of the columns with the experimental data\n"
      ],
      "execution_count": null,
      "outputs": []
    },
    {
      "cell_type": "code",
      "metadata": {
        "id": "UH-SaKCxrjjR",
        "colab": {
          "base_uri": "https://localhost:8080/",
          "height": 271
        },
        "outputId": "d3436992-9c30-4daf-d3bc-ab3ca0cfbaa9"
      },
      "source": [
        "correlations = df1.corr()\n",
        "fig = plt.figure()\n",
        "ax = fig.add_subplot(111)\n",
        "cax = ax.matshow(correlations, vmin=-1, vmax=1)\n",
        "fig.colorbar(cax)\n",
        "ticks = np.arange(0,9,1)\n",
        "ax.set_xticks(ticks)\n",
        "ax.set_yticks(ticks)\n",
        "plt.show()"
      ],
      "execution_count": null,
      "outputs": [
        {
          "output_type": "display_data",
          "data": {
            "image/png": "[encoded data removed]",
            "text/plain": [
              "<Figure size 432x288 with 2 Axes>"
            ]
          },
          "metadata": {
            "tags": [],
            "needs_background": "light"
          }
        }
      ]
    },
    {
      "cell_type": "code",
      "metadata": {
        "id": "vUjSP9c5soTm",
        "colab": {
          "base_uri": "https://localhost:8080/",
          "height": 271
        },
        "outputId": "dd5cf233-ce60-4267-a219-a8705541f373"
      },
      "source": [
        "correlations2 = experimental_data.corr()\n",
        "fig = plt.figure()\n",
        "ax = fig.add_subplot(111)\n",
        "cax = ax.matshow(correlations2, vmin=-1, vmax=1)\n",
        "fig.colorbar(cax)\n",
        "ticks = np.arange(0,10,1)\n",
        "ax.set_xticks(ticks)\n",
        "ax.set_yticks(ticks)\n",
        "plt.show()"
      ],
      "execution_count": null,
      "outputs": [
        {
          "output_type": "display_data",
          "data": {
            "image/png": "[encoded data removed]",
            "text/plain": [
              "<Figure size 432x288 with 2 Axes>"
            ]
          },
          "metadata": {
            "tags": [],
            "needs_background": "light"
          }
        }
      ]
    },
    {
      "cell_type": "code",
      "metadata": {
        "id": "2IGxcr8mWzF7",
        "colab": {
          "base_uri": "https://localhost:8080/"
        },
        "outputId": "728030dc-0921-4b63-a256-f0ef9f4ab0b4"
      },
      "source": [
        "import sklearn as sk\n",
        "\n",
        "Shuffled_experimental_data = sk.utils.shuffle(sim_50_sample_data, random_state=10)\n",
        "Shuffled_simulated_data = sk.utils.shuffle(df1, random_state=10)             ## In last two lines, I shuffled the simulated and the experimental datasets, this steps are required to randomly select certain percentage of the rows from both of them. \n",
        "\n",
        "print(Shuffled_experimental_data.iloc[0:2,:])\n",
        "print(Shuffled_simulated_data.iloc[0:2,:])\n",
        "\n",
        "Simulated_data_row, Simulated_data_column = Shuffled_simulated_data.shape\n",
        "Exp_data_row, Exp_data_column = Shuffled_experimental_data.shape\n",
        "\n",
        "print(Simulated_data_row)\n",
        "print(Exp_data_row)\n"
      ],
      "execution_count": null,
      "outputs": [
        {
          "output_type": "stream",
          "text": [
            "          0         1        2        3   ...        7        8        9        10\n",
            "841  0.27329  0.149070 -0.95031  0.14032  ...  0.110840  0.93831  0.96962  0.82026\n",
            "956  0.30986 -0.075701 -0.88238  0.50200  ... -0.044683  0.98325  0.92536  0.99204\n",
            "\n",
            "[2 rows x 11 columns]\n",
            "              0         1         2  ...         7         8         9\n",
            "45609  0.260029 -0.141833 -0.897570  ... -0.125910  0.900072  0.812942\n",
            "34085  0.236737 -0.117753 -0.757005  ... -0.080832  0.760656  0.514840\n",
            "\n",
            "[2 rows x 10 columns]\n",
            "57344\n",
            "1000\n"
          ],
          "name": "stdout"
        }
      ]
    },
    {
      "cell_type": "markdown",
      "metadata": {
        "id": "WU6y6zB1ZEwD"
      },
      "source": [
        "## Training and testing on only simulated data"
      ]
    },
    {
      "cell_type": "code",
      "metadata": {
        "colab": {
          "base_uri": "https://localhost:8080/"
        },
        "id": "56IfMTAjZCzz",
        "outputId": "5191950a-4b48-4262-db32-302f7a54dd7d"
      },
      "source": [
        "\n",
        "from sklearn.model_selection import train_test_split\n",
        "\n",
        "#X_train, X_test, y_train, y_test = train_test_split(Shuffled_simulated_data.iloc[:,[2,5,8]].values, Shuffled_simulated_data.iloc[:,-1].values, test_size=0.33, random_state=42)\n",
        "\n",
        "X_train, X_test, y_train, y_test = train_test_split(Shuffled_simulated_data.iloc[:,0:9].values, Shuffled_simulated_data.iloc[:,-1].values, test_size=0.33, random_state=42)\n",
        "\n",
        "\n",
        "\n",
        "\n",
        "print('First two rows of the training dataset\\n',X_train[0:2,:])\n",
        "print('\\nShape of the training dataset = ', X_train.shape)\n",
        "\n",
        "print('\\nFirst two rows of the test dataset\\n', X_test[0:2,:])\n",
        "print('\\nShape of the test dataset = ', X_test.shape)"
      ],
      "execution_count": null,
      "outputs": [
        {
          "output_type": "stream",
          "text": [
            "First two rows of the training dataset\n",
            " [[ 0.12050195 -0.07736718 -0.44298099  0.02461086  0.03185918  0.4553948\n",
            "  -0.1184138   0.03294314  0.44318722]\n",
            " [ 0.19096372 -0.11319688 -0.72127507  0.05138817  0.0644544   0.734252\n",
            "  -0.19328754  0.04044073  0.72319349]]\n",
            "\n",
            "Shape of the training dataset =  (38420, 9)\n",
            "\n",
            "First two rows of the test dataset\n",
            " [[ 0.27329193 -0.14906832 -0.95031056  0.03243975  0.10937738  0.95596377\n",
            "  -0.18956109 -0.11389201  0.94424203]\n",
            " [ 0.24556989 -0.13624214 -0.84526679  0.08887125  0.12325136  0.82870008\n",
            "  -0.16119173 -0.13183171  0.84113881]]\n",
            "\n",
            "Shape of the test dataset =  (18924, 9)\n"
          ],
          "name": "stdout"
        }
      ]
    },
    {
      "cell_type": "code",
      "metadata": {
        "id": "j_50j1uDbKkE"
      },
      "source": [
        "from sklearn.metrics import mean_squared_error, r2_score\n",
        "from sklearn.preprocessing import PolynomialFeatures\n",
        "\n",
        "polynomial_features= PolynomialFeatures(degree=4)\n",
        "\n",
        "x_poly_train = polynomial_features.fit_transform(X_train)\n",
        "x_poly_test = polynomial_features.fit_transform(X_test)   "
      ],
      "execution_count": null,
      "outputs": []
    },
    {
      "cell_type": "code",
      "metadata": {
        "colab": {
          "base_uri": "https://localhost:8080/",
          "height": 333
        },
        "id": "sJUcoJtubLZ3",
        "outputId": "b3a14fb7-36be-4431-ea3b-49a7c0810a0d"
      },
      "source": [
        "model_poly = LinearRegression()\n",
        "model_poly.fit(x_poly_train, y_train)\n",
        "predictions1 = model_poly.predict(x_poly_train)\n",
        "predictions2 = model_poly.predict(x_poly_test)\n",
        "plt.scatter(y_test,predictions2)\n",
        "\n",
        "\n",
        "mae_2 = metrics.mean_absolute_error(y_test,predictions2)\n",
        "mse_2 = metrics.mean_squared_error(y_test,predictions2)\n",
        "rmse_2 = np.sqrt(metrics.mean_squared_error(y_test,predictions2))\n",
        "mae_2_train = metrics.mean_absolute_error(y_train,predictions1)\n",
        "r2_2_train = r2_score(y_train,predictions1)\n",
        "r2_2 = r2_score(y_test,predictions2)  \n",
        "print(r2_2)\n",
        "print(mae_2)\n",
        "print(r2_2_train)\n",
        "print(mae_2_train)\n",
        "\n",
        "\n"
      ],
      "execution_count": null,
      "outputs": [
        {
          "output_type": "stream",
          "text": [
            "0.9980420777519295\n",
            "0.010358999526617478\n",
            "0.9984467342323632\n",
            "0.0097848061791111\n"
          ],
          "name": "stdout"
        },
        {
          "output_type": "display_data",
          "data": {
            "image/png": "[encoded data removed]",
            "text/plain": [
              "<Figure size 432x288 with 1 Axes>"
            ]
          },
          "metadata": {
            "tags": [],
            "needs_background": "light"
          }
        }
      ]
    },
    {
      "cell_type": "markdown",
      "metadata": {
        "id": "fMwfTCI0dXn1"
      },
      "source": [
        "## Training with 100% simulated data and 70% experimental data"
      ]
    },
    {
      "cell_type": "code",
      "metadata": {
        "id": "b_DewEifdqU8",
        "colab": {
          "base_uri": "https://localhost:8080/"
        },
        "outputId": "d2e0d79d-3678-4b76-8703-5d2c87062d41"
      },
      "source": [
        "\n",
        "\n",
        "n_simulated = 0/100    \n",
        "n_experiment = 70/100 \n",
        "\n",
        "\n",
        "#frame = [Shuffled_simulated_data.iloc[0: int(Simulated_data_row*n_simulated),:], Shuffled_experimental_data.iloc[0: int(Exp_data_row*n_experiment),[3,6,9]]]]]\n",
        "#Concatenated_data = pd.concat(frame,ignore_index=True,axis = 0)                   \n",
        "\n",
        "Concatenated_data = Shuffled_experimental_data.iloc[0: int(Exp_data_row*n_experiment),[2,5,8,9]]\n",
        "\n",
        "Tst_set = Shuffled_experimental_data.iloc[int(Exp_data_row*n_experiment):1000,[2,5,8,9]]\n",
        "Test_set = Tst_set.reset_index(drop=True)\n",
        "\n",
        "\n",
        "print('First two rows of the training dataset\\n',Concatenated_data.iloc[0:2,:])\n",
        "print('\\nShape of the training dataset = ', Concatenated_data.shape)\n",
        "\n",
        "print('\\nFirst two rows of the test dataset\\n', Test_set.iloc[0:2,:])\n",
        "print('\\nShape of the test dataset = ', Test_set.shape)"
      ],
      "execution_count": null,
      "outputs": [
        {
          "output_type": "stream",
          "text": [
            "First two rows of the training dataset\n",
            "            2        5        8        9\n",
            "841 -0.95031  0.94351  0.93831  0.96962\n",
            "956 -0.88238  0.86042  0.98325  0.92536\n",
            "\n",
            "Shape of the training dataset =  (700, 4)\n",
            "\n",
            "First two rows of the test dataset\n",
            "          2        5        8        9\n",
            "0 -0.87429  0.84617  0.85440  0.68924\n",
            "1 -0.91230  0.85477  0.88089  0.51523\n",
            "\n",
            "Shape of the test dataset =  (300, 4)\n"
          ],
          "name": "stdout"
        }
      ]
    },
    {
      "cell_type": "code",
      "metadata": {
        "id": "Yynds73Mdtou"
      },
      "source": [
        "X_train = Concatenated_data.iloc[:,0:3].values\n",
        "y_train = Concatenated_data.iloc[:,-1].values\n",
        "\n",
        "X_test = Test_set.iloc[:,0:3].values\n",
        "y_test = Test_set.iloc[:,-1].values"
      ],
      "execution_count": null,
      "outputs": []
    },
    {
      "cell_type": "markdown",
      "metadata": {
        "id": "JgZbwFf7d-cf"
      },
      "source": [
        "### Polynomial Regression"
      ]
    },
    {
      "cell_type": "code",
      "metadata": {
        "id": "i0utq9kDd3Fu"
      },
      "source": [
        "from sklearn.metrics import mean_squared_error, r2_score\n",
        "from sklearn.preprocessing import PolynomialFeatures\n",
        "\n",
        "polynomial_features= PolynomialFeatures(degree=2)\n",
        "\n",
        "x_poly_train = polynomial_features.fit_transform(X_train)\n",
        "x_poly_test = polynomial_features.fit_transform(X_test)   "
      ],
      "execution_count": null,
      "outputs": []
    },
    {
      "cell_type": "code",
      "metadata": {
        "id": "elcXfyaSeImO",
        "colab": {
          "base_uri": "https://localhost:8080/",
          "height": 333
        },
        "outputId": "12362e99-14fb-4383-d132-b16eba3bcb9a"
      },
      "source": [
        "model_poly = LinearRegression()\n",
        "model_poly.fit(x_poly_train, y_train)\n",
        "predictions1 = model_poly.predict(x_poly_train)\n",
        "predictions2 = model_poly.predict(x_poly_test)\n",
        "plt.scatter(y_test,predictions2)\n",
        "\n",
        "\n",
        "mae_2 = metrics.mean_absolute_error(y_test,predictions2)\n",
        "mse_2 = metrics.mean_squared_error(y_test,predictions2)\n",
        "rmse_2 = np.sqrt(metrics.mean_squared_error(y_test,predictions2))\n",
        "mae_2_train = metrics.mean_absolute_error(y_train,predictions1)\n",
        "r2_2_train = r2_score(y_train,predictions1)\n",
        "r2_2 = r2_score(y_test,predictions2)  \n",
        "print(r2_2)\n",
        "print(mae_2)\n",
        "print(r2_2_train)\n",
        "print(mae_2_train)"
      ],
      "execution_count": null,
      "outputs": [
        {
          "output_type": "stream",
          "text": [
            "0.6801484993757838\n",
            "0.07770117846727734\n",
            "0.6792103847281947\n",
            "0.07676717041442353\n"
          ],
          "name": "stdout"
        },
        {
          "output_type": "display_data",
          "data": {
            "image/png": "[encoded data removed]",
            "text/plain": [
              "<Figure size 432x288 with 1 Axes>"
            ]
          },
          "metadata": {
            "tags": [],
            "needs_background": "light"
          }
        }
      ]
    },
    {
      "cell_type": "markdown",
      "metadata": {
        "id": "XqxMtBFjebOI"
      },
      "source": [
        "\n",
        "#### R2 Score with regression\n",
        "1.   0.64\n",
        "2.   0.85\n",
        "\n"
      ]
    },
    {
      "cell_type": "markdown",
      "metadata": {
        "id": "UvWVMzB2ewCx"
      },
      "source": [
        "### Neural Network"
      ]
    },
    {
      "cell_type": "code",
      "metadata": {
        "id": "J_siYiCleM-3"
      },
      "source": [
        "checkpoint_name = 'Weights-{epoch:03d}--{val_loss:.5f}.hdf5' \n",
        "checkpoint = ModelCheckpoint(checkpoint_name, monitor='val_loss', verbose = 1, save_best_only = True, mode ='auto')\n",
        "callbacks_list = [checkpoint]"
      ],
      "execution_count": null,
      "outputs": []
    },
    {
      "cell_type": "code",
      "metadata": {
        "id": "obrzTUPfeyAR"
      },
      "source": [
        "# Make a model\n",
        "\n",
        "\n",
        "NN_model = Sequential()\n",
        "\n",
        "# The Input Layer :\n",
        "NN_model.add(Dense(128, kernel_initializer='normal',input_dim = X_train.shape[1], activation='relu'))\n",
        "\n",
        "# The Hidden Layers :\n",
        "NN_model.add(Dense(256, kernel_initializer='normal',activation='relu'))\n",
        "NN_model.add(Dropout(0.01))\n",
        "NN_model.add(Dense(256, kernel_initializer='normal',activation='relu'))\n",
        "NN_model.add(Dense(256, kernel_initializer='normal',activation='relu'))\n",
        "NN_model.add(Dropout(0.05))\n",
        "# The Output Layer :\n",
        "NN_model.add(Dense(1, kernel_initializer='normal',activation='linear'))\n",
        "\n",
        "# Compile the network :\n",
        "NN_model.compile(loss='mean_absolute_error', optimizer='adam', metrics=['mean_absolute_error'])\n",
        "#NN_model.summary()"
      ],
      "execution_count": null,
      "outputs": []
    },
    {
      "cell_type": "code",
      "metadata": {
        "id": "KdYdNiUkez5R",
        "colab": {
          "base_uri": "https://localhost:8080/",
          "height": 1000
        },
        "outputId": "c7240510-ed9d-4b90-8c82-600c3bda5014"
      },
      "source": [
        "#train the model, evaluate using 0.2 of data for validation comparison, run for 20 epochs, batch size of 32\n",
        "NN_model.fit(X_train, y_train, epochs=20, batch_size=32, validation_split = 0.2, callbacks=callbacks_list)\n"
      ],
      "execution_count": null,
      "outputs": [
        {
          "output_type": "stream",
          "text": [
            "Epoch 1/20\n",
            "371/374 [============================>.] - ETA: 0s - loss: 0.1049 - mean_absolute_error: 0.1049\n",
            "Epoch 00001: val_loss improved from inf to 0.06622, saving model to Weights-001--0.06622.hdf5\n",
            "374/374 [==============================] - 1s 4ms/step - loss: 0.1045 - mean_absolute_error: 0.1045 - val_loss: 0.0662 - val_mean_absolute_error: 0.0662\n",
            "Epoch 2/20\n",
            "369/374 [============================>.] - ETA: 0s - loss: 0.0427 - mean_absolute_error: 0.0427\n",
            "Epoch 00002: val_loss improved from 0.06622 to 0.03146, saving model to Weights-002--0.03146.hdf5\n",
            "374/374 [==============================] - 1s 3ms/step - loss: 0.0426 - mean_absolute_error: 0.0426 - val_loss: 0.0315 - val_mean_absolute_error: 0.0315\n",
            "Epoch 3/20\n",
            "363/374 [============================>.] - ETA: 0s - loss: 0.0352 - mean_absolute_error: 0.0352\n",
            "Epoch 00003: val_loss improved from 0.03146 to 0.02612, saving model to Weights-003--0.02612.hdf5\n",
            "374/374 [==============================] - 1s 3ms/step - loss: 0.0350 - mean_absolute_error: 0.0350 - val_loss: 0.0261 - val_mean_absolute_error: 0.0261\n",
            "Epoch 4/20\n",
            "360/374 [===========================>..] - ETA: 0s - loss: 0.0311 - mean_absolute_error: 0.0311\n",
            "Epoch 00004: val_loss did not improve from 0.02612\n",
            "374/374 [==============================] - 1s 3ms/step - loss: 0.0309 - mean_absolute_error: 0.0309 - val_loss: 0.0295 - val_mean_absolute_error: 0.0295\n",
            "Epoch 5/20\n",
            "359/374 [===========================>..] - ETA: 0s - loss: 0.0279 - mean_absolute_error: 0.0279\n",
            "Epoch 00005: val_loss did not improve from 0.02612\n",
            "374/374 [==============================] - 1s 3ms/step - loss: 0.0278 - mean_absolute_error: 0.0278 - val_loss: 0.0312 - val_mean_absolute_error: 0.0312\n",
            "Epoch 6/20\n",
            "363/374 [============================>.] - ETA: 0s - loss: 0.0250 - mean_absolute_error: 0.0250\n",
            "Epoch 00006: val_loss did not improve from 0.02612\n",
            "374/374 [==============================] - 1s 3ms/step - loss: 0.0251 - mean_absolute_error: 0.0251 - val_loss: 0.0439 - val_mean_absolute_error: 0.0439\n",
            "Epoch 7/20\n",
            "370/374 [============================>.] - ETA: 0s - loss: 0.0262 - mean_absolute_error: 0.0262\n",
            "Epoch 00007: val_loss improved from 0.02612 to 0.02407, saving model to Weights-007--0.02407.hdf5\n",
            "374/374 [==============================] - 1s 3ms/step - loss: 0.0262 - mean_absolute_error: 0.0262 - val_loss: 0.0241 - val_mean_absolute_error: 0.0241\n",
            "Epoch 8/20\n",
            "365/374 [============================>.] - ETA: 0s - loss: 0.0251 - mean_absolute_error: 0.0251\n",
            "Epoch 00008: val_loss did not improve from 0.02407\n",
            "374/374 [==============================] - 1s 3ms/step - loss: 0.0251 - mean_absolute_error: 0.0251 - val_loss: 0.0242 - val_mean_absolute_error: 0.0242\n",
            "Epoch 9/20\n",
            "374/374 [==============================] - ETA: 0s - loss: 0.0246 - mean_absolute_error: 0.0246\n",
            "Epoch 00009: val_loss improved from 0.02407 to 0.02217, saving model to Weights-009--0.02217.hdf5\n",
            "374/374 [==============================] - 1s 3ms/step - loss: 0.0246 - mean_absolute_error: 0.0246 - val_loss: 0.0222 - val_mean_absolute_error: 0.0222\n",
            "Epoch 10/20\n",
            "358/374 [===========================>..] - ETA: 0s - loss: 0.0219 - mean_absolute_error: 0.0219\n",
            "Epoch 00010: val_loss did not improve from 0.02217\n",
            "374/374 [==============================] - 1s 3ms/step - loss: 0.0221 - mean_absolute_error: 0.0221 - val_loss: 0.0223 - val_mean_absolute_error: 0.0223\n",
            "Epoch 11/20\n",
            "359/374 [===========================>..] - ETA: 0s - loss: 0.0238 - mean_absolute_error: 0.0238\n",
            "Epoch 00011: val_loss did not improve from 0.02217\n",
            "374/374 [==============================] - 1s 3ms/step - loss: 0.0237 - mean_absolute_error: 0.0237 - val_loss: 0.0333 - val_mean_absolute_error: 0.0333\n",
            "Epoch 12/20\n",
            "363/374 [============================>.] - ETA: 0s - loss: 0.0217 - mean_absolute_error: 0.0217\n",
            "Epoch 00012: val_loss did not improve from 0.02217\n",
            "374/374 [==============================] - 1s 3ms/step - loss: 0.0218 - mean_absolute_error: 0.0218 - val_loss: 0.0345 - val_mean_absolute_error: 0.0345\n",
            "Epoch 13/20\n",
            "359/374 [===========================>..] - ETA: 0s - loss: 0.0226 - mean_absolute_error: 0.0226\n",
            "Epoch 00013: val_loss improved from 0.02217 to 0.02110, saving model to Weights-013--0.02110.hdf5\n",
            "374/374 [==============================] - 1s 3ms/step - loss: 0.0225 - mean_absolute_error: 0.0225 - val_loss: 0.0211 - val_mean_absolute_error: 0.0211\n",
            "Epoch 14/20\n",
            "364/374 [============================>.] - ETA: 0s - loss: 0.0216 - mean_absolute_error: 0.0216\n",
            "Epoch 00014: val_loss did not improve from 0.02110\n",
            "374/374 [==============================] - 1s 3ms/step - loss: 0.0215 - mean_absolute_error: 0.0215 - val_loss: 0.0296 - val_mean_absolute_error: 0.0296\n",
            "Epoch 15/20\n",
            "367/374 [============================>.] - ETA: 0s - loss: 0.0216 - mean_absolute_error: 0.0216\n",
            "Epoch 00015: val_loss did not improve from 0.02110\n",
            "374/374 [==============================] - 1s 3ms/step - loss: 0.0215 - mean_absolute_error: 0.0215 - val_loss: 0.0264 - val_mean_absolute_error: 0.0264\n",
            "Epoch 16/20\n",
            "365/374 [============================>.] - ETA: 0s - loss: 0.0207 - mean_absolute_error: 0.0207\n",
            "Epoch 00016: val_loss did not improve from 0.02110\n",
            "374/374 [==============================] - 1s 3ms/step - loss: 0.0207 - mean_absolute_error: 0.0207 - val_loss: 0.0273 - val_mean_absolute_error: 0.0273\n",
            "Epoch 17/20\n",
            "369/374 [============================>.] - ETA: 0s - loss: 0.0209 - mean_absolute_error: 0.0209\n",
            "Epoch 00017: val_loss improved from 0.02110 to 0.01997, saving model to Weights-017--0.01997.hdf5\n",
            "374/374 [==============================] - 1s 4ms/step - loss: 0.0209 - mean_absolute_error: 0.0209 - val_loss: 0.0200 - val_mean_absolute_error: 0.0200\n",
            "Epoch 18/20\n",
            "361/374 [===========================>..] - ETA: 0s - loss: 0.0192 - mean_absolute_error: 0.0192\n",
            "Epoch 00018: val_loss did not improve from 0.01997\n",
            "374/374 [==============================] - 1s 3ms/step - loss: 0.0191 - mean_absolute_error: 0.0191 - val_loss: 0.0338 - val_mean_absolute_error: 0.0338\n",
            "Epoch 19/20\n",
            "372/374 [============================>.] - ETA: 0s - loss: 0.0192 - mean_absolute_error: 0.0192\n",
            "Epoch 00019: val_loss did not improve from 0.01997\n",
            "374/374 [==============================] - 1s 3ms/step - loss: 0.0192 - mean_absolute_error: 0.0192 - val_loss: 0.0290 - val_mean_absolute_error: 0.0290\n",
            "Epoch 20/20\n",
            "374/374 [==============================] - ETA: 0s - loss: 0.0201 - mean_absolute_error: 0.0201\n",
            "Epoch 00020: val_loss did not improve from 0.01997\n",
            "374/374 [==============================] - 1s 3ms/step - loss: 0.0201 - mean_absolute_error: 0.0201 - val_loss: 0.0230 - val_mean_absolute_error: 0.0230\n"
          ],
          "name": "stdout"
        },
        {
          "output_type": "execute_result",
          "data": {
            "text/plain": [
              "<tensorflow.python.keras.callbacks.History at 0x7f5d703f9780>"
            ]
          },
          "metadata": {
            "tags": []
          },
          "execution_count": 24
        }
      ]
    },
    {
      "cell_type": "code",
      "metadata": {
        "id": "ravG--_6e2gJ",
        "colab": {
          "base_uri": "https://localhost:8080/",
          "height": 51
        },
        "outputId": "5dd6a841-7118-43ce-dacb-d5692281b52b"
      },
      "source": [
        "predictions_NN_model = NN_model.predict(X_test)\n",
        "\n",
        "\n",
        "R2_score = r2_score(y_test , predictions_NN_model)\n",
        "MAE = mean_absolute_error(y_test , predictions_NN_model)\n",
        "print('R2_score = ',R2_score)\n",
        "print('MAE=',MAE)\n"
      ],
      "execution_count": null,
      "outputs": [
        {
          "output_type": "stream",
          "text": [
            "R2_score =  0.838940126464659\n",
            "MAE= 0.05713913233703374\n"
          ],
          "name": "stdout"
        }
      ]
    },
    {
      "cell_type": "markdown",
      "metadata": {
        "id": "vCX4sFBAhX9S"
      },
      "source": [
        "## Training with 80% Simulated data and 60% Experimental data"
      ]
    },
    {
      "cell_type": "code",
      "metadata": {
        "id": "tLa_zKgMiLfP",
        "colab": {
          "base_uri": "https://localhost:8080/",
          "height": 306
        },
        "outputId": "aff77d8e-1546-4a97-8f81-8ca0fe010984"
      },
      "source": [
        "n_simulated =  0.8    \n",
        "n_experiment = 0.6 \n",
        "\n",
        "\n",
        "frame = [Shuffled_simulated_data.iloc[0: int(Simulated_data_row*n_simulated),:], Shuffled_experimental_data.iloc[0: int(Exp_data_row*n_experiment),0:10]]\n",
        "Concatenated_data = pd.concat(frame,ignore_index=True,axis = 0)\n",
        "\n",
        "Tst_set = Shuffled_experimental_data.iloc[int(Exp_data_row*n_experiment):1000,0:10]\n",
        "Test_set = Tst_set.reset_index(drop=True)\n",
        "\n",
        "\n",
        "print('First two rows of the training dataset\\n',Concatenated_data.iloc[0:2,:])\n",
        "print('\\nShape of the training dataset = ', Concatenated_data.shape)\n",
        "\n",
        "print('\\nFirst two rows of the test dataset\\n', Test_set.iloc[0:2,:])\n",
        "print('\\nShape of the test dataset = ', Test_set.shape)"
      ],
      "execution_count": null,
      "outputs": [
        {
          "output_type": "stream",
          "text": [
            "First two rows of the training dataset\n",
            "           0         1         2  ...         7         8         9\n",
            "0  0.247066 -0.134443 -0.847967  ... -0.028091  0.847865  0.650680\n",
            "1  0.260906 -0.141703 -0.903978  ... -0.096278  0.904922  0.826874\n",
            "\n",
            "[2 rows x 10 columns]\n",
            "\n",
            "Shape of the training dataset =  (12068, 10)\n",
            "\n",
            "First two rows of the test dataset\n",
            "          0         1        2        3  ...        6         7        8        9\n",
            "0  0.22737 -0.084502 -0.71269  0.20063  ... -0.13539 -0.067570  0.79156  0.49154\n",
            "1  0.28010 -0.061333 -0.73534  0.30589  ... -0.12795  0.011258  0.80053  0.51405\n",
            "\n",
            "[2 rows x 10 columns]\n",
            "\n",
            "Shape of the test dataset =  (400, 10)\n"
          ],
          "name": "stdout"
        }
      ]
    },
    {
      "cell_type": "code",
      "metadata": {
        "id": "VX_CtqQijewY"
      },
      "source": [
        "X_train = Concatenated_data.iloc[:,0:9].values\n",
        "y_train = Concatenated_data.iloc[:,-1].values\n",
        "\n",
        "X_test = Test_set.iloc[:,0:9].values\n",
        "y_test = Test_set.iloc[:,-1].values"
      ],
      "execution_count": null,
      "outputs": []
    },
    {
      "cell_type": "markdown",
      "metadata": {
        "id": "mKNxfcN-lApc"
      },
      "source": [
        "### Polynomial Regression"
      ]
    },
    {
      "cell_type": "code",
      "metadata": {
        "id": "XRiEjLx1k8aD"
      },
      "source": [
        "from sklearn.metrics import mean_squared_error, r2_score\n",
        "from sklearn.preprocessing import PolynomialFeatures\n",
        "\n",
        "polynomial_features= PolynomialFeatures(degree=2)\n",
        "\n",
        "x_poly_train = polynomial_features.fit_transform(X_train)\n",
        "x_poly_test = polynomial_features.fit_transform(X_test)"
      ],
      "execution_count": null,
      "outputs": []
    },
    {
      "cell_type": "code",
      "metadata": {
        "id": "MvpkOnMFlDlU",
        "colab": {
          "base_uri": "https://localhost:8080/",
          "height": 282
        },
        "outputId": "1330d9eb-96d6-4e6a-cc0d-0c8ac01e6155"
      },
      "source": [
        "model_poly = LinearRegression()\n",
        "model_poly.fit(x_poly_train, y_train)\n",
        "predictions2 = model_poly.predict(x_poly_test)\n",
        "plt.scatter(y_test,predictions2)\n",
        "\n",
        "\n",
        "mae_2 = metrics.mean_absolute_error(y_test,predictions2)\n",
        "mse_2 = metrics.mean_squared_error(y_test,predictions2)\n",
        "rmse_2 = np.sqrt(metrics.mean_squared_error(y_test,predictions2))\n",
        "r2_2 = r2_score(y_test,predictions2)  \n",
        "r2_2\n",
        "mae_2"
      ],
      "execution_count": null,
      "outputs": [
        {
          "output_type": "execute_result",
          "data": {
            "text/plain": [
              "0.053668562041464495"
            ]
          },
          "metadata": {
            "tags": []
          },
          "execution_count": 29
        },
        {
          "output_type": "display_data",
          "data": {
            "image/png": "[encoded data removed]",
            "text/plain": [
              "<Figure size 432x288 with 1 Axes>"
            ]
          },
          "metadata": {
            "tags": [],
            "needs_background": "light"
          }
        }
      ]
    },
    {
      "cell_type": "markdown",
      "metadata": {
        "id": "tOV36pMYMGXJ"
      },
      "source": [
        "#### Summary of the regression results: (R^2 values for different degrees)\n",
        "\n",
        "\n",
        "1.   0.645\n",
        "2.   0.856"
      ]
    },
    {
      "cell_type": "markdown",
      "metadata": {
        "id": "p4cP3xKeldkE"
      },
      "source": [
        "### Neural Network"
      ]
    },
    {
      "cell_type": "code",
      "metadata": {
        "id": "cwvFRSDXlXqU"
      },
      "source": [
        "checkpoint_name = 'Weights-{epoch:03d}--{val_loss:.5f}.hdf5' \n",
        "checkpoint = ModelCheckpoint(checkpoint_name, monitor='val_loss', verbose = 1, save_best_only = True, mode ='auto')\n",
        "callbacks_list = [checkpoint]"
      ],
      "execution_count": null,
      "outputs": []
    },
    {
      "cell_type": "code",
      "metadata": {
        "id": "enxoawJklf0W"
      },
      "source": [
        "# Make a model\n",
        "\n",
        "\n",
        "NN_model = Sequential()\n",
        "\n",
        "# The Input Layer :\n",
        "NN_model.add(Dense(128, kernel_initializer='normal',input_dim = X_train.shape[1], activation='relu'))\n",
        "\n",
        "# The Hidden Layers :\n",
        "NN_model.add(Dense(256, kernel_initializer='normal',activation='relu'))\n",
        "NN_model.add(Dropout(0.01))\n",
        "NN_model.add(Dense(256, kernel_initializer='normal',activation='relu'))\n",
        "NN_model.add(Dense(256, kernel_initializer='normal',activation='relu'))\n",
        "NN_model.add(Dropout(0.05))\n",
        "# The Output Layer :\n",
        "NN_model.add(Dense(1, kernel_initializer='normal',activation='linear'))\n",
        "\n",
        "# Compile the network :\n",
        "NN_model.compile(loss='mean_absolute_error', optimizer='adam', metrics=['mean_absolute_error'])\n",
        "#NN_model.summary()"
      ],
      "execution_count": null,
      "outputs": []
    },
    {
      "cell_type": "code",
      "metadata": {
        "id": "w9Dy455iljEt",
        "colab": {
          "base_uri": "https://localhost:8080/",
          "height": 1000
        },
        "outputId": "cac27bb9-162f-4aa0-f518-11b3ce3e8187"
      },
      "source": [
        "#train the model, evaluate using 0.2 of data for validation comparison, run for 20 epochs, batch size of 32\n",
        "NN_model.fit(X_train, y_train, epochs=20, batch_size=32, validation_split = 0.2, callbacks=callbacks_list)"
      ],
      "execution_count": null,
      "outputs": [
        {
          "output_type": "stream",
          "text": [
            "Epoch 1/20\n",
            "296/302 [============================>.] - ETA: 0s - loss: 0.1162 - mean_absolute_error: 0.1162\n",
            "Epoch 00001: val_loss improved from inf to 0.08124, saving model to Weights-001--0.08124.hdf5\n",
            "302/302 [==============================] - 1s 4ms/step - loss: 0.1152 - mean_absolute_error: 0.1152 - val_loss: 0.0812 - val_mean_absolute_error: 0.0812\n",
            "Epoch 2/20\n",
            "301/302 [============================>.] - ETA: 0s - loss: 0.0499 - mean_absolute_error: 0.0499\n",
            "Epoch 00002: val_loss improved from 0.08124 to 0.03946, saving model to Weights-002--0.03946.hdf5\n",
            "302/302 [==============================] - 1s 3ms/step - loss: 0.0499 - mean_absolute_error: 0.0499 - val_loss: 0.0395 - val_mean_absolute_error: 0.0395\n",
            "Epoch 3/20\n",
            "299/302 [============================>.] - ETA: 0s - loss: 0.0380 - mean_absolute_error: 0.0380\n",
            "Epoch 00003: val_loss did not improve from 0.03946\n",
            "302/302 [==============================] - 1s 3ms/step - loss: 0.0379 - mean_absolute_error: 0.0379 - val_loss: 0.0434 - val_mean_absolute_error: 0.0434\n",
            "Epoch 4/20\n",
            "300/302 [============================>.] - ETA: 0s - loss: 0.0340 - mean_absolute_error: 0.0340\n",
            "Epoch 00004: val_loss improved from 0.03946 to 0.03220, saving model to Weights-004--0.03220.hdf5\n",
            "302/302 [==============================] - 1s 3ms/step - loss: 0.0340 - mean_absolute_error: 0.0340 - val_loss: 0.0322 - val_mean_absolute_error: 0.0322\n",
            "Epoch 5/20\n",
            "290/302 [===========================>..] - ETA: 0s - loss: 0.0303 - mean_absolute_error: 0.0303\n",
            "Epoch 00005: val_loss improved from 0.03220 to 0.03040, saving model to Weights-005--0.03040.hdf5\n",
            "302/302 [==============================] - 1s 3ms/step - loss: 0.0301 - mean_absolute_error: 0.0301 - val_loss: 0.0304 - val_mean_absolute_error: 0.0304\n",
            "Epoch 6/20\n",
            "296/302 [============================>.] - ETA: 0s - loss: 0.0313 - mean_absolute_error: 0.0313\n",
            "Epoch 00006: val_loss did not improve from 0.03040\n",
            "302/302 [==============================] - 1s 3ms/step - loss: 0.0312 - mean_absolute_error: 0.0312 - val_loss: 0.0306 - val_mean_absolute_error: 0.0306\n",
            "Epoch 7/20\n",
            "301/302 [============================>.] - ETA: 0s - loss: 0.0261 - mean_absolute_error: 0.0261\n",
            "Epoch 00007: val_loss did not improve from 0.03040\n",
            "302/302 [==============================] - 1s 3ms/step - loss: 0.0261 - mean_absolute_error: 0.0261 - val_loss: 0.0338 - val_mean_absolute_error: 0.0338\n",
            "Epoch 8/20\n",
            "292/302 [============================>.] - ETA: 0s - loss: 0.0253 - mean_absolute_error: 0.0253\n",
            "Epoch 00008: val_loss did not improve from 0.03040\n",
            "302/302 [==============================] - 1s 3ms/step - loss: 0.0253 - mean_absolute_error: 0.0253 - val_loss: 0.0346 - val_mean_absolute_error: 0.0346\n",
            "Epoch 9/20\n",
            "297/302 [============================>.] - ETA: 0s - loss: 0.0252 - mean_absolute_error: 0.0252\n",
            "Epoch 00009: val_loss improved from 0.03040 to 0.03026, saving model to Weights-009--0.03026.hdf5\n",
            "302/302 [==============================] - 1s 4ms/step - loss: 0.0252 - mean_absolute_error: 0.0252 - val_loss: 0.0303 - val_mean_absolute_error: 0.0303\n",
            "Epoch 10/20\n",
            "288/302 [===========================>..] - ETA: 0s - loss: 0.0233 - mean_absolute_error: 0.0233\n",
            "Epoch 00010: val_loss did not improve from 0.03026\n",
            "302/302 [==============================] - 1s 3ms/step - loss: 0.0232 - mean_absolute_error: 0.0232 - val_loss: 0.0333 - val_mean_absolute_error: 0.0333\n",
            "Epoch 11/20\n",
            "286/302 [===========================>..] - ETA: 0s - loss: 0.0243 - mean_absolute_error: 0.0243\n",
            "Epoch 00011: val_loss did not improve from 0.03026\n",
            "302/302 [==============================] - 1s 3ms/step - loss: 0.0241 - mean_absolute_error: 0.0241 - val_loss: 0.0340 - val_mean_absolute_error: 0.0340\n",
            "Epoch 12/20\n",
            "300/302 [============================>.] - ETA: 0s - loss: 0.0253 - mean_absolute_error: 0.0253\n",
            "Epoch 00012: val_loss improved from 0.03026 to 0.02458, saving model to Weights-012--0.02458.hdf5\n",
            "302/302 [==============================] - 1s 3ms/step - loss: 0.0253 - mean_absolute_error: 0.0253 - val_loss: 0.0246 - val_mean_absolute_error: 0.0246\n",
            "Epoch 13/20\n",
            "291/302 [===========================>..] - ETA: 0s - loss: 0.0226 - mean_absolute_error: 0.0226\n",
            "Epoch 00013: val_loss improved from 0.02458 to 0.02400, saving model to Weights-013--0.02400.hdf5\n",
            "302/302 [==============================] - 1s 3ms/step - loss: 0.0225 - mean_absolute_error: 0.0225 - val_loss: 0.0240 - val_mean_absolute_error: 0.0240\n",
            "Epoch 14/20\n",
            "296/302 [============================>.] - ETA: 0s - loss: 0.0222 - mean_absolute_error: 0.0222\n",
            "Epoch 00014: val_loss did not improve from 0.02400\n",
            "302/302 [==============================] - 1s 3ms/step - loss: 0.0222 - mean_absolute_error: 0.0222 - val_loss: 0.0295 - val_mean_absolute_error: 0.0295\n",
            "Epoch 15/20\n",
            "290/302 [===========================>..] - ETA: 0s - loss: 0.0222 - mean_absolute_error: 0.0222\n",
            "Epoch 00015: val_loss did not improve from 0.02400\n",
            "302/302 [==============================] - 1s 3ms/step - loss: 0.0221 - mean_absolute_error: 0.0221 - val_loss: 0.0346 - val_mean_absolute_error: 0.0346\n",
            "Epoch 16/20\n",
            "292/302 [============================>.] - ETA: 0s - loss: 0.0243 - mean_absolute_error: 0.0243\n",
            "Epoch 00016: val_loss did not improve from 0.02400\n",
            "302/302 [==============================] - 1s 3ms/step - loss: 0.0241 - mean_absolute_error: 0.0241 - val_loss: 0.0250 - val_mean_absolute_error: 0.0250\n",
            "Epoch 17/20\n",
            "289/302 [===========================>..] - ETA: 0s - loss: 0.0211 - mean_absolute_error: 0.0211\n",
            "Epoch 00017: val_loss did not improve from 0.02400\n",
            "302/302 [==============================] - 1s 4ms/step - loss: 0.0213 - mean_absolute_error: 0.0213 - val_loss: 0.0367 - val_mean_absolute_error: 0.0367\n",
            "Epoch 18/20\n",
            "292/302 [============================>.] - ETA: 0s - loss: 0.0216 - mean_absolute_error: 0.0216\n",
            "Epoch 00018: val_loss did not improve from 0.02400\n",
            "302/302 [==============================] - 2s 5ms/step - loss: 0.0215 - mean_absolute_error: 0.0215 - val_loss: 0.0278 - val_mean_absolute_error: 0.0278\n",
            "Epoch 19/20\n",
            "302/302 [==============================] - ETA: 0s - loss: 0.0218 - mean_absolute_error: 0.0218\n",
            "Epoch 00019: val_loss did not improve from 0.02400\n",
            "302/302 [==============================] - 2s 6ms/step - loss: 0.0218 - mean_absolute_error: 0.0218 - val_loss: 0.0266 - val_mean_absolute_error: 0.0266\n",
            "Epoch 20/20\n",
            "294/302 [============================>.] - ETA: 0s - loss: 0.0233 - mean_absolute_error: 0.0233\n",
            "Epoch 00020: val_loss did not improve from 0.02400\n",
            "302/302 [==============================] - 2s 6ms/step - loss: 0.0234 - mean_absolute_error: 0.0234 - val_loss: 0.0307 - val_mean_absolute_error: 0.0307\n"
          ],
          "name": "stdout"
        },
        {
          "output_type": "execute_result",
          "data": {
            "text/plain": [
              "<tensorflow.python.keras.callbacks.History at 0x7f5d7199b550>"
            ]
          },
          "metadata": {
            "tags": []
          },
          "execution_count": 32
        }
      ]
    },
    {
      "cell_type": "code",
      "metadata": {
        "id": "v2Ce319Zloy9",
        "colab": {
          "base_uri": "https://localhost:8080/",
          "height": 51
        },
        "outputId": "eca52acc-75b9-4d28-ad6f-c5df79e3d3ea"
      },
      "source": [
        "predictions_NN_model = NN_model.predict(X_test)\n",
        "\n",
        "\n",
        "R2_score = r2_score(y_test , predictions_NN_model)\n",
        "print('R2_score = ',R2_score)\n",
        "MAE = mean_absolute_error(y_test , predictions_NN_model)\n",
        "print('MAE=', MAE)"
      ],
      "execution_count": null,
      "outputs": [
        {
          "output_type": "stream",
          "text": [
            "R2_score =  0.8558680472701441\n",
            "MAE= 0.05441701242665053\n"
          ],
          "name": "stdout"
        }
      ]
    },
    {
      "cell_type": "markdown",
      "metadata": {
        "id": "Ci8_s44imp5J"
      },
      "source": [
        "## Training with 60% Simulated data and 60% Experimental data"
      ]
    },
    {
      "cell_type": "code",
      "metadata": {
        "id": "KUzXb93UmqwR",
        "colab": {
          "base_uri": "https://localhost:8080/",
          "height": 306
        },
        "outputId": "8d85c8f0-2059-4d7b-bca9-2431046c48f9"
      },
      "source": [
        "n_simulated =  0.6    \n",
        "n_experiment = 0.6 \n",
        "\n",
        "\n",
        "frame = [Shuffled_simulated_data.iloc[0: int(Simulated_data_row*n_simulated),:], Shuffled_experimental_data.iloc[0: int(Exp_data_row*n_experiment),0:10]]\n",
        "Concatenated_data = pd.concat(frame,ignore_index=True,axis = 0)\n",
        "\n",
        "Tst_set = Shuffled_experimental_data.iloc[int(Exp_data_row*n_experiment):1000,0:10]\n",
        "Test_set = Tst_set.reset_index(drop=True)\n",
        "\n",
        "\n",
        "print('First two rows of the training dataset\\n',Concatenated_data.iloc[0:2,:])\n",
        "print('\\nShape of the training dataset = ', Concatenated_data.shape)\n",
        "\n",
        "print('\\nFirst two rows of the test dataset\\n', Test_set.iloc[0:2,:])\n",
        "print('\\nShape of the test dataset = ', Test_set.shape)"
      ],
      "execution_count": null,
      "outputs": [
        {
          "output_type": "stream",
          "text": [
            "First two rows of the training dataset\n",
            "           0         1         2  ...         7         8         9\n",
            "0  0.247066 -0.134443 -0.847967  ... -0.028091  0.847865  0.650680\n",
            "1  0.260906 -0.141703 -0.903978  ... -0.096278  0.904922  0.826874\n",
            "\n",
            "[2 rows x 10 columns]\n",
            "\n",
            "Shape of the training dataset =  (9201, 10)\n",
            "\n",
            "First two rows of the test dataset\n",
            "          0         1        2        3  ...        6         7        8        9\n",
            "0  0.22737 -0.084502 -0.71269  0.20063  ... -0.13539 -0.067570  0.79156  0.49154\n",
            "1  0.28010 -0.061333 -0.73534  0.30589  ... -0.12795  0.011258  0.80053  0.51405\n",
            "\n",
            "[2 rows x 10 columns]\n",
            "\n",
            "Shape of the test dataset =  (400, 10)\n"
          ],
          "name": "stdout"
        }
      ]
    },
    {
      "cell_type": "code",
      "metadata": {
        "id": "ahFviU7TmqwU"
      },
      "source": [
        "X_train = Concatenated_data.iloc[:,0:9].values\n",
        "y_train = Concatenated_data.iloc[:,-1].values\n",
        "\n",
        "X_test = Test_set.iloc[:,0:9].values\n",
        "y_test = Test_set.iloc[:,-1].values"
      ],
      "execution_count": null,
      "outputs": []
    },
    {
      "cell_type": "markdown",
      "metadata": {
        "id": "NKRfSpyomqwW"
      },
      "source": [
        "### Polynomial Regression"
      ]
    },
    {
      "cell_type": "code",
      "metadata": {
        "id": "oiOJ88zumqwW"
      },
      "source": [
        "from sklearn.metrics import mean_squared_error, r2_score\n",
        "from sklearn.preprocessing import PolynomialFeatures\n",
        "\n",
        "polynomial_features= PolynomialFeatures(degree=2)\n",
        "\n",
        "x_poly_train = polynomial_features.fit_transform(X_train)\n",
        "x_poly_test = polynomial_features.fit_transform(X_test)"
      ],
      "execution_count": null,
      "outputs": []
    },
    {
      "cell_type": "code",
      "metadata": {
        "id": "6QwrmwavmqwZ",
        "colab": {
          "base_uri": "https://localhost:8080/",
          "height": 282
        },
        "outputId": "44dd569e-cca1-45a4-e994-adc324262e86"
      },
      "source": [
        "model_poly = LinearRegression()\n",
        "model_poly.fit(x_poly_train, y_train)\n",
        "predictions2 = model_poly.predict(x_poly_test)\n",
        "plt.scatter(y_test,predictions2)\n",
        "\n",
        "\n",
        "mae_2 = metrics.mean_absolute_error(y_test,predictions2)\n",
        "mse_2 = metrics.mean_squared_error(y_test,predictions2)\n",
        "rmse_2 = np.sqrt(metrics.mean_squared_error(y_test,predictions2))\n",
        "r2_2 = r2_score(y_test,predictions2)  \n",
        "r2_2\n",
        "mae_2"
      ],
      "execution_count": null,
      "outputs": [
        {
          "output_type": "execute_result",
          "data": {
            "text/plain": [
              "0.052618058496087715"
            ]
          },
          "metadata": {
            "tags": []
          },
          "execution_count": 39
        },
        {
          "output_type": "display_data",
          "data": {
            "image/png": "[encoded data removed]",
            "text/plain": [
              "<Figure size 432x288 with 1 Axes>"
            ]
          },
          "metadata": {
            "tags": [],
            "needs_background": "light"
          }
        }
      ]
    },
    {
      "cell_type": "markdown",
      "metadata": {
        "id": "jN_onNgmmqwb"
      },
      "source": [
        "#### Summary of the regression results: (R^2 values for different degrees)\n",
        "\n",
        "\n",
        "1.   0.65\n",
        "2.   0.86"
      ]
    },
    {
      "cell_type": "markdown",
      "metadata": {
        "id": "dzvIGB5Jmqwc"
      },
      "source": [
        "### Neural Network"
      ]
    },
    {
      "cell_type": "code",
      "metadata": {
        "id": "3nGsZ8oImqwc"
      },
      "source": [
        "checkpoint_name = 'Weights-{epoch:03d}--{val_loss:.5f}.hdf5' \n",
        "checkpoint = ModelCheckpoint(checkpoint_name, monitor='val_loss', verbose = 1, save_best_only = True, mode ='auto')\n",
        "callbacks_list = [checkpoint]"
      ],
      "execution_count": null,
      "outputs": []
    },
    {
      "cell_type": "code",
      "metadata": {
        "id": "MkL0M-iAmqwf"
      },
      "source": [
        "# Make a model\n",
        "\n",
        "\n",
        "NN_model = Sequential()\n",
        "\n",
        "# The Input Layer :\n",
        "NN_model.add(Dense(128, kernel_initializer='normal',input_dim = X_train.shape[1], activation='relu'))\n",
        "\n",
        "# The Hidden Layers :\n",
        "NN_model.add(Dense(256, kernel_initializer='normal',activation='relu'))\n",
        "NN_model.add(Dropout(0.01))\n",
        "NN_model.add(Dense(256, kernel_initializer='normal',activation='relu'))\n",
        "NN_model.add(Dense(256, kernel_initializer='normal',activation='relu'))\n",
        "NN_model.add(Dropout(0.05))\n",
        "# The Output Layer :\n",
        "NN_model.add(Dense(1, kernel_initializer='normal',activation='linear'))\n",
        "\n",
        "# Compile the network :\n",
        "NN_model.compile(loss='mean_absolute_error', optimizer='adam', metrics=['mean_absolute_error'])\n",
        "#NN_model.summary()"
      ],
      "execution_count": null,
      "outputs": []
    },
    {
      "cell_type": "code",
      "metadata": {
        "id": "lHXxLIYTmqwh",
        "colab": {
          "base_uri": "https://localhost:8080/",
          "height": 1000
        },
        "outputId": "0a342eb6-8764-437b-a487-5b878a57665c"
      },
      "source": [
        "#train the model, evaluate using 0.2 of data for validation comparison, run for 20 epochs, batch size of 32\n",
        "NN_model.fit(X_train, y_train, epochs=20, batch_size=32, validation_split = 0.2, callbacks=callbacks_list)"
      ],
      "execution_count": null,
      "outputs": [
        {
          "output_type": "stream",
          "text": [
            "Epoch 1/20\n",
            "212/230 [==========================>...] - ETA: 0s - loss: 0.1423 - mean_absolute_error: 0.1423\n",
            "Epoch 00001: val_loss improved from inf to 0.10880, saving model to Weights-001--0.10880.hdf5\n",
            "230/230 [==============================] - 1s 4ms/step - loss: 0.1374 - mean_absolute_error: 0.1374 - val_loss: 0.1088 - val_mean_absolute_error: 0.1088\n",
            "Epoch 2/20\n",
            "218/230 [===========================>..] - ETA: 0s - loss: 0.0720 - mean_absolute_error: 0.0720\n",
            "Epoch 00002: val_loss improved from 0.10880 to 0.05611, saving model to Weights-002--0.05611.hdf5\n",
            "230/230 [==============================] - 1s 3ms/step - loss: 0.0715 - mean_absolute_error: 0.0715 - val_loss: 0.0561 - val_mean_absolute_error: 0.0561\n",
            "Epoch 3/20\n",
            "226/230 [============================>.] - ETA: 0s - loss: 0.0545 - mean_absolute_error: 0.0545\n",
            "Epoch 00003: val_loss did not improve from 0.05611\n",
            "230/230 [==============================] - 1s 3ms/step - loss: 0.0546 - mean_absolute_error: 0.0546 - val_loss: 0.0675 - val_mean_absolute_error: 0.0675\n",
            "Epoch 4/20\n",
            "229/230 [============================>.] - ETA: 0s - loss: 0.0429 - mean_absolute_error: 0.0429\n",
            "Epoch 00004: val_loss improved from 0.05611 to 0.04280, saving model to Weights-004--0.04280.hdf5\n",
            "230/230 [==============================] - 1s 3ms/step - loss: 0.0428 - mean_absolute_error: 0.0428 - val_loss: 0.0428 - val_mean_absolute_error: 0.0428\n",
            "Epoch 5/20\n",
            "219/230 [===========================>..] - ETA: 0s - loss: 0.0425 - mean_absolute_error: 0.0425\n",
            "Epoch 00005: val_loss improved from 0.04280 to 0.04184, saving model to Weights-005--0.04184.hdf5\n",
            "230/230 [==============================] - 1s 3ms/step - loss: 0.0422 - mean_absolute_error: 0.0422 - val_loss: 0.0418 - val_mean_absolute_error: 0.0418\n",
            "Epoch 6/20\n",
            "216/230 [===========================>..] - ETA: 0s - loss: 0.0353 - mean_absolute_error: 0.0353\n",
            "Epoch 00006: val_loss improved from 0.04184 to 0.03095, saving model to Weights-006--0.03095.hdf5\n",
            "230/230 [==============================] - 1s 4ms/step - loss: 0.0356 - mean_absolute_error: 0.0356 - val_loss: 0.0309 - val_mean_absolute_error: 0.0309\n",
            "Epoch 7/20\n",
            "225/230 [============================>.] - ETA: 0s - loss: 0.0314 - mean_absolute_error: 0.0314\n",
            "Epoch 00007: val_loss did not improve from 0.03095\n",
            "230/230 [==============================] - 1s 3ms/step - loss: 0.0318 - mean_absolute_error: 0.0318 - val_loss: 0.0483 - val_mean_absolute_error: 0.0483\n",
            "Epoch 8/20\n",
            "229/230 [============================>.] - ETA: 0s - loss: 0.0329 - mean_absolute_error: 0.0329\n",
            "Epoch 00008: val_loss improved from 0.03095 to 0.02974, saving model to Weights-008--0.02974.hdf5\n",
            "230/230 [==============================] - 1s 3ms/step - loss: 0.0329 - mean_absolute_error: 0.0329 - val_loss: 0.0297 - val_mean_absolute_error: 0.0297\n",
            "Epoch 9/20\n",
            "226/230 [============================>.] - ETA: 0s - loss: 0.0269 - mean_absolute_error: 0.0269\n",
            "Epoch 00009: val_loss did not improve from 0.02974\n",
            "230/230 [==============================] - 1s 3ms/step - loss: 0.0269 - mean_absolute_error: 0.0269 - val_loss: 0.0321 - val_mean_absolute_error: 0.0321\n",
            "Epoch 10/20\n",
            "224/230 [============================>.] - ETA: 0s - loss: 0.0258 - mean_absolute_error: 0.0258\n",
            "Epoch 00010: val_loss improved from 0.02974 to 0.02621, saving model to Weights-010--0.02621.hdf5\n",
            "230/230 [==============================] - 1s 3ms/step - loss: 0.0258 - mean_absolute_error: 0.0258 - val_loss: 0.0262 - val_mean_absolute_error: 0.0262\n",
            "Epoch 11/20\n",
            "223/230 [============================>.] - ETA: 0s - loss: 0.0277 - mean_absolute_error: 0.0277\n",
            "Epoch 00011: val_loss did not improve from 0.02621\n",
            "230/230 [==============================] - 1s 3ms/step - loss: 0.0275 - mean_absolute_error: 0.0275 - val_loss: 0.0277 - val_mean_absolute_error: 0.0277\n",
            "Epoch 12/20\n",
            "217/230 [===========================>..] - ETA: 0s - loss: 0.0246 - mean_absolute_error: 0.0246\n",
            "Epoch 00012: val_loss did not improve from 0.02621\n",
            "230/230 [==============================] - 1s 3ms/step - loss: 0.0246 - mean_absolute_error: 0.0246 - val_loss: 0.0336 - val_mean_absolute_error: 0.0336\n",
            "Epoch 13/20\n",
            "225/230 [============================>.] - ETA: 0s - loss: 0.0244 - mean_absolute_error: 0.0244\n",
            "Epoch 00013: val_loss did not improve from 0.02621\n",
            "230/230 [==============================] - 1s 3ms/step - loss: 0.0243 - mean_absolute_error: 0.0243 - val_loss: 0.0273 - val_mean_absolute_error: 0.0273\n",
            "Epoch 14/20\n",
            "218/230 [===========================>..] - ETA: 0s - loss: 0.0273 - mean_absolute_error: 0.0273\n",
            "Epoch 00014: val_loss did not improve from 0.02621\n",
            "230/230 [==============================] - 1s 3ms/step - loss: 0.0271 - mean_absolute_error: 0.0271 - val_loss: 0.0303 - val_mean_absolute_error: 0.0303\n",
            "Epoch 15/20\n",
            "216/230 [===========================>..] - ETA: 0s - loss: 0.0223 - mean_absolute_error: 0.0223\n",
            "Epoch 00015: val_loss did not improve from 0.02621\n",
            "230/230 [==============================] - 1s 3ms/step - loss: 0.0226 - mean_absolute_error: 0.0226 - val_loss: 0.0280 - val_mean_absolute_error: 0.0280\n",
            "Epoch 16/20\n",
            "220/230 [===========================>..] - ETA: 0s - loss: 0.0236 - mean_absolute_error: 0.0236\n",
            "Epoch 00016: val_loss did not improve from 0.02621\n",
            "230/230 [==============================] - 1s 3ms/step - loss: 0.0238 - mean_absolute_error: 0.0238 - val_loss: 0.0425 - val_mean_absolute_error: 0.0425\n",
            "Epoch 17/20\n",
            "228/230 [============================>.] - ETA: 0s - loss: 0.0229 - mean_absolute_error: 0.0229\n",
            "Epoch 00017: val_loss improved from 0.02621 to 0.02518, saving model to Weights-017--0.02518.hdf5\n",
            "230/230 [==============================] - 1s 3ms/step - loss: 0.0229 - mean_absolute_error: 0.0229 - val_loss: 0.0252 - val_mean_absolute_error: 0.0252\n",
            "Epoch 18/20\n",
            "219/230 [===========================>..] - ETA: 0s - loss: 0.0216 - mean_absolute_error: 0.0216\n",
            "Epoch 00018: val_loss did not improve from 0.02518\n",
            "230/230 [==============================] - 1s 3ms/step - loss: 0.0215 - mean_absolute_error: 0.0215 - val_loss: 0.0286 - val_mean_absolute_error: 0.0286\n",
            "Epoch 19/20\n",
            "230/230 [==============================] - ETA: 0s - loss: 0.0219 - mean_absolute_error: 0.0219\n",
            "Epoch 00019: val_loss did not improve from 0.02518\n",
            "230/230 [==============================] - 1s 3ms/step - loss: 0.0219 - mean_absolute_error: 0.0219 - val_loss: 0.0259 - val_mean_absolute_error: 0.0259\n",
            "Epoch 20/20\n",
            "221/230 [===========================>..] - ETA: 0s - loss: 0.0238 - mean_absolute_error: 0.0238\n",
            "Epoch 00020: val_loss did not improve from 0.02518\n",
            "230/230 [==============================] - 1s 3ms/step - loss: 0.0237 - mean_absolute_error: 0.0237 - val_loss: 0.0452 - val_mean_absolute_error: 0.0452\n"
          ],
          "name": "stdout"
        },
        {
          "output_type": "execute_result",
          "data": {
            "text/plain": [
              "<tensorflow.python.keras.callbacks.History at 0x7f5d5d54a518>"
            ]
          },
          "metadata": {
            "tags": []
          },
          "execution_count": 48
        }
      ]
    },
    {
      "cell_type": "code",
      "metadata": {
        "id": "29VBFRGemqwj",
        "colab": {
          "base_uri": "https://localhost:8080/",
          "height": 51
        },
        "outputId": "c306b229-d5a4-45f7-8963-762e541211a4"
      },
      "source": [
        "predictions_NN_model = NN_model.predict(X_test)\n",
        "\n",
        "\n",
        "R2_score = r2_score(y_test , predictions_NN_model)\n",
        "print('R2_score = ',R2_score)\n",
        "MAE = mean_absolute_error(y_test , predictions_NN_model)\n",
        "print('MAE=', MAE)"
      ],
      "execution_count": null,
      "outputs": [
        {
          "output_type": "stream",
          "text": [
            "R2_score =  0.8496167319758914\n",
            "MAE= 0.05604912151395082\n"
          ],
          "name": "stdout"
        }
      ]
    },
    {
      "cell_type": "markdown",
      "metadata": {
        "id": "Qqq_TKO2nWgK"
      },
      "source": [
        "## Training with 40% Simulated data and 60% Experimental data"
      ]
    },
    {
      "cell_type": "code",
      "metadata": {
        "id": "W5o3GwV0nsRQ",
        "colab": {
          "base_uri": "https://localhost:8080/",
          "height": 306
        },
        "outputId": "40ff5fde-0fa8-461a-daf6-8667f42ccf60"
      },
      "source": [
        "n_simulated =  0.4    \n",
        "n_experiment = 0.6 \n",
        "\n",
        "\n",
        "frame = [Shuffled_simulated_data.iloc[0: int(Simulated_data_row*n_simulated),:], Shuffled_experimental_data.iloc[0: int(Exp_data_row*n_experiment),0:10]]\n",
        "Concatenated_data = pd.concat(frame,ignore_index=True,axis = 0)\n",
        "\n",
        "Tst_set = Shuffled_experimental_data.iloc[int(Exp_data_row*n_experiment):1000,0:10]\n",
        "Test_set = Tst_set.reset_index(drop=True)\n",
        "\n",
        "\n",
        "print('First two rows of the training dataset\\n',Concatenated_data.iloc[0:2,:])\n",
        "print('\\nShape of the training dataset = ', Concatenated_data.shape)\n",
        "\n",
        "print('\\nFirst two rows of the test dataset\\n', Test_set.iloc[0:2,:])\n",
        "print('\\nShape of the test dataset = ', Test_set.shape)"
      ],
      "execution_count": null,
      "outputs": [
        {
          "output_type": "stream",
          "text": [
            "First two rows of the training dataset\n",
            "           0         1         2  ...         7         8         9\n",
            "0  0.247066 -0.134443 -0.847967  ... -0.028091  0.847865  0.650680\n",
            "1  0.260906 -0.141703 -0.903978  ... -0.096278  0.904922  0.826874\n",
            "\n",
            "[2 rows x 10 columns]\n",
            "\n",
            "Shape of the training dataset =  (6334, 10)\n",
            "\n",
            "First two rows of the test dataset\n",
            "          0         1        2        3  ...        6         7        8        9\n",
            "0  0.22737 -0.084502 -0.71269  0.20063  ... -0.13539 -0.067570  0.79156  0.49154\n",
            "1  0.28010 -0.061333 -0.73534  0.30589  ... -0.12795  0.011258  0.80053  0.51405\n",
            "\n",
            "[2 rows x 10 columns]\n",
            "\n",
            "Shape of the test dataset =  (400, 10)\n"
          ],
          "name": "stdout"
        }
      ]
    },
    {
      "cell_type": "code",
      "metadata": {
        "id": "f8mziT_fnsRZ"
      },
      "source": [
        "X_train = Concatenated_data.iloc[:,0:9].values\n",
        "y_train = Concatenated_data.iloc[:,-1].values\n",
        "\n",
        "X_test = Test_set.iloc[:,0:9].values\n",
        "y_test = Test_set.iloc[:,-1].values"
      ],
      "execution_count": null,
      "outputs": []
    },
    {
      "cell_type": "markdown",
      "metadata": {
        "id": "2PqEOQtlnsRb"
      },
      "source": [
        "### Polynomial Regression"
      ]
    },
    {
      "cell_type": "code",
      "metadata": {
        "id": "_7Jn1IE5nsRb"
      },
      "source": [
        "from sklearn.metrics import mean_squared_error, r2_score\n",
        "from sklearn.preprocessing import PolynomialFeatures\n",
        "\n",
        "polynomial_features= PolynomialFeatures(degree=2)\n",
        "\n",
        "x_poly_train = polynomial_features.fit_transform(X_train)\n",
        "x_poly_test = polynomial_features.fit_transform(X_test)"
      ],
      "execution_count": null,
      "outputs": []
    },
    {
      "cell_type": "code",
      "metadata": {
        "id": "MSbjA-jmnsRd",
        "colab": {
          "base_uri": "https://localhost:8080/",
          "height": 282
        },
        "outputId": "9d3e595f-2b19-4411-f68e-868e5af73eed"
      },
      "source": [
        "model_poly = LinearRegression()\n",
        "model_poly.fit(x_poly_train, y_train)\n",
        "predictions2 = model_poly.predict(x_poly_test)\n",
        "plt.scatter(y_test,predictions2)\n",
        "\n",
        "\n",
        "mae_2 = metrics.mean_absolute_error(y_test,predictions2)\n",
        "mse_2 = metrics.mean_squared_error(y_test,predictions2)\n",
        "rmse_2 = np.sqrt(metrics.mean_squared_error(y_test,predictions2))\n",
        "r2_2 = r2_score(y_test,predictions2)  \n",
        "r2_2\n",
        "mae_2"
      ],
      "execution_count": null,
      "outputs": [
        {
          "output_type": "execute_result",
          "data": {
            "text/plain": [
              "0.05153741897452301"
            ]
          },
          "metadata": {
            "tags": []
          },
          "execution_count": 53
        },
        {
          "output_type": "display_data",
          "data": {
            "image/png": "[encoded data removed]",
            "text/plain": [
              "<Figure size 432x288 with 1 Axes>"
            ]
          },
          "metadata": {
            "tags": [],
            "needs_background": "light"
          }
        }
      ]
    },
    {
      "cell_type": "markdown",
      "metadata": {
        "id": "LBR5uc-PnsRe"
      },
      "source": [
        "#### Summary of the regression results: (R^2 values for different degrees)\n",
        "\n",
        "\n",
        "1.   0.66\n",
        "2.   0.87"
      ]
    },
    {
      "cell_type": "markdown",
      "metadata": {
        "id": "ed5hMEv8oH_Z"
      },
      "source": [
        "### Neural Network"
      ]
    },
    {
      "cell_type": "code",
      "metadata": {
        "id": "8FsLlf0cnsRf"
      },
      "source": [
        "checkpoint_name = 'Weights-{epoch:03d}--{val_loss:.5f}.hdf5' \n",
        "checkpoint = ModelCheckpoint(checkpoint_name, monitor='val_loss', verbose = 1, save_best_only = True, mode ='auto')\n",
        "callbacks_list = [checkpoint]"
      ],
      "execution_count": null,
      "outputs": []
    },
    {
      "cell_type": "code",
      "metadata": {
        "id": "c2b9L8IansRg"
      },
      "source": [
        "# Make a model\n",
        "\n",
        "\n",
        "NN_model = Sequential()\n",
        "\n",
        "# The Input Layer :\n",
        "NN_model.add(Dense(128, kernel_initializer='normal',input_dim = X_train.shape[1], activation='relu'))\n",
        "\n",
        "# The Hidden Layers :\n",
        "NN_model.add(Dense(256, kernel_initializer='normal',activation='relu'))\n",
        "NN_model.add(Dropout(0.01))\n",
        "NN_model.add(Dense(256, kernel_initializer='normal',activation='relu'))\n",
        "NN_model.add(Dense(256, kernel_initializer='normal',activation='relu'))\n",
        "NN_model.add(Dropout(0.05))\n",
        "# The Output Layer :\n",
        "NN_model.add(Dense(1, kernel_initializer='normal',activation='linear'))\n",
        "\n",
        "# Compile the network :\n",
        "NN_model.compile(loss='mean_absolute_error', optimizer='adam', metrics=['mean_absolute_error'])\n",
        "#NN_model.summary()"
      ],
      "execution_count": null,
      "outputs": []
    },
    {
      "cell_type": "code",
      "metadata": {
        "id": "_OzgKjG2nsRj",
        "colab": {
          "base_uri": "https://localhost:8080/",
          "height": 1000
        },
        "outputId": "94e50523-b88f-4ac3-acbf-c96b369e4266"
      },
      "source": [
        "#train the model, evaluate using 0.2 of data for validation comparison, run for 20 epochs, batch size of 32\n",
        "NN_model.fit(X_train, y_train, epochs=20, batch_size=32, validation_split = 0.2, callbacks=callbacks_list)"
      ],
      "execution_count": null,
      "outputs": [
        {
          "output_type": "stream",
          "text": [
            "Epoch 1/20\n",
            "155/159 [============================>.] - ETA: 0s - loss: 0.1592 - mean_absolute_error: 0.1592\n",
            "Epoch 00001: val_loss improved from inf to 0.10652, saving model to Weights-001--0.10652.hdf5\n",
            "159/159 [==============================] - 1s 5ms/step - loss: 0.1577 - mean_absolute_error: 0.1577 - val_loss: 0.1065 - val_mean_absolute_error: 0.1065\n",
            "Epoch 2/20\n",
            "157/159 [============================>.] - ETA: 0s - loss: 0.0759 - mean_absolute_error: 0.0759\n",
            "Epoch 00002: val_loss improved from 0.10652 to 0.05384, saving model to Weights-002--0.05384.hdf5\n",
            "159/159 [==============================] - 1s 4ms/step - loss: 0.0757 - mean_absolute_error: 0.0757 - val_loss: 0.0538 - val_mean_absolute_error: 0.0538\n",
            "Epoch 3/20\n",
            "156/159 [============================>.] - ETA: 0s - loss: 0.0492 - mean_absolute_error: 0.0492\n",
            "Epoch 00003: val_loss improved from 0.05384 to 0.04791, saving model to Weights-003--0.04791.hdf5\n",
            "159/159 [==============================] - 1s 4ms/step - loss: 0.0491 - mean_absolute_error: 0.0491 - val_loss: 0.0479 - val_mean_absolute_error: 0.0479\n",
            "Epoch 4/20\n",
            "150/159 [===========================>..] - ETA: 0s - loss: 0.0414 - mean_absolute_error: 0.0414\n",
            "Epoch 00004: val_loss did not improve from 0.04791\n",
            "159/159 [==============================] - 1s 4ms/step - loss: 0.0416 - mean_absolute_error: 0.0416 - val_loss: 0.0537 - val_mean_absolute_error: 0.0537\n",
            "Epoch 5/20\n",
            "156/159 [============================>.] - ETA: 0s - loss: 0.0359 - mean_absolute_error: 0.0359\n",
            "Epoch 00005: val_loss improved from 0.04791 to 0.03856, saving model to Weights-005--0.03856.hdf5\n",
            "159/159 [==============================] - 1s 4ms/step - loss: 0.0359 - mean_absolute_error: 0.0359 - val_loss: 0.0386 - val_mean_absolute_error: 0.0386\n",
            "Epoch 6/20\n",
            "143/159 [=========================>....] - ETA: 0s - loss: 0.0377 - mean_absolute_error: 0.0377\n",
            "Epoch 00006: val_loss did not improve from 0.03856\n",
            "159/159 [==============================] - 1s 4ms/step - loss: 0.0372 - mean_absolute_error: 0.0372 - val_loss: 0.0405 - val_mean_absolute_error: 0.0405\n",
            "Epoch 7/20\n",
            "150/159 [===========================>..] - ETA: 0s - loss: 0.0405 - mean_absolute_error: 0.0405\n",
            "Epoch 00007: val_loss did not improve from 0.03856\n",
            "159/159 [==============================] - 1s 3ms/step - loss: 0.0406 - mean_absolute_error: 0.0406 - val_loss: 0.0468 - val_mean_absolute_error: 0.0468\n",
            "Epoch 8/20\n",
            "146/159 [==========================>...] - ETA: 0s - loss: 0.0298 - mean_absolute_error: 0.0298\n",
            "Epoch 00008: val_loss did not improve from 0.03856\n",
            "159/159 [==============================] - 1s 3ms/step - loss: 0.0297 - mean_absolute_error: 0.0297 - val_loss: 0.0582 - val_mean_absolute_error: 0.0582\n",
            "Epoch 9/20\n",
            "155/159 [============================>.] - ETA: 0s - loss: 0.0338 - mean_absolute_error: 0.0338\n",
            "Epoch 00009: val_loss did not improve from 0.03856\n",
            "159/159 [==============================] - 1s 3ms/step - loss: 0.0338 - mean_absolute_error: 0.0338 - val_loss: 0.0476 - val_mean_absolute_error: 0.0476\n",
            "Epoch 10/20\n",
            "154/159 [============================>.] - ETA: 0s - loss: 0.0314 - mean_absolute_error: 0.0314\n",
            "Epoch 00010: val_loss did not improve from 0.03856\n",
            "159/159 [==============================] - 1s 3ms/step - loss: 0.0316 - mean_absolute_error: 0.0316 - val_loss: 0.0404 - val_mean_absolute_error: 0.0404\n",
            "Epoch 11/20\n",
            "151/159 [===========================>..] - ETA: 0s - loss: 0.0297 - mean_absolute_error: 0.0297\n",
            "Epoch 00011: val_loss did not improve from 0.03856\n",
            "159/159 [==============================] - 1s 3ms/step - loss: 0.0302 - mean_absolute_error: 0.0302 - val_loss: 0.0473 - val_mean_absolute_error: 0.0473\n",
            "Epoch 12/20\n",
            "153/159 [===========================>..] - ETA: 0s - loss: 0.0318 - mean_absolute_error: 0.0318\n",
            "Epoch 00012: val_loss did not improve from 0.03856\n",
            "159/159 [==============================] - 1s 3ms/step - loss: 0.0316 - mean_absolute_error: 0.0316 - val_loss: 0.0526 - val_mean_absolute_error: 0.0526\n",
            "Epoch 13/20\n",
            "159/159 [==============================] - ETA: 0s - loss: 0.0257 - mean_absolute_error: 0.0257\n",
            "Epoch 00013: val_loss did not improve from 0.03856\n",
            "159/159 [==============================] - 1s 3ms/step - loss: 0.0257 - mean_absolute_error: 0.0257 - val_loss: 0.0444 - val_mean_absolute_error: 0.0444\n",
            "Epoch 14/20\n",
            "157/159 [============================>.] - ETA: 0s - loss: 0.0266 - mean_absolute_error: 0.0266\n",
            "Epoch 00014: val_loss improved from 0.03856 to 0.03402, saving model to Weights-014--0.03402.hdf5\n",
            "159/159 [==============================] - 1s 4ms/step - loss: 0.0265 - mean_absolute_error: 0.0265 - val_loss: 0.0340 - val_mean_absolute_error: 0.0340\n",
            "Epoch 15/20\n",
            "155/159 [============================>.] - ETA: 0s - loss: 0.0269 - mean_absolute_error: 0.0269\n",
            "Epoch 00015: val_loss did not improve from 0.03402\n",
            "159/159 [==============================] - 1s 3ms/step - loss: 0.0270 - mean_absolute_error: 0.0270 - val_loss: 0.0363 - val_mean_absolute_error: 0.0363\n",
            "Epoch 16/20\n",
            "142/159 [=========================>....] - ETA: 0s - loss: 0.0278 - mean_absolute_error: 0.0278\n",
            "Epoch 00016: val_loss did not improve from 0.03402\n",
            "159/159 [==============================] - 1s 3ms/step - loss: 0.0280 - mean_absolute_error: 0.0280 - val_loss: 0.0342 - val_mean_absolute_error: 0.0342\n",
            "Epoch 17/20\n",
            "153/159 [===========================>..] - ETA: 0s - loss: 0.0245 - mean_absolute_error: 0.0245\n",
            "Epoch 00017: val_loss did not improve from 0.03402\n",
            "159/159 [==============================] - 1s 3ms/step - loss: 0.0244 - mean_absolute_error: 0.0244 - val_loss: 0.0341 - val_mean_absolute_error: 0.0341\n",
            "Epoch 18/20\n",
            "145/159 [==========================>...] - ETA: 0s - loss: 0.0256 - mean_absolute_error: 0.0256\n",
            "Epoch 00018: val_loss did not improve from 0.03402\n",
            "159/159 [==============================] - 0s 3ms/step - loss: 0.0255 - mean_absolute_error: 0.0255 - val_loss: 0.0372 - val_mean_absolute_error: 0.0372\n",
            "Epoch 19/20\n",
            "152/159 [===========================>..] - ETA: 0s - loss: 0.0248 - mean_absolute_error: 0.0248\n",
            "Epoch 00019: val_loss did not improve from 0.03402\n",
            "159/159 [==============================] - 1s 4ms/step - loss: 0.0249 - mean_absolute_error: 0.0249 - val_loss: 0.0416 - val_mean_absolute_error: 0.0416\n",
            "Epoch 20/20\n",
            "159/159 [==============================] - ETA: 0s - loss: 0.0240 - mean_absolute_error: 0.0240\n",
            "Epoch 00020: val_loss improved from 0.03402 to 0.03194, saving model to Weights-020--0.03194.hdf5\n",
            "159/159 [==============================] - 1s 4ms/step - loss: 0.0240 - mean_absolute_error: 0.0240 - val_loss: 0.0319 - val_mean_absolute_error: 0.0319\n"
          ],
          "name": "stdout"
        },
        {
          "output_type": "execute_result",
          "data": {
            "text/plain": [
              "<tensorflow.python.keras.callbacks.History at 0x7f5d718e1048>"
            ]
          },
          "metadata": {
            "tags": []
          },
          "execution_count": 64
        }
      ]
    },
    {
      "cell_type": "code",
      "metadata": {
        "id": "tXrYWJn7nsRl",
        "colab": {
          "base_uri": "https://localhost:8080/",
          "height": 51
        },
        "outputId": "0cd1437c-1bed-4971-9848-658431c4141c"
      },
      "source": [
        "predictions_NN_model = NN_model.predict(X_test)\n",
        "\n",
        "\n",
        "R2_score = r2_score(y_test , predictions_NN_model)\n",
        "print('R2_score = ',R2_score)\n",
        "MAE = mean_absolute_error(y_test , predictions_NN_model)\n",
        "print('MAE=', MAE)"
      ],
      "execution_count": null,
      "outputs": [
        {
          "output_type": "stream",
          "text": [
            "R2_score =  0.867024968856923\n",
            "MAE= 0.050525947196310754\n"
          ],
          "name": "stdout"
        }
      ]
    },
    {
      "cell_type": "markdown",
      "metadata": {
        "id": "_h8iDeocnb7K"
      },
      "source": [
        "## Training with 20% Simulated data and 60% Experimental data"
      ]
    },
    {
      "cell_type": "code",
      "metadata": {
        "id": "E5D6EZH5oW5I",
        "colab": {
          "base_uri": "https://localhost:8080/",
          "height": 306
        },
        "outputId": "ad0a2b6b-158c-45a8-bce3-34b9b6b43ed2"
      },
      "source": [
        "n_simulated =  0.2    \n",
        "n_experiment = 0.6 \n",
        "\n",
        "\n",
        "frame = [Shuffled_simulated_data.iloc[0: int(Simulated_data_row*n_simulated),:], Shuffled_experimental_data.iloc[0: int(Exp_data_row*n_experiment),0:10]]\n",
        "Concatenated_data = pd.concat(frame,ignore_index=True,axis = 0)\n",
        "\n",
        "Tst_set = Shuffled_experimental_data.iloc[int(Exp_data_row*n_experiment):1000,0:10]\n",
        "Test_set = Tst_set.reset_index(drop=True)\n",
        "\n",
        "\n",
        "print('First two rows of the training dataset\\n',Concatenated_data.iloc[0:2,:])\n",
        "print('\\nShape of the training dataset = ', Concatenated_data.shape)\n",
        "\n",
        "print('\\nFirst two rows of the test dataset\\n', Test_set.iloc[0:2,:])\n",
        "print('\\nShape of the test dataset = ', Test_set.shape)"
      ],
      "execution_count": null,
      "outputs": [
        {
          "output_type": "stream",
          "text": [
            "First two rows of the training dataset\n",
            "           0         1         2  ...         7         8         9\n",
            "0  0.247066 -0.134443 -0.847967  ... -0.028091  0.847865  0.650680\n",
            "1  0.260906 -0.141703 -0.903978  ... -0.096278  0.904922  0.826874\n",
            "\n",
            "[2 rows x 10 columns]\n",
            "\n",
            "Shape of the training dataset =  (3467, 10)\n",
            "\n",
            "First two rows of the test dataset\n",
            "          0         1        2        3  ...        6         7        8        9\n",
            "0  0.22737 -0.084502 -0.71269  0.20063  ... -0.13539 -0.067570  0.79156  0.49154\n",
            "1  0.28010 -0.061333 -0.73534  0.30589  ... -0.12795  0.011258  0.80053  0.51405\n",
            "\n",
            "[2 rows x 10 columns]\n",
            "\n",
            "Shape of the test dataset =  (400, 10)\n"
          ],
          "name": "stdout"
        }
      ]
    },
    {
      "cell_type": "code",
      "metadata": {
        "id": "SxJ3VOSpoW5P"
      },
      "source": [
        "X_train = Concatenated_data.iloc[:,0:9].values\n",
        "y_train = Concatenated_data.iloc[:,-1].values\n",
        "\n",
        "X_test = Test_set.iloc[:,0:9].values\n",
        "y_test = Test_set.iloc[:,-1].values"
      ],
      "execution_count": null,
      "outputs": []
    },
    {
      "cell_type": "markdown",
      "metadata": {
        "id": "4i08O00noW5R"
      },
      "source": [
        "### Polynomial Regression"
      ]
    },
    {
      "cell_type": "code",
      "metadata": {
        "id": "6r4ALqYGoW5S"
      },
      "source": [
        "from sklearn.metrics import mean_squared_error, r2_score\n",
        "from sklearn.preprocessing import PolynomialFeatures\n",
        "\n",
        "polynomial_features= PolynomialFeatures(degree=2)\n",
        "\n",
        "x_poly_train = polynomial_features.fit_transform(X_train)\n",
        "x_poly_test = polynomial_features.fit_transform(X_test)"
      ],
      "execution_count": null,
      "outputs": []
    },
    {
      "cell_type": "code",
      "metadata": {
        "id": "nivoyRJboW5U",
        "colab": {
          "base_uri": "https://localhost:8080/",
          "height": 282
        },
        "outputId": "c6b73c5c-ac11-46d8-df4d-51cdd943c46f"
      },
      "source": [
        "model_poly = LinearRegression()\n",
        "model_poly.fit(x_poly_train, y_train)\n",
        "predictions2 = model_poly.predict(x_poly_test)\n",
        "plt.scatter(y_test,predictions2)\n",
        "\n",
        "\n",
        "mae_2 = metrics.mean_absolute_error(y_test,predictions2)\n",
        "mse_2 = metrics.mean_squared_error(y_test,predictions2)\n",
        "rmse_2 = np.sqrt(metrics.mean_squared_error(y_test,predictions2))\n",
        "r2_2 = r2_score(y_test,predictions2)  \n",
        "r2_2\n",
        "mae_2"
      ],
      "execution_count": null,
      "outputs": [
        {
          "output_type": "execute_result",
          "data": {
            "text/plain": [
              "0.04924466432622936"
            ]
          },
          "metadata": {
            "tags": []
          },
          "execution_count": 69
        },
        {
          "output_type": "display_data",
          "data": {
            "image/png": "[encoded data removed]",
            "text/plain": [
              "<Figure size 432x288 with 1 Axes>"
            ]
          },
          "metadata": {
            "tags": [],
            "needs_background": "light"
          }
        }
      ]
    },
    {
      "cell_type": "markdown",
      "metadata": {
        "id": "u-gIZhEzoW5X"
      },
      "source": [
        "#### Summary of the regression results: (R^2 values for different degrees)\n",
        "\n",
        "\n",
        "1.   0.68\n",
        "2.   0.88"
      ]
    },
    {
      "cell_type": "markdown",
      "metadata": {
        "id": "ij2LeHk1oW5X"
      },
      "source": [
        "### Neural Network"
      ]
    },
    {
      "cell_type": "code",
      "metadata": {
        "id": "1c7Bz6_9oW5X"
      },
      "source": [
        "checkpoint_name = 'Weights-{epoch:03d}--{val_loss:.5f}.hdf5' \n",
        "checkpoint = ModelCheckpoint(checkpoint_name, monitor='val_loss', verbose = 1, save_best_only = True, mode ='auto')\n",
        "callbacks_list = [checkpoint]"
      ],
      "execution_count": null,
      "outputs": []
    },
    {
      "cell_type": "code",
      "metadata": {
        "id": "NmvdS7-UoW5Z"
      },
      "source": [
        "# Make a model\n",
        "\n",
        "\n",
        "NN_model = Sequential()\n",
        "\n",
        "# The Input Layer :\n",
        "NN_model.add(Dense(128, kernel_initializer='normal',input_dim = X_train.shape[1], activation='relu'))\n",
        "\n",
        "# The Hidden Layers :\n",
        "NN_model.add(Dense(256, kernel_initializer='normal',activation='relu'))\n",
        "NN_model.add(Dropout(0.01))\n",
        "NN_model.add(Dense(256, kernel_initializer='normal',activation='relu'))\n",
        "NN_model.add(Dense(256, kernel_initializer='normal',activation='relu'))\n",
        "NN_model.add(Dropout(0.05))\n",
        "# The Output Layer :\n",
        "NN_model.add(Dense(1, kernel_initializer='normal',activation='linear'))\n",
        "\n",
        "# Compile the network :\n",
        "NN_model.compile(loss='mean_absolute_error', optimizer='adam', metrics=['mean_absolute_error'])\n",
        "#NN_model.summary()"
      ],
      "execution_count": null,
      "outputs": []
    },
    {
      "cell_type": "code",
      "metadata": {
        "id": "Qzsa6IHWoW5c",
        "colab": {
          "base_uri": "https://localhost:8080/",
          "height": 1000
        },
        "outputId": "ce3cfd4a-8972-416b-fad2-4e7fc5ac5da6"
      },
      "source": [
        "#train the model, evaluate using 0.2 of data for validation comparison, run for 20 epochs, batch size of 32\n",
        "NN_model.fit(X_train, y_train, epochs=20, batch_size=32, validation_split = 0.2, callbacks=callbacks_list)"
      ],
      "execution_count": null,
      "outputs": [
        {
          "output_type": "stream",
          "text": [
            "Epoch 1/20\n",
            "83/87 [===========================>..] - ETA: 0s - loss: 0.1917 - mean_absolute_error: 0.1917\n",
            "Epoch 00001: val_loss did not improve from 0.04680\n",
            "87/87 [==============================] - 0s 5ms/step - loss: 0.1891 - mean_absolute_error: 0.1891 - val_loss: 0.1331 - val_mean_absolute_error: 0.1331\n",
            "Epoch 2/20\n",
            "76/87 [=========================>....] - ETA: 0s - loss: 0.1228 - mean_absolute_error: 0.1228\n",
            "Epoch 00002: val_loss did not improve from 0.04680\n",
            "87/87 [==============================] - 0s 4ms/step - loss: 0.1212 - mean_absolute_error: 0.1212 - val_loss: 0.1116 - val_mean_absolute_error: 0.1116\n",
            "Epoch 3/20\n",
            "75/87 [========================>.....] - ETA: 0s - loss: 0.0987 - mean_absolute_error: 0.0987\n",
            "Epoch 00003: val_loss did not improve from 0.04680\n",
            "87/87 [==============================] - 0s 4ms/step - loss: 0.0949 - mean_absolute_error: 0.0949 - val_loss: 0.0921 - val_mean_absolute_error: 0.0921\n",
            "Epoch 4/20\n",
            "71/87 [=======================>......] - ETA: 0s - loss: 0.0681 - mean_absolute_error: 0.0681\n",
            "Epoch 00004: val_loss did not improve from 0.04680\n",
            "87/87 [==============================] - 0s 3ms/step - loss: 0.0645 - mean_absolute_error: 0.0645 - val_loss: 0.0675 - val_mean_absolute_error: 0.0675\n",
            "Epoch 5/20\n",
            "84/87 [===========================>..] - ETA: 0s - loss: 0.0525 - mean_absolute_error: 0.0525\n",
            "Epoch 00005: val_loss did not improve from 0.04680\n",
            "87/87 [==============================] - 0s 3ms/step - loss: 0.0521 - mean_absolute_error: 0.0521 - val_loss: 0.0623 - val_mean_absolute_error: 0.0623\n",
            "Epoch 6/20\n",
            "71/87 [=======================>......] - ETA: 0s - loss: 0.0417 - mean_absolute_error: 0.0417\n",
            "Epoch 00006: val_loss did not improve from 0.04680\n",
            "87/87 [==============================] - 0s 3ms/step - loss: 0.0418 - mean_absolute_error: 0.0418 - val_loss: 0.0634 - val_mean_absolute_error: 0.0634\n",
            "Epoch 7/20\n",
            "73/87 [========================>.....] - ETA: 0s - loss: 0.0386 - mean_absolute_error: 0.0386\n",
            "Epoch 00007: val_loss did not improve from 0.04680\n",
            "87/87 [==============================] - 0s 3ms/step - loss: 0.0376 - mean_absolute_error: 0.0376 - val_loss: 0.0561 - val_mean_absolute_error: 0.0561\n",
            "Epoch 8/20\n",
            "72/87 [=======================>......] - ETA: 0s - loss: 0.0356 - mean_absolute_error: 0.0356\n",
            "Epoch 00008: val_loss did not improve from 0.04680\n",
            "87/87 [==============================] - 0s 3ms/step - loss: 0.0353 - mean_absolute_error: 0.0353 - val_loss: 0.0497 - val_mean_absolute_error: 0.0497\n",
            "Epoch 9/20\n",
            "86/87 [============================>.] - ETA: 0s - loss: 0.0339 - mean_absolute_error: 0.0339\n",
            "Epoch 00009: val_loss did not improve from 0.04680\n",
            "87/87 [==============================] - 0s 3ms/step - loss: 0.0339 - mean_absolute_error: 0.0339 - val_loss: 0.0470 - val_mean_absolute_error: 0.0470\n",
            "Epoch 10/20\n",
            "85/87 [============================>.] - ETA: 0s - loss: 0.0341 - mean_absolute_error: 0.0341\n",
            "Epoch 00010: val_loss did not improve from 0.04680\n",
            "87/87 [==============================] - 0s 3ms/step - loss: 0.0342 - mean_absolute_error: 0.0342 - val_loss: 0.0508 - val_mean_absolute_error: 0.0508\n",
            "Epoch 11/20\n",
            "83/87 [===========================>..] - ETA: 0s - loss: 0.0293 - mean_absolute_error: 0.0293\n",
            "Epoch 00011: val_loss did not improve from 0.04680\n",
            "87/87 [==============================] - 0s 3ms/step - loss: 0.0292 - mean_absolute_error: 0.0292 - val_loss: 0.0476 - val_mean_absolute_error: 0.0476\n",
            "Epoch 12/20\n",
            "70/87 [=======================>......] - ETA: 0s - loss: 0.0290 - mean_absolute_error: 0.0290\n",
            "Epoch 00012: val_loss improved from 0.04680 to 0.04588, saving model to Weights-012--0.04588.hdf5\n",
            "87/87 [==============================] - 0s 4ms/step - loss: 0.0286 - mean_absolute_error: 0.0286 - val_loss: 0.0459 - val_mean_absolute_error: 0.0459\n",
            "Epoch 13/20\n",
            "80/87 [==========================>...] - ETA: 0s - loss: 0.0390 - mean_absolute_error: 0.0390\n",
            "Epoch 00013: val_loss improved from 0.04588 to 0.04334, saving model to Weights-013--0.04334.hdf5\n",
            "87/87 [==============================] - 0s 4ms/step - loss: 0.0379 - mean_absolute_error: 0.0379 - val_loss: 0.0433 - val_mean_absolute_error: 0.0433\n",
            "Epoch 14/20\n",
            "73/87 [========================>.....] - ETA: 0s - loss: 0.0372 - mean_absolute_error: 0.0372\n",
            "Epoch 00014: val_loss did not improve from 0.04334\n",
            "87/87 [==============================] - 0s 3ms/step - loss: 0.0364 - mean_absolute_error: 0.0364 - val_loss: 0.0474 - val_mean_absolute_error: 0.0474\n",
            "Epoch 15/20\n",
            "72/87 [=======================>......] - ETA: 0s - loss: 0.0358 - mean_absolute_error: 0.0358\n",
            "Epoch 00015: val_loss did not improve from 0.04334\n",
            "87/87 [==============================] - 0s 3ms/step - loss: 0.0365 - mean_absolute_error: 0.0365 - val_loss: 0.0672 - val_mean_absolute_error: 0.0672\n",
            "Epoch 16/20\n",
            "83/87 [===========================>..] - ETA: 0s - loss: 0.0294 - mean_absolute_error: 0.0294\n",
            "Epoch 00016: val_loss did not improve from 0.04334\n",
            "87/87 [==============================] - 0s 4ms/step - loss: 0.0293 - mean_absolute_error: 0.0293 - val_loss: 0.0502 - val_mean_absolute_error: 0.0502\n",
            "Epoch 17/20\n",
            "73/87 [========================>.....] - ETA: 0s - loss: 0.0256 - mean_absolute_error: 0.0256\n",
            "Epoch 00017: val_loss did not improve from 0.04334\n",
            "87/87 [==============================] - 0s 3ms/step - loss: 0.0255 - mean_absolute_error: 0.0255 - val_loss: 0.0456 - val_mean_absolute_error: 0.0456\n",
            "Epoch 18/20\n",
            "72/87 [=======================>......] - ETA: 0s - loss: 0.0269 - mean_absolute_error: 0.0269\n",
            "Epoch 00018: val_loss did not improve from 0.04334\n",
            "87/87 [==============================] - 0s 3ms/step - loss: 0.0270 - mean_absolute_error: 0.0270 - val_loss: 0.0461 - val_mean_absolute_error: 0.0461\n",
            "Epoch 19/20\n",
            "72/87 [=======================>......] - ETA: 0s - loss: 0.0281 - mean_absolute_error: 0.0281\n",
            "Epoch 00019: val_loss did not improve from 0.04334\n",
            "87/87 [==============================] - 0s 3ms/step - loss: 0.0277 - mean_absolute_error: 0.0277 - val_loss: 0.0563 - val_mean_absolute_error: 0.0563\n",
            "Epoch 20/20\n",
            "81/87 [==========================>...] - ETA: 0s - loss: 0.0239 - mean_absolute_error: 0.0239\n",
            "Epoch 00020: val_loss did not improve from 0.04334\n",
            "87/87 [==============================] - 0s 4ms/step - loss: 0.0242 - mean_absolute_error: 0.0242 - val_loss: 0.0436 - val_mean_absolute_error: 0.0436\n"
          ],
          "name": "stdout"
        },
        {
          "output_type": "execute_result",
          "data": {
            "text/plain": [
              "<tensorflow.python.keras.callbacks.History at 0x7f5d53c796d8>"
            ]
          },
          "metadata": {
            "tags": []
          },
          "execution_count": 81
        }
      ]
    },
    {
      "cell_type": "code",
      "metadata": {
        "id": "v3dGJDiIoW5e",
        "colab": {
          "base_uri": "https://localhost:8080/",
          "height": 51
        },
        "outputId": "e0f1e330-9838-4f8a-dd96-59c1db9b7874"
      },
      "source": [
        "predictions_NN_model = NN_model.predict(X_test)\n",
        "\n",
        "\n",
        "R2_score = r2_score(y_test , predictions_NN_model)\n",
        "print('R2_score = ',R2_score)\n",
        "MAE = mean_absolute_error(y_test , predictions_NN_model)\n",
        "print('MAE=', MAE)"
      ],
      "execution_count": null,
      "outputs": [
        {
          "output_type": "stream",
          "text": [
            "R2_score =  0.886089366788567\n",
            "MAE= 0.047864743332040306\n"
          ],
          "name": "stdout"
        }
      ]
    },
    {
      "cell_type": "markdown",
      "metadata": {
        "id": "k6iHLJoZqP1D"
      },
      "source": [
        "## Training with 10% Simulated data and 60% Experimental data"
      ]
    },
    {
      "cell_type": "code",
      "metadata": {
        "id": "8BO6Tr-xqSWg",
        "colab": {
          "base_uri": "https://localhost:8080/",
          "height": 306
        },
        "outputId": "c491f365-8df7-42ad-d6f5-16359092b38e"
      },
      "source": [
        "n_simulated =  0.1    \n",
        "n_experiment = 0.6 \n",
        "\n",
        "\n",
        "frame = [Shuffled_simulated_data.iloc[0: int(Simulated_data_row*n_simulated),:], Shuffled_experimental_data.iloc[0: int(Exp_data_row*n_experiment),0:10]]\n",
        "Concatenated_data = pd.concat(frame,ignore_index=True,axis = 0)\n",
        "\n",
        "Tst_set = Shuffled_experimental_data.iloc[int(Exp_data_row*n_experiment):1000,0:10]\n",
        "Test_set = Tst_set.reset_index(drop=True)\n",
        "\n",
        "\n",
        "print('First two rows of the training dataset\\n',Concatenated_data.iloc[0:2,:])\n",
        "print('\\nShape of the training dataset = ', Concatenated_data.shape)\n",
        "\n",
        "print('\\nFirst two rows of the test dataset\\n', Test_set.iloc[0:2,:])\n",
        "print('\\nShape of the test dataset = ', Test_set.shape)"
      ],
      "execution_count": null,
      "outputs": [
        {
          "output_type": "stream",
          "text": [
            "First two rows of the training dataset\n",
            "           0         1         2  ...         7         8         9\n",
            "0  0.247066 -0.134443 -0.847967  ... -0.028091  0.847865  0.650680\n",
            "1  0.260906 -0.141703 -0.903978  ... -0.096278  0.904922  0.826874\n",
            "\n",
            "[2 rows x 10 columns]\n",
            "\n",
            "Shape of the training dataset =  (2033, 10)\n",
            "\n",
            "First two rows of the test dataset\n",
            "          0         1        2        3  ...        6         7        8        9\n",
            "0  0.22737 -0.084502 -0.71269  0.20063  ... -0.13539 -0.067570  0.79156  0.49154\n",
            "1  0.28010 -0.061333 -0.73534  0.30589  ... -0.12795  0.011258  0.80053  0.51405\n",
            "\n",
            "[2 rows x 10 columns]\n",
            "\n",
            "Shape of the test dataset =  (400, 10)\n"
          ],
          "name": "stdout"
        }
      ]
    },
    {
      "cell_type": "code",
      "metadata": {
        "id": "Xrk05kMBqSWl"
      },
      "source": [
        "X_train = Concatenated_data.iloc[:,0:9].values\n",
        "y_train = Concatenated_data.iloc[:,-1].values\n",
        "\n",
        "X_test = Test_set.iloc[:,0:9].values\n",
        "y_test = Test_set.iloc[:,-1].values"
      ],
      "execution_count": null,
      "outputs": []
    },
    {
      "cell_type": "markdown",
      "metadata": {
        "id": "7YK22vhhqSWo"
      },
      "source": [
        "### Polynomial Regression"
      ]
    },
    {
      "cell_type": "code",
      "metadata": {
        "id": "oiE00yftqSWo"
      },
      "source": [
        "from sklearn.metrics import mean_squared_error, r2_score\n",
        "from sklearn.preprocessing import PolynomialFeatures\n",
        "\n",
        "polynomial_features= PolynomialFeatures(degree=2)\n",
        "\n",
        "x_poly_train = polynomial_features.fit_transform(X_train)\n",
        "x_poly_test = polynomial_features.fit_transform(X_test)"
      ],
      "execution_count": null,
      "outputs": []
    },
    {
      "cell_type": "code",
      "metadata": {
        "id": "IB7LTH1fqSWq",
        "colab": {
          "base_uri": "https://localhost:8080/",
          "height": 282
        },
        "outputId": "32fc10ca-a332-4e6b-b403-1a0fbca37f9a"
      },
      "source": [
        "model_poly = LinearRegression()\n",
        "model_poly.fit(x_poly_train, y_train)\n",
        "predictions2 = model_poly.predict(x_poly_test)\n",
        "plt.scatter(y_test,predictions2)\n",
        "\n",
        "\n",
        "mae_2 = metrics.mean_absolute_error(y_test,predictions2)\n",
        "mse_2 = metrics.mean_squared_error(y_test,predictions2)\n",
        "rmse_2 = np.sqrt(metrics.mean_squared_error(y_test,predictions2))\n",
        "r2_2 = r2_score(y_test,predictions2)  \n",
        "r2_2\n",
        "mae_2"
      ],
      "execution_count": null,
      "outputs": [
        {
          "output_type": "execute_result",
          "data": {
            "text/plain": [
              "0.04728413343002814"
            ]
          },
          "metadata": {
            "tags": []
          },
          "execution_count": 86
        },
        {
          "output_type": "display_data",
          "data": {
            "image/png": "[encoded data removed]",
            "text/plain": [
              "<Figure size 432x288 with 1 Axes>"
            ]
          },
          "metadata": {
            "tags": [],
            "needs_background": "light"
          }
        }
      ]
    },
    {
      "cell_type": "markdown",
      "metadata": {
        "id": "LzIft-ORqSWs"
      },
      "source": [
        "#### Summary of the regression results: (R^2 values for different degrees)\n",
        "\n",
        "\n",
        "1.   0.69\n",
        "2.   0.89"
      ]
    },
    {
      "cell_type": "markdown",
      "metadata": {
        "id": "iSAqlnn5qSWs"
      },
      "source": [
        "### Neural Network"
      ]
    },
    {
      "cell_type": "code",
      "metadata": {
        "id": "7n-RKIlWqSWt"
      },
      "source": [
        "checkpoint_name = 'Weights-{epoch:03d}--{val_loss:.5f}.hdf5' \n",
        "checkpoint = ModelCheckpoint(checkpoint_name, monitor='val_loss', verbose = 1, save_best_only = True, mode ='auto')\n",
        "callbacks_list = [checkpoint]"
      ],
      "execution_count": null,
      "outputs": []
    },
    {
      "cell_type": "code",
      "metadata": {
        "id": "HQDu2NK1qSWu"
      },
      "source": [
        "# Make a model\n",
        "\n",
        "\n",
        "NN_model = Sequential()\n",
        "\n",
        "# The Input Layer :\n",
        "NN_model.add(Dense(128, kernel_initializer='normal',input_dim = X_train.shape[1], activation='relu'))\n",
        "\n",
        "# The Hidden Layers :\n",
        "NN_model.add(Dense(256, kernel_initializer='normal',activation='relu'))\n",
        "NN_model.add(Dropout(0.01))\n",
        "NN_model.add(Dense(256, kernel_initializer='normal',activation='relu'))\n",
        "NN_model.add(Dense(256, kernel_initializer='normal',activation='relu'))\n",
        "NN_model.add(Dropout(0.05))\n",
        "# The Output Layer :\n",
        "NN_model.add(Dense(1, kernel_initializer='normal',activation='linear'))\n",
        "\n",
        "# Compile the network :\n",
        "NN_model.compile(loss='mean_absolute_error', optimizer='adam', metrics=['mean_absolute_error'])\n",
        "#NN_model.summary()"
      ],
      "execution_count": null,
      "outputs": []
    },
    {
      "cell_type": "code",
      "metadata": {
        "id": "R55U0tRjqSWw",
        "colab": {
          "base_uri": "https://localhost:8080/",
          "height": 1000
        },
        "outputId": "7e21d1d6-beaf-4a56-c3ae-1bc6c6316817"
      },
      "source": [
        "#train the model, evaluate using 0.2 of data for validation comparison, run for 20 epochs, batch size of 32\n",
        "NN_model.fit(X_train, y_train, epochs=20, batch_size=32, validation_split = 0.2, callbacks=callbacks_list)"
      ],
      "execution_count": null,
      "outputs": [
        {
          "output_type": "stream",
          "text": [
            "Epoch 1/20\n",
            "38/51 [=====================>........] - ETA: 0s - loss: 0.2541 - mean_absolute_error: 0.2541\n",
            "Epoch 00001: val_loss improved from inf to 0.12799, saving model to Weights-001--0.12799.hdf5\n",
            "51/51 [==============================] - 0s 6ms/step - loss: 0.2248 - mean_absolute_error: 0.2248 - val_loss: 0.1280 - val_mean_absolute_error: 0.1280\n",
            "Epoch 2/20\n",
            "50/51 [============================>.] - ETA: 0s - loss: 0.1278 - mean_absolute_error: 0.1278\n",
            "Epoch 00002: val_loss improved from 0.12799 to 0.11849, saving model to Weights-002--0.11849.hdf5\n",
            "51/51 [==============================] - 0s 5ms/step - loss: 0.1276 - mean_absolute_error: 0.1276 - val_loss: 0.1185 - val_mean_absolute_error: 0.1185\n",
            "Epoch 3/20\n",
            "49/51 [===========================>..] - ETA: 0s - loss: 0.1204 - mean_absolute_error: 0.1204\n",
            "Epoch 00003: val_loss did not improve from 0.11849\n",
            "51/51 [==============================] - 0s 4ms/step - loss: 0.1201 - mean_absolute_error: 0.1201 - val_loss: 0.1561 - val_mean_absolute_error: 0.1561\n",
            "Epoch 4/20\n",
            "39/51 [=====================>........] - ETA: 0s - loss: 0.1074 - mean_absolute_error: 0.1074\n",
            "Epoch 00004: val_loss improved from 0.11849 to 0.10955, saving model to Weights-004--0.10955.hdf5\n",
            "51/51 [==============================] - 0s 4ms/step - loss: 0.1054 - mean_absolute_error: 0.1054 - val_loss: 0.1096 - val_mean_absolute_error: 0.1096\n",
            "Epoch 5/20\n",
            "35/51 [===================>..........] - ETA: 0s - loss: 0.0844 - mean_absolute_error: 0.0844\n",
            "Epoch 00005: val_loss improved from 0.10955 to 0.06396, saving model to Weights-005--0.06396.hdf5\n",
            "51/51 [==============================] - 0s 4ms/step - loss: 0.0793 - mean_absolute_error: 0.0793 - val_loss: 0.0640 - val_mean_absolute_error: 0.0640\n",
            "Epoch 6/20\n",
            "46/51 [==========================>...] - ETA: 0s - loss: 0.0691 - mean_absolute_error: 0.0691\n",
            "Epoch 00006: val_loss did not improve from 0.06396\n",
            "51/51 [==============================] - 0s 4ms/step - loss: 0.0686 - mean_absolute_error: 0.0686 - val_loss: 0.0701 - val_mean_absolute_error: 0.0701\n",
            "Epoch 7/20\n",
            "35/51 [===================>..........] - ETA: 0s - loss: 0.0504 - mean_absolute_error: 0.0504\n",
            "Epoch 00007: val_loss improved from 0.06396 to 0.05953, saving model to Weights-007--0.05953.hdf5\n",
            "51/51 [==============================] - 0s 4ms/step - loss: 0.0525 - mean_absolute_error: 0.0525 - val_loss: 0.0595 - val_mean_absolute_error: 0.0595\n",
            "Epoch 8/20\n",
            "36/51 [====================>.........] - ETA: 0s - loss: 0.0494 - mean_absolute_error: 0.0494\n",
            "Epoch 00008: val_loss improved from 0.05953 to 0.05568, saving model to Weights-008--0.05568.hdf5\n",
            "51/51 [==============================] - 0s 4ms/step - loss: 0.0467 - mean_absolute_error: 0.0467 - val_loss: 0.0557 - val_mean_absolute_error: 0.0557\n",
            "Epoch 9/20\n",
            "51/51 [==============================] - ETA: 0s - loss: 0.0430 - mean_absolute_error: 0.0430\n",
            "Epoch 00009: val_loss did not improve from 0.05568\n",
            "51/51 [==============================] - 0s 4ms/step - loss: 0.0430 - mean_absolute_error: 0.0430 - val_loss: 0.0640 - val_mean_absolute_error: 0.0640\n",
            "Epoch 10/20\n",
            "35/51 [===================>..........] - ETA: 0s - loss: 0.0415 - mean_absolute_error: 0.0415\n",
            "Epoch 00010: val_loss did not improve from 0.05568\n",
            "51/51 [==============================] - 0s 3ms/step - loss: 0.0408 - mean_absolute_error: 0.0408 - val_loss: 0.0570 - val_mean_absolute_error: 0.0570\n",
            "Epoch 11/20\n",
            "51/51 [==============================] - ETA: 0s - loss: 0.0402 - mean_absolute_error: 0.0402\n",
            "Epoch 00011: val_loss did not improve from 0.05568\n",
            "51/51 [==============================] - 0s 4ms/step - loss: 0.0402 - mean_absolute_error: 0.0402 - val_loss: 0.0576 - val_mean_absolute_error: 0.0576\n",
            "Epoch 12/20\n",
            "36/51 [====================>.........] - ETA: 0s - loss: 0.0451 - mean_absolute_error: 0.0451\n",
            "Epoch 00012: val_loss improved from 0.05568 to 0.05508, saving model to Weights-012--0.05508.hdf5\n",
            "51/51 [==============================] - 0s 5ms/step - loss: 0.0448 - mean_absolute_error: 0.0448 - val_loss: 0.0551 - val_mean_absolute_error: 0.0551\n",
            "Epoch 13/20\n",
            "36/51 [====================>.........] - ETA: 0s - loss: 0.0407 - mean_absolute_error: 0.0407\n",
            "Epoch 00013: val_loss improved from 0.05508 to 0.05183, saving model to Weights-013--0.05183.hdf5\n",
            "51/51 [==============================] - 0s 4ms/step - loss: 0.0396 - mean_absolute_error: 0.0396 - val_loss: 0.0518 - val_mean_absolute_error: 0.0518\n",
            "Epoch 14/20\n",
            "34/51 [===================>..........] - ETA: 0s - loss: 0.0545 - mean_absolute_error: 0.0545\n",
            "Epoch 00014: val_loss improved from 0.05183 to 0.05012, saving model to Weights-014--0.05012.hdf5\n",
            "51/51 [==============================] - 0s 4ms/step - loss: 0.0545 - mean_absolute_error: 0.0545 - val_loss: 0.0501 - val_mean_absolute_error: 0.0501\n",
            "Epoch 15/20\n",
            "50/51 [============================>.] - ETA: 0s - loss: 0.0467 - mean_absolute_error: 0.0467\n",
            "Epoch 00015: val_loss improved from 0.05012 to 0.04605, saving model to Weights-015--0.04605.hdf5\n",
            "51/51 [==============================] - 0s 5ms/step - loss: 0.0466 - mean_absolute_error: 0.0466 - val_loss: 0.0460 - val_mean_absolute_error: 0.0460\n",
            "Epoch 16/20\n",
            "35/51 [===================>..........] - ETA: 0s - loss: 0.0359 - mean_absolute_error: 0.0359\n",
            "Epoch 00016: val_loss did not improve from 0.04605\n",
            "51/51 [==============================] - 0s 3ms/step - loss: 0.0346 - mean_absolute_error: 0.0346 - val_loss: 0.0504 - val_mean_absolute_error: 0.0504\n",
            "Epoch 17/20\n",
            "37/51 [====================>.........] - ETA: 0s - loss: 0.0316 - mean_absolute_error: 0.0316\n",
            "Epoch 00017: val_loss did not improve from 0.04605\n",
            "51/51 [==============================] - 0s 4ms/step - loss: 0.0312 - mean_absolute_error: 0.0312 - val_loss: 0.0591 - val_mean_absolute_error: 0.0591\n",
            "Epoch 18/20\n",
            "36/51 [====================>.........] - ETA: 0s - loss: 0.0334 - mean_absolute_error: 0.0334\n",
            "Epoch 00018: val_loss did not improve from 0.04605\n",
            "51/51 [==============================] - 0s 3ms/step - loss: 0.0332 - mean_absolute_error: 0.0332 - val_loss: 0.0491 - val_mean_absolute_error: 0.0491\n",
            "Epoch 19/20\n",
            "37/51 [====================>.........] - ETA: 0s - loss: 0.0308 - mean_absolute_error: 0.0308\n",
            "Epoch 00019: val_loss did not improve from 0.04605\n",
            "51/51 [==============================] - 0s 3ms/step - loss: 0.0316 - mean_absolute_error: 0.0316 - val_loss: 0.0506 - val_mean_absolute_error: 0.0506\n",
            "Epoch 20/20\n",
            "37/51 [====================>.........] - ETA: 0s - loss: 0.0291 - mean_absolute_error: 0.0291\n",
            "Epoch 00020: val_loss did not improve from 0.04605\n",
            "51/51 [==============================] - 0s 3ms/step - loss: 0.0291 - mean_absolute_error: 0.0291 - val_loss: 0.0473 - val_mean_absolute_error: 0.0473\n"
          ],
          "name": "stdout"
        },
        {
          "output_type": "execute_result",
          "data": {
            "text/plain": [
              "<tensorflow.python.keras.callbacks.History at 0x7f5d508ec710>"
            ]
          },
          "metadata": {
            "tags": []
          },
          "execution_count": 93
        }
      ]
    },
    {
      "cell_type": "code",
      "metadata": {
        "id": "PdYzVMawqSWy",
        "colab": {
          "base_uri": "https://localhost:8080/",
          "height": 51
        },
        "outputId": "0337a57a-bcd3-4f17-854d-3a023b04063f"
      },
      "source": [
        "predictions_NN_model = NN_model.predict(X_test)\n",
        "\n",
        "\n",
        "R2_score = r2_score(y_test , predictions_NN_model)\n",
        "print('R2_score = ',R2_score)\n",
        "MAE = mean_absolute_error(y_test , predictions_NN_model)\n",
        "print('MAE=', MAE)"
      ],
      "execution_count": null,
      "outputs": [
        {
          "output_type": "stream",
          "text": [
            "R2_score =  0.8967189180951911\n",
            "MAE= 0.045487914939486986\n"
          ],
          "name": "stdout"
        }
      ]
    },
    {
      "cell_type": "markdown",
      "metadata": {
        "id": "bYe40TuNruhW"
      },
      "source": [
        "## Training only with 70% Experimental data (0% simulated data)"
      ]
    },
    {
      "cell_type": "code",
      "metadata": {
        "id": "1Bq0o2WNr_aP",
        "colab": {
          "base_uri": "https://localhost:8080/",
          "height": 293
        },
        "outputId": "3bc16e65-059e-4f44-9732-b5ab5f754aca"
      },
      "source": [
        "n_simulated =  0   \n",
        "n_experiment = 0.7 \n",
        "\n",
        "\n",
        "frame = [Shuffled_simulated_data.iloc[0: int(Simulated_data_row*n_simulated),:], Shuffled_experimental_data.iloc[0: int(Exp_data_row*n_experiment),0:10]]\n",
        "Concatenated_data = pd.concat(frame,ignore_index=True,axis = 0)\n",
        "\n",
        "Tst_set = Shuffled_experimental_data.iloc[int(Exp_data_row*n_experiment):1000,0:10]\n",
        "Test_set = Tst_set.reset_index(drop=True)\n",
        "\n",
        "\n",
        "print('First two rows of the training dataset\\n',Concatenated_data.iloc[0:2,:])\n",
        "print('\\nShape of the training dataset = ', Concatenated_data.shape)\n",
        "\n",
        "print('\\nFirst two rows of the test dataset\\n', Test_set.iloc[0:2,:])\n",
        "print('\\nShape of the test dataset = ', Test_set.shape)"
      ],
      "execution_count": null,
      "outputs": [
        {
          "output_type": "stream",
          "text": [
            "First two rows of the training dataset\n",
            "          0         1        2       3  ...        6         7        8        9\n",
            "0  0.31022 -0.130410 -0.92070  0.2266  ... -0.17288 -0.051216  0.96937  0.96381\n",
            "1  0.30986 -0.075701 -0.88238  0.5020  ... -0.17710 -0.044683  0.98325  0.92536\n",
            "\n",
            "[2 rows x 10 columns]\n",
            "\n",
            "Shape of the training dataset =  (700, 10)\n",
            "\n",
            "First two rows of the test dataset\n",
            "          0         1        2        3  ...         6         7        8        9\n",
            "0  0.29936 -0.072687 -0.84203  0.27257  ... -0.214320 -0.033889  0.92509  0.69827\n",
            "1  0.32097 -0.076999 -0.83218  0.11611  ... -0.094798 -0.202410  0.93217  0.55731\n",
            "\n",
            "[2 rows x 10 columns]\n",
            "\n",
            "Shape of the test dataset =  (300, 10)\n"
          ],
          "name": "stdout"
        }
      ]
    },
    {
      "cell_type": "code",
      "metadata": {
        "id": "mu9JgWokr_aU"
      },
      "source": [
        "X_train = Concatenated_data.iloc[:,0:9].values\n",
        "y_train = Concatenated_data.iloc[:,-1].values\n",
        "\n",
        "X_test = Test_set.iloc[:,0:9].values\n",
        "y_test = Test_set.iloc[:,-1].values"
      ],
      "execution_count": null,
      "outputs": []
    },
    {
      "cell_type": "markdown",
      "metadata": {
        "id": "2hF80WaDr_aW"
      },
      "source": [
        "### Polynomial Regression"
      ]
    },
    {
      "cell_type": "code",
      "metadata": {
        "id": "T_7AH9dKr_aW"
      },
      "source": [
        "from sklearn.metrics import mean_squared_error, r2_score\n",
        "from sklearn.preprocessing import PolynomialFeatures\n",
        "\n",
        "polynomial_features= PolynomialFeatures(degree=3)\n",
        "\n",
        "x_poly_train = polynomial_features.fit_transform(X_train)\n",
        "x_poly_test = polynomial_features.fit_transform(X_test)"
      ],
      "execution_count": null,
      "outputs": []
    },
    {
      "cell_type": "code",
      "metadata": {
        "id": "wt58bsrGr_aY",
        "colab": {
          "base_uri": "https://localhost:8080/",
          "height": 297
        },
        "outputId": "c36051c5-3ad7-4652-8187-bc97304ab84c"
      },
      "source": [
        "model_poly = LinearRegression()\n",
        "model_poly.fit(x_poly_train, y_train)\n",
        "predictions2 = model_poly.predict(x_poly_test)\n",
        "fig = plt.scatter(y_test,predictions2)\n",
        "plt.savefig('test.pdf')\n",
        "\n",
        "mae_2 = metrics.mean_absolute_error(y_test,predictions2)\n",
        "mse_2 = metrics.mean_squared_error(y_test,predictions2)\n",
        "rmse_2 = np.sqrt(metrics.mean_squared_error(y_test,predictions2))\n",
        "r2_2 = r2_score(y_test,predictions2)  \n",
        "print(r2_2)\n",
        "print(mae_2)"
      ],
      "execution_count": null,
      "outputs": [
        {
          "output_type": "stream",
          "text": [
            "0.855848624862528\n",
            "0.052116398813677925\n"
          ],
          "name": "stdout"
        },
        {
          "output_type": "display_data",
          "data": {
            "image/png": "[encoded data removed]",
            "text/plain": [
              "<Figure size 432x288 with 1 Axes>"
            ]
          },
          "metadata": {
            "tags": [],
            "needs_background": "light"
          }
        }
      ]
    },
    {
      "cell_type": "markdown",
      "metadata": {
        "id": "o5G7A7yOr_aa"
      },
      "source": [
        "#### Summary of the regression results: (R^2 values for different degrees)\n",
        "\n",
        "\n",
        "1.   0.71\n",
        "2.   0.90"
      ]
    },
    {
      "cell_type": "markdown",
      "metadata": {
        "id": "5WoIXhQ7r_ab"
      },
      "source": [
        "### Neural Network"
      ]
    },
    {
      "cell_type": "code",
      "metadata": {
        "id": "QggTBeJ8r_ab"
      },
      "source": [
        "checkpoint_name = 'Weights-{epoch:03d}--{val_loss:.5f}.hdf5' \n",
        "checkpoint = ModelCheckpoint(checkpoint_name, monitor='val_loss', verbose = 1, save_best_only = True, mode ='auto')\n",
        "callbacks_list = [checkpoint]"
      ],
      "execution_count": null,
      "outputs": []
    },
    {
      "cell_type": "code",
      "metadata": {
        "id": "rZRMPIAhr_ad"
      },
      "source": [
        "# Make a model\n",
        "\n",
        "\n",
        "NN_model = Sequential()\n",
        "\n",
        "# The Input Layer :\n",
        "NN_model.add(Dense(128, kernel_initializer='normal',input_dim = X_train.shape[1], activation='relu'))\n",
        "\n",
        "# The Hidden Layers :\n",
        "NN_model.add(Dense(256, kernel_initializer='normal',activation='relu'))\n",
        "NN_model.add(Dropout(0.01))\n",
        "NN_model.add(Dense(256, kernel_initializer='normal',activation='relu'))\n",
        "NN_model.add(Dense(256, kernel_initializer='normal',activation='relu'))\n",
        "NN_model.add(Dropout(0.05))\n",
        "# The Output Layer :\n",
        "NN_model.add(Dense(1, kernel_initializer='normal',activation='linear'))\n",
        "\n",
        "# Compile the network :\n",
        "NN_model.compile(loss='mean_absolute_error', optimizer='adam', metrics=['mean_absolute_error'])\n",
        "#NN_model.summary()"
      ],
      "execution_count": null,
      "outputs": []
    },
    {
      "cell_type": "code",
      "metadata": {
        "id": "MJjvzl-yr_af",
        "colab": {
          "base_uri": "https://localhost:8080/",
          "height": 1000
        },
        "outputId": "ba6ae696-9950-479a-cc9d-9c2b4d857126"
      },
      "source": [
        "#train the model, evaluate using 0.2 of data for validation comparison, run for 20 epochs, batch size of 32\n",
        "NN_model.fit(X_train, y_train, epochs=20, batch_size=32, validation_split = 0.2, callbacks=callbacks_list)"
      ],
      "execution_count": null,
      "outputs": [
        {
          "output_type": "stream",
          "text": [
            "Epoch 1/20\n",
            "15/15 [==============================] - ETA: 0s - loss: 0.0759 - mean_absolute_error: 0.0759\n",
            "Epoch 00001: val_loss did not improve from 0.06031\n",
            "15/15 [==============================] - 0s 7ms/step - loss: 0.0759 - mean_absolute_error: 0.0759 - val_loss: 0.0640 - val_mean_absolute_error: 0.0640\n",
            "Epoch 2/20\n",
            " 1/15 [=>............................] - ETA: 0s - loss: 0.0525 - mean_absolute_error: 0.0525\n",
            "Epoch 00002: val_loss did not improve from 0.06031\n",
            "15/15 [==============================] - 0s 4ms/step - loss: 0.0717 - mean_absolute_error: 0.0717 - val_loss: 0.0786 - val_mean_absolute_error: 0.0786\n",
            "Epoch 3/20\n",
            " 1/15 [=>............................] - ETA: 0s - loss: 0.0882 - mean_absolute_error: 0.0882\n",
            "Epoch 00003: val_loss improved from 0.06031 to 0.05459, saving model to Weights-003--0.05459.hdf5\n",
            "15/15 [==============================] - 0s 7ms/step - loss: 0.0701 - mean_absolute_error: 0.0701 - val_loss: 0.0546 - val_mean_absolute_error: 0.0546\n",
            "Epoch 4/20\n",
            " 1/15 [=>............................] - ETA: 0s - loss: 0.0645 - mean_absolute_error: 0.0645\n",
            "Epoch 00004: val_loss did not improve from 0.05459\n",
            "15/15 [==============================] - 0s 4ms/step - loss: 0.0660 - mean_absolute_error: 0.0660 - val_loss: 0.0566 - val_mean_absolute_error: 0.0566\n",
            "Epoch 5/20\n",
            " 1/15 [=>............................] - ETA: 0s - loss: 0.0762 - mean_absolute_error: 0.0762\n",
            "Epoch 00005: val_loss did not improve from 0.05459\n",
            "15/15 [==============================] - 0s 4ms/step - loss: 0.0637 - mean_absolute_error: 0.0637 - val_loss: 0.0608 - val_mean_absolute_error: 0.0608\n",
            "Epoch 6/20\n",
            " 1/15 [=>............................] - ETA: 0s - loss: 0.0549 - mean_absolute_error: 0.0549\n",
            "Epoch 00006: val_loss improved from 0.05459 to 0.04885, saving model to Weights-006--0.04885.hdf5\n",
            "15/15 [==============================] - 0s 7ms/step - loss: 0.0591 - mean_absolute_error: 0.0591 - val_loss: 0.0489 - val_mean_absolute_error: 0.0489\n",
            "Epoch 7/20\n",
            " 1/15 [=>............................] - ETA: 0s - loss: 0.0564 - mean_absolute_error: 0.0564\n",
            "Epoch 00007: val_loss did not improve from 0.04885\n",
            "15/15 [==============================] - 0s 4ms/step - loss: 0.0593 - mean_absolute_error: 0.0593 - val_loss: 0.0570 - val_mean_absolute_error: 0.0570\n",
            "Epoch 8/20\n",
            " 1/15 [=>............................] - ETA: 0s - loss: 0.0871 - mean_absolute_error: 0.0871\n",
            "Epoch 00008: val_loss did not improve from 0.04885\n",
            "15/15 [==============================] - 0s 4ms/step - loss: 0.0589 - mean_absolute_error: 0.0589 - val_loss: 0.0524 - val_mean_absolute_error: 0.0524\n",
            "Epoch 9/20\n",
            " 1/15 [=>............................] - ETA: 0s - loss: 0.0583 - mean_absolute_error: 0.0583\n",
            "Epoch 00009: val_loss did not improve from 0.04885\n",
            "15/15 [==============================] - 0s 4ms/step - loss: 0.0581 - mean_absolute_error: 0.0581 - val_loss: 0.0539 - val_mean_absolute_error: 0.0539\n",
            "Epoch 10/20\n",
            " 1/15 [=>............................] - ETA: 0s - loss: 0.0566 - mean_absolute_error: 0.0566\n",
            "Epoch 00010: val_loss did not improve from 0.04885\n",
            "15/15 [==============================] - 0s 4ms/step - loss: 0.0615 - mean_absolute_error: 0.0615 - val_loss: 0.0577 - val_mean_absolute_error: 0.0577\n",
            "Epoch 11/20\n",
            " 1/15 [=>............................] - ETA: 0s - loss: 0.0564 - mean_absolute_error: 0.0564\n",
            "Epoch 00011: val_loss did not improve from 0.04885\n",
            "15/15 [==============================] - 0s 4ms/step - loss: 0.0617 - mean_absolute_error: 0.0617 - val_loss: 0.0668 - val_mean_absolute_error: 0.0668\n",
            "Epoch 12/20\n",
            "13/15 [=========================>....] - ETA: 0s - loss: 0.0616 - mean_absolute_error: 0.0616\n",
            "Epoch 00012: val_loss did not improve from 0.04885\n",
            "15/15 [==============================] - 0s 5ms/step - loss: 0.0598 - mean_absolute_error: 0.0598 - val_loss: 0.0597 - val_mean_absolute_error: 0.0597\n",
            "Epoch 13/20\n",
            " 1/15 [=>............................] - ETA: 0s - loss: 0.0818 - mean_absolute_error: 0.0818\n",
            "Epoch 00013: val_loss improved from 0.04885 to 0.04824, saving model to Weights-013--0.04824.hdf5\n",
            "15/15 [==============================] - 0s 7ms/step - loss: 0.0579 - mean_absolute_error: 0.0579 - val_loss: 0.0482 - val_mean_absolute_error: 0.0482\n",
            "Epoch 14/20\n",
            " 1/15 [=>............................] - ETA: 0s - loss: 0.0523 - mean_absolute_error: 0.0523\n",
            "Epoch 00014: val_loss did not improve from 0.04824\n",
            "15/15 [==============================] - 0s 4ms/step - loss: 0.0567 - mean_absolute_error: 0.0567 - val_loss: 0.0536 - val_mean_absolute_error: 0.0536\n",
            "Epoch 15/20\n",
            " 1/15 [=>............................] - ETA: 0s - loss: 0.0531 - mean_absolute_error: 0.0531\n",
            "Epoch 00015: val_loss did not improve from 0.04824\n",
            "15/15 [==============================] - 0s 4ms/step - loss: 0.0715 - mean_absolute_error: 0.0715 - val_loss: 0.0709 - val_mean_absolute_error: 0.0709\n",
            "Epoch 16/20\n",
            " 1/15 [=>............................] - ETA: 0s - loss: 0.0633 - mean_absolute_error: 0.0633\n",
            "Epoch 00016: val_loss did not improve from 0.04824\n",
            "15/15 [==============================] - 0s 4ms/step - loss: 0.0583 - mean_absolute_error: 0.0583 - val_loss: 0.0483 - val_mean_absolute_error: 0.0483\n",
            "Epoch 17/20\n",
            " 1/15 [=>............................] - ETA: 0s - loss: 0.0526 - mean_absolute_error: 0.0526\n",
            "Epoch 00017: val_loss did not improve from 0.04824\n",
            "15/15 [==============================] - 0s 4ms/step - loss: 0.0608 - mean_absolute_error: 0.0608 - val_loss: 0.0706 - val_mean_absolute_error: 0.0706\n",
            "Epoch 18/20\n",
            " 1/15 [=>............................] - ETA: 0s - loss: 0.0668 - mean_absolute_error: 0.0668\n",
            "Epoch 00018: val_loss did not improve from 0.04824\n",
            "15/15 [==============================] - 0s 4ms/step - loss: 0.0657 - mean_absolute_error: 0.0657 - val_loss: 0.0558 - val_mean_absolute_error: 0.0558\n",
            "Epoch 19/20\n",
            " 1/15 [=>............................] - ETA: 0s - loss: 0.0694 - mean_absolute_error: 0.0694\n",
            "Epoch 00019: val_loss did not improve from 0.04824\n",
            "15/15 [==============================] - 0s 4ms/step - loss: 0.0681 - mean_absolute_error: 0.0681 - val_loss: 0.0523 - val_mean_absolute_error: 0.0523\n",
            "Epoch 20/20\n",
            " 1/15 [=>............................] - ETA: 0s - loss: 0.0557 - mean_absolute_error: 0.0557\n",
            "Epoch 00020: val_loss did not improve from 0.04824\n",
            "15/15 [==============================] - 0s 4ms/step - loss: 0.0554 - mean_absolute_error: 0.0554 - val_loss: 0.0499 - val_mean_absolute_error: 0.0499\n"
          ],
          "name": "stdout"
        },
        {
          "output_type": "execute_result",
          "data": {
            "text/plain": [
              "<tensorflow.python.keras.callbacks.History at 0x7f5d508ecc88>"
            ]
          },
          "metadata": {
            "tags": []
          },
          "execution_count": 119
        }
      ]
    },
    {
      "cell_type": "code",
      "metadata": {
        "id": "TApQ9Ltlr_aj",
        "colab": {
          "base_uri": "https://localhost:8080/",
          "height": 51
        },
        "outputId": "cfb22015-6fae-45e3-9a3a-d9df77885d45"
      },
      "source": [
        "from sklearn.metrics import mean_squared_error, r2_score, mean_absolute_error\n",
        "predictions_NN_model = NN_model.predict(X_test)\n",
        "\n",
        "\n",
        "R2_score = r2_score(y_test , predictions_NN_model)\n",
        "MAE = mean_absolute_error(y_test , predictions_NN_model)\n",
        "print('R2_score = ',R2_score)\n",
        "print('MAE = ',MAE)"
      ],
      "execution_count": null,
      "outputs": [
        {
          "output_type": "stream",
          "text": [
            "R2_score =  0.8867577450592544\n",
            "MAE =  0.04873962058657408\n"
          ],
          "name": "stdout"
        }
      ]
    },
    {
      "cell_type": "code",
      "metadata": {
        "id": "hMTD3dqFTOIY"
      },
      "source": [
        "# Make a model\n",
        "\n",
        "\n",
        "NN_model = Sequential()\n",
        "\n",
        "# The Input Layer :\n",
        "NN_model.add(Dense(128, kernel_initializer='normal',input_dim = X_train.shape[1], activation='relu'))\n",
        "\n",
        "# The Hidden Layers :\n",
        "NN_model.add(Dense(256, kernel_initializer='normal',activation='relu'))\n",
        "NN_model.add(Dropout(0.01))\n",
        "NN_model.add(Dense(256, kernel_initializer='normal',activation='relu'))\n",
        "NN_model.add(Dense(256, kernel_initializer='normal',activation='relu'))\n",
        "NN_model.add(Dropout(0.05))\n",
        "# The Output Layer :\n",
        "NN_model.add(Dense(1, kernel_initializer='normal',activation='linear'))\n",
        "\n",
        "# Compile the network :\n",
        "NN_model.compile(loss='mean_squared_error', optimizer='adam', metrics=['mean_squared_error'])\n",
        "#NN_model.summary()"
      ],
      "execution_count": null,
      "outputs": []
    },
    {
      "cell_type": "code",
      "metadata": {
        "id": "Y5kLRN3ZnQW5",
        "colab": {
          "base_uri": "https://localhost:8080/",
          "height": 1000
        },
        "outputId": "4229e4fd-3982-4126-bdb3-dabf7a961ccd"
      },
      "source": [
        "#train the model, evaluate using 0.2 of data for validation comparison, run for 20 epochs, batch size of 32\n",
        "NN_model.fit(X_train, y_train, epochs=20, batch_size=32, validation_split = 0.2, callbacks=callbacks_list)"
      ],
      "execution_count": null,
      "outputs": [
        {
          "output_type": "stream",
          "text": [
            "Epoch 1/20\n",
            " 1/15 [=>............................] - ETA: 0s - loss: 0.0026 - mean_squared_error: 0.0026\n",
            "Epoch 00001: val_loss did not improve from 0.00388\n",
            "15/15 [==============================] - 0s 6ms/step - loss: 0.0045 - mean_squared_error: 0.0045 - val_loss: 0.0039 - val_mean_squared_error: 0.0039\n",
            "Epoch 2/20\n",
            " 1/15 [=>............................] - ETA: 0s - loss: 0.0039 - mean_squared_error: 0.0039\n",
            "Epoch 00002: val_loss did not improve from 0.00388\n",
            "15/15 [==============================] - 0s 4ms/step - loss: 0.0046 - mean_squared_error: 0.0046 - val_loss: 0.0046 - val_mean_squared_error: 0.0046\n",
            "Epoch 3/20\n",
            " 1/15 [=>............................] - ETA: 0s - loss: 0.0039 - mean_squared_error: 0.0039\n",
            "Epoch 00003: val_loss did not improve from 0.00388\n",
            "15/15 [==============================] - 0s 4ms/step - loss: 0.0057 - mean_squared_error: 0.0057 - val_loss: 0.0044 - val_mean_squared_error: 0.0044\n",
            "Epoch 4/20\n",
            " 1/15 [=>............................] - ETA: 0s - loss: 0.0053 - mean_squared_error: 0.0053\n",
            "Epoch 00004: val_loss did not improve from 0.00388\n",
            "15/15 [==============================] - 0s 4ms/step - loss: 0.0053 - mean_squared_error: 0.0053 - val_loss: 0.0056 - val_mean_squared_error: 0.0056\n",
            "Epoch 5/20\n",
            " 1/15 [=>............................] - ETA: 0s - loss: 0.0042 - mean_squared_error: 0.0042\n",
            "Epoch 00005: val_loss did not improve from 0.00388\n",
            "15/15 [==============================] - 0s 4ms/step - loss: 0.0046 - mean_squared_error: 0.0046 - val_loss: 0.0040 - val_mean_squared_error: 0.0040\n",
            "Epoch 6/20\n",
            " 1/15 [=>............................] - ETA: 0s - loss: 0.0067 - mean_squared_error: 0.0067\n",
            "Epoch 00006: val_loss did not improve from 0.00388\n",
            "15/15 [==============================] - 0s 4ms/step - loss: 0.0044 - mean_squared_error: 0.0044 - val_loss: 0.0041 - val_mean_squared_error: 0.0041\n",
            "Epoch 7/20\n",
            " 1/15 [=>............................] - ETA: 0s - loss: 0.0040 - mean_squared_error: 0.0040\n",
            "Epoch 00007: val_loss did not improve from 0.00388\n",
            "15/15 [==============================] - 0s 4ms/step - loss: 0.0046 - mean_squared_error: 0.0046 - val_loss: 0.0039 - val_mean_squared_error: 0.0039\n",
            "Epoch 8/20\n",
            " 1/15 [=>............................] - ETA: 0s - loss: 0.0039 - mean_squared_error: 0.0039\n",
            "Epoch 00008: val_loss did not improve from 0.00388\n",
            "15/15 [==============================] - 0s 4ms/step - loss: 0.0046 - mean_squared_error: 0.0046 - val_loss: 0.0046 - val_mean_squared_error: 0.0046\n",
            "Epoch 9/20\n",
            " 1/15 [=>............................] - ETA: 0s - loss: 0.0038 - mean_squared_error: 0.0038\n",
            "Epoch 00009: val_loss improved from 0.00388 to 0.00382, saving model to Weights-009--0.00382.hdf5\n",
            "15/15 [==============================] - 0s 7ms/step - loss: 0.0042 - mean_squared_error: 0.0042 - val_loss: 0.0038 - val_mean_squared_error: 0.0038\n",
            "Epoch 10/20\n",
            " 1/15 [=>............................] - ETA: 0s - loss: 0.0040 - mean_squared_error: 0.0040\n",
            "Epoch 00010: val_loss did not improve from 0.00382\n",
            "15/15 [==============================] - 0s 4ms/step - loss: 0.0048 - mean_squared_error: 0.0048 - val_loss: 0.0049 - val_mean_squared_error: 0.0049\n",
            "Epoch 11/20\n",
            " 1/15 [=>............................] - ETA: 0s - loss: 0.0043 - mean_squared_error: 0.0043\n",
            "Epoch 00011: val_loss did not improve from 0.00382\n",
            "15/15 [==============================] - 0s 4ms/step - loss: 0.0045 - mean_squared_error: 0.0045 - val_loss: 0.0039 - val_mean_squared_error: 0.0039\n",
            "Epoch 12/20\n",
            " 1/15 [=>............................] - ETA: 0s - loss: 0.0020 - mean_squared_error: 0.0020\n",
            "Epoch 00012: val_loss improved from 0.00382 to 0.00374, saving model to Weights-012--0.00374.hdf5\n",
            "15/15 [==============================] - 0s 7ms/step - loss: 0.0049 - mean_squared_error: 0.0049 - val_loss: 0.0037 - val_mean_squared_error: 0.0037\n",
            "Epoch 13/20\n",
            " 1/15 [=>............................] - ETA: 0s - loss: 0.0035 - mean_squared_error: 0.0035\n",
            "Epoch 00013: val_loss did not improve from 0.00374\n",
            "15/15 [==============================] - 0s 4ms/step - loss: 0.0041 - mean_squared_error: 0.0041 - val_loss: 0.0039 - val_mean_squared_error: 0.0039\n",
            "Epoch 14/20\n",
            " 1/15 [=>............................] - ETA: 0s - loss: 0.0043 - mean_squared_error: 0.0043\n",
            "Epoch 00014: val_loss did not improve from 0.00374\n",
            "15/15 [==============================] - 0s 4ms/step - loss: 0.0042 - mean_squared_error: 0.0042 - val_loss: 0.0039 - val_mean_squared_error: 0.0039\n",
            "Epoch 15/20\n",
            " 1/15 [=>............................] - ETA: 0s - loss: 0.0094 - mean_squared_error: 0.0094\n",
            "Epoch 00015: val_loss did not improve from 0.00374\n",
            "15/15 [==============================] - 0s 4ms/step - loss: 0.0044 - mean_squared_error: 0.0044 - val_loss: 0.0039 - val_mean_squared_error: 0.0039\n",
            "Epoch 16/20\n",
            " 1/15 [=>............................] - ETA: 0s - loss: 0.0048 - mean_squared_error: 0.0048\n",
            "Epoch 00016: val_loss did not improve from 0.00374\n",
            "15/15 [==============================] - 0s 4ms/step - loss: 0.0041 - mean_squared_error: 0.0041 - val_loss: 0.0044 - val_mean_squared_error: 0.0044\n",
            "Epoch 17/20\n",
            " 1/15 [=>............................] - ETA: 0s - loss: 0.0054 - mean_squared_error: 0.0054\n",
            "Epoch 00017: val_loss did not improve from 0.00374\n",
            "15/15 [==============================] - 0s 4ms/step - loss: 0.0043 - mean_squared_error: 0.0043 - val_loss: 0.0048 - val_mean_squared_error: 0.0048\n",
            "Epoch 18/20\n",
            " 1/15 [=>............................] - ETA: 0s - loss: 0.0037 - mean_squared_error: 0.0037\n",
            "Epoch 00018: val_loss did not improve from 0.00374\n",
            "15/15 [==============================] - 0s 4ms/step - loss: 0.0055 - mean_squared_error: 0.0055 - val_loss: 0.0052 - val_mean_squared_error: 0.0052\n",
            "Epoch 19/20\n",
            " 1/15 [=>............................] - ETA: 0s - loss: 0.0054 - mean_squared_error: 0.0054\n",
            "Epoch 00019: val_loss did not improve from 0.00374\n",
            "15/15 [==============================] - 0s 4ms/step - loss: 0.0056 - mean_squared_error: 0.0056 - val_loss: 0.0041 - val_mean_squared_error: 0.0041\n",
            "Epoch 20/20\n",
            " 1/15 [=>............................] - ETA: 0s - loss: 0.0034 - mean_squared_error: 0.0034\n",
            "Epoch 00020: val_loss did not improve from 0.00374\n",
            "15/15 [==============================] - 0s 4ms/step - loss: 0.0045 - mean_squared_error: 0.0045 - val_loss: 0.0052 - val_mean_squared_error: 0.0052\n"
          ],
          "name": "stdout"
        },
        {
          "output_type": "execute_result",
          "data": {
            "text/plain": [
              "<tensorflow.python.keras.callbacks.History at 0x7efe725bd1d0>"
            ]
          },
          "metadata": {
            "tags": []
          },
          "execution_count": 121
        }
      ]
    },
    {
      "cell_type": "code",
      "metadata": {
        "id": "El28pj8rI-Yp",
        "colab": {
          "base_uri": "https://localhost:8080/",
          "height": 51
        },
        "outputId": "ab60e510-a37c-4cd3-a86d-f68dee9d6d35"
      },
      "source": [
        "from sklearn.metrics import mean_squared_error, r2_score, mean_absolute_error\n",
        "predictions_NN_model = NN_model.predict(X_test)\n",
        "\n",
        "R2_score = r2_score(y_test , predictions_NN_model)\n",
        "MAE = mean_absolute_error(y_test , predictions_NN_model)\n",
        "print('R2_score = ',R2_score)\n",
        "print('MAE = ',MAE)"
      ],
      "execution_count": null,
      "outputs": [
        {
          "output_type": "stream",
          "text": [
            "R2_score =  0.8686892812557622\n",
            "MAE =  0.053137953382074825\n"
          ],
          "name": "stdout"
        }
      ]
    },
    {
      "cell_type": "markdown",
      "metadata": {
        "id": "P_nW0j26ZGlL"
      },
      "source": [
        "### Let us try cross-validation algorithm with Regression"
      ]
    },
    {
      "cell_type": "code",
      "metadata": {
        "id": "BA4UOoJIZMrz"
      },
      "source": [
        "X = experimental_data.iloc[:,0:9]\n",
        "Y_explabel = experimental_data.iloc[:,9]\n",
        "Y_theorylabel = experimental_data.iloc[:,10]\n",
        "\n",
        "#print(experimental_data)\n",
        "#print(Y_explabel)\n",
        "#print(Y_theorylabel)\n"
      ],
      "execution_count": null,
      "outputs": []
    },
    {
      "cell_type": "code",
      "metadata": {
        "id": "qzzXcWpaZfjC"
      },
      "source": [
        "from sklearn.model_selection import KFold\n",
        "# prepare the cross-validation procedure\n",
        "fold = KFold(n_splits = 10, shuffle = True, random_state = 100)"
      ],
      "execution_count": null,
      "outputs": []
    },
    {
      "cell_type": "code",
      "metadata": {
        "id": "ybsTrZ48avO_"
      },
      "source": [
        "# Prepare the regression model\n",
        "from sklearn.preprocessing import PolynomialFeatures\n",
        "\n",
        "polynomial_features= PolynomialFeatures(degree=2)\n",
        "x_poly = polynomial_features.fit_transform(X)\n",
        "model_poly = LinearRegression()\n"
      ],
      "execution_count": null,
      "outputs": []
    },
    {
      "cell_type": "code",
      "metadata": {
        "id": "4CGbSNiYbeXW",
        "colab": {
          "base_uri": "https://localhost:8080/",
          "height": 33
        },
        "outputId": "fa9ff1c9-b5fe-4e3f-d4ad-312299d85b79"
      },
      "source": [
        "from sklearn.model_selection import cross_val_score\n",
        "# evaluate model\n",
        "scores = cross_val_score(model_poly, x_poly, Y_explabel, scoring='neg_mean_absolute_error', cv=fold)\n",
        "# report performance\n",
        "\n",
        "from numpy import mean\n",
        "from numpy import std\n",
        "print('Accuracy: %.3f (%.3f)' % (mean(scores), std(scores)))"
      ],
      "execution_count": null,
      "outputs": [
        {
          "output_type": "stream",
          "text": [
            "Accuracy: -0.045 (0.005)\n"
          ],
          "name": "stdout"
        }
      ]
    },
    {
      "cell_type": "markdown",
      "metadata": {
        "id": "xdmD9f3Zku0E"
      },
      "source": [
        "#### Let us try Repeated K Fold cross validation"
      ]
    },
    {
      "cell_type": "code",
      "metadata": {
        "id": "GdSGUiI_k2nM"
      },
      "source": [
        "from sklearn.model_selection import RepeatedKFold\n",
        "# prepare the cross-validation procedure\n",
        "Repeated_Fold = RepeatedKFold(n_splits=10, n_repeats=5, random_state=10)"
      ],
      "execution_count": null,
      "outputs": []
    },
    {
      "cell_type": "code",
      "metadata": {
        "id": "fXDIz0hWlEn8"
      },
      "source": [
        "# Prepare the regression model\n",
        "from sklearn.preprocessing import PolynomialFeatures\n",
        "\n",
        "polynomial_features= PolynomialFeatures(degree=1)\n",
        "x_poly = polynomial_features.fit_transform(X)\n",
        "model_poly = LinearRegression()\n"
      ],
      "execution_count": null,
      "outputs": []
    },
    {
      "cell_type": "code",
      "metadata": {
        "id": "4HDzWLJTlOw1",
        "colab": {
          "base_uri": "https://localhost:8080/",
          "height": 33
        },
        "outputId": "7ec53448-5477-4846-879c-29a55071a8be"
      },
      "source": [
        "from sklearn.model_selection import cross_val_score\n",
        "from sklearn.metrics import mean_squared_error, r2_score, mean_absolute_error\n",
        "# evaluate model\n",
        "scores = cross_val_score(model_poly, x_poly, Y_explabel, scoring='neg_mean_absolute_error', cv=Repeated_Fold)\n",
        "# report performance\n",
        "\n",
        "from numpy import mean\n",
        "from numpy import std\n",
        "print('R2: %.3f (%.3f)' % (mean(scores), std(scores)))"
      ],
      "execution_count": null,
      "outputs": [
        {
          "output_type": "stream",
          "text": [
            "R2: -0.076 (0.007)\n"
          ],
          "name": "stdout"
        }
      ]
    },
    {
      "cell_type": "markdown",
      "metadata": {
        "id": "ZIygNwQQZk5u"
      },
      "source": [
        "### Try a NN model and to do a 70-30 split"
      ]
    },
    {
      "cell_type": "code",
      "metadata": {
        "id": "gIPkCCzYZuhr"
      },
      "source": [
        "X = experimental_data.iloc[:,0:9]\n",
        "Y_explabel = experimental_data.iloc[:,9]\n",
        "Y_theorylabel = experimental_data.iloc[:,10]\n",
        "\n",
        "#print(experimental_data)\n",
        "#print(Y_explabel)\n",
        "#print(Y_theorylabel)\n",
        "\n",
        "\n",
        "from sklearn.model_selection import train_test_split\n",
        "X_train, X_test, y_train, y_test = train_test_split(X, Y_explabel, test_size=0.3, random_state=42)\n",
        "\n"
      ],
      "execution_count": null,
      "outputs": []
    },
    {
      "cell_type": "code",
      "metadata": {
        "id": "uep2cg7tlQM1"
      },
      "source": [
        "# Make a model\n",
        "\n",
        "\n",
        "NN_model = Sequential()\n",
        "\n",
        "# The Input Layer :\n",
        "NN_model.add(Dense(128, kernel_initializer='normal',input_dim = X_train.shape[1], activation='relu'))\n",
        "\n",
        "# The Hidden Layers :\n",
        "NN_model.add(Dense(256, kernel_initializer='normal',activation='relu'))\n",
        "NN_model.add(Dropout(0.01))\n",
        "NN_model.add(Dense(256, kernel_initializer='normal',activation='relu'))\n",
        "NN_model.add(Dense(256, kernel_initializer='normal',activation='relu'))\n",
        "NN_model.add(Dropout(0.05))\n",
        "# The Output Layer :\n",
        "NN_model.add(Dense(1, kernel_initializer='normal',activation='linear'))\n",
        "\n",
        "# Compile the network :\n",
        "NN_model.compile(loss='mean_absolute_error', optimizer='adam', metrics=[''])\n",
        "#NN_model.summary()"
      ],
      "execution_count": null,
      "outputs": []
    },
    {
      "cell_type": "code",
      "metadata": {
        "id": "uJ5c51YEbvwg"
      },
      "source": [
        "checkpoint_name = 'Weights-{epoch:03d}--{val_loss:.5f}.hdf5' \n",
        "checkpoint = ModelCheckpoint(checkpoint_name, monitor='val_loss', verbose = 1, save_best_only = True, mode ='auto')\n",
        "callbacks_list = [checkpoint]"
      ],
      "execution_count": null,
      "outputs": []
    },
    {
      "cell_type": "code",
      "metadata": {
        "id": "1shPYgKnbUtJ",
        "colab": {
          "base_uri": "https://localhost:8080/",
          "height": 995
        },
        "outputId": "9fcd5725-dac7-4c06-97c3-0de0b106991e"
      },
      "source": [
        "#train the model, evaluate using 0.2 of data for validation comparison, run for 20 epochs, batch size of 32\n",
        "NN_model.fit(X_train, y_train, epochs=20, batch_size=32, validation_split = 0.2, callbacks=callbacks_list)"
      ],
      "execution_count": null,
      "outputs": [
        {
          "output_type": "stream",
          "text": [
            "Epoch 1/20\n"
          ],
          "name": "stdout"
        },
        {
          "output_type": "error",
          "ename": "ValueError",
          "evalue": "ignored",
          "traceback": [
            "\u001b[0;31m---------------------------------------------------------------------------\u001b[0m",
            "\u001b[0;31mValueError\u001b[0m                                Traceback (most recent call last)",
            "\u001b[0;32m<ipython-input-65-09fbf86cdfa1>\u001b[0m in \u001b[0;36m<module>\u001b[0;34m()\u001b[0m\n\u001b[1;32m      1\u001b[0m \u001b[0;31m#train the model, evaluate using 0.2 of data for validation comparison, run for 20 epochs, batch size of 32\u001b[0m\u001b[0;34m\u001b[0m\u001b[0;34m\u001b[0m\u001b[0;34m\u001b[0m\u001b[0m\n\u001b[0;32m----> 2\u001b[0;31m \u001b[0mNN_model\u001b[0m\u001b[0;34m.\u001b[0m\u001b[0mfit\u001b[0m\u001b[0;34m(\u001b[0m\u001b[0mX_train\u001b[0m\u001b[0;34m,\u001b[0m \u001b[0my_train\u001b[0m\u001b[0;34m,\u001b[0m \u001b[0mepochs\u001b[0m\u001b[0;34m=\u001b[0m\u001b[0;36m20\u001b[0m\u001b[0;34m,\u001b[0m \u001b[0mbatch_size\u001b[0m\u001b[0;34m=\u001b[0m\u001b[0;36m32\u001b[0m\u001b[0;34m,\u001b[0m \u001b[0mvalidation_split\u001b[0m \u001b[0;34m=\u001b[0m \u001b[0;36m0.2\u001b[0m\u001b[0;34m,\u001b[0m \u001b[0mcallbacks\u001b[0m\u001b[0;34m=\u001b[0m\u001b[0mcallbacks_list\u001b[0m\u001b[0;34m)\u001b[0m\u001b[0;34m\u001b[0m\u001b[0;34m\u001b[0m\u001b[0m\n\u001b[0m",
            "\u001b[0;32m/usr/local/lib/python3.6/dist-packages/tensorflow/python/keras/engine/training.py\u001b[0m in \u001b[0;36m_method_wrapper\u001b[0;34m(self, *args, **kwargs)\u001b[0m\n\u001b[1;32m    106\u001b[0m   \u001b[0;32mdef\u001b[0m \u001b[0m_method_wrapper\u001b[0m\u001b[0;34m(\u001b[0m\u001b[0mself\u001b[0m\u001b[0;34m,\u001b[0m \u001b[0;34m*\u001b[0m\u001b[0margs\u001b[0m\u001b[0;34m,\u001b[0m \u001b[0;34m**\u001b[0m\u001b[0mkwargs\u001b[0m\u001b[0;34m)\u001b[0m\u001b[0;34m:\u001b[0m\u001b[0;34m\u001b[0m\u001b[0;34m\u001b[0m\u001b[0m\n\u001b[1;32m    107\u001b[0m     \u001b[0;32mif\u001b[0m \u001b[0;32mnot\u001b[0m \u001b[0mself\u001b[0m\u001b[0;34m.\u001b[0m\u001b[0m_in_multi_worker_mode\u001b[0m\u001b[0;34m(\u001b[0m\u001b[0;34m)\u001b[0m\u001b[0;34m:\u001b[0m  \u001b[0;31m# pylint: disable=protected-access\u001b[0m\u001b[0;34m\u001b[0m\u001b[0;34m\u001b[0m\u001b[0m\n\u001b[0;32m--> 108\u001b[0;31m       \u001b[0;32mreturn\u001b[0m \u001b[0mmethod\u001b[0m\u001b[0;34m(\u001b[0m\u001b[0mself\u001b[0m\u001b[0;34m,\u001b[0m \u001b[0;34m*\u001b[0m\u001b[0margs\u001b[0m\u001b[0;34m,\u001b[0m \u001b[0;34m**\u001b[0m\u001b[0mkwargs\u001b[0m\u001b[0;34m)\u001b[0m\u001b[0;34m\u001b[0m\u001b[0;34m\u001b[0m\u001b[0m\n\u001b[0m\u001b[1;32m    109\u001b[0m \u001b[0;34m\u001b[0m\u001b[0m\n\u001b[1;32m    110\u001b[0m     \u001b[0;31m# Running inside `run_distribute_coordinator` already.\u001b[0m\u001b[0;34m\u001b[0m\u001b[0;34m\u001b[0m\u001b[0;34m\u001b[0m\u001b[0m\n",
            "\u001b[0;32m/usr/local/lib/python3.6/dist-packages/tensorflow/python/keras/engine/training.py\u001b[0m in \u001b[0;36mfit\u001b[0;34m(self, x, y, batch_size, epochs, verbose, callbacks, validation_split, validation_data, shuffle, class_weight, sample_weight, initial_epoch, steps_per_epoch, validation_steps, validation_batch_size, validation_freq, max_queue_size, workers, use_multiprocessing)\u001b[0m\n\u001b[1;32m   1096\u001b[0m                 batch_size=batch_size):\n\u001b[1;32m   1097\u001b[0m               \u001b[0mcallbacks\u001b[0m\u001b[0;34m.\u001b[0m\u001b[0mon_train_batch_begin\u001b[0m\u001b[0;34m(\u001b[0m\u001b[0mstep\u001b[0m\u001b[0;34m)\u001b[0m\u001b[0;34m\u001b[0m\u001b[0;34m\u001b[0m\u001b[0m\n\u001b[0;32m-> 1098\u001b[0;31m               \u001b[0mtmp_logs\u001b[0m \u001b[0;34m=\u001b[0m \u001b[0mtrain_function\u001b[0m\u001b[0;34m(\u001b[0m\u001b[0miterator\u001b[0m\u001b[0;34m)\u001b[0m\u001b[0;34m\u001b[0m\u001b[0;34m\u001b[0m\u001b[0m\n\u001b[0m\u001b[1;32m   1099\u001b[0m               \u001b[0;32mif\u001b[0m \u001b[0mdata_handler\u001b[0m\u001b[0;34m.\u001b[0m\u001b[0mshould_sync\u001b[0m\u001b[0;34m:\u001b[0m\u001b[0;34m\u001b[0m\u001b[0;34m\u001b[0m\u001b[0m\n\u001b[1;32m   1100\u001b[0m                 \u001b[0mcontext\u001b[0m\u001b[0;34m.\u001b[0m\u001b[0masync_wait\u001b[0m\u001b[0;34m(\u001b[0m\u001b[0;34m)\u001b[0m\u001b[0;34m\u001b[0m\u001b[0;34m\u001b[0m\u001b[0m\n",
            "\u001b[0;32m/usr/local/lib/python3.6/dist-packages/tensorflow/python/eager/def_function.py\u001b[0m in \u001b[0;36m__call__\u001b[0;34m(self, *args, **kwds)\u001b[0m\n\u001b[1;32m    778\u001b[0m       \u001b[0;32melse\u001b[0m\u001b[0;34m:\u001b[0m\u001b[0;34m\u001b[0m\u001b[0;34m\u001b[0m\u001b[0m\n\u001b[1;32m    779\u001b[0m         \u001b[0mcompiler\u001b[0m \u001b[0;34m=\u001b[0m \u001b[0;34m\"nonXla\"\u001b[0m\u001b[0;34m\u001b[0m\u001b[0;34m\u001b[0m\u001b[0m\n\u001b[0;32m--> 780\u001b[0;31m         \u001b[0mresult\u001b[0m \u001b[0;34m=\u001b[0m \u001b[0mself\u001b[0m\u001b[0;34m.\u001b[0m\u001b[0m_call\u001b[0m\u001b[0;34m(\u001b[0m\u001b[0;34m*\u001b[0m\u001b[0margs\u001b[0m\u001b[0;34m,\u001b[0m \u001b[0;34m**\u001b[0m\u001b[0mkwds\u001b[0m\u001b[0;34m)\u001b[0m\u001b[0;34m\u001b[0m\u001b[0;34m\u001b[0m\u001b[0m\n\u001b[0m\u001b[1;32m    781\u001b[0m \u001b[0;34m\u001b[0m\u001b[0m\n\u001b[1;32m    782\u001b[0m       \u001b[0mnew_tracing_count\u001b[0m \u001b[0;34m=\u001b[0m \u001b[0mself\u001b[0m\u001b[0;34m.\u001b[0m\u001b[0m_get_tracing_count\u001b[0m\u001b[0;34m(\u001b[0m\u001b[0;34m)\u001b[0m\u001b[0;34m\u001b[0m\u001b[0;34m\u001b[0m\u001b[0m\n",
            "\u001b[0;32m/usr/local/lib/python3.6/dist-packages/tensorflow/python/eager/def_function.py\u001b[0m in \u001b[0;36m_call\u001b[0;34m(self, *args, **kwds)\u001b[0m\n\u001b[1;32m    821\u001b[0m       \u001b[0;31m# This is the first call of __call__, so we have to initialize.\u001b[0m\u001b[0;34m\u001b[0m\u001b[0;34m\u001b[0m\u001b[0;34m\u001b[0m\u001b[0m\n\u001b[1;32m    822\u001b[0m       \u001b[0minitializers\u001b[0m \u001b[0;34m=\u001b[0m \u001b[0;34m[\u001b[0m\u001b[0;34m]\u001b[0m\u001b[0;34m\u001b[0m\u001b[0;34m\u001b[0m\u001b[0m\n\u001b[0;32m--> 823\u001b[0;31m       \u001b[0mself\u001b[0m\u001b[0;34m.\u001b[0m\u001b[0m_initialize\u001b[0m\u001b[0;34m(\u001b[0m\u001b[0margs\u001b[0m\u001b[0;34m,\u001b[0m \u001b[0mkwds\u001b[0m\u001b[0;34m,\u001b[0m \u001b[0madd_initializers_to\u001b[0m\u001b[0;34m=\u001b[0m\u001b[0minitializers\u001b[0m\u001b[0;34m)\u001b[0m\u001b[0;34m\u001b[0m\u001b[0;34m\u001b[0m\u001b[0m\n\u001b[0m\u001b[1;32m    824\u001b[0m     \u001b[0;32mfinally\u001b[0m\u001b[0;34m:\u001b[0m\u001b[0;34m\u001b[0m\u001b[0;34m\u001b[0m\u001b[0m\n\u001b[1;32m    825\u001b[0m       \u001b[0;31m# At this point we know that the initialization is complete (or less\u001b[0m\u001b[0;34m\u001b[0m\u001b[0;34m\u001b[0m\u001b[0;34m\u001b[0m\u001b[0m\n",
            "\u001b[0;32m/usr/local/lib/python3.6/dist-packages/tensorflow/python/eager/def_function.py\u001b[0m in \u001b[0;36m_initialize\u001b[0;34m(self, args, kwds, add_initializers_to)\u001b[0m\n\u001b[1;32m    695\u001b[0m     self._concrete_stateful_fn = (\n\u001b[1;32m    696\u001b[0m         self._stateful_fn._get_concrete_function_internal_garbage_collected(  # pylint: disable=protected-access\n\u001b[0;32m--> 697\u001b[0;31m             *args, **kwds))\n\u001b[0m\u001b[1;32m    698\u001b[0m \u001b[0;34m\u001b[0m\u001b[0m\n\u001b[1;32m    699\u001b[0m     \u001b[0;32mdef\u001b[0m \u001b[0minvalid_creator_scope\u001b[0m\u001b[0;34m(\u001b[0m\u001b[0;34m*\u001b[0m\u001b[0munused_args\u001b[0m\u001b[0;34m,\u001b[0m \u001b[0;34m**\u001b[0m\u001b[0munused_kwds\u001b[0m\u001b[0;34m)\u001b[0m\u001b[0;34m:\u001b[0m\u001b[0;34m\u001b[0m\u001b[0;34m\u001b[0m\u001b[0m\n",
            "\u001b[0;32m/usr/local/lib/python3.6/dist-packages/tensorflow/python/eager/function.py\u001b[0m in \u001b[0;36m_get_concrete_function_internal_garbage_collected\u001b[0;34m(self, *args, **kwargs)\u001b[0m\n\u001b[1;32m   2853\u001b[0m       \u001b[0margs\u001b[0m\u001b[0;34m,\u001b[0m \u001b[0mkwargs\u001b[0m \u001b[0;34m=\u001b[0m \u001b[0;32mNone\u001b[0m\u001b[0;34m,\u001b[0m \u001b[0;32mNone\u001b[0m\u001b[0;34m\u001b[0m\u001b[0;34m\u001b[0m\u001b[0m\n\u001b[1;32m   2854\u001b[0m     \u001b[0;32mwith\u001b[0m \u001b[0mself\u001b[0m\u001b[0;34m.\u001b[0m\u001b[0m_lock\u001b[0m\u001b[0;34m:\u001b[0m\u001b[0;34m\u001b[0m\u001b[0;34m\u001b[0m\u001b[0m\n\u001b[0;32m-> 2855\u001b[0;31m       \u001b[0mgraph_function\u001b[0m\u001b[0;34m,\u001b[0m \u001b[0m_\u001b[0m\u001b[0;34m,\u001b[0m \u001b[0m_\u001b[0m \u001b[0;34m=\u001b[0m \u001b[0mself\u001b[0m\u001b[0;34m.\u001b[0m\u001b[0m_maybe_define_function\u001b[0m\u001b[0;34m(\u001b[0m\u001b[0margs\u001b[0m\u001b[0;34m,\u001b[0m \u001b[0mkwargs\u001b[0m\u001b[0;34m)\u001b[0m\u001b[0;34m\u001b[0m\u001b[0;34m\u001b[0m\u001b[0m\n\u001b[0m\u001b[1;32m   2856\u001b[0m     \u001b[0;32mreturn\u001b[0m \u001b[0mgraph_function\u001b[0m\u001b[0;34m\u001b[0m\u001b[0;34m\u001b[0m\u001b[0m\n\u001b[1;32m   2857\u001b[0m \u001b[0;34m\u001b[0m\u001b[0m\n",
            "\u001b[0;32m/usr/local/lib/python3.6/dist-packages/tensorflow/python/eager/function.py\u001b[0m in \u001b[0;36m_maybe_define_function\u001b[0;34m(self, args, kwargs)\u001b[0m\n\u001b[1;32m   3211\u001b[0m \u001b[0;34m\u001b[0m\u001b[0m\n\u001b[1;32m   3212\u001b[0m       \u001b[0mself\u001b[0m\u001b[0;34m.\u001b[0m\u001b[0m_function_cache\u001b[0m\u001b[0;34m.\u001b[0m\u001b[0mmissed\u001b[0m\u001b[0;34m.\u001b[0m\u001b[0madd\u001b[0m\u001b[0;34m(\u001b[0m\u001b[0mcall_context_key\u001b[0m\u001b[0;34m)\u001b[0m\u001b[0;34m\u001b[0m\u001b[0;34m\u001b[0m\u001b[0m\n\u001b[0;32m-> 3213\u001b[0;31m       \u001b[0mgraph_function\u001b[0m \u001b[0;34m=\u001b[0m \u001b[0mself\u001b[0m\u001b[0;34m.\u001b[0m\u001b[0m_create_graph_function\u001b[0m\u001b[0;34m(\u001b[0m\u001b[0margs\u001b[0m\u001b[0;34m,\u001b[0m \u001b[0mkwargs\u001b[0m\u001b[0;34m)\u001b[0m\u001b[0;34m\u001b[0m\u001b[0;34m\u001b[0m\u001b[0m\n\u001b[0m\u001b[1;32m   3214\u001b[0m       \u001b[0mself\u001b[0m\u001b[0;34m.\u001b[0m\u001b[0m_function_cache\u001b[0m\u001b[0;34m.\u001b[0m\u001b[0mprimary\u001b[0m\u001b[0;34m[\u001b[0m\u001b[0mcache_key\u001b[0m\u001b[0;34m]\u001b[0m \u001b[0;34m=\u001b[0m \u001b[0mgraph_function\u001b[0m\u001b[0;34m\u001b[0m\u001b[0;34m\u001b[0m\u001b[0m\n\u001b[1;32m   3215\u001b[0m       \u001b[0;32mreturn\u001b[0m \u001b[0mgraph_function\u001b[0m\u001b[0;34m,\u001b[0m \u001b[0margs\u001b[0m\u001b[0;34m,\u001b[0m \u001b[0mkwargs\u001b[0m\u001b[0;34m\u001b[0m\u001b[0;34m\u001b[0m\u001b[0m\n",
            "\u001b[0;32m/usr/local/lib/python3.6/dist-packages/tensorflow/python/eager/function.py\u001b[0m in \u001b[0;36m_create_graph_function\u001b[0;34m(self, args, kwargs, override_flat_arg_shapes)\u001b[0m\n\u001b[1;32m   3073\u001b[0m             \u001b[0marg_names\u001b[0m\u001b[0;34m=\u001b[0m\u001b[0marg_names\u001b[0m\u001b[0;34m,\u001b[0m\u001b[0;34m\u001b[0m\u001b[0;34m\u001b[0m\u001b[0m\n\u001b[1;32m   3074\u001b[0m             \u001b[0moverride_flat_arg_shapes\u001b[0m\u001b[0;34m=\u001b[0m\u001b[0moverride_flat_arg_shapes\u001b[0m\u001b[0;34m,\u001b[0m\u001b[0;34m\u001b[0m\u001b[0;34m\u001b[0m\u001b[0m\n\u001b[0;32m-> 3075\u001b[0;31m             capture_by_value=self._capture_by_value),\n\u001b[0m\u001b[1;32m   3076\u001b[0m         \u001b[0mself\u001b[0m\u001b[0;34m.\u001b[0m\u001b[0m_function_attributes\u001b[0m\u001b[0;34m,\u001b[0m\u001b[0;34m\u001b[0m\u001b[0;34m\u001b[0m\u001b[0m\n\u001b[1;32m   3077\u001b[0m         \u001b[0mfunction_spec\u001b[0m\u001b[0;34m=\u001b[0m\u001b[0mself\u001b[0m\u001b[0;34m.\u001b[0m\u001b[0mfunction_spec\u001b[0m\u001b[0;34m,\u001b[0m\u001b[0;34m\u001b[0m\u001b[0;34m\u001b[0m\u001b[0m\n",
            "\u001b[0;32m/usr/local/lib/python3.6/dist-packages/tensorflow/python/framework/func_graph.py\u001b[0m in \u001b[0;36mfunc_graph_from_py_func\u001b[0;34m(name, python_func, args, kwargs, signature, func_graph, autograph, autograph_options, add_control_dependencies, arg_names, op_return_value, collections, capture_by_value, override_flat_arg_shapes)\u001b[0m\n\u001b[1;32m    984\u001b[0m         \u001b[0m_\u001b[0m\u001b[0;34m,\u001b[0m \u001b[0moriginal_func\u001b[0m \u001b[0;34m=\u001b[0m \u001b[0mtf_decorator\u001b[0m\u001b[0;34m.\u001b[0m\u001b[0munwrap\u001b[0m\u001b[0;34m(\u001b[0m\u001b[0mpython_func\u001b[0m\u001b[0;34m)\u001b[0m\u001b[0;34m\u001b[0m\u001b[0;34m\u001b[0m\u001b[0m\n\u001b[1;32m    985\u001b[0m \u001b[0;34m\u001b[0m\u001b[0m\n\u001b[0;32m--> 986\u001b[0;31m       \u001b[0mfunc_outputs\u001b[0m \u001b[0;34m=\u001b[0m \u001b[0mpython_func\u001b[0m\u001b[0;34m(\u001b[0m\u001b[0;34m*\u001b[0m\u001b[0mfunc_args\u001b[0m\u001b[0;34m,\u001b[0m \u001b[0;34m**\u001b[0m\u001b[0mfunc_kwargs\u001b[0m\u001b[0;34m)\u001b[0m\u001b[0;34m\u001b[0m\u001b[0;34m\u001b[0m\u001b[0m\n\u001b[0m\u001b[1;32m    987\u001b[0m \u001b[0;34m\u001b[0m\u001b[0m\n\u001b[1;32m    988\u001b[0m       \u001b[0;31m# invariant: `func_outputs` contains only Tensors, CompositeTensors,\u001b[0m\u001b[0;34m\u001b[0m\u001b[0;34m\u001b[0m\u001b[0;34m\u001b[0m\u001b[0m\n",
            "\u001b[0;32m/usr/local/lib/python3.6/dist-packages/tensorflow/python/eager/def_function.py\u001b[0m in \u001b[0;36mwrapped_fn\u001b[0;34m(*args, **kwds)\u001b[0m\n\u001b[1;32m    598\u001b[0m         \u001b[0;31m# __wrapped__ allows AutoGraph to swap in a converted function. We give\u001b[0m\u001b[0;34m\u001b[0m\u001b[0;34m\u001b[0m\u001b[0;34m\u001b[0m\u001b[0m\n\u001b[1;32m    599\u001b[0m         \u001b[0;31m# the function a weak reference to itself to avoid a reference cycle.\u001b[0m\u001b[0;34m\u001b[0m\u001b[0;34m\u001b[0m\u001b[0;34m\u001b[0m\u001b[0m\n\u001b[0;32m--> 600\u001b[0;31m         \u001b[0;32mreturn\u001b[0m \u001b[0mweak_wrapped_fn\u001b[0m\u001b[0;34m(\u001b[0m\u001b[0;34m)\u001b[0m\u001b[0;34m.\u001b[0m\u001b[0m__wrapped__\u001b[0m\u001b[0;34m(\u001b[0m\u001b[0;34m*\u001b[0m\u001b[0margs\u001b[0m\u001b[0;34m,\u001b[0m \u001b[0;34m**\u001b[0m\u001b[0mkwds\u001b[0m\u001b[0;34m)\u001b[0m\u001b[0;34m\u001b[0m\u001b[0;34m\u001b[0m\u001b[0m\n\u001b[0m\u001b[1;32m    601\u001b[0m     \u001b[0mweak_wrapped_fn\u001b[0m \u001b[0;34m=\u001b[0m \u001b[0mweakref\u001b[0m\u001b[0;34m.\u001b[0m\u001b[0mref\u001b[0m\u001b[0;34m(\u001b[0m\u001b[0mwrapped_fn\u001b[0m\u001b[0;34m)\u001b[0m\u001b[0;34m\u001b[0m\u001b[0;34m\u001b[0m\u001b[0m\n\u001b[1;32m    602\u001b[0m \u001b[0;34m\u001b[0m\u001b[0m\n",
            "\u001b[0;32m/usr/local/lib/python3.6/dist-packages/tensorflow/python/framework/func_graph.py\u001b[0m in \u001b[0;36mwrapper\u001b[0;34m(*args, **kwargs)\u001b[0m\n\u001b[1;32m    971\u001b[0m           \u001b[0;32mexcept\u001b[0m \u001b[0mException\u001b[0m \u001b[0;32mas\u001b[0m \u001b[0me\u001b[0m\u001b[0;34m:\u001b[0m  \u001b[0;31m# pylint:disable=broad-except\u001b[0m\u001b[0;34m\u001b[0m\u001b[0;34m\u001b[0m\u001b[0m\n\u001b[1;32m    972\u001b[0m             \u001b[0;32mif\u001b[0m \u001b[0mhasattr\u001b[0m\u001b[0;34m(\u001b[0m\u001b[0me\u001b[0m\u001b[0;34m,\u001b[0m \u001b[0;34m\"ag_error_metadata\"\u001b[0m\u001b[0;34m)\u001b[0m\u001b[0;34m:\u001b[0m\u001b[0;34m\u001b[0m\u001b[0;34m\u001b[0m\u001b[0m\n\u001b[0;32m--> 973\u001b[0;31m               \u001b[0;32mraise\u001b[0m \u001b[0me\u001b[0m\u001b[0;34m.\u001b[0m\u001b[0mag_error_metadata\u001b[0m\u001b[0;34m.\u001b[0m\u001b[0mto_exception\u001b[0m\u001b[0;34m(\u001b[0m\u001b[0me\u001b[0m\u001b[0;34m)\u001b[0m\u001b[0;34m\u001b[0m\u001b[0;34m\u001b[0m\u001b[0m\n\u001b[0m\u001b[1;32m    974\u001b[0m             \u001b[0;32melse\u001b[0m\u001b[0;34m:\u001b[0m\u001b[0;34m\u001b[0m\u001b[0;34m\u001b[0m\u001b[0m\n\u001b[1;32m    975\u001b[0m               \u001b[0;32mraise\u001b[0m\u001b[0;34m\u001b[0m\u001b[0;34m\u001b[0m\u001b[0m\n",
            "\u001b[0;31mValueError\u001b[0m: in user code:\n\n    /usr/local/lib/python3.6/dist-packages/tensorflow/python/keras/engine/training.py:806 train_function  *\n        return step_function(self, iterator)\n    /usr/local/lib/python3.6/dist-packages/tensorflow/python/keras/engine/training.py:796 step_function  **\n        outputs = model.distribute_strategy.run(run_step, args=(data,))\n    /usr/local/lib/python3.6/dist-packages/tensorflow/python/distribute/distribute_lib.py:1211 run\n        return self._extended.call_for_each_replica(fn, args=args, kwargs=kwargs)\n    /usr/local/lib/python3.6/dist-packages/tensorflow/python/distribute/distribute_lib.py:2585 call_for_each_replica\n        return self._call_for_each_replica(fn, args, kwargs)\n    /usr/local/lib/python3.6/dist-packages/tensorflow/python/distribute/distribute_lib.py:2945 _call_for_each_replica\n        return fn(*args, **kwargs)\n    /usr/local/lib/python3.6/dist-packages/tensorflow/python/keras/engine/training.py:789 run_step  **\n        outputs = model.train_step(data)\n    /usr/local/lib/python3.6/dist-packages/tensorflow/python/keras/engine/training.py:759 train_step\n        self.compiled_metrics.update_state(y, y_pred, sample_weight)\n    /usr/local/lib/python3.6/dist-packages/tensorflow/python/keras/engine/compile_utils.py:388 update_state\n        self.build(y_pred, y_true)\n    /usr/local/lib/python3.6/dist-packages/tensorflow/python/keras/engine/compile_utils.py:319 build\n        self._metrics, y_true, y_pred)\n    /usr/local/lib/python3.6/dist-packages/tensorflow/python/util/nest.py:1139 map_structure_up_to\n        **kwargs)\n    /usr/local/lib/python3.6/dist-packages/tensorflow/python/util/nest.py:1235 map_structure_with_tuple_paths_up_to\n        *flat_value_lists)]\n    /usr/local/lib/python3.6/dist-packages/tensorflow/python/util/nest.py:1234 <listcomp>\n        results = [func(*args, **kwargs) for args in zip(flat_path_list,\n    /usr/local/lib/python3.6/dist-packages/tensorflow/python/util/nest.py:1137 <lambda>\n        lambda _, *values: func(*values),  # Discards the path arg.\n    /usr/local/lib/python3.6/dist-packages/tensorflow/python/keras/engine/compile_utils.py:419 _get_metric_objects\n        return [self._get_metric_object(m, y_t, y_p) for m in metrics]\n    /usr/local/lib/python3.6/dist-packages/tensorflow/python/keras/engine/compile_utils.py:419 <listcomp>\n        return [self._get_metric_object(m, y_t, y_p) for m in metrics]\n    /usr/local/lib/python3.6/dist-packages/tensorflow/python/keras/engine/compile_utils.py:438 _get_metric_object\n        metric_obj = metrics_mod.get(metric)\n    /usr/local/lib/python3.6/dist-packages/tensorflow/python/keras/metrics.py:3483 get\n        return deserialize(str(identifier))\n    /usr/local/lib/python3.6/dist-packages/tensorflow/python/keras/metrics.py:3443 deserialize\n        printable_module_name='metric function')\n    /usr/local/lib/python3.6/dist-packages/tensorflow/python/keras/utils/generic_utils.py:378 deserialize_keras_object\n        'Unknown ' + printable_module_name + ': ' + object_name)\n\n    ValueError: Unknown metric function: r2\n"
          ]
        }
      ]
    },
    {
      "cell_type": "code",
      "metadata": {
        "id": "Hn9vo07Kbf0E",
        "colab": {
          "base_uri": "https://localhost:8080/",
          "height": 50
        },
        "outputId": "a88d74e7-8699-4810-82db-df7e5d7832b1"
      },
      "source": [
        "from sklearn.metrics import mean_squared_error, r2_score, mean_absolute_error\n",
        "predictions_NN_model = NN_model.predict(X_test)\n",
        "\n",
        "R2_score = r2_score(y_test , predictions_NN_model)\n",
        "MAE = mean_absolute_error(y_test , predictions_NN_model)\n",
        "print('R2_score = ',R2_score)\n",
        "print('MAE = ',MAE)\n"
      ],
      "execution_count": null,
      "outputs": [
        {
          "output_type": "stream",
          "text": [
            "R2_score =  0.8813261129413127\n",
            "MAE =  0.04713472002011934\n"
          ],
          "name": "stdout"
        }
      ]
    },
    {
      "cell_type": "markdown",
      "metadata": {
        "id": "iBOEeoARfPE1"
      },
      "source": [
        "#### Let's try K-Fold cross validation on NN"
      ]
    },
    {
      "cell_type": "code",
      "metadata": {
        "id": "lXWmpmivgylu"
      },
      "source": [
        "X = experimental_data.iloc[:,0:9]\n",
        "Y_explabel = experimental_data.iloc[:,9]\n",
        "Y_theorylabel = experimental_data.iloc[:,10]\n",
        "\n",
        "#print(experimental_data)\n",
        "#print(Y_explabel)\n",
        "#print(Y_theorylabel)"
      ],
      "execution_count": null,
      "outputs": []
    },
    {
      "cell_type": "code",
      "metadata": {
        "id": "6QyLCjHeby_g"
      },
      "source": [
        "from sklearn.model_selection import KFold\n",
        "# prepare the cross-validation procedure\n",
        "fold = KFold(n_splits = 10, shuffle = True, random_state = 100)"
      ],
      "execution_count": null,
      "outputs": []
    },
    {
      "cell_type": "code",
      "metadata": {
        "id": "mQ8NQ-jzgoEd",
        "colab": {
          "base_uri": "https://localhost:8080/",
          "height": 426
        },
        "outputId": "e49e7582-858e-4ab6-999a-6af3b81ea3ac"
      },
      "source": [
        "from sklearn.model_selection import cross_val_score\n",
        "# evaluate model\n",
        "scores = cross_val_score(NN_model, X, Y_explabel, scoring='neg_mean_absolute_error', cv=fold)\n",
        "# report performance\n",
        "\n",
        "from numpy import mean\n",
        "from numpy import std\n",
        "print('Accuracy: %.3f (%.3f)' % (mean(scores), std(scores)))"
      ],
      "execution_count": null,
      "outputs": [
        {
          "output_type": "error",
          "ename": "TypeError",
          "evalue": "ignored",
          "traceback": [
            "\u001b[0;31m---------------------------------------------------------------------------\u001b[0m",
            "\u001b[0;31mEmpty\u001b[0m                                     Traceback (most recent call last)",
            "\u001b[0;32m/usr/local/lib/python3.6/dist-packages/joblib/parallel.py\u001b[0m in \u001b[0;36mdispatch_one_batch\u001b[0;34m(self, iterator)\u001b[0m\n\u001b[1;32m    807\u001b[0m             \u001b[0;32mtry\u001b[0m\u001b[0;34m:\u001b[0m\u001b[0;34m\u001b[0m\u001b[0;34m\u001b[0m\u001b[0m\n\u001b[0;32m--> 808\u001b[0;31m                 \u001b[0mtasks\u001b[0m \u001b[0;34m=\u001b[0m \u001b[0mself\u001b[0m\u001b[0;34m.\u001b[0m\u001b[0m_ready_batches\u001b[0m\u001b[0;34m.\u001b[0m\u001b[0mget\u001b[0m\u001b[0;34m(\u001b[0m\u001b[0mblock\u001b[0m\u001b[0;34m=\u001b[0m\u001b[0;32mFalse\u001b[0m\u001b[0;34m)\u001b[0m\u001b[0;34m\u001b[0m\u001b[0;34m\u001b[0m\u001b[0m\n\u001b[0m\u001b[1;32m    809\u001b[0m             \u001b[0;32mexcept\u001b[0m \u001b[0mqueue\u001b[0m\u001b[0;34m.\u001b[0m\u001b[0mEmpty\u001b[0m\u001b[0;34m:\u001b[0m\u001b[0;34m\u001b[0m\u001b[0;34m\u001b[0m\u001b[0m\n",
            "\u001b[0;32m/usr/lib/python3.6/queue.py\u001b[0m in \u001b[0;36mget\u001b[0;34m(self, block, timeout)\u001b[0m\n\u001b[1;32m    160\u001b[0m                 \u001b[0;32mif\u001b[0m \u001b[0;32mnot\u001b[0m \u001b[0mself\u001b[0m\u001b[0;34m.\u001b[0m\u001b[0m_qsize\u001b[0m\u001b[0;34m(\u001b[0m\u001b[0;34m)\u001b[0m\u001b[0;34m:\u001b[0m\u001b[0;34m\u001b[0m\u001b[0;34m\u001b[0m\u001b[0m\n\u001b[0;32m--> 161\u001b[0;31m                     \u001b[0;32mraise\u001b[0m \u001b[0mEmpty\u001b[0m\u001b[0;34m\u001b[0m\u001b[0;34m\u001b[0m\u001b[0m\n\u001b[0m\u001b[1;32m    162\u001b[0m             \u001b[0;32melif\u001b[0m \u001b[0mtimeout\u001b[0m \u001b[0;32mis\u001b[0m \u001b[0;32mNone\u001b[0m\u001b[0;34m:\u001b[0m\u001b[0;34m\u001b[0m\u001b[0;34m\u001b[0m\u001b[0m\n",
            "\u001b[0;31mEmpty\u001b[0m: ",
            "\nDuring handling of the above exception, another exception occurred:\n",
            "\u001b[0;31mTypeError\u001b[0m                                 Traceback (most recent call last)",
            "\u001b[0;32m<ipython-input-37-f385f48f73a1>\u001b[0m in \u001b[0;36m<module>\u001b[0;34m()\u001b[0m\n\u001b[1;32m      1\u001b[0m \u001b[0;32mfrom\u001b[0m \u001b[0msklearn\u001b[0m\u001b[0;34m.\u001b[0m\u001b[0mmodel_selection\u001b[0m \u001b[0;32mimport\u001b[0m \u001b[0mcross_val_score\u001b[0m\u001b[0;34m\u001b[0m\u001b[0;34m\u001b[0m\u001b[0m\n\u001b[1;32m      2\u001b[0m \u001b[0;31m# evaluate model\u001b[0m\u001b[0;34m\u001b[0m\u001b[0;34m\u001b[0m\u001b[0;34m\u001b[0m\u001b[0m\n\u001b[0;32m----> 3\u001b[0;31m \u001b[0mscores\u001b[0m \u001b[0;34m=\u001b[0m \u001b[0mcross_val_score\u001b[0m\u001b[0;34m(\u001b[0m\u001b[0mNN_model\u001b[0m\u001b[0;34m,\u001b[0m \u001b[0mX\u001b[0m\u001b[0;34m,\u001b[0m \u001b[0mY_explabel\u001b[0m\u001b[0;34m,\u001b[0m \u001b[0mscoring\u001b[0m\u001b[0;34m=\u001b[0m\u001b[0;34m'neg_mean_absolute_error'\u001b[0m\u001b[0;34m,\u001b[0m \u001b[0mcv\u001b[0m\u001b[0;34m=\u001b[0m\u001b[0mfold\u001b[0m\u001b[0;34m)\u001b[0m\u001b[0;34m\u001b[0m\u001b[0;34m\u001b[0m\u001b[0m\n\u001b[0m\u001b[1;32m      4\u001b[0m \u001b[0;31m# report performance\u001b[0m\u001b[0;34m\u001b[0m\u001b[0;34m\u001b[0m\u001b[0;34m\u001b[0m\u001b[0m\n\u001b[1;32m      5\u001b[0m \u001b[0;34m\u001b[0m\u001b[0m\n",
            "\u001b[0;32m/usr/local/lib/python3.6/dist-packages/sklearn/model_selection/_validation.py\u001b[0m in \u001b[0;36mcross_val_score\u001b[0;34m(estimator, X, y, groups, scoring, cv, n_jobs, verbose, fit_params, pre_dispatch, error_score)\u001b[0m\n\u001b[1;32m    388\u001b[0m                                 \u001b[0mfit_params\u001b[0m\u001b[0;34m=\u001b[0m\u001b[0mfit_params\u001b[0m\u001b[0;34m,\u001b[0m\u001b[0;34m\u001b[0m\u001b[0;34m\u001b[0m\u001b[0m\n\u001b[1;32m    389\u001b[0m                                 \u001b[0mpre_dispatch\u001b[0m\u001b[0;34m=\u001b[0m\u001b[0mpre_dispatch\u001b[0m\u001b[0;34m,\u001b[0m\u001b[0;34m\u001b[0m\u001b[0;34m\u001b[0m\u001b[0m\n\u001b[0;32m--> 390\u001b[0;31m                                 error_score=error_score)\n\u001b[0m\u001b[1;32m    391\u001b[0m     \u001b[0;32mreturn\u001b[0m \u001b[0mcv_results\u001b[0m\u001b[0;34m[\u001b[0m\u001b[0;34m'test_score'\u001b[0m\u001b[0;34m]\u001b[0m\u001b[0;34m\u001b[0m\u001b[0;34m\u001b[0m\u001b[0m\n\u001b[1;32m    392\u001b[0m \u001b[0;34m\u001b[0m\u001b[0m\n",
            "\u001b[0;32m/usr/local/lib/python3.6/dist-packages/sklearn/model_selection/_validation.py\u001b[0m in \u001b[0;36mcross_validate\u001b[0;34m(estimator, X, y, groups, scoring, cv, n_jobs, verbose, fit_params, pre_dispatch, return_train_score, return_estimator, error_score)\u001b[0m\n\u001b[1;32m    234\u001b[0m             \u001b[0mreturn_times\u001b[0m\u001b[0;34m=\u001b[0m\u001b[0;32mTrue\u001b[0m\u001b[0;34m,\u001b[0m \u001b[0mreturn_estimator\u001b[0m\u001b[0;34m=\u001b[0m\u001b[0mreturn_estimator\u001b[0m\u001b[0;34m,\u001b[0m\u001b[0;34m\u001b[0m\u001b[0;34m\u001b[0m\u001b[0m\n\u001b[1;32m    235\u001b[0m             error_score=error_score)\n\u001b[0;32m--> 236\u001b[0;31m         for train, test in cv.split(X, y, groups))\n\u001b[0m\u001b[1;32m    237\u001b[0m \u001b[0;34m\u001b[0m\u001b[0m\n\u001b[1;32m    238\u001b[0m     \u001b[0mzipped_scores\u001b[0m \u001b[0;34m=\u001b[0m \u001b[0mlist\u001b[0m\u001b[0;34m(\u001b[0m\u001b[0mzip\u001b[0m\u001b[0;34m(\u001b[0m\u001b[0;34m*\u001b[0m\u001b[0mscores\u001b[0m\u001b[0;34m)\u001b[0m\u001b[0;34m)\u001b[0m\u001b[0;34m\u001b[0m\u001b[0;34m\u001b[0m\u001b[0m\n",
            "\u001b[0;32m/usr/local/lib/python3.6/dist-packages/joblib/parallel.py\u001b[0m in \u001b[0;36m__call__\u001b[0;34m(self, iterable)\u001b[0m\n\u001b[1;32m   1027\u001b[0m             \u001b[0;31m# remaining jobs.\u001b[0m\u001b[0;34m\u001b[0m\u001b[0;34m\u001b[0m\u001b[0;34m\u001b[0m\u001b[0m\n\u001b[1;32m   1028\u001b[0m             \u001b[0mself\u001b[0m\u001b[0;34m.\u001b[0m\u001b[0m_iterating\u001b[0m \u001b[0;34m=\u001b[0m \u001b[0;32mFalse\u001b[0m\u001b[0;34m\u001b[0m\u001b[0;34m\u001b[0m\u001b[0m\n\u001b[0;32m-> 1029\u001b[0;31m             \u001b[0;32mif\u001b[0m \u001b[0mself\u001b[0m\u001b[0;34m.\u001b[0m\u001b[0mdispatch_one_batch\u001b[0m\u001b[0;34m(\u001b[0m\u001b[0miterator\u001b[0m\u001b[0;34m)\u001b[0m\u001b[0;34m:\u001b[0m\u001b[0;34m\u001b[0m\u001b[0;34m\u001b[0m\u001b[0m\n\u001b[0m\u001b[1;32m   1030\u001b[0m                 \u001b[0mself\u001b[0m\u001b[0;34m.\u001b[0m\u001b[0m_iterating\u001b[0m \u001b[0;34m=\u001b[0m \u001b[0mself\u001b[0m\u001b[0;34m.\u001b[0m\u001b[0m_original_iterator\u001b[0m \u001b[0;32mis\u001b[0m \u001b[0;32mnot\u001b[0m \u001b[0;32mNone\u001b[0m\u001b[0;34m\u001b[0m\u001b[0;34m\u001b[0m\u001b[0m\n\u001b[1;32m   1031\u001b[0m \u001b[0;34m\u001b[0m\u001b[0m\n",
            "\u001b[0;32m/usr/local/lib/python3.6/dist-packages/joblib/parallel.py\u001b[0m in \u001b[0;36mdispatch_one_batch\u001b[0;34m(self, iterator)\u001b[0m\n\u001b[1;32m    817\u001b[0m                 \u001b[0mbig_batch_size\u001b[0m \u001b[0;34m=\u001b[0m \u001b[0mbatch_size\u001b[0m \u001b[0;34m*\u001b[0m \u001b[0mn_jobs\u001b[0m\u001b[0;34m\u001b[0m\u001b[0;34m\u001b[0m\u001b[0m\n\u001b[1;32m    818\u001b[0m \u001b[0;34m\u001b[0m\u001b[0m\n\u001b[0;32m--> 819\u001b[0;31m                 \u001b[0mislice\u001b[0m \u001b[0;34m=\u001b[0m \u001b[0mlist\u001b[0m\u001b[0;34m(\u001b[0m\u001b[0mitertools\u001b[0m\u001b[0;34m.\u001b[0m\u001b[0mislice\u001b[0m\u001b[0;34m(\u001b[0m\u001b[0miterator\u001b[0m\u001b[0;34m,\u001b[0m \u001b[0mbig_batch_size\u001b[0m\u001b[0;34m)\u001b[0m\u001b[0;34m)\u001b[0m\u001b[0;34m\u001b[0m\u001b[0;34m\u001b[0m\u001b[0m\n\u001b[0m\u001b[1;32m    820\u001b[0m                 \u001b[0;32mif\u001b[0m \u001b[0mlen\u001b[0m\u001b[0;34m(\u001b[0m\u001b[0mislice\u001b[0m\u001b[0;34m)\u001b[0m \u001b[0;34m==\u001b[0m \u001b[0;36m0\u001b[0m\u001b[0;34m:\u001b[0m\u001b[0;34m\u001b[0m\u001b[0;34m\u001b[0m\u001b[0m\n\u001b[1;32m    821\u001b[0m                     \u001b[0;32mreturn\u001b[0m \u001b[0;32mFalse\u001b[0m\u001b[0;34m\u001b[0m\u001b[0;34m\u001b[0m\u001b[0m\n",
            "\u001b[0;32m/usr/local/lib/python3.6/dist-packages/sklearn/model_selection/_validation.py\u001b[0m in \u001b[0;36m<genexpr>\u001b[0;34m(.0)\u001b[0m\n\u001b[1;32m    234\u001b[0m             \u001b[0mreturn_times\u001b[0m\u001b[0;34m=\u001b[0m\u001b[0;32mTrue\u001b[0m\u001b[0;34m,\u001b[0m \u001b[0mreturn_estimator\u001b[0m\u001b[0;34m=\u001b[0m\u001b[0mreturn_estimator\u001b[0m\u001b[0;34m,\u001b[0m\u001b[0;34m\u001b[0m\u001b[0;34m\u001b[0m\u001b[0m\n\u001b[1;32m    235\u001b[0m             error_score=error_score)\n\u001b[0;32m--> 236\u001b[0;31m         for train, test in cv.split(X, y, groups))\n\u001b[0m\u001b[1;32m    237\u001b[0m \u001b[0;34m\u001b[0m\u001b[0m\n\u001b[1;32m    238\u001b[0m     \u001b[0mzipped_scores\u001b[0m \u001b[0;34m=\u001b[0m \u001b[0mlist\u001b[0m\u001b[0;34m(\u001b[0m\u001b[0mzip\u001b[0m\u001b[0;34m(\u001b[0m\u001b[0;34m*\u001b[0m\u001b[0mscores\u001b[0m\u001b[0;34m)\u001b[0m\u001b[0;34m)\u001b[0m\u001b[0;34m\u001b[0m\u001b[0;34m\u001b[0m\u001b[0m\n",
            "\u001b[0;32m/usr/local/lib/python3.6/dist-packages/sklearn/base.py\u001b[0m in \u001b[0;36mclone\u001b[0;34m(estimator, safe)\u001b[0m\n\u001b[1;32m     65\u001b[0m                             \u001b[0;34m\"it does not seem to be a scikit-learn estimator \"\u001b[0m\u001b[0;34m\u001b[0m\u001b[0;34m\u001b[0m\u001b[0m\n\u001b[1;32m     66\u001b[0m                             \u001b[0;34m\"as it does not implement a 'get_params' methods.\"\u001b[0m\u001b[0;34m\u001b[0m\u001b[0;34m\u001b[0m\u001b[0m\n\u001b[0;32m---> 67\u001b[0;31m                             % (repr(estimator), type(estimator)))\n\u001b[0m\u001b[1;32m     68\u001b[0m     \u001b[0mklass\u001b[0m \u001b[0;34m=\u001b[0m \u001b[0mestimator\u001b[0m\u001b[0;34m.\u001b[0m\u001b[0m__class__\u001b[0m\u001b[0;34m\u001b[0m\u001b[0;34m\u001b[0m\u001b[0m\n\u001b[1;32m     69\u001b[0m     \u001b[0mnew_object_params\u001b[0m \u001b[0;34m=\u001b[0m \u001b[0mestimator\u001b[0m\u001b[0;34m.\u001b[0m\u001b[0mget_params\u001b[0m\u001b[0;34m(\u001b[0m\u001b[0mdeep\u001b[0m\u001b[0;34m=\u001b[0m\u001b[0;32mFalse\u001b[0m\u001b[0;34m)\u001b[0m\u001b[0;34m\u001b[0m\u001b[0;34m\u001b[0m\u001b[0m\n",
            "\u001b[0;31mTypeError\u001b[0m: Cannot clone object '<tensorflow.python.keras.engine.sequential.Sequential object at 0x7f42745077f0>' (type <class 'tensorflow.python.keras.engine.sequential.Sequential'>): it does not seem to be a scikit-learn estimator as it does not implement a 'get_params' methods."
          ]
        }
      ]
    },
    {
      "cell_type": "markdown",
      "metadata": {
        "id": "2fy7aWAukl2W"
      },
      "source": [
        "### Regression with a fixed test set (30%) and varying training set"
      ]
    },
    {
      "cell_type": "code",
      "metadata": {
        "id": "FfltMBuMg3Oe",
        "colab": {
          "base_uri": "https://localhost:8080/"
        },
        "outputId": "6622cbaa-88d6-4e1b-ef73-742350cc7b85"
      },
      "source": [
        "n_simulated =  0   \n",
        "n_experiment = 0.7 \n",
        "\n",
        "\n",
        "frame = [Shuffled_simulated_data.iloc[0: int(Simulated_data_row*n_simulated),:], Shuffled_experimental_data.iloc[0: int(Exp_data_row*n_experiment),0:10]]\n",
        "Concatenated_data = pd.concat(frame,ignore_index=True,axis = 0)\n",
        "\n",
        "Tst_set = Shuffled_experimental_data.iloc[int(Exp_data_row*n_experiment):1000,0:10]\n",
        "Test_set = Tst_set.reset_index(drop=True)\n",
        "\n",
        "\n",
        "print('First two rows of the training dataset\\n',Concatenated_data.iloc[0:2,:])\n",
        "print('\\nShape of the training dataset = ', Concatenated_data.shape)\n",
        "\n",
        "print('\\nFirst two rows of the test dataset\\n', Test_set.iloc[0:2,:])\n",
        "print('\\nShape of the test dataset = ', Test_set.shape)"
      ],
      "execution_count": null,
      "outputs": [
        {
          "output_type": "stream",
          "text": [
            "First two rows of the training dataset\n",
            "          0         1        2       3  ...        6         7        8        9\n",
            "0  0.31022 -0.130410 -0.92070  0.2266  ... -0.17288 -0.051216  0.96937  0.96381\n",
            "1  0.30986 -0.075701 -0.88238  0.5020  ... -0.17710 -0.044683  0.98325  0.92536\n",
            "\n",
            "[2 rows x 10 columns]\n",
            "\n",
            "Shape of the training dataset =  (700, 10)\n",
            "\n",
            "First two rows of the test dataset\n",
            "          0         1        2        3  ...         6         7        8        9\n",
            "0  0.29936 -0.072687 -0.84203  0.27257  ... -0.214320 -0.033889  0.92509  0.69827\n",
            "1  0.32097 -0.076999 -0.83218  0.11611  ... -0.094798 -0.202410  0.93217  0.55731\n",
            "\n",
            "[2 rows x 10 columns]\n",
            "\n",
            "Shape of the test dataset =  (300, 10)\n"
          ],
          "name": "stdout"
        }
      ]
    },
    {
      "cell_type": "markdown",
      "metadata": {
        "id": "3eRGzRdFtE2m"
      },
      "source": [
        "### Randomly choose a certain percentage from the training data"
      ]
    },
    {
      "cell_type": "code",
      "metadata": {
        "id": "6yeNa8UYsZij",
        "colab": {
          "base_uri": "https://localhost:8080/",
          "height": 265
        },
        "outputId": "ceb174dd-dbd0-4459-bb33-b867940f197e"
      },
      "source": [
        "Train_percent = 100/100\n",
        "fraction_of_rows = Concatenated_data.sample(frac=Train_percent,random_state=2)\n",
        "fraction_of_rows = fraction_of_rows.reset_index(drop=True)\n",
        "labels = fraction_of_rows.iloc[:,9]\n",
        "hist = labels.hist(bins=3)\n",
        "#print(fraction_of_rows)\n",
        "#print(labels)\n"
      ],
      "execution_count": null,
      "outputs": [
        {
          "output_type": "display_data",
          "data": {
            "image/png": "[encoded data removed]",
            "text/plain": [
              "<Figure size 432x288 with 1 Axes>"
            ]
          },
          "metadata": {
            "tags": [],
            "needs_background": "light"
          }
        }
      ]
    },
    {
      "cell_type": "code",
      "metadata": {
        "id": "yxaBr9ZTt6Rv"
      },
      "source": [
        "X_train = fraction_of_rows.iloc[:,0:9].values\n",
        "y_train = fraction_of_rows.iloc[:,-1].values\n",
        "\n",
        "X_test = Test_set.iloc[:,0:9].values\n",
        "y_test = Test_set.iloc[:,-1].values"
      ],
      "execution_count": null,
      "outputs": []
    },
    {
      "cell_type": "code",
      "metadata": {
        "id": "1VcKhdBqvAy4"
      },
      "source": [
        "from sklearn.metrics import mean_squared_error, r2_score\n",
        "from sklearn.preprocessing import PolynomialFeatures\n",
        "\n",
        "polynomial_features= PolynomialFeatures(degree=2)\n",
        "\n",
        "x_poly_train = polynomial_features.fit_transform(X_train)\n",
        "x_poly_test = polynomial_features.fit_transform(X_test)"
      ],
      "execution_count": null,
      "outputs": []
    },
    {
      "cell_type": "code",
      "metadata": {
        "id": "KpegTjXGuluK",
        "colab": {
          "base_uri": "https://localhost:8080/",
          "height": 330
        },
        "outputId": "cf88f97a-b973-4ec2-e217-20b93912938c"
      },
      "source": [
        "model_poly = LinearRegression()\n",
        "model_poly.fit(x_poly_train, y_train)\n",
        "predictions1 = model_poly.predict(x_poly_train)\n",
        "predictions2 = model_poly.predict(x_poly_test)\n",
        "fig = plt.scatter(y_test,predictions2)\n",
        "#plt.savefig('test.pdf')\n",
        "\n",
        "mae_2 = metrics.mean_absolute_error(y_test,predictions2)\n",
        "mse_2 = metrics.mean_squared_error(y_test,predictions2)\n",
        "rmse_2 = np.sqrt(metrics.mean_squared_error(y_test,predictions2))\n",
        "mae_2_train = metrics.mean_absolute_error(y_train,predictions1)\n",
        "r2_2_train = r2_score(y_train,predictions1)\n",
        "r2_2 = r2_score(y_test,predictions2)  \n",
        "print(r2_2)\n",
        "print(mae_2)\n",
        "print(r2_2_train)\n",
        "print(mae_2_train)\n",
        "\n",
        "\n"
      ],
      "execution_count": null,
      "outputs": [
        {
          "output_type": "stream",
          "text": [
            "0.8924814002375309\n",
            "0.04541163473157576\n",
            "0.9152024825281871\n",
            "0.042553860224725404\n"
          ],
          "name": "stdout"
        },
        {
          "output_type": "display_data",
          "data": {
            "image/png": "[encoded data removed]",
            "text/plain": [
              "<Figure size 432x288 with 1 Axes>"
            ]
          },
          "metadata": {
            "tags": [],
            "needs_background": "light"
          }
        }
      ]
    },
    {
      "cell_type": "code",
      "metadata": {
        "id": "Giw6TT6dut4S",
        "colab": {
          "base_uri": "https://localhost:8080/"
        },
        "outputId": "e605cee3-a142-4a60-d0f1-e77bca2d30d2"
      },
      "source": [
        "p1 = np.random.rand(1,1000);\n",
        "p2 = np.random.rand(1,1000);\n",
        "p3 = np.random.rand(1,1000);\n",
        "p4 = np.random.rand(1,1000);\n",
        "\n",
        "S = p1 + p2 + p3 + p4 \n",
        "\n",
        "p1 = p1*np.reciprocal(S)\n",
        "p2 = p2*np.reciprocal(S)\n",
        "p3 = p3*np.reciprocal(S)\n",
        "p4 = p4*np.reciprocal(S)\n",
        "\n",
        "h = -1*(p1*np.log2(p1) + p2*np.log2(p2) + p3*np.log2(p3) + p4*np.log2(p4))\n",
        "\n",
        "p1.shape"
      ],
      "execution_count": null,
      "outputs": [
        {
          "output_type": "execute_result",
          "data": {
            "text/plain": [
              "(1, 1000)"
            ]
          },
          "metadata": {
            "tags": []
          },
          "execution_count": 134
        }
      ]
    },
    {
      "cell_type": "code",
      "metadata": {
        "colab": {
          "base_uri": "https://localhost:8080/"
        },
        "id": "gUOXTEKVJY7A",
        "outputId": "54e93080-86a8-4568-c4bd-ded3d1828ac1"
      },
      "source": [
        "import pandas as pd\n",
        "import numpy as np\n",
        "p11 = np.array(p1.T)\n",
        "p21 = np.array(p2.T)\n",
        "p31 = np.array(p3.T)\n",
        "p41 = np.array(p4.T)\n",
        "label = np.array(h.T)\n",
        "dataset = pd.DataFrame(np.hstack((p11, p21, p31, p41, label)))\n",
        "\n",
        "#print(dataset.head())\n",
        "\n",
        "X = dataset.iloc[:,0:4].values\n",
        "Y = dataset.iloc[:,-1].values\n",
        "\n",
        "X.shape\n"
      ],
      "execution_count": null,
      "outputs": [
        {
          "output_type": "execute_result",
          "data": {
            "text/plain": [
              "(1000, 4)"
            ]
          },
          "metadata": {
            "tags": []
          },
          "execution_count": 135
        }
      ]
    },
    {
      "cell_type": "code",
      "metadata": {
        "colab": {
          "base_uri": "https://localhost:8080/"
        },
        "id": "IvDcqUrKJj3I",
        "outputId": "b3951e6b-91fc-4e74-bd81-bb26564b07a2"
      },
      "source": [
        "from sklearn.model_selection import train_test_split\n",
        "\n",
        "#X_train, X_test, y_train, y_test = train_test_split(Shuffled_simulated_data.iloc[:,[2,5,8]].values, Shuffled_simulated_data.iloc[:,-1].values, test_size=0.33, random_state=42)\n",
        "\n",
        "X_train, X_test, y_train, y_test = train_test_split(X, Y, test_size=0.33, random_state=42)\n",
        "\n",
        "\n",
        "\n",
        "\n",
        "print('First two rows of the training dataset\\n',X_train[0:2,:])\n",
        "print('\\nShape of the training dataset = ', X_train.shape)\n",
        "\n",
        "print('\\nFirst two rows of the test dataset\\n', X_test[0:2,:])\n",
        "print('\\nShape of the test dataset = ', X_test.shape)"
      ],
      "execution_count": null,
      "outputs": [
        {
          "output_type": "stream",
          "text": [
            "First two rows of the training dataset\n",
            " [[0.35468744 0.19895912 0.44557186 0.00078158]\n",
            " [0.15668641 0.51742712 0.11421505 0.21167143]]\n",
            "\n",
            "Shape of the training dataset =  (670, 4)\n",
            "\n",
            "First two rows of the test dataset\n",
            " [[0.33031701 0.19133207 0.15498303 0.32336789]\n",
            " [0.25089215 0.40971124 0.2123969  0.12699971]]\n",
            "\n",
            "Shape of the test dataset =  (330, 4)\n"
          ],
          "name": "stdout"
        }
      ]
    },
    {
      "cell_type": "code",
      "metadata": {
        "id": "XtSciW_MJ3tL"
      },
      "source": [
        "from sklearn.metrics import mean_squared_error, r2_score\n",
        "from sklearn.preprocessing import PolynomialFeatures\n",
        "\n",
        "polynomial_features= PolynomialFeatures(degree=5)\n",
        "\n",
        "x_poly_train = polynomial_features.fit_transform(X_train)\n",
        "x_poly_test = polynomial_features.fit_transform(X_test)   "
      ],
      "execution_count": null,
      "outputs": []
    },
    {
      "cell_type": "code",
      "metadata": {
        "colab": {
          "base_uri": "https://localhost:8080/",
          "height": 333
        },
        "id": "OlyC4wXNOAik",
        "outputId": "1fea128b-8255-48f2-cc9f-73db4434a9a4"
      },
      "source": [
        "model_poly = LinearRegression()\n",
        "model_poly.fit(x_poly_train, y_train)\n",
        "predictions1 = model_poly.predict(x_poly_train)\n",
        "predictions2 = model_poly.predict(x_poly_test)\n",
        "plt.scatter(y_test,predictions2)\n",
        "\n",
        "\n",
        "mae_2 = metrics.mean_absolute_error(y_test,predictions2)\n",
        "mse_2 = metrics.mean_squared_error(y_test,predictions2)\n",
        "rmse_2 = np.sqrt(metrics.mean_squared_error(y_test,predictions2))\n",
        "mae_2_train = metrics.mean_absolute_error(y_train,predictions1)\n",
        "r2_2_train = r2_score(y_train,predictions1)\n",
        "r2_2 = r2_score(y_test,predictions2)  \n",
        "print(r2_2)\n",
        "print(mae_2)\n",
        "print(r2_2_train)\n",
        "print(mae_2_train)"
      ],
      "execution_count": null,
      "outputs": [
        {
          "output_type": "stream",
          "text": [
            "0.9929108847937226\n",
            "0.010544775004433835\n",
            "0.9965173471442266\n",
            "0.008271665685627812\n"
          ],
          "name": "stdout"
        },
        {
          "output_type": "display_data",
          "data": {
            "image/png": "[encoded data removed]",
            "text/plain": [
              "<Figure size 432x288 with 1 Axes>"
            ]
          },
          "metadata": {
            "tags": [],
            "needs_background": "light"
          }
        }
      ]
    },
    {
      "cell_type": "code",
      "metadata": {
        "id": "VnpqYf2VP_S7"
      },
      "source": [
        ""
      ],
      "execution_count": null,
      "outputs": []
    }
  ]
}